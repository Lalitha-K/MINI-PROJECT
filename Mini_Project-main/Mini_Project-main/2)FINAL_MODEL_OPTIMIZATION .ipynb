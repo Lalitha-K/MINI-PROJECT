{
 "cells": [
  {
   "cell_type": "code",
   "execution_count": 1,
   "metadata": {},
   "outputs": [],
   "source": [
    "#1)Importing libraries\n",
    "import pandas as pd\n",
    "import numpy as np\n",
    "from sklearn.model_selection import train_test_split\n",
    "from sklearn import ensemble\n",
    "import matplotlib.pyplot as plt\n",
    "%matplotlib inline\n",
    "import seaborn as sns\n",
    "from sklearn.metrics import mean_absolute_error,r2_score,mean_squared_error"
   ]
  },
  {
   "cell_type": "code",
   "execution_count": 2,
   "metadata": {},
   "outputs": [
    {
     "data": {
      "text/html": [
       "<div>\n",
       "<style scoped>\n",
       "    .dataframe tbody tr th:only-of-type {\n",
       "        vertical-align: middle;\n",
       "    }\n",
       "\n",
       "    .dataframe tbody tr th {\n",
       "        vertical-align: top;\n",
       "    }\n",
       "\n",
       "    .dataframe thead th {\n",
       "        text-align: right;\n",
       "    }\n",
       "</style>\n",
       "<table border=\"1\" class=\"dataframe\">\n",
       "  <thead>\n",
       "    <tr style=\"text-align: right;\">\n",
       "      <th></th>\n",
       "      <th>Suburb</th>\n",
       "      <th>Address</th>\n",
       "      <th>Rooms</th>\n",
       "      <th>Type</th>\n",
       "      <th>Price</th>\n",
       "      <th>Method</th>\n",
       "      <th>SellerG</th>\n",
       "      <th>Date</th>\n",
       "      <th>Distance</th>\n",
       "      <th>Postcode</th>\n",
       "      <th>...</th>\n",
       "      <th>Bathroom</th>\n",
       "      <th>Car</th>\n",
       "      <th>Landsize</th>\n",
       "      <th>BuildingArea</th>\n",
       "      <th>YearBuilt</th>\n",
       "      <th>CouncilArea</th>\n",
       "      <th>Lattitude</th>\n",
       "      <th>Longtitude</th>\n",
       "      <th>Regionname</th>\n",
       "      <th>Propertycount</th>\n",
       "    </tr>\n",
       "  </thead>\n",
       "  <tbody>\n",
       "    <tr>\n",
       "      <th>0</th>\n",
       "      <td>Abbotsford</td>\n",
       "      <td>68 Studley St</td>\n",
       "      <td>2</td>\n",
       "      <td>h</td>\n",
       "      <td>NaN</td>\n",
       "      <td>SS</td>\n",
       "      <td>Jellis</td>\n",
       "      <td>2016-03-09</td>\n",
       "      <td>2.5</td>\n",
       "      <td>3067.0</td>\n",
       "      <td>...</td>\n",
       "      <td>1.0</td>\n",
       "      <td>1.0</td>\n",
       "      <td>126.0</td>\n",
       "      <td>NaN</td>\n",
       "      <td>NaN</td>\n",
       "      <td>Yarra City Council</td>\n",
       "      <td>-37.8014</td>\n",
       "      <td>144.9958</td>\n",
       "      <td>Northern Metropolitan</td>\n",
       "      <td>4019.0</td>\n",
       "    </tr>\n",
       "    <tr>\n",
       "      <th>1</th>\n",
       "      <td>Abbotsford</td>\n",
       "      <td>85 Turner St</td>\n",
       "      <td>2</td>\n",
       "      <td>h</td>\n",
       "      <td>1480000.0</td>\n",
       "      <td>S</td>\n",
       "      <td>Biggin</td>\n",
       "      <td>2016-03-12</td>\n",
       "      <td>2.5</td>\n",
       "      <td>3067.0</td>\n",
       "      <td>...</td>\n",
       "      <td>1.0</td>\n",
       "      <td>1.0</td>\n",
       "      <td>202.0</td>\n",
       "      <td>NaN</td>\n",
       "      <td>NaN</td>\n",
       "      <td>Yarra City Council</td>\n",
       "      <td>-37.7996</td>\n",
       "      <td>144.9984</td>\n",
       "      <td>Northern Metropolitan</td>\n",
       "      <td>4019.0</td>\n",
       "    </tr>\n",
       "    <tr>\n",
       "      <th>2</th>\n",
       "      <td>Abbotsford</td>\n",
       "      <td>25 Bloomburg St</td>\n",
       "      <td>2</td>\n",
       "      <td>h</td>\n",
       "      <td>1035000.0</td>\n",
       "      <td>S</td>\n",
       "      <td>Biggin</td>\n",
       "      <td>2016-04-02</td>\n",
       "      <td>2.5</td>\n",
       "      <td>3067.0</td>\n",
       "      <td>...</td>\n",
       "      <td>1.0</td>\n",
       "      <td>0.0</td>\n",
       "      <td>156.0</td>\n",
       "      <td>79.0</td>\n",
       "      <td>1900.0</td>\n",
       "      <td>Yarra City Council</td>\n",
       "      <td>-37.8079</td>\n",
       "      <td>144.9934</td>\n",
       "      <td>Northern Metropolitan</td>\n",
       "      <td>4019.0</td>\n",
       "    </tr>\n",
       "    <tr>\n",
       "      <th>3</th>\n",
       "      <td>Abbotsford</td>\n",
       "      <td>18/659 Victoria St</td>\n",
       "      <td>3</td>\n",
       "      <td>u</td>\n",
       "      <td>NaN</td>\n",
       "      <td>VB</td>\n",
       "      <td>Rounds</td>\n",
       "      <td>2016-04-02</td>\n",
       "      <td>2.5</td>\n",
       "      <td>3067.0</td>\n",
       "      <td>...</td>\n",
       "      <td>2.0</td>\n",
       "      <td>1.0</td>\n",
       "      <td>0.0</td>\n",
       "      <td>NaN</td>\n",
       "      <td>NaN</td>\n",
       "      <td>Yarra City Council</td>\n",
       "      <td>-37.8114</td>\n",
       "      <td>145.0116</td>\n",
       "      <td>Northern Metropolitan</td>\n",
       "      <td>4019.0</td>\n",
       "    </tr>\n",
       "    <tr>\n",
       "      <th>4</th>\n",
       "      <td>Abbotsford</td>\n",
       "      <td>5 Charles St</td>\n",
       "      <td>3</td>\n",
       "      <td>h</td>\n",
       "      <td>1465000.0</td>\n",
       "      <td>SP</td>\n",
       "      <td>Biggin</td>\n",
       "      <td>2017-04-03</td>\n",
       "      <td>2.5</td>\n",
       "      <td>3067.0</td>\n",
       "      <td>...</td>\n",
       "      <td>2.0</td>\n",
       "      <td>0.0</td>\n",
       "      <td>134.0</td>\n",
       "      <td>150.0</td>\n",
       "      <td>1900.0</td>\n",
       "      <td>Yarra City Council</td>\n",
       "      <td>-37.8093</td>\n",
       "      <td>144.9944</td>\n",
       "      <td>Northern Metropolitan</td>\n",
       "      <td>4019.0</td>\n",
       "    </tr>\n",
       "  </tbody>\n",
       "</table>\n",
       "<p>5 rows × 21 columns</p>\n",
       "</div>"
      ],
      "text/plain": [
       "       Suburb             Address  Rooms Type      Price Method SellerG  \\\n",
       "0  Abbotsford       68 Studley St      2    h        NaN     SS  Jellis   \n",
       "1  Abbotsford        85 Turner St      2    h  1480000.0      S  Biggin   \n",
       "2  Abbotsford     25 Bloomburg St      2    h  1035000.0      S  Biggin   \n",
       "3  Abbotsford  18/659 Victoria St      3    u        NaN     VB  Rounds   \n",
       "4  Abbotsford        5 Charles St      3    h  1465000.0     SP  Biggin   \n",
       "\n",
       "        Date  Distance  Postcode  ...  Bathroom  Car  Landsize  BuildingArea  \\\n",
       "0 2016-03-09       2.5    3067.0  ...       1.0  1.0     126.0           NaN   \n",
       "1 2016-03-12       2.5    3067.0  ...       1.0  1.0     202.0           NaN   \n",
       "2 2016-04-02       2.5    3067.0  ...       1.0  0.0     156.0          79.0   \n",
       "3 2016-04-02       2.5    3067.0  ...       2.0  1.0       0.0           NaN   \n",
       "4 2017-04-03       2.5    3067.0  ...       2.0  0.0     134.0         150.0   \n",
       "\n",
       "   YearBuilt         CouncilArea Lattitude  Longtitude             Regionname  \\\n",
       "0        NaN  Yarra City Council  -37.8014    144.9958  Northern Metropolitan   \n",
       "1        NaN  Yarra City Council  -37.7996    144.9984  Northern Metropolitan   \n",
       "2     1900.0  Yarra City Council  -37.8079    144.9934  Northern Metropolitan   \n",
       "3        NaN  Yarra City Council  -37.8114    145.0116  Northern Metropolitan   \n",
       "4     1900.0  Yarra City Council  -37.8093    144.9944  Northern Metropolitan   \n",
       "\n",
       "  Propertycount  \n",
       "0        4019.0  \n",
       "1        4019.0  \n",
       "2        4019.0  \n",
       "3        4019.0  \n",
       "4        4019.0  \n",
       "\n",
       "[5 rows x 21 columns]"
      ]
     },
     "execution_count": 2,
     "metadata": {},
     "output_type": "execute_result"
    }
   ],
   "source": [
    "#2)Reading data\n",
    "df=pd.read_csv(\"Melbourne_housing_FULL.csv\",parse_dates=['Date'])\n",
    "df.head()"
   ]
  },
  {
   "cell_type": "code",
   "execution_count": 3,
   "metadata": {},
   "outputs": [
    {
     "data": {
      "text/plain": [
       "Index(['Suburb', 'Address', 'Rooms', 'Type', 'Price', 'Method', 'SellerG',\n",
       "       'Date', 'Distance', 'Postcode', 'Bedroom2', 'Bathroom', 'Car',\n",
       "       'Landsize', 'BuildingArea', 'YearBuilt', 'CouncilArea', 'Lattitude',\n",
       "       'Longtitude', 'Regionname', 'Propertycount'],\n",
       "      dtype='object')"
      ]
     },
     "execution_count": 3,
     "metadata": {},
     "output_type": "execute_result"
    }
   ],
   "source": [
    "df.columns"
   ]
  },
  {
   "cell_type": "code",
   "execution_count": 4,
   "metadata": {},
   "outputs": [
    {
     "data": {
      "text/plain": [
       "Suburb                   object\n",
       "Address                  object\n",
       "Rooms                     int64\n",
       "Type                     object\n",
       "Price                   float64\n",
       "Method                   object\n",
       "SellerG                  object\n",
       "Date             datetime64[ns]\n",
       "Distance                float64\n",
       "Postcode                float64\n",
       "Bedroom2                float64\n",
       "Bathroom                float64\n",
       "Car                     float64\n",
       "Landsize                float64\n",
       "BuildingArea            float64\n",
       "YearBuilt               float64\n",
       "CouncilArea              object\n",
       "Lattitude               float64\n",
       "Longtitude              float64\n",
       "Regionname               object\n",
       "Propertycount           float64\n",
       "dtype: object"
      ]
     },
     "execution_count": 4,
     "metadata": {},
     "output_type": "execute_result"
    }
   ],
   "source": [
    "df.dtypes"
   ]
  },
  {
   "cell_type": "code",
   "execution_count": 5,
   "metadata": {},
   "outputs": [
    {
     "data": {
      "text/html": [
       "<div>\n",
       "<style scoped>\n",
       "    .dataframe tbody tr th:only-of-type {\n",
       "        vertical-align: middle;\n",
       "    }\n",
       "\n",
       "    .dataframe tbody tr th {\n",
       "        vertical-align: top;\n",
       "    }\n",
       "\n",
       "    .dataframe thead th {\n",
       "        text-align: right;\n",
       "    }\n",
       "</style>\n",
       "<table border=\"1\" class=\"dataframe\">\n",
       "  <thead>\n",
       "    <tr style=\"text-align: right;\">\n",
       "      <th></th>\n",
       "      <th>Rooms</th>\n",
       "      <th>Price</th>\n",
       "      <th>Distance</th>\n",
       "      <th>Postcode</th>\n",
       "      <th>Bedroom2</th>\n",
       "      <th>Bathroom</th>\n",
       "      <th>Car</th>\n",
       "      <th>Landsize</th>\n",
       "      <th>BuildingArea</th>\n",
       "      <th>YearBuilt</th>\n",
       "      <th>Lattitude</th>\n",
       "      <th>Longtitude</th>\n",
       "      <th>Propertycount</th>\n",
       "    </tr>\n",
       "  </thead>\n",
       "  <tbody>\n",
       "    <tr>\n",
       "      <th>count</th>\n",
       "      <td>34857.000000</td>\n",
       "      <td>2.724700e+04</td>\n",
       "      <td>34856.000000</td>\n",
       "      <td>34856.000000</td>\n",
       "      <td>26640.000000</td>\n",
       "      <td>26631.000000</td>\n",
       "      <td>26129.000000</td>\n",
       "      <td>23047.000000</td>\n",
       "      <td>13742.00000</td>\n",
       "      <td>15551.000000</td>\n",
       "      <td>26881.000000</td>\n",
       "      <td>26881.000000</td>\n",
       "      <td>34854.000000</td>\n",
       "    </tr>\n",
       "    <tr>\n",
       "      <th>mean</th>\n",
       "      <td>3.031012</td>\n",
       "      <td>1.050173e+06</td>\n",
       "      <td>11.184929</td>\n",
       "      <td>3116.062859</td>\n",
       "      <td>3.084647</td>\n",
       "      <td>1.624798</td>\n",
       "      <td>1.728845</td>\n",
       "      <td>593.598993</td>\n",
       "      <td>160.25640</td>\n",
       "      <td>1965.289885</td>\n",
       "      <td>-37.810634</td>\n",
       "      <td>145.001851</td>\n",
       "      <td>7572.888306</td>\n",
       "    </tr>\n",
       "    <tr>\n",
       "      <th>std</th>\n",
       "      <td>0.969933</td>\n",
       "      <td>6.414671e+05</td>\n",
       "      <td>6.788892</td>\n",
       "      <td>109.023903</td>\n",
       "      <td>0.980690</td>\n",
       "      <td>0.724212</td>\n",
       "      <td>1.010771</td>\n",
       "      <td>3398.841946</td>\n",
       "      <td>401.26706</td>\n",
       "      <td>37.328178</td>\n",
       "      <td>0.090279</td>\n",
       "      <td>0.120169</td>\n",
       "      <td>4428.090313</td>\n",
       "    </tr>\n",
       "    <tr>\n",
       "      <th>min</th>\n",
       "      <td>1.000000</td>\n",
       "      <td>8.500000e+04</td>\n",
       "      <td>0.000000</td>\n",
       "      <td>3000.000000</td>\n",
       "      <td>0.000000</td>\n",
       "      <td>0.000000</td>\n",
       "      <td>0.000000</td>\n",
       "      <td>0.000000</td>\n",
       "      <td>0.00000</td>\n",
       "      <td>1196.000000</td>\n",
       "      <td>-38.190430</td>\n",
       "      <td>144.423790</td>\n",
       "      <td>83.000000</td>\n",
       "    </tr>\n",
       "    <tr>\n",
       "      <th>25%</th>\n",
       "      <td>2.000000</td>\n",
       "      <td>6.350000e+05</td>\n",
       "      <td>6.400000</td>\n",
       "      <td>3051.000000</td>\n",
       "      <td>2.000000</td>\n",
       "      <td>1.000000</td>\n",
       "      <td>1.000000</td>\n",
       "      <td>224.000000</td>\n",
       "      <td>102.00000</td>\n",
       "      <td>1940.000000</td>\n",
       "      <td>-37.862950</td>\n",
       "      <td>144.933500</td>\n",
       "      <td>4385.000000</td>\n",
       "    </tr>\n",
       "    <tr>\n",
       "      <th>50%</th>\n",
       "      <td>3.000000</td>\n",
       "      <td>8.700000e+05</td>\n",
       "      <td>10.300000</td>\n",
       "      <td>3103.000000</td>\n",
       "      <td>3.000000</td>\n",
       "      <td>2.000000</td>\n",
       "      <td>2.000000</td>\n",
       "      <td>521.000000</td>\n",
       "      <td>136.00000</td>\n",
       "      <td>1970.000000</td>\n",
       "      <td>-37.807600</td>\n",
       "      <td>145.007800</td>\n",
       "      <td>6763.000000</td>\n",
       "    </tr>\n",
       "    <tr>\n",
       "      <th>75%</th>\n",
       "      <td>4.000000</td>\n",
       "      <td>1.295000e+06</td>\n",
       "      <td>14.000000</td>\n",
       "      <td>3156.000000</td>\n",
       "      <td>4.000000</td>\n",
       "      <td>2.000000</td>\n",
       "      <td>2.000000</td>\n",
       "      <td>670.000000</td>\n",
       "      <td>188.00000</td>\n",
       "      <td>2000.000000</td>\n",
       "      <td>-37.754100</td>\n",
       "      <td>145.071900</td>\n",
       "      <td>10412.000000</td>\n",
       "    </tr>\n",
       "    <tr>\n",
       "      <th>max</th>\n",
       "      <td>16.000000</td>\n",
       "      <td>1.120000e+07</td>\n",
       "      <td>48.100000</td>\n",
       "      <td>3978.000000</td>\n",
       "      <td>30.000000</td>\n",
       "      <td>12.000000</td>\n",
       "      <td>26.000000</td>\n",
       "      <td>433014.000000</td>\n",
       "      <td>44515.00000</td>\n",
       "      <td>2106.000000</td>\n",
       "      <td>-37.390200</td>\n",
       "      <td>145.526350</td>\n",
       "      <td>21650.000000</td>\n",
       "    </tr>\n",
       "  </tbody>\n",
       "</table>\n",
       "</div>"
      ],
      "text/plain": [
       "              Rooms         Price      Distance      Postcode      Bedroom2  \\\n",
       "count  34857.000000  2.724700e+04  34856.000000  34856.000000  26640.000000   \n",
       "mean       3.031012  1.050173e+06     11.184929   3116.062859      3.084647   \n",
       "std        0.969933  6.414671e+05      6.788892    109.023903      0.980690   \n",
       "min        1.000000  8.500000e+04      0.000000   3000.000000      0.000000   \n",
       "25%        2.000000  6.350000e+05      6.400000   3051.000000      2.000000   \n",
       "50%        3.000000  8.700000e+05     10.300000   3103.000000      3.000000   \n",
       "75%        4.000000  1.295000e+06     14.000000   3156.000000      4.000000   \n",
       "max       16.000000  1.120000e+07     48.100000   3978.000000     30.000000   \n",
       "\n",
       "           Bathroom           Car       Landsize  BuildingArea     YearBuilt  \\\n",
       "count  26631.000000  26129.000000   23047.000000   13742.00000  15551.000000   \n",
       "mean       1.624798      1.728845     593.598993     160.25640   1965.289885   \n",
       "std        0.724212      1.010771    3398.841946     401.26706     37.328178   \n",
       "min        0.000000      0.000000       0.000000       0.00000   1196.000000   \n",
       "25%        1.000000      1.000000     224.000000     102.00000   1940.000000   \n",
       "50%        2.000000      2.000000     521.000000     136.00000   1970.000000   \n",
       "75%        2.000000      2.000000     670.000000     188.00000   2000.000000   \n",
       "max       12.000000     26.000000  433014.000000   44515.00000   2106.000000   \n",
       "\n",
       "          Lattitude    Longtitude  Propertycount  \n",
       "count  26881.000000  26881.000000   34854.000000  \n",
       "mean     -37.810634    145.001851    7572.888306  \n",
       "std        0.090279      0.120169    4428.090313  \n",
       "min      -38.190430    144.423790      83.000000  \n",
       "25%      -37.862950    144.933500    4385.000000  \n",
       "50%      -37.807600    145.007800    6763.000000  \n",
       "75%      -37.754100    145.071900   10412.000000  \n",
       "max      -37.390200    145.526350   21650.000000  "
      ]
     },
     "execution_count": 5,
     "metadata": {},
     "output_type": "execute_result"
    }
   ],
   "source": [
    "#3)Scrub data\n",
    "df.describe()"
   ]
  },
  {
   "cell_type": "code",
   "execution_count": 6,
   "metadata": {},
   "outputs": [
    {
     "name": "stdout",
     "output_type": "stream",
     "text": [
      "<class 'pandas.core.frame.DataFrame'>\n",
      "RangeIndex: 34857 entries, 0 to 34856\n",
      "Data columns (total 21 columns):\n",
      " #   Column         Non-Null Count  Dtype         \n",
      "---  ------         --------------  -----         \n",
      " 0   Suburb         34857 non-null  object        \n",
      " 1   Address        34857 non-null  object        \n",
      " 2   Rooms          34857 non-null  int64         \n",
      " 3   Type           34857 non-null  object        \n",
      " 4   Price          27247 non-null  float64       \n",
      " 5   Method         34857 non-null  object        \n",
      " 6   SellerG        34857 non-null  object        \n",
      " 7   Date           34857 non-null  datetime64[ns]\n",
      " 8   Distance       34856 non-null  float64       \n",
      " 9   Postcode       34856 non-null  float64       \n",
      " 10  Bedroom2       26640 non-null  float64       \n",
      " 11  Bathroom       26631 non-null  float64       \n",
      " 12  Car            26129 non-null  float64       \n",
      " 13  Landsize       23047 non-null  float64       \n",
      " 14  BuildingArea   13742 non-null  float64       \n",
      " 15  YearBuilt      15551 non-null  float64       \n",
      " 16  CouncilArea    34854 non-null  object        \n",
      " 17  Lattitude      26881 non-null  float64       \n",
      " 18  Longtitude     26881 non-null  float64       \n",
      " 19  Regionname     34854 non-null  object        \n",
      " 20  Propertycount  34854 non-null  float64       \n",
      "dtypes: datetime64[ns](1), float64(12), int64(1), object(7)\n",
      "memory usage: 5.6+ MB\n"
     ]
    }
   ],
   "source": [
    "df.info()"
   ]
  },
  {
   "cell_type": "code",
   "execution_count": 54,
   "metadata": {},
   "outputs": [
    {
     "data": {
      "text/plain": [
       "(34857, 21)"
      ]
     },
     "execution_count": 54,
     "metadata": {},
     "output_type": "execute_result"
    }
   ],
   "source": [
    "df.shape"
   ]
  },
  {
   "cell_type": "code",
   "execution_count": 7,
   "metadata": {},
   "outputs": [],
   "source": [
    "df['Date']=df['Date'].dt.year"
   ]
  },
  {
   "cell_type": "code",
   "execution_count": 9,
   "metadata": {},
   "outputs": [
    {
     "data": {
      "text/plain": [
       "0    2016\n",
       "1    2016\n",
       "2    2016\n",
       "3    2016\n",
       "4    2017\n",
       "5    2017\n",
       "6    2016\n",
       "7    2016\n",
       "8    2016\n",
       "9    2016\n",
       "Name: Date, dtype: int64"
      ]
     },
     "execution_count": 9,
     "metadata": {},
     "output_type": "execute_result"
    }
   ],
   "source": [
    "df['Date'][:10]"
   ]
  },
  {
   "cell_type": "code",
   "execution_count": 10,
   "metadata": {},
   "outputs": [
    {
     "name": "stdout",
     "output_type": "stream",
     "text": [
      "<class 'pandas.core.frame.DataFrame'>\n",
      "RangeIndex: 34857 entries, 0 to 34856\n",
      "Data columns (total 21 columns):\n",
      " #   Column         Non-Null Count  Dtype  \n",
      "---  ------         --------------  -----  \n",
      " 0   Suburb         34857 non-null  object \n",
      " 1   Address        34857 non-null  object \n",
      " 2   Rooms          34857 non-null  int64  \n",
      " 3   Type           34857 non-null  object \n",
      " 4   Price          27247 non-null  float64\n",
      " 5   Method         34857 non-null  object \n",
      " 6   SellerG        34857 non-null  object \n",
      " 7   Date           34857 non-null  int64  \n",
      " 8   Distance       34856 non-null  float64\n",
      " 9   Postcode       34856 non-null  float64\n",
      " 10  Bedroom2       26640 non-null  float64\n",
      " 11  Bathroom       26631 non-null  float64\n",
      " 12  Car            26129 non-null  float64\n",
      " 13  Landsize       23047 non-null  float64\n",
      " 14  BuildingArea   13742 non-null  float64\n",
      " 15  YearBuilt      15551 non-null  float64\n",
      " 16  CouncilArea    34854 non-null  object \n",
      " 17  Lattitude      26881 non-null  float64\n",
      " 18  Longtitude     26881 non-null  float64\n",
      " 19  Regionname     34854 non-null  object \n",
      " 20  Propertycount  34854 non-null  float64\n",
      "dtypes: float64(12), int64(2), object(7)\n",
      "memory usage: 5.6+ MB\n"
     ]
    }
   ],
   "source": [
    "df.info()"
   ]
  },
  {
   "cell_type": "code",
   "execution_count": 11,
   "metadata": {},
   "outputs": [],
   "source": [
    "#3.1)Delete unnecessary columns\n",
    "del df['Address']\n",
    "del df['Method']\n",
    "del df['SellerG']\n",
    "del df['Postcode']\n",
    "del df['Lattitude']\n",
    "del df['Longtitude']\n",
    "del df['Propertycount']"
   ]
  },
  {
   "cell_type": "code",
   "execution_count": 12,
   "metadata": {},
   "outputs": [
    {
     "data": {
      "text/plain": [
       "Index(['Suburb', 'Rooms', 'Type', 'Price', 'Date', 'Distance', 'Bedroom2',\n",
       "       'Bathroom', 'Car', 'Landsize', 'BuildingArea', 'YearBuilt',\n",
       "       'CouncilArea', 'Regionname'],\n",
       "      dtype='object')"
      ]
     },
     "execution_count": 12,
     "metadata": {},
     "output_type": "execute_result"
    }
   ],
   "source": [
    "df.columns"
   ]
  },
  {
   "cell_type": "code",
   "execution_count": 13,
   "metadata": {},
   "outputs": [
    {
     "name": "stdout",
     "output_type": "stream",
     "text": [
      "<class 'pandas.core.frame.DataFrame'>\n",
      "RangeIndex: 34857 entries, 0 to 34856\n",
      "Data columns (total 14 columns):\n",
      " #   Column        Non-Null Count  Dtype  \n",
      "---  ------        --------------  -----  \n",
      " 0   Suburb        34857 non-null  object \n",
      " 1   Rooms         34857 non-null  int64  \n",
      " 2   Type          34857 non-null  object \n",
      " 3   Price         27247 non-null  float64\n",
      " 4   Date          34857 non-null  int64  \n",
      " 5   Distance      34856 non-null  float64\n",
      " 6   Bedroom2      26640 non-null  float64\n",
      " 7   Bathroom      26631 non-null  float64\n",
      " 8   Car           26129 non-null  float64\n",
      " 9   Landsize      23047 non-null  float64\n",
      " 10  BuildingArea  13742 non-null  float64\n",
      " 11  YearBuilt     15551 non-null  float64\n",
      " 12  CouncilArea   34854 non-null  object \n",
      " 13  Regionname    34854 non-null  object \n",
      "dtypes: float64(8), int64(2), object(4)\n",
      "memory usage: 3.7+ MB\n"
     ]
    }
   ],
   "source": [
    "df.info()"
   ]
  },
  {
   "cell_type": "code",
   "execution_count": 14,
   "metadata": {},
   "outputs": [
    {
     "data": {
      "text/plain": [
       "(34857, 14)"
      ]
     },
     "execution_count": 14,
     "metadata": {},
     "output_type": "execute_result"
    }
   ],
   "source": [
    "df.shape"
   ]
  },
  {
   "cell_type": "code",
   "execution_count": 15,
   "metadata": {},
   "outputs": [],
   "source": [
    "#3.2)dropping missing values\n",
    "df.dropna(axis=0,how='any',thresh=None,subset=None,inplace=True)"
   ]
  },
  {
   "cell_type": "code",
   "execution_count": 16,
   "metadata": {},
   "outputs": [
    {
     "name": "stdout",
     "output_type": "stream",
     "text": [
      "<class 'pandas.core.frame.DataFrame'>\n",
      "Int64Index: 8895 entries, 2 to 34856\n",
      "Data columns (total 14 columns):\n",
      " #   Column        Non-Null Count  Dtype  \n",
      "---  ------        --------------  -----  \n",
      " 0   Suburb        8895 non-null   object \n",
      " 1   Rooms         8895 non-null   int64  \n",
      " 2   Type          8895 non-null   object \n",
      " 3   Price         8895 non-null   float64\n",
      " 4   Date          8895 non-null   int64  \n",
      " 5   Distance      8895 non-null   float64\n",
      " 6   Bedroom2      8895 non-null   float64\n",
      " 7   Bathroom      8895 non-null   float64\n",
      " 8   Car           8895 non-null   float64\n",
      " 9   Landsize      8895 non-null   float64\n",
      " 10  BuildingArea  8895 non-null   float64\n",
      " 11  YearBuilt     8895 non-null   float64\n",
      " 12  CouncilArea   8895 non-null   object \n",
      " 13  Regionname    8895 non-null   object \n",
      "dtypes: float64(8), int64(2), object(4)\n",
      "memory usage: 1.0+ MB\n"
     ]
    }
   ],
   "source": [
    "df.info()"
   ]
  },
  {
   "cell_type": "code",
   "execution_count": 17,
   "metadata": {},
   "outputs": [
    {
     "data": {
      "text/plain": [
       "(8895, 14)"
      ]
     },
     "execution_count": 17,
     "metadata": {},
     "output_type": "execute_result"
    }
   ],
   "source": [
    "df.shape"
   ]
  },
  {
   "cell_type": "code",
   "execution_count": 18,
   "metadata": {},
   "outputs": [],
   "source": [
    "#3.3)non numeric to numeric\n",
    "#df=pd.get_dummies(df,columns=['Suburb','Type','CouncilArea','Regionname'] )"
   ]
  },
  {
   "cell_type": "code",
   "execution_count": 19,
   "metadata": {},
   "outputs": [
    {
     "name": "stdout",
     "output_type": "stream",
     "text": [
      "['h' 'u' 't']\n",
      "3\n"
     ]
    }
   ],
   "source": [
    "print(df['Type'].unique())\n",
    "print(df['Type'].nunique())"
   ]
  },
  {
   "cell_type": "code",
   "execution_count": 20,
   "metadata": {},
   "outputs": [
    {
     "data": {
      "text/plain": [
       "h    6628\n",
       "u    1541\n",
       "t     726\n",
       "Name: Type, dtype: int64"
      ]
     },
     "execution_count": 20,
     "metadata": {},
     "output_type": "execute_result"
    }
   ],
   "source": [
    "df['Type'].value_counts()"
   ]
  },
  {
   "cell_type": "code",
   "execution_count": 21,
   "metadata": {},
   "outputs": [
    {
     "data": {
      "image/png": "[encoded data removed]",
      "text/plain": [
       "<Figure size 432x288 with 1 Axes>"
      ]
     },
     "metadata": {
      "needs_background": "light"
     },
     "output_type": "display_data"
    }
   ],
   "source": [
    "sns.countplot(x='Type',data=df);"
   ]
  },
  {
   "cell_type": "code",
   "execution_count": 22,
   "metadata": {},
   "outputs": [],
   "source": [
    "#h- house,cottage,villa, semi,terrace\n",
    "#u- unit, duplex\n",
    "#t- townhouse\n",
    "df['Type']=df['Type'].map({'h':0,'u':1,'t':2})"
   ]
  },
  {
   "cell_type": "code",
   "execution_count": 23,
   "metadata": {},
   "outputs": [
    {
     "name": "stdout",
     "output_type": "stream",
     "text": [
      "['Yarra City Council' 'Moonee Valley City Council'\n",
      " 'Port Phillip City Council' 'Darebin City Council'\n",
      " 'Hobsons Bay City Council' 'Stonnington City Council'\n",
      " 'Boroondara City Council' 'Monash City Council' 'Glen Eira City Council'\n",
      " 'Whitehorse City Council' 'Maribyrnong City Council'\n",
      " 'Bayside City Council' 'Moreland City Council' 'Manningham City Council'\n",
      " 'Melbourne City Council' 'Banyule City Council' 'Brimbank City Council'\n",
      " 'Kingston City Council' 'Hume City Council' 'Knox City Council'\n",
      " 'Melton City Council' 'Maroondah City Council'\n",
      " 'Greater Dandenong City Council' 'Nillumbik Shire Council'\n",
      " 'Whittlesea City Council' 'Frankston City Council'\n",
      " 'Macedon Ranges Shire Council' 'Yarra Ranges Shire Council'\n",
      " 'Wyndham City Council' 'Casey City Council' 'Cardinia Shire Council'\n",
      " 'Mitchell Shire Council' 'Moorabool Shire Council']\n",
      "33\n"
     ]
    }
   ],
   "source": [
    "#similarly for Council Area\n",
    "print(df['CouncilArea'].unique())\n",
    "print(df['CouncilArea'].nunique())"
   ]
  },
  {
   "cell_type": "code",
   "execution_count": 24,
   "metadata": {},
   "outputs": [
    {
     "data": {
      "text/plain": [
       "Boroondara City Council           810\n",
       "Darebin City Council              729\n",
       "Moreland City Council             647\n",
       "Moonee Valley City Council        556\n",
       "Glen Eira City Council            519\n",
       "Maribyrnong City Council          491\n",
       "Melbourne City Council            458\n",
       "Brimbank City Council             416\n",
       "Banyule City Council              413\n",
       "Hume City Council                 392\n",
       "Bayside City Council              362\n",
       "Port Phillip City Council         329\n",
       "Yarra City Council                323\n",
       "Monash City Council               299\n",
       "Hobsons Bay City Council          289\n",
       "Stonnington City Council          280\n",
       "Manningham City Council           267\n",
       "Whittlesea City Council           244\n",
       "Kingston City Council             210\n",
       "Wyndham City Council              169\n",
       "Whitehorse City Council           126\n",
       "Melton City Council               107\n",
       "Maroondah City Council            107\n",
       "Knox City Council                 103\n",
       "Frankston City Council             87\n",
       "Greater Dandenong City Council     51\n",
       "Casey City Council                 35\n",
       "Nillumbik Shire Council            28\n",
       "Yarra Ranges Shire Council         20\n",
       "Cardinia Shire Council             12\n",
       "Macedon Ranges Shire Council       11\n",
       "Mitchell Shire Council              4\n",
       "Moorabool Shire Council             1\n",
       "Name: CouncilArea, dtype: int64"
      ]
     },
     "execution_count": 24,
     "metadata": {},
     "output_type": "execute_result"
    }
   ],
   "source": [
    "df['CouncilArea'].value_counts()"
   ]
  },
  {
   "cell_type": "code",
   "execution_count": 25,
   "metadata": {},
   "outputs": [],
   "source": [
    "df['CouncilArea']=df['CouncilArea'].map({'Yarra City Council':0,\n",
    "                                         'Moonee Valley City Council':1,\n",
    "                                         'Port Phillip City Council':2,\n",
    "                                         'Darebin City Council':3,\n",
    "                                         'Hobsons Bay City Council':4, \n",
    "                                         'Stonnington City Council':5,\n",
    "                                         'Boroondara City Council':6,\n",
    "                                         'Monash City Council':7,\n",
    "                                         'Glen Eira City Council':8, \n",
    "                                         'Whitehorse City Council':9,\n",
    "                                         'Maribyrnong City Council':10,\n",
    "                                         'Bayside City Council':11,\n",
    "                                         'Moreland City Council':12,\n",
    "                                         'Manningham City Council':13,\n",
    "                                         'Melbourne City Council':14,\n",
    "                                         'Banyule City Council':15,\n",
    "                                         'Brimbank City Council':16,\n",
    "                                         'Kingston City Council':17,\n",
    "                                         'Hume City Council':18,\n",
    "                                         'Knox City Council':19,\n",
    "                                         'Maroondah City Council':20,\n",
    "                                         'Casey City Council':21,\n",
    "                                         'Melton City Council':22,\n",
    "                                         'Greater Dandenong City Council':23,\n",
    "                                         'Nillumbik Shire Council':24,\n",
    "                                         'Cardinia Shire Council':25,\n",
    "                                         'Whittlesea City Council':26,\n",
    "                                         'Frankston City Council':27,\n",
    "                                         'Macedon Ranges Shire Council':28,\n",
    "                                         'Yarra Ranges Shire Council':29,\n",
    "                                         'Wyndham City Council':30,\n",
    "                                         'Moorabool Shire Council':31,\n",
    "                                         'Mitchell Shire Council':32})"
   ]
  },
  {
   "cell_type": "code",
   "execution_count": 26,
   "metadata": {},
   "outputs": [
    {
     "data": {
      "image/png": "[encoded data removed]",
      "text/plain": [
       "<Figure size 720x432 with 1 Axes>"
      ]
     },
     "metadata": {
      "needs_background": "light"
     },
     "output_type": "display_data"
    }
   ],
   "source": [
    "fig,ax=plt.subplots(figsize=(10,6))\n",
    "\n",
    "sns.countplot(x='CouncilArea',data=df);"
   ]
  },
  {
   "cell_type": "code",
   "execution_count": 27,
   "metadata": {},
   "outputs": [
    {
     "data": {
      "text/plain": [
       "array([ 0,  1,  2,  3,  4,  5,  6,  7,  8,  9, 10, 11, 12, 13, 14, 15, 16,\n",
       "       17, 18, 19, 22, 20, 23, 24, 26, 27, 28, 29, 30, 21, 25, 32, 31],\n",
       "      dtype=int64)"
      ]
     },
     "execution_count": 27,
     "metadata": {},
     "output_type": "execute_result"
    }
   ],
   "source": [
    "df['CouncilArea'].unique()"
   ]
  },
  {
   "cell_type": "code",
   "execution_count": 28,
   "metadata": {},
   "outputs": [
    {
     "name": "stdout",
     "output_type": "stream",
     "text": [
      "['Northern Metropolitan' 'Western Metropolitan' 'Southern Metropolitan'\n",
      " 'Eastern Metropolitan' 'South-Eastern Metropolitan' 'Northern Victoria'\n",
      " 'Eastern Victoria' 'Western Victoria']\n",
      "8\n"
     ]
    }
   ],
   "source": [
    "#similarly for Regionname\n",
    "print(df['Regionname'].unique())\n",
    "print(df['Regionname'].nunique())"
   ]
  },
  {
   "cell_type": "code",
   "execution_count": 29,
   "metadata": {},
   "outputs": [
    {
     "data": {
      "text/plain": [
       "Southern Metropolitan         2707\n",
       "Northern Metropolitan         2618\n",
       "Western Metropolitan          2060\n",
       "Eastern Metropolitan           982\n",
       "South-Eastern Metropolitan     372\n",
       "Northern Victoria               62\n",
       "Eastern Victoria                51\n",
       "Western Victoria                43\n",
       "Name: Regionname, dtype: int64"
      ]
     },
     "execution_count": 29,
     "metadata": {},
     "output_type": "execute_result"
    }
   ],
   "source": [
    "df['Regionname'].value_counts()"
   ]
  },
  {
   "cell_type": "code",
   "execution_count": 30,
   "metadata": {},
   "outputs": [
    {
     "data": {
      "image/png": "[encoded data removed]",
      "text/plain": [
       "<Figure size 1440x432 with 1 Axes>"
      ]
     },
     "metadata": {
      "needs_background": "light"
     },
     "output_type": "display_data"
    }
   ],
   "source": [
    "fig,ax=plt.subplots(figsize=(20,6))\n",
    "\n",
    "sns.countplot(x='Regionname',data=df);"
   ]
  },
  {
   "cell_type": "code",
   "execution_count": 31,
   "metadata": {},
   "outputs": [],
   "source": [
    "df['Regionname']=df['Regionname'].map({'Northern Metropolitan':0,\n",
    "                                       'Western Metropolitan':1,\n",
    "                                       'Southern Metropolitan':2,\n",
    "                                       'Eastern Metropolitan':3,\n",
    "                                       'South-Eastern Metropolitan':4,\n",
    "                                       'Northern Victoria':5,\n",
    "                                       'Eastern Victoria':6,\n",
    "                                       'Western Victoria':7})"
   ]
  },
  {
   "cell_type": "code",
   "execution_count": 32,
   "metadata": {},
   "outputs": [
    {
     "name": "stdout",
     "output_type": "stream",
     "text": [
      "[0 1 2 3 4 5 6 7]\n",
      "8\n"
     ]
    }
   ],
   "source": [
    "print(df['Regionname'].unique())\n",
    "print(df['Regionname'].nunique())"
   ]
  },
  {
   "cell_type": "code",
   "execution_count": 33,
   "metadata": {},
   "outputs": [
    {
     "name": "stdout",
     "output_type": "stream",
     "text": [
      "['Abbotsford' 'Airport West' 'Albert Park' 'Alphington' 'Altona'\n",
      " 'Altona North' 'Armadale' 'Ascot Vale' 'Ashburton' 'Ashwood'\n",
      " 'Avondale Heights' 'Balaclava' 'Balwyn' 'Balwyn North' 'Bentleigh'\n",
      " 'Bentleigh East' 'Box Hill' 'Braybrook' 'Brighton' 'Brighton East'\n",
      " 'Brunswick' 'Brunswick West' 'Bulleen' 'Burwood' 'Camberwell'\n",
      " 'Canterbury' 'Carlton North' 'Carnegie' 'Caulfield' 'Caulfield North'\n",
      " 'Caulfield South' 'Chadstone' 'Clifton Hill' 'Coburg' 'Coburg North'\n",
      " 'Collingwood' 'Doncaster' 'Eaglemont' 'Elsternwick' 'Elwood' 'Essendon'\n",
      " 'Essendon North' 'Fairfield' 'Fitzroy' 'Fitzroy North' 'Flemington'\n",
      " 'Footscray' 'Glen Iris' 'Glenroy' 'Gowanbrae' 'Hadfield' 'Hampton'\n",
      " 'Hampton East' 'Hawthorn' 'Heidelberg Heights' 'Heidelberg West'\n",
      " 'Hughesdale' 'Ivanhoe' 'Kealba' 'Keilor East' 'Kensington' 'Kew'\n",
      " 'Kew East' 'Maidstone' 'Malvern' 'Malvern East' 'Maribyrnong' 'Melbourne'\n",
      " 'Middle Park' 'Mont Albert' 'Moonee Ponds' 'Moorabbin' 'Newport'\n",
      " 'Niddrie' 'North Melbourne' 'Northcote' 'Oak Park' 'Oakleigh South'\n",
      " 'Parkville' 'Pascoe Vale' 'Port Melbourne' 'Prahran' 'Preston'\n",
      " 'Reservoir' 'Richmond' 'Rosanna' 'Seddon' 'South Melbourne' 'South Yarra'\n",
      " 'Southbank' 'Spotswood' 'St Kilda' 'Strathmore' 'Sunshine'\n",
      " 'Sunshine North' 'Sunshine West' 'Surrey Hills' 'Templestowe Lower'\n",
      " 'Thornbury' 'Toorak' 'Viewbank' 'Watsonia' 'West Melbourne'\n",
      " 'Williamstown' 'Williamstown North' 'Windsor' 'Yallambie' 'Yarraville'\n",
      " 'Aberfeldie' 'Bellfield' 'Brunswick East' 'Burnley' 'Carlton'\n",
      " 'East Melbourne' 'Essendon West' 'Fawkner' 'Hawthorn East' 'Heidelberg'\n",
      " 'Ivanhoe East' 'Jacana' 'Kingsbury' 'Kingsville' 'Murrumbeena' 'Ormond'\n",
      " 'West Footscray' 'Albion' 'Brooklyn' 'Glen Huntly' 'Oakleigh' 'Ripponlea'\n",
      " 'Cremorne' 'South Kingsville' 'Strathmore Heights' 'Travancore'\n",
      " 'Caulfield East' 'Seaholme' 'Keilor Park' 'Gardenvale' 'Princes Hill'\n",
      " 'Bayswater' 'Briar Hill' 'Broadmeadows' 'Burnside Heights' 'Cairnlea'\n",
      " 'Cheltenham' 'Craigieburn' 'Croydon' 'Dandenong North' 'Diamond Creek'\n",
      " 'Doncaster East' 'Donvale' 'Doreen' 'Eltham' 'Epping' 'Frankston North'\n",
      " 'Frankston South' 'Gisborne' 'Greensborough' 'Healesville' 'Highett'\n",
      " 'Hillside' 'Huntingdale' 'Keilor Downs' 'Keysborough' 'Kings Park'\n",
      " 'Lalor' 'Melton' 'Mernda' 'Mill Park' 'Mitcham' 'Montmorency'\n",
      " 'Mount Waverley' 'Nunawading' 'Parkdale' 'Point Cook' 'Rowville'\n",
      " 'Sandringham' 'Seaford' 'South Morang' 'Springvale' 'St Albans' 'Sunbury'\n",
      " 'Tarneit' 'Taylors Hill' 'Werribee' 'Wyndham Vale' 'Beaumaris'\n",
      " 'Blackburn' 'Bonbeach' 'Boronia' 'Burwood East' 'Caroline Springs'\n",
      " 'Carrum' 'Chelsea' 'Clayton' 'Dandenong' 'Dingley Village' 'Doveton'\n",
      " 'Frankston' 'Glen Waverley' 'Greenvale' 'Heathmont' 'Hoppers Crossing'\n",
      " 'Melton South' 'Melton West' 'Mentone' 'Mooroolbark' 'Mordialloc'\n",
      " 'Oakleigh East' 'Ringwood East' 'Roxburgh Park' 'Seabrook' 'Templestowe'\n",
      " 'Thomastown' 'Vermont' 'Watsonia North' 'Westmeadows' 'Wheelers Hill'\n",
      " 'Bayswater North' 'Berwick' 'Black Rock' 'Blackburn North' 'Bundoora'\n",
      " 'Carrum Downs' 'Croydon North' 'Ferntree Gully' 'Gladstone Park' 'Hallam'\n",
      " 'Mulgrave' 'Notting Hill' 'Ringwood North' 'Skye' 'Sydenham'\n",
      " 'Taylors Lakes' 'Vermont South' 'Beaconsfield Upper' 'Blackburn South'\n",
      " 'Chelsea Heights' 'Eltham North' 'Meadow Heights' 'Mount Evelyn'\n",
      " 'Noble Park' 'North Warrandyte' 'Riddells Creek' 'Sandhurst'\n",
      " 'Wantirna South' 'Chirnside Park' 'Croydon Hills' 'Derrimut' 'Edithvale'\n",
      " 'Forest Hill' 'Keilor' 'Knoxfield' 'Lower Plenty' 'St Helena' 'Truganina'\n",
      " 'Tullamarine' 'Wollert' 'Deer Park' 'Hampton Park' 'Montrose' 'Ringwood'\n",
      " 'The Basin' 'Altona Meadows' 'Clarinda' 'Deepdene' 'Delahey'\n",
      " 'Diggers Rest' 'Hurstbridge' 'Kurunjang' 'McKinnon' 'Scoresby'\n",
      " 'Aspendale' 'Endeavour Hills' 'Mickleham' 'Narre Warren' 'Pakenham'\n",
      " 'Warrandyte' 'Beaconsfield' 'Langwarrin' 'Springvale South' 'Yarra Glen'\n",
      " 'Albanvale' 'Ardeer' 'Brookfield' 'Cranbourne North' 'Emerald'\n",
      " 'Whittlesea' 'Clayton South' 'Coolaroo' 'Dallas' 'Wantirna' 'Waterways'\n",
      " 'Wallan' 'Williams Landing' 'Campbellfield' 'Kilsyth' 'Plumpton'\n",
      " 'Burnside' 'Cranbourne' 'Kooyong' 'Bacchus Marsh' 'Attwood'\n",
      " 'Croydon South' 'Botanic Ridge' 'Gisborne South' 'Wattle Glen'\n",
      " 'Aspendale Gardens' 'Officer' 'Upwey' 'Lysterfield' 'Patterson Lakes'\n",
      " 'Bullengarook' 'Keilor Lodge' 'Research']\n",
      "315\n"
     ]
    }
   ],
   "source": [
    "print(df['Suburb'].unique())\n",
    "print(len(df['Suburb'].unique()))\n",
    "dic={}\n",
    "j=0\n",
    "for i in df['Suburb'].unique():\n",
    "    dic[str(i)]=j\n",
    "    j+=1"
   ]
  },
  {
   "cell_type": "code",
   "execution_count": 34,
   "metadata": {},
   "outputs": [
    {
     "data": {
      "text/plain": [
       "{'Abbotsford': 0,\n",
       " 'Airport West': 1,\n",
       " 'Albert Park': 2,\n",
       " 'Alphington': 3,\n",
       " 'Altona': 4,\n",
       " 'Altona North': 5,\n",
       " 'Armadale': 6,\n",
       " 'Ascot Vale': 7,\n",
       " 'Ashburton': 8,\n",
       " 'Ashwood': 9,\n",
       " 'Avondale Heights': 10,\n",
       " 'Balaclava': 11,\n",
       " 'Balwyn': 12,\n",
       " 'Balwyn North': 13,\n",
       " 'Bentleigh': 14,\n",
       " 'Bentleigh East': 15,\n",
       " 'Box Hill': 16,\n",
       " 'Braybrook': 17,\n",
       " 'Brighton': 18,\n",
       " 'Brighton East': 19,\n",
       " 'Brunswick': 20,\n",
       " 'Brunswick West': 21,\n",
       " 'Bulleen': 22,\n",
       " 'Burwood': 23,\n",
       " 'Camberwell': 24,\n",
       " 'Canterbury': 25,\n",
       " 'Carlton North': 26,\n",
       " 'Carnegie': 27,\n",
       " 'Caulfield': 28,\n",
       " 'Caulfield North': 29,\n",
       " 'Caulfield South': 30,\n",
       " 'Chadstone': 31,\n",
       " 'Clifton Hill': 32,\n",
       " 'Coburg': 33,\n",
       " 'Coburg North': 34,\n",
       " 'Collingwood': 35,\n",
       " 'Doncaster': 36,\n",
       " 'Eaglemont': 37,\n",
       " 'Elsternwick': 38,\n",
       " 'Elwood': 39,\n",
       " 'Essendon': 40,\n",
       " 'Essendon North': 41,\n",
       " 'Fairfield': 42,\n",
       " 'Fitzroy': 43,\n",
       " 'Fitzroy North': 44,\n",
       " 'Flemington': 45,\n",
       " 'Footscray': 46,\n",
       " 'Glen Iris': 47,\n",
       " 'Glenroy': 48,\n",
       " 'Gowanbrae': 49,\n",
       " 'Hadfield': 50,\n",
       " 'Hampton': 51,\n",
       " 'Hampton East': 52,\n",
       " 'Hawthorn': 53,\n",
       " 'Heidelberg Heights': 54,\n",
       " 'Heidelberg West': 55,\n",
       " 'Hughesdale': 56,\n",
       " 'Ivanhoe': 57,\n",
       " 'Kealba': 58,\n",
       " 'Keilor East': 59,\n",
       " 'Kensington': 60,\n",
       " 'Kew': 61,\n",
       " 'Kew East': 62,\n",
       " 'Maidstone': 63,\n",
       " 'Malvern': 64,\n",
       " 'Malvern East': 65,\n",
       " 'Maribyrnong': 66,\n",
       " 'Melbourne': 67,\n",
       " 'Middle Park': 68,\n",
       " 'Mont Albert': 69,\n",
       " 'Moonee Ponds': 70,\n",
       " 'Moorabbin': 71,\n",
       " 'Newport': 72,\n",
       " 'Niddrie': 73,\n",
       " 'North Melbourne': 74,\n",
       " 'Northcote': 75,\n",
       " 'Oak Park': 76,\n",
       " 'Oakleigh South': 77,\n",
       " 'Parkville': 78,\n",
       " 'Pascoe Vale': 79,\n",
       " 'Port Melbourne': 80,\n",
       " 'Prahran': 81,\n",
       " 'Preston': 82,\n",
       " 'Reservoir': 83,\n",
       " 'Richmond': 84,\n",
       " 'Rosanna': 85,\n",
       " 'Seddon': 86,\n",
       " 'South Melbourne': 87,\n",
       " 'South Yarra': 88,\n",
       " 'Southbank': 89,\n",
       " 'Spotswood': 90,\n",
       " 'St Kilda': 91,\n",
       " 'Strathmore': 92,\n",
       " 'Sunshine': 93,\n",
       " 'Sunshine North': 94,\n",
       " 'Sunshine West': 95,\n",
       " 'Surrey Hills': 96,\n",
       " 'Templestowe Lower': 97,\n",
       " 'Thornbury': 98,\n",
       " 'Toorak': 99,\n",
       " 'Viewbank': 100,\n",
       " 'Watsonia': 101,\n",
       " 'West Melbourne': 102,\n",
       " 'Williamstown': 103,\n",
       " 'Williamstown North': 104,\n",
       " 'Windsor': 105,\n",
       " 'Yallambie': 106,\n",
       " 'Yarraville': 107,\n",
       " 'Aberfeldie': 108,\n",
       " 'Bellfield': 109,\n",
       " 'Brunswick East': 110,\n",
       " 'Burnley': 111,\n",
       " 'Carlton': 112,\n",
       " 'East Melbourne': 113,\n",
       " 'Essendon West': 114,\n",
       " 'Fawkner': 115,\n",
       " 'Hawthorn East': 116,\n",
       " 'Heidelberg': 117,\n",
       " 'Ivanhoe East': 118,\n",
       " 'Jacana': 119,\n",
       " 'Kingsbury': 120,\n",
       " 'Kingsville': 121,\n",
       " 'Murrumbeena': 122,\n",
       " 'Ormond': 123,\n",
       " 'West Footscray': 124,\n",
       " 'Albion': 125,\n",
       " 'Brooklyn': 126,\n",
       " 'Glen Huntly': 127,\n",
       " 'Oakleigh': 128,\n",
       " 'Ripponlea': 129,\n",
       " 'Cremorne': 130,\n",
       " 'South Kingsville': 131,\n",
       " 'Strathmore Heights': 132,\n",
       " 'Travancore': 133,\n",
       " 'Caulfield East': 134,\n",
       " 'Seaholme': 135,\n",
       " 'Keilor Park': 136,\n",
       " 'Gardenvale': 137,\n",
       " 'Princes Hill': 138,\n",
       " 'Bayswater': 139,\n",
       " 'Briar Hill': 140,\n",
       " 'Broadmeadows': 141,\n",
       " 'Burnside Heights': 142,\n",
       " 'Cairnlea': 143,\n",
       " 'Cheltenham': 144,\n",
       " 'Craigieburn': 145,\n",
       " 'Croydon': 146,\n",
       " 'Dandenong North': 147,\n",
       " 'Diamond Creek': 148,\n",
       " 'Doncaster East': 149,\n",
       " 'Donvale': 150,\n",
       " 'Doreen': 151,\n",
       " 'Eltham': 152,\n",
       " 'Epping': 153,\n",
       " 'Frankston North': 154,\n",
       " 'Frankston South': 155,\n",
       " 'Gisborne': 156,\n",
       " 'Greensborough': 157,\n",
       " 'Healesville': 158,\n",
       " 'Highett': 159,\n",
       " 'Hillside': 160,\n",
       " 'Huntingdale': 161,\n",
       " 'Keilor Downs': 162,\n",
       " 'Keysborough': 163,\n",
       " 'Kings Park': 164,\n",
       " 'Lalor': 165,\n",
       " 'Melton': 166,\n",
       " 'Mernda': 167,\n",
       " 'Mill Park': 168,\n",
       " 'Mitcham': 169,\n",
       " 'Montmorency': 170,\n",
       " 'Mount Waverley': 171,\n",
       " 'Nunawading': 172,\n",
       " 'Parkdale': 173,\n",
       " 'Point Cook': 174,\n",
       " 'Rowville': 175,\n",
       " 'Sandringham': 176,\n",
       " 'Seaford': 177,\n",
       " 'South Morang': 178,\n",
       " 'Springvale': 179,\n",
       " 'St Albans': 180,\n",
       " 'Sunbury': 181,\n",
       " 'Tarneit': 182,\n",
       " 'Taylors Hill': 183,\n",
       " 'Werribee': 184,\n",
       " 'Wyndham Vale': 185,\n",
       " 'Beaumaris': 186,\n",
       " 'Blackburn': 187,\n",
       " 'Bonbeach': 188,\n",
       " 'Boronia': 189,\n",
       " 'Burwood East': 190,\n",
       " 'Caroline Springs': 191,\n",
       " 'Carrum': 192,\n",
       " 'Chelsea': 193,\n",
       " 'Clayton': 194,\n",
       " 'Dandenong': 195,\n",
       " 'Dingley Village': 196,\n",
       " 'Doveton': 197,\n",
       " 'Frankston': 198,\n",
       " 'Glen Waverley': 199,\n",
       " 'Greenvale': 200,\n",
       " 'Heathmont': 201,\n",
       " 'Hoppers Crossing': 202,\n",
       " 'Melton South': 203,\n",
       " 'Melton West': 204,\n",
       " 'Mentone': 205,\n",
       " 'Mooroolbark': 206,\n",
       " 'Mordialloc': 207,\n",
       " 'Oakleigh East': 208,\n",
       " 'Ringwood East': 209,\n",
       " 'Roxburgh Park': 210,\n",
       " 'Seabrook': 211,\n",
       " 'Templestowe': 212,\n",
       " 'Thomastown': 213,\n",
       " 'Vermont': 214,\n",
       " 'Watsonia North': 215,\n",
       " 'Westmeadows': 216,\n",
       " 'Wheelers Hill': 217,\n",
       " 'Bayswater North': 218,\n",
       " 'Berwick': 219,\n",
       " 'Black Rock': 220,\n",
       " 'Blackburn North': 221,\n",
       " 'Bundoora': 222,\n",
       " 'Carrum Downs': 223,\n",
       " 'Croydon North': 224,\n",
       " 'Ferntree Gully': 225,\n",
       " 'Gladstone Park': 226,\n",
       " 'Hallam': 227,\n",
       " 'Mulgrave': 228,\n",
       " 'Notting Hill': 229,\n",
       " 'Ringwood North': 230,\n",
       " 'Skye': 231,\n",
       " 'Sydenham': 232,\n",
       " 'Taylors Lakes': 233,\n",
       " 'Vermont South': 234,\n",
       " 'Beaconsfield Upper': 235,\n",
       " 'Blackburn South': 236,\n",
       " 'Chelsea Heights': 237,\n",
       " 'Eltham North': 238,\n",
       " 'Meadow Heights': 239,\n",
       " 'Mount Evelyn': 240,\n",
       " 'Noble Park': 241,\n",
       " 'North Warrandyte': 242,\n",
       " 'Riddells Creek': 243,\n",
       " 'Sandhurst': 244,\n",
       " 'Wantirna South': 245,\n",
       " 'Chirnside Park': 246,\n",
       " 'Croydon Hills': 247,\n",
       " 'Derrimut': 248,\n",
       " 'Edithvale': 249,\n",
       " 'Forest Hill': 250,\n",
       " 'Keilor': 251,\n",
       " 'Knoxfield': 252,\n",
       " 'Lower Plenty': 253,\n",
       " 'St Helena': 254,\n",
       " 'Truganina': 255,\n",
       " 'Tullamarine': 256,\n",
       " 'Wollert': 257,\n",
       " 'Deer Park': 258,\n",
       " 'Hampton Park': 259,\n",
       " 'Montrose': 260,\n",
       " 'Ringwood': 261,\n",
       " 'The Basin': 262,\n",
       " 'Altona Meadows': 263,\n",
       " 'Clarinda': 264,\n",
       " 'Deepdene': 265,\n",
       " 'Delahey': 266,\n",
       " 'Diggers Rest': 267,\n",
       " 'Hurstbridge': 268,\n",
       " 'Kurunjang': 269,\n",
       " 'McKinnon': 270,\n",
       " 'Scoresby': 271,\n",
       " 'Aspendale': 272,\n",
       " 'Endeavour Hills': 273,\n",
       " 'Mickleham': 274,\n",
       " 'Narre Warren': 275,\n",
       " 'Pakenham': 276,\n",
       " 'Warrandyte': 277,\n",
       " 'Beaconsfield': 278,\n",
       " 'Langwarrin': 279,\n",
       " 'Springvale South': 280,\n",
       " 'Yarra Glen': 281,\n",
       " 'Albanvale': 282,\n",
       " 'Ardeer': 283,\n",
       " 'Brookfield': 284,\n",
       " 'Cranbourne North': 285,\n",
       " 'Emerald': 286,\n",
       " 'Whittlesea': 287,\n",
       " 'Clayton South': 288,\n",
       " 'Coolaroo': 289,\n",
       " 'Dallas': 290,\n",
       " 'Wantirna': 291,\n",
       " 'Waterways': 292,\n",
       " 'Wallan': 293,\n",
       " 'Williams Landing': 294,\n",
       " 'Campbellfield': 295,\n",
       " 'Kilsyth': 296,\n",
       " 'Plumpton': 297,\n",
       " 'Burnside': 298,\n",
       " 'Cranbourne': 299,\n",
       " 'Kooyong': 300,\n",
       " 'Bacchus Marsh': 301,\n",
       " 'Attwood': 302,\n",
       " 'Croydon South': 303,\n",
       " 'Botanic Ridge': 304,\n",
       " 'Gisborne South': 305,\n",
       " 'Wattle Glen': 306,\n",
       " 'Aspendale Gardens': 307,\n",
       " 'Officer': 308,\n",
       " 'Upwey': 309,\n",
       " 'Lysterfield': 310,\n",
       " 'Patterson Lakes': 311,\n",
       " 'Bullengarook': 312,\n",
       " 'Keilor Lodge': 313,\n",
       " 'Research': 314}"
      ]
     },
     "execution_count": 34,
     "metadata": {},
     "output_type": "execute_result"
    }
   ],
   "source": [
    "dic"
   ]
  },
  {
   "cell_type": "code",
   "execution_count": 35,
   "metadata": {},
   "outputs": [],
   "source": [
    "df['Suburb']=df['Suburb'].map(dic)"
   ]
  },
  {
   "cell_type": "code",
   "execution_count": 36,
   "metadata": {},
   "outputs": [
    {
     "data": {
      "text/plain": [
       "Index(['Suburb', 'Rooms', 'Type', 'Price', 'Date', 'Distance', 'Bedroom2',\n",
       "       'Bathroom', 'Car', 'Landsize', 'BuildingArea', 'YearBuilt',\n",
       "       'CouncilArea', 'Regionname'],\n",
       "      dtype='object')"
      ]
     },
     "execution_count": 36,
     "metadata": {},
     "output_type": "execute_result"
    }
   ],
   "source": [
    "df.columns"
   ]
  },
  {
   "cell_type": "code",
   "execution_count": 37,
   "metadata": {},
   "outputs": [
    {
     "data": {
      "text/html": [
       "<div>\n",
       "<style scoped>\n",
       "    .dataframe tbody tr th:only-of-type {\n",
       "        vertical-align: middle;\n",
       "    }\n",
       "\n",
       "    .dataframe tbody tr th {\n",
       "        vertical-align: top;\n",
       "    }\n",
       "\n",
       "    .dataframe thead th {\n",
       "        text-align: right;\n",
       "    }\n",
       "</style>\n",
       "<table border=\"1\" class=\"dataframe\">\n",
       "  <thead>\n",
       "    <tr style=\"text-align: right;\">\n",
       "      <th></th>\n",
       "      <th>Suburb</th>\n",
       "      <th>Rooms</th>\n",
       "      <th>Type</th>\n",
       "      <th>Price</th>\n",
       "      <th>Date</th>\n",
       "      <th>Distance</th>\n",
       "      <th>Bedroom2</th>\n",
       "      <th>Bathroom</th>\n",
       "      <th>Car</th>\n",
       "      <th>Landsize</th>\n",
       "      <th>BuildingArea</th>\n",
       "      <th>YearBuilt</th>\n",
       "      <th>CouncilArea</th>\n",
       "      <th>Regionname</th>\n",
       "    </tr>\n",
       "  </thead>\n",
       "  <tbody>\n",
       "    <tr>\n",
       "      <th>2</th>\n",
       "      <td>0</td>\n",
       "      <td>2</td>\n",
       "      <td>0</td>\n",
       "      <td>1035000.0</td>\n",
       "      <td>2016</td>\n",
       "      <td>2.5</td>\n",
       "      <td>2.0</td>\n",
       "      <td>1.0</td>\n",
       "      <td>0.0</td>\n",
       "      <td>156.0</td>\n",
       "      <td>79.0</td>\n",
       "      <td>1900.0</td>\n",
       "      <td>0</td>\n",
       "      <td>0</td>\n",
       "    </tr>\n",
       "    <tr>\n",
       "      <th>4</th>\n",
       "      <td>0</td>\n",
       "      <td>3</td>\n",
       "      <td>0</td>\n",
       "      <td>1465000.0</td>\n",
       "      <td>2017</td>\n",
       "      <td>2.5</td>\n",
       "      <td>3.0</td>\n",
       "      <td>2.0</td>\n",
       "      <td>0.0</td>\n",
       "      <td>134.0</td>\n",
       "      <td>150.0</td>\n",
       "      <td>1900.0</td>\n",
       "      <td>0</td>\n",
       "      <td>0</td>\n",
       "    </tr>\n",
       "    <tr>\n",
       "      <th>6</th>\n",
       "      <td>0</td>\n",
       "      <td>4</td>\n",
       "      <td>0</td>\n",
       "      <td>1600000.0</td>\n",
       "      <td>2016</td>\n",
       "      <td>2.5</td>\n",
       "      <td>3.0</td>\n",
       "      <td>1.0</td>\n",
       "      <td>2.0</td>\n",
       "      <td>120.0</td>\n",
       "      <td>142.0</td>\n",
       "      <td>2014.0</td>\n",
       "      <td>0</td>\n",
       "      <td>0</td>\n",
       "    </tr>\n",
       "    <tr>\n",
       "      <th>11</th>\n",
       "      <td>0</td>\n",
       "      <td>3</td>\n",
       "      <td>0</td>\n",
       "      <td>1876000.0</td>\n",
       "      <td>2016</td>\n",
       "      <td>2.5</td>\n",
       "      <td>4.0</td>\n",
       "      <td>2.0</td>\n",
       "      <td>0.0</td>\n",
       "      <td>245.0</td>\n",
       "      <td>210.0</td>\n",
       "      <td>1910.0</td>\n",
       "      <td>0</td>\n",
       "      <td>0</td>\n",
       "    </tr>\n",
       "    <tr>\n",
       "      <th>14</th>\n",
       "      <td>0</td>\n",
       "      <td>2</td>\n",
       "      <td>0</td>\n",
       "      <td>1636000.0</td>\n",
       "      <td>2016</td>\n",
       "      <td>2.5</td>\n",
       "      <td>2.0</td>\n",
       "      <td>1.0</td>\n",
       "      <td>2.0</td>\n",
       "      <td>256.0</td>\n",
       "      <td>107.0</td>\n",
       "      <td>1890.0</td>\n",
       "      <td>0</td>\n",
       "      <td>0</td>\n",
       "    </tr>\n",
       "    <tr>\n",
       "      <th>...</th>\n",
       "      <td>...</td>\n",
       "      <td>...</td>\n",
       "      <td>...</td>\n",
       "      <td>...</td>\n",
       "      <td>...</td>\n",
       "      <td>...</td>\n",
       "      <td>...</td>\n",
       "      <td>...</td>\n",
       "      <td>...</td>\n",
       "      <td>...</td>\n",
       "      <td>...</td>\n",
       "      <td>...</td>\n",
       "      <td>...</td>\n",
       "      <td>...</td>\n",
       "    </tr>\n",
       "    <tr>\n",
       "      <th>34847</th>\n",
       "      <td>257</td>\n",
       "      <td>3</td>\n",
       "      <td>0</td>\n",
       "      <td>500000.0</td>\n",
       "      <td>2018</td>\n",
       "      <td>25.5</td>\n",
       "      <td>3.0</td>\n",
       "      <td>2.0</td>\n",
       "      <td>2.0</td>\n",
       "      <td>383.0</td>\n",
       "      <td>118.0</td>\n",
       "      <td>2016.0</td>\n",
       "      <td>26</td>\n",
       "      <td>0</td>\n",
       "    </tr>\n",
       "    <tr>\n",
       "      <th>34849</th>\n",
       "      <td>257</td>\n",
       "      <td>3</td>\n",
       "      <td>0</td>\n",
       "      <td>570000.0</td>\n",
       "      <td>2018</td>\n",
       "      <td>25.5</td>\n",
       "      <td>3.0</td>\n",
       "      <td>2.0</td>\n",
       "      <td>2.0</td>\n",
       "      <td>404.0</td>\n",
       "      <td>158.0</td>\n",
       "      <td>2012.0</td>\n",
       "      <td>26</td>\n",
       "      <td>0</td>\n",
       "    </tr>\n",
       "    <tr>\n",
       "      <th>34853</th>\n",
       "      <td>107</td>\n",
       "      <td>2</td>\n",
       "      <td>0</td>\n",
       "      <td>888000.0</td>\n",
       "      <td>2018</td>\n",
       "      <td>6.3</td>\n",
       "      <td>2.0</td>\n",
       "      <td>2.0</td>\n",
       "      <td>1.0</td>\n",
       "      <td>98.0</td>\n",
       "      <td>104.0</td>\n",
       "      <td>2018.0</td>\n",
       "      <td>10</td>\n",
       "      <td>1</td>\n",
       "    </tr>\n",
       "    <tr>\n",
       "      <th>34854</th>\n",
       "      <td>107</td>\n",
       "      <td>2</td>\n",
       "      <td>2</td>\n",
       "      <td>705000.0</td>\n",
       "      <td>2018</td>\n",
       "      <td>6.3</td>\n",
       "      <td>2.0</td>\n",
       "      <td>1.0</td>\n",
       "      <td>2.0</td>\n",
       "      <td>220.0</td>\n",
       "      <td>120.0</td>\n",
       "      <td>2000.0</td>\n",
       "      <td>10</td>\n",
       "      <td>1</td>\n",
       "    </tr>\n",
       "    <tr>\n",
       "      <th>34856</th>\n",
       "      <td>107</td>\n",
       "      <td>2</td>\n",
       "      <td>0</td>\n",
       "      <td>1020000.0</td>\n",
       "      <td>2018</td>\n",
       "      <td>6.3</td>\n",
       "      <td>2.0</td>\n",
       "      <td>1.0</td>\n",
       "      <td>0.0</td>\n",
       "      <td>250.0</td>\n",
       "      <td>103.0</td>\n",
       "      <td>1930.0</td>\n",
       "      <td>10</td>\n",
       "      <td>1</td>\n",
       "    </tr>\n",
       "  </tbody>\n",
       "</table>\n",
       "<p>8895 rows × 14 columns</p>\n",
       "</div>"
      ],
      "text/plain": [
       "       Suburb  Rooms  Type      Price  Date  Distance  Bedroom2  Bathroom  \\\n",
       "2           0      2     0  1035000.0  2016       2.5       2.0       1.0   \n",
       "4           0      3     0  1465000.0  2017       2.5       3.0       2.0   \n",
       "6           0      4     0  1600000.0  2016       2.5       3.0       1.0   \n",
       "11          0      3     0  1876000.0  2016       2.5       4.0       2.0   \n",
       "14          0      2     0  1636000.0  2016       2.5       2.0       1.0   \n",
       "...       ...    ...   ...        ...   ...       ...       ...       ...   \n",
       "34847     257      3     0   500000.0  2018      25.5       3.0       2.0   \n",
       "34849     257      3     0   570000.0  2018      25.5       3.0       2.0   \n",
       "34853     107      2     0   888000.0  2018       6.3       2.0       2.0   \n",
       "34854     107      2     2   705000.0  2018       6.3       2.0       1.0   \n",
       "34856     107      2     0  1020000.0  2018       6.3       2.0       1.0   \n",
       "\n",
       "       Car  Landsize  BuildingArea  YearBuilt  CouncilArea  Regionname  \n",
       "2      0.0     156.0          79.0     1900.0            0           0  \n",
       "4      0.0     134.0         150.0     1900.0            0           0  \n",
       "6      2.0     120.0         142.0     2014.0            0           0  \n",
       "11     0.0     245.0         210.0     1910.0            0           0  \n",
       "14     2.0     256.0         107.0     1890.0            0           0  \n",
       "...    ...       ...           ...        ...          ...         ...  \n",
       "34847  2.0     383.0         118.0     2016.0           26           0  \n",
       "34849  2.0     404.0         158.0     2012.0           26           0  \n",
       "34853  1.0      98.0         104.0     2018.0           10           1  \n",
       "34854  2.0     220.0         120.0     2000.0           10           1  \n",
       "34856  0.0     250.0         103.0     1930.0           10           1  \n",
       "\n",
       "[8895 rows x 14 columns]"
      ]
     },
     "execution_count": 37,
     "metadata": {},
     "output_type": "execute_result"
    }
   ],
   "source": [
    "df"
   ]
  },
  {
   "cell_type": "code",
   "execution_count": 38,
   "metadata": {},
   "outputs": [],
   "source": [
    "#Assign X and y\n",
    "X=df.drop('Price',axis=1)\n",
    "y=df['Price']"
   ]
  },
  {
   "cell_type": "code",
   "execution_count": 39,
   "metadata": {},
   "outputs": [
    {
     "data": {
      "text/html": [
       "<div>\n",
       "<style scoped>\n",
       "    .dataframe tbody tr th:only-of-type {\n",
       "        vertical-align: middle;\n",
       "    }\n",
       "\n",
       "    .dataframe tbody tr th {\n",
       "        vertical-align: top;\n",
       "    }\n",
       "\n",
       "    .dataframe thead th {\n",
       "        text-align: right;\n",
       "    }\n",
       "</style>\n",
       "<table border=\"1\" class=\"dataframe\">\n",
       "  <thead>\n",
       "    <tr style=\"text-align: right;\">\n",
       "      <th></th>\n",
       "      <th>Suburb</th>\n",
       "      <th>Rooms</th>\n",
       "      <th>Type</th>\n",
       "      <th>Date</th>\n",
       "      <th>Distance</th>\n",
       "      <th>Bedroom2</th>\n",
       "      <th>Bathroom</th>\n",
       "      <th>Car</th>\n",
       "      <th>Landsize</th>\n",
       "      <th>BuildingArea</th>\n",
       "      <th>YearBuilt</th>\n",
       "      <th>CouncilArea</th>\n",
       "      <th>Regionname</th>\n",
       "    </tr>\n",
       "  </thead>\n",
       "  <tbody>\n",
       "    <tr>\n",
       "      <th>2</th>\n",
       "      <td>0</td>\n",
       "      <td>2</td>\n",
       "      <td>0</td>\n",
       "      <td>2016</td>\n",
       "      <td>2.5</td>\n",
       "      <td>2.0</td>\n",
       "      <td>1.0</td>\n",
       "      <td>0.0</td>\n",
       "      <td>156.0</td>\n",
       "      <td>79.0</td>\n",
       "      <td>1900.0</td>\n",
       "      <td>0</td>\n",
       "      <td>0</td>\n",
       "    </tr>\n",
       "    <tr>\n",
       "      <th>4</th>\n",
       "      <td>0</td>\n",
       "      <td>3</td>\n",
       "      <td>0</td>\n",
       "      <td>2017</td>\n",
       "      <td>2.5</td>\n",
       "      <td>3.0</td>\n",
       "      <td>2.0</td>\n",
       "      <td>0.0</td>\n",
       "      <td>134.0</td>\n",
       "      <td>150.0</td>\n",
       "      <td>1900.0</td>\n",
       "      <td>0</td>\n",
       "      <td>0</td>\n",
       "    </tr>\n",
       "    <tr>\n",
       "      <th>6</th>\n",
       "      <td>0</td>\n",
       "      <td>4</td>\n",
       "      <td>0</td>\n",
       "      <td>2016</td>\n",
       "      <td>2.5</td>\n",
       "      <td>3.0</td>\n",
       "      <td>1.0</td>\n",
       "      <td>2.0</td>\n",
       "      <td>120.0</td>\n",
       "      <td>142.0</td>\n",
       "      <td>2014.0</td>\n",
       "      <td>0</td>\n",
       "      <td>0</td>\n",
       "    </tr>\n",
       "    <tr>\n",
       "      <th>11</th>\n",
       "      <td>0</td>\n",
       "      <td>3</td>\n",
       "      <td>0</td>\n",
       "      <td>2016</td>\n",
       "      <td>2.5</td>\n",
       "      <td>4.0</td>\n",
       "      <td>2.0</td>\n",
       "      <td>0.0</td>\n",
       "      <td>245.0</td>\n",
       "      <td>210.0</td>\n",
       "      <td>1910.0</td>\n",
       "      <td>0</td>\n",
       "      <td>0</td>\n",
       "    </tr>\n",
       "    <tr>\n",
       "      <th>14</th>\n",
       "      <td>0</td>\n",
       "      <td>2</td>\n",
       "      <td>0</td>\n",
       "      <td>2016</td>\n",
       "      <td>2.5</td>\n",
       "      <td>2.0</td>\n",
       "      <td>1.0</td>\n",
       "      <td>2.0</td>\n",
       "      <td>256.0</td>\n",
       "      <td>107.0</td>\n",
       "      <td>1890.0</td>\n",
       "      <td>0</td>\n",
       "      <td>0</td>\n",
       "    </tr>\n",
       "    <tr>\n",
       "      <th>...</th>\n",
       "      <td>...</td>\n",
       "      <td>...</td>\n",
       "      <td>...</td>\n",
       "      <td>...</td>\n",
       "      <td>...</td>\n",
       "      <td>...</td>\n",
       "      <td>...</td>\n",
       "      <td>...</td>\n",
       "      <td>...</td>\n",
       "      <td>...</td>\n",
       "      <td>...</td>\n",
       "      <td>...</td>\n",
       "      <td>...</td>\n",
       "    </tr>\n",
       "    <tr>\n",
       "      <th>34847</th>\n",
       "      <td>257</td>\n",
       "      <td>3</td>\n",
       "      <td>0</td>\n",
       "      <td>2018</td>\n",
       "      <td>25.5</td>\n",
       "      <td>3.0</td>\n",
       "      <td>2.0</td>\n",
       "      <td>2.0</td>\n",
       "      <td>383.0</td>\n",
       "      <td>118.0</td>\n",
       "      <td>2016.0</td>\n",
       "      <td>26</td>\n",
       "      <td>0</td>\n",
       "    </tr>\n",
       "    <tr>\n",
       "      <th>34849</th>\n",
       "      <td>257</td>\n",
       "      <td>3</td>\n",
       "      <td>0</td>\n",
       "      <td>2018</td>\n",
       "      <td>25.5</td>\n",
       "      <td>3.0</td>\n",
       "      <td>2.0</td>\n",
       "      <td>2.0</td>\n",
       "      <td>404.0</td>\n",
       "      <td>158.0</td>\n",
       "      <td>2012.0</td>\n",
       "      <td>26</td>\n",
       "      <td>0</td>\n",
       "    </tr>\n",
       "    <tr>\n",
       "      <th>34853</th>\n",
       "      <td>107</td>\n",
       "      <td>2</td>\n",
       "      <td>0</td>\n",
       "      <td>2018</td>\n",
       "      <td>6.3</td>\n",
       "      <td>2.0</td>\n",
       "      <td>2.0</td>\n",
       "      <td>1.0</td>\n",
       "      <td>98.0</td>\n",
       "      <td>104.0</td>\n",
       "      <td>2018.0</td>\n",
       "      <td>10</td>\n",
       "      <td>1</td>\n",
       "    </tr>\n",
       "    <tr>\n",
       "      <th>34854</th>\n",
       "      <td>107</td>\n",
       "      <td>2</td>\n",
       "      <td>2</td>\n",
       "      <td>2018</td>\n",
       "      <td>6.3</td>\n",
       "      <td>2.0</td>\n",
       "      <td>1.0</td>\n",
       "      <td>2.0</td>\n",
       "      <td>220.0</td>\n",
       "      <td>120.0</td>\n",
       "      <td>2000.0</td>\n",
       "      <td>10</td>\n",
       "      <td>1</td>\n",
       "    </tr>\n",
       "    <tr>\n",
       "      <th>34856</th>\n",
       "      <td>107</td>\n",
       "      <td>2</td>\n",
       "      <td>0</td>\n",
       "      <td>2018</td>\n",
       "      <td>6.3</td>\n",
       "      <td>2.0</td>\n",
       "      <td>1.0</td>\n",
       "      <td>0.0</td>\n",
       "      <td>250.0</td>\n",
       "      <td>103.0</td>\n",
       "      <td>1930.0</td>\n",
       "      <td>10</td>\n",
       "      <td>1</td>\n",
       "    </tr>\n",
       "  </tbody>\n",
       "</table>\n",
       "<p>8895 rows × 13 columns</p>\n",
       "</div>"
      ],
      "text/plain": [
       "       Suburb  Rooms  Type  Date  Distance  Bedroom2  Bathroom  Car  Landsize  \\\n",
       "2           0      2     0  2016       2.5       2.0       1.0  0.0     156.0   \n",
       "4           0      3     0  2017       2.5       3.0       2.0  0.0     134.0   \n",
       "6           0      4     0  2016       2.5       3.0       1.0  2.0     120.0   \n",
       "11          0      3     0  2016       2.5       4.0       2.0  0.0     245.0   \n",
       "14          0      2     0  2016       2.5       2.0       1.0  2.0     256.0   \n",
       "...       ...    ...   ...   ...       ...       ...       ...  ...       ...   \n",
       "34847     257      3     0  2018      25.5       3.0       2.0  2.0     383.0   \n",
       "34849     257      3     0  2018      25.5       3.0       2.0  2.0     404.0   \n",
       "34853     107      2     0  2018       6.3       2.0       2.0  1.0      98.0   \n",
       "34854     107      2     2  2018       6.3       2.0       1.0  2.0     220.0   \n",
       "34856     107      2     0  2018       6.3       2.0       1.0  0.0     250.0   \n",
       "\n",
       "       BuildingArea  YearBuilt  CouncilArea  Regionname  \n",
       "2              79.0     1900.0            0           0  \n",
       "4             150.0     1900.0            0           0  \n",
       "6             142.0     2014.0            0           0  \n",
       "11            210.0     1910.0            0           0  \n",
       "14            107.0     1890.0            0           0  \n",
       "...             ...        ...          ...         ...  \n",
       "34847         118.0     2016.0           26           0  \n",
       "34849         158.0     2012.0           26           0  \n",
       "34853         104.0     2018.0           10           1  \n",
       "34854         120.0     2000.0           10           1  \n",
       "34856         103.0     1930.0           10           1  \n",
       "\n",
       "[8895 rows x 13 columns]"
      ]
     },
     "execution_count": 39,
     "metadata": {},
     "output_type": "execute_result"
    }
   ],
   "source": [
    "X"
   ]
  },
  {
   "cell_type": "code",
   "execution_count": 40,
   "metadata": {},
   "outputs": [
    {
     "data": {
      "text/plain": [
       "2        1035000.0\n",
       "4        1465000.0\n",
       "6        1600000.0\n",
       "11       1876000.0\n",
       "14       1636000.0\n",
       "           ...    \n",
       "34847     500000.0\n",
       "34849     570000.0\n",
       "34853     888000.0\n",
       "34854     705000.0\n",
       "34856    1020000.0\n",
       "Name: Price, Length: 8895, dtype: float64"
      ]
     },
     "execution_count": 40,
     "metadata": {},
     "output_type": "execute_result"
    }
   ],
   "source": [
    "y"
   ]
  },
  {
   "cell_type": "code",
   "execution_count": 41,
   "metadata": {},
   "outputs": [
    {
     "data": {
      "text/plain": [
       "((8895, 13), (8895,))"
      ]
     },
     "execution_count": 41,
     "metadata": {},
     "output_type": "execute_result"
    }
   ],
   "source": [
    "X.shape,y.shape"
   ]
  },
  {
   "cell_type": "code",
   "execution_count": 42,
   "metadata": {},
   "outputs": [],
   "source": [
    "#4)splitting the data\n",
    "X_train,X_test,y_train,y_test=train_test_split(X,y,test_size=0.3,shuffle=True,random_state=100)"
   ]
  },
  {
   "cell_type": "code",
   "execution_count": 43,
   "metadata": {},
   "outputs": [],
   "source": [
    "#5)Algorithm\n",
    "model=ensemble.GradientBoostingRegressor(n_estimators=250,learning_rate=0.1,max_depth=5,\n",
    "                                         min_samples_split=4,min_samples_leaf=6,max_features=0.6,loss='huber',random_state =110)"
   ]
  },
  {
   "cell_type": "code",
   "execution_count": 44,
   "metadata": {},
   "outputs": [
    {
     "data": {
      "text/plain": [
       "GradientBoostingRegressor(loss='huber', max_depth=5, max_features=0.6,\n",
       "                          min_samples_leaf=6, min_samples_split=4,\n",
       "                          n_estimators=250, random_state=110)"
      ]
     },
     "execution_count": 44,
     "metadata": {},
     "output_type": "execute_result"
    }
   ],
   "source": [
    "model.fit(X_train,y_train)"
   ]
  },
  {
   "cell_type": "code",
   "execution_count": 45,
   "metadata": {},
   "outputs": [
    {
     "name": "stdout",
     "output_type": "stream",
     "text": [
      "mae_train:109038.25\n"
     ]
    }
   ],
   "source": [
    "#6)Evaluation metrics\n",
    "mae_train=mean_absolute_error(y_train,model.predict(X_train))\n",
    "print('mae_train:%.2f'%mae_train)"
   ]
  },
  {
   "cell_type": "code",
   "execution_count": 46,
   "metadata": {},
   "outputs": [
    {
     "name": "stdout",
     "output_type": "stream",
     "text": [
      "mae_test:152697.39\n"
     ]
    }
   ],
   "source": [
    "mae_test=mean_absolute_error(y_test,model.predict(X_test))\n",
    "print('mae_test:%.2f'%mae_test)"
   ]
  },
  {
   "cell_type": "code",
   "execution_count": 47,
   "metadata": {},
   "outputs": [
    {
     "data": {
      "text/plain": [
       "90.06585498764746"
      ]
     },
     "execution_count": 47,
     "metadata": {},
     "output_type": "execute_result"
    }
   ],
   "source": [
    "model.score(X_train,y_train)*100"
   ]
  },
  {
   "cell_type": "code",
   "execution_count": 48,
   "metadata": {},
   "outputs": [
    {
     "data": {
      "text/plain": [
       "84.77053362632478"
      ]
     },
     "execution_count": 48,
     "metadata": {},
     "output_type": "execute_result"
    }
   ],
   "source": [
    "model.score(X_test,y_test)*100"
   ]
  },
  {
   "cell_type": "code",
   "execution_count": 49,
   "metadata": {},
   "outputs": [
    {
     "name": "stdout",
     "output_type": "stream",
     "text": [
      "84.77053362632478\n",
      "152697.38791846109\n",
      "256044.94553091188\n"
     ]
    }
   ],
   "source": [
    "y_preds=model.predict(X_test)\n",
    "print(r2_score(y_test,y_preds)*100)\n",
    "print(mean_absolute_error(y_test,y_preds))\n",
    "print(np.sqrt(mean_squared_error(y_test,y_preds)))"
   ]
  },
  {
   "cell_type": "code",
   "execution_count": 50,
   "metadata": {},
   "outputs": [],
   "source": [
    "def mean_absolute_percentage_error(y_true, y_pred): \n",
    "    y_true, y_pred = np.array(y_true), np.array(y_pred)\n",
    "    return np.mean(np.abs((y_true - y_pred) / y_true)) * 100"
   ]
  },
  {
   "cell_type": "code",
   "execution_count": 51,
   "metadata": {},
   "outputs": [
    {
     "data": {
      "text/plain": [
       "14.192394083695367"
      ]
     },
     "execution_count": 51,
     "metadata": {},
     "output_type": "execute_result"
    }
   ],
   "source": [
    "mean_absolute_percentage_error(y_test,model.predict(X_test))"
   ]
  },
  {
   "cell_type": "markdown",
   "metadata": {},
   "source": [
    "# Random Forest Regressor"
   ]
  },
  {
   "cell_type": "code",
   "execution_count": 75,
   "metadata": {},
   "outputs": [
    {
     "name": "stdout",
     "output_type": "stream",
     "text": [
      "97.16219954259383\n"
     ]
    }
   ],
   "source": [
    "import numpy as np\n",
    "np.random.seed(10)\n",
    "rf=ensemble.RandomForestRegressor()\n",
    "rf.fit(X_train,y_train)\n",
    "rf_train=rf.score(X_train,y_train)*100\n",
    "print(rf_train)"
   ]
  },
  {
   "cell_type": "code",
   "execution_count": 76,
   "metadata": {
    "scrolled": true
   },
   "outputs": [
    {
     "name": "stdout",
     "output_type": "stream",
     "text": [
      "82.31791992057764\n"
     ]
    }
   ],
   "source": [
    "rf_test=rf.score(X_test,y_test)*100\n",
    "print(rf_test)"
   ]
  },
  {
   "cell_type": "markdown",
   "metadata": {},
   "source": [
    "# Grid Search  CV "
   ]
  },
  {
   "cell_type": "code",
   "execution_count": 98,
   "metadata": {},
   "outputs": [],
   "source": [
    "final=ensemble.GradientBoostingRegressor()"
   ]
  },
  {
   "cell_type": "code",
   "execution_count": 99,
   "metadata": {},
   "outputs": [],
   "source": [
    "hyperparameters={\n",
    "    'n_estimators':[150,250,300],\n",
    "    'learning_rate':[0.1,0.2,0.3],\n",
    "    'max_depth':[4,5,6],\n",
    "    'min_samples_split':[3,4],\n",
    "    'min_samples_leaf':[5,6], \n",
    "    'max_features':[0.6,0.8,0.9],\n",
    "    'loss':['ls','lad','huber']\n",
    "}"
   ]
  },
  {
   "cell_type": "code",
   "execution_count": 100,
   "metadata": {},
   "outputs": [],
   "source": [
    "from sklearn.model_selection import GridSearchCV\n",
    "grid=GridSearchCV(final,hyperparameters,n_jobs=4)"
   ]
  },
  {
   "cell_type": "code",
   "execution_count": 101,
   "metadata": {},
   "outputs": [
    {
     "data": {
      "text/plain": [
       "GridSearchCV(estimator=GradientBoostingRegressor(), n_jobs=4,\n",
       "             param_grid={'learning_rate': [0.1, 0.2, 0.3],\n",
       "                         'loss': ['ls', 'lad', 'huber'], 'max_depth': [4, 5, 6],\n",
       "                         'max_features': [0.6, 0.8, 0.9],\n",
       "                         'min_samples_leaf': [5, 6],\n",
       "                         'min_samples_split': [3, 4],\n",
       "                         'n_estimators': [150, 250, 300]})"
      ]
     },
     "execution_count": 101,
     "metadata": {},
     "output_type": "execute_result"
    }
   ],
   "source": [
    "grid.fit(X_train,y_train)"
   ]
  },
  {
   "cell_type": "code",
   "execution_count": 102,
   "metadata": {},
   "outputs": [
    {
     "data": {
      "text/plain": [
       "{'learning_rate': 0.1,\n",
       " 'loss': 'huber',\n",
       " 'max_depth': 6,\n",
       " 'max_features': 0.8,\n",
       " 'min_samples_leaf': 5,\n",
       " 'min_samples_split': 3,\n",
       " 'n_estimators': 300}"
      ]
     },
     "execution_count": 102,
     "metadata": {},
     "output_type": "execute_result"
    }
   ],
   "source": [
    "grid.best_params_"
   ]
  },
  {
   "cell_type": "code",
   "execution_count": 55,
   "metadata": {},
   "outputs": [],
   "source": [
    "grid=ensemble.GradientBoostingRegressor(learning_rate=0.1,\n",
    "                              loss='huber',\n",
    "                              max_depth=6,\n",
    "                              max_features=0.8,\n",
    "                              min_samples_leaf=5,\n",
    "                              min_samples_split=3,\n",
    "                              n_estimators=300)"
   ]
  },
  {
   "cell_type": "code",
   "execution_count": 57,
   "metadata": {},
   "outputs": [
    {
     "data": {
      "text/plain": [
       "GradientBoostingRegressor(loss='huber', max_depth=6, max_features=0.8,\n",
       "                          min_samples_leaf=5, min_samples_split=3,\n",
       "                          n_estimators=300)"
      ]
     },
     "execution_count": 57,
     "metadata": {},
     "output_type": "execute_result"
    }
   ],
   "source": [
    "grid.fit(X_train,y_train)"
   ]
  },
  {
   "cell_type": "code",
   "execution_count": 58,
   "metadata": {},
   "outputs": [
    {
     "data": {
      "text/plain": [
       "92.95775139926879"
      ]
     },
     "execution_count": 58,
     "metadata": {},
     "output_type": "execute_result"
    }
   ],
   "source": [
    "grid.score(X_train,y_train)*100"
   ]
  },
  {
   "cell_type": "code",
   "execution_count": 59,
   "metadata": {},
   "outputs": [
    {
     "data": {
      "text/plain": [
       "84.78032711834996"
      ]
     },
     "execution_count": 59,
     "metadata": {},
     "output_type": "execute_result"
    }
   ],
   "source": [
    "grid.score(X_test,y_test)*100"
   ]
  },
  {
   "cell_type": "code",
   "execution_count": 72,
   "metadata": {},
   "outputs": [
    {
     "name": "stdout",
     "output_type": "stream",
     "text": [
      "train_score: 90.57387746929567\n",
      "test_score: 84.97206868666225\n"
     ]
    }
   ],
   "source": [
    "f=ensemble.GradientBoostingRegressor(\n",
    " learning_rate= 0.1,\n",
    " loss= 'huber',\n",
    " max_depth=5,\n",
    " max_features=0.6,\n",
    " min_samples_leaf=5,\n",
    " min_samples_split=3,\n",
    " n_estimators=250\n",
    "    )\n",
    "f.fit(X_train,y_train)\n",
    "f_train=f.score(X_train,y_train)*100\n",
    "f_test=f.score(X_test,y_test)*100\n",
    "print('train_score:',f_train)\n",
    "print('test_score:',f_test)"
   ]
  },
  {
   "cell_type": "code",
   "execution_count": 73,
   "metadata": {},
   "outputs": [
    {
     "data": {
      "text/plain": [
       "['final_model.pkl']"
      ]
     },
     "execution_count": 73,
     "metadata": {},
     "output_type": "execute_result"
    }
   ],
   "source": [
    "import joblib \n",
    "joblib.dump(f,\"final_model.pkl\")"
   ]
  },
  {
   "cell_type": "code",
   "execution_count": 83,
   "metadata": {},
   "outputs": [
    {
     "data": {
      "image/png": "[encoded data removed]",
      "text/plain": [
       "<Figure size 720x576 with 1 Axes>"
      ]
     },
     "metadata": {
      "needs_background": "light"
     },
     "output_type": "display_data"
    }
   ],
   "source": [
    "compare_models=pd.DataFrame(\n",
    "            {\n",
    "             \"train\":{'random_forest_regressor':rf_train,'gradient_boosting_regressor':f_train},\n",
    "             \"test\":{'random_forest_regressor':rf_test,'gradient_boosting_regressor':f_test}})\n",
    "\n",
    "\n",
    "\n",
    "compare_models.plot.bar(figsize=(10,8));"
   ]
  },
  {
   "cell_type": "code",
   "execution_count": null,
   "metadata": {},
   "outputs": [],
   "source": []
  }
 ],
 "metadata": {
  "kernelspec": {
   "display_name": "Python 3",
   "language": "python",
   "name": "python3"
  },
  "language_info": {
   "codemirror_mode": {
    "name": "ipython",
    "version": 3
   },
   "file_extension": ".py",
   "mimetype": "text/x-python",
   "name": "python",
   "nbconvert_exporter": "python",
   "pygments_lexer": "ipython3",
   "version": "3.8.5"
  }
 },
 "nbformat": 4,
 "nbformat_minor": 4
}
