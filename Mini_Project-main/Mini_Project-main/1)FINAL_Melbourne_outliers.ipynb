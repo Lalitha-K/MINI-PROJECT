{
 "cells": [
  {
   "cell_type": "markdown",
   "metadata": {},
   "source": [
    "# 1) Import libraries"
   ]
  },
  {
   "cell_type": "code",
   "execution_count": 1,
   "metadata": {},
   "outputs": [],
   "source": [
    "import pandas as pd\n",
    "import seaborn as sns\n",
    "import matplotlib.pyplot as plt\n",
    "%matplotlib inline\n",
    "from sklearn.model_selection import train_test_split \n",
    "from sklearn.linear_model import LinearRegression\n",
    "from sklearn import metrics\n",
    "from sklearn.ensemble import GradientBoostingRegressor\n",
    "import numpy as np"
   ]
  },
  {
   "cell_type": "markdown",
   "metadata": {},
   "source": [
    "# 2) Importing dataset"
   ]
  },
  {
   "cell_type": "code",
   "execution_count": 2,
   "metadata": {},
   "outputs": [],
   "source": [
    "df=pd.read_csv('Melbourne_housing_FULL.csv')"
   ]
  },
  {
   "cell_type": "code",
   "execution_count": 3,
   "metadata": {},
   "outputs": [
    {
     "data": {
      "text/html": [
       "<div>\n",
       "<style scoped>\n",
       "    .dataframe tbody tr th:only-of-type {\n",
       "        vertical-align: middle;\n",
       "    }\n",
       "\n",
       "    .dataframe tbody tr th {\n",
       "        vertical-align: top;\n",
       "    }\n",
       "\n",
       "    .dataframe thead th {\n",
       "        text-align: right;\n",
       "    }\n",
       "</style>\n",
       "<table border=\"1\" class=\"dataframe\">\n",
       "  <thead>\n",
       "    <tr style=\"text-align: right;\">\n",
       "      <th></th>\n",
       "      <th>Suburb</th>\n",
       "      <th>Address</th>\n",
       "      <th>Rooms</th>\n",
       "      <th>Type</th>\n",
       "      <th>Price</th>\n",
       "      <th>Method</th>\n",
       "      <th>SellerG</th>\n",
       "      <th>Date</th>\n",
       "      <th>Distance</th>\n",
       "      <th>Postcode</th>\n",
       "      <th>...</th>\n",
       "      <th>Bathroom</th>\n",
       "      <th>Car</th>\n",
       "      <th>Landsize</th>\n",
       "      <th>BuildingArea</th>\n",
       "      <th>YearBuilt</th>\n",
       "      <th>CouncilArea</th>\n",
       "      <th>Lattitude</th>\n",
       "      <th>Longtitude</th>\n",
       "      <th>Regionname</th>\n",
       "      <th>Propertycount</th>\n",
       "    </tr>\n",
       "  </thead>\n",
       "  <tbody>\n",
       "    <tr>\n",
       "      <th>0</th>\n",
       "      <td>Abbotsford</td>\n",
       "      <td>68 Studley St</td>\n",
       "      <td>2</td>\n",
       "      <td>h</td>\n",
       "      <td>NaN</td>\n",
       "      <td>SS</td>\n",
       "      <td>Jellis</td>\n",
       "      <td>3/09/2016</td>\n",
       "      <td>2.5</td>\n",
       "      <td>3067.0</td>\n",
       "      <td>...</td>\n",
       "      <td>1.0</td>\n",
       "      <td>1.0</td>\n",
       "      <td>126.0</td>\n",
       "      <td>NaN</td>\n",
       "      <td>NaN</td>\n",
       "      <td>Yarra City Council</td>\n",
       "      <td>-37.8014</td>\n",
       "      <td>144.9958</td>\n",
       "      <td>Northern Metropolitan</td>\n",
       "      <td>4019.0</td>\n",
       "    </tr>\n",
       "    <tr>\n",
       "      <th>1</th>\n",
       "      <td>Abbotsford</td>\n",
       "      <td>85 Turner St</td>\n",
       "      <td>2</td>\n",
       "      <td>h</td>\n",
       "      <td>1480000.0</td>\n",
       "      <td>S</td>\n",
       "      <td>Biggin</td>\n",
       "      <td>3/12/2016</td>\n",
       "      <td>2.5</td>\n",
       "      <td>3067.0</td>\n",
       "      <td>...</td>\n",
       "      <td>1.0</td>\n",
       "      <td>1.0</td>\n",
       "      <td>202.0</td>\n",
       "      <td>NaN</td>\n",
       "      <td>NaN</td>\n",
       "      <td>Yarra City Council</td>\n",
       "      <td>-37.7996</td>\n",
       "      <td>144.9984</td>\n",
       "      <td>Northern Metropolitan</td>\n",
       "      <td>4019.0</td>\n",
       "    </tr>\n",
       "    <tr>\n",
       "      <th>2</th>\n",
       "      <td>Abbotsford</td>\n",
       "      <td>25 Bloomburg St</td>\n",
       "      <td>2</td>\n",
       "      <td>h</td>\n",
       "      <td>1035000.0</td>\n",
       "      <td>S</td>\n",
       "      <td>Biggin</td>\n",
       "      <td>4/02/2016</td>\n",
       "      <td>2.5</td>\n",
       "      <td>3067.0</td>\n",
       "      <td>...</td>\n",
       "      <td>1.0</td>\n",
       "      <td>0.0</td>\n",
       "      <td>156.0</td>\n",
       "      <td>79.0</td>\n",
       "      <td>1900.0</td>\n",
       "      <td>Yarra City Council</td>\n",
       "      <td>-37.8079</td>\n",
       "      <td>144.9934</td>\n",
       "      <td>Northern Metropolitan</td>\n",
       "      <td>4019.0</td>\n",
       "    </tr>\n",
       "    <tr>\n",
       "      <th>3</th>\n",
       "      <td>Abbotsford</td>\n",
       "      <td>18/659 Victoria St</td>\n",
       "      <td>3</td>\n",
       "      <td>u</td>\n",
       "      <td>NaN</td>\n",
       "      <td>VB</td>\n",
       "      <td>Rounds</td>\n",
       "      <td>4/02/2016</td>\n",
       "      <td>2.5</td>\n",
       "      <td>3067.0</td>\n",
       "      <td>...</td>\n",
       "      <td>2.0</td>\n",
       "      <td>1.0</td>\n",
       "      <td>0.0</td>\n",
       "      <td>NaN</td>\n",
       "      <td>NaN</td>\n",
       "      <td>Yarra City Council</td>\n",
       "      <td>-37.8114</td>\n",
       "      <td>145.0116</td>\n",
       "      <td>Northern Metropolitan</td>\n",
       "      <td>4019.0</td>\n",
       "    </tr>\n",
       "    <tr>\n",
       "      <th>4</th>\n",
       "      <td>Abbotsford</td>\n",
       "      <td>5 Charles St</td>\n",
       "      <td>3</td>\n",
       "      <td>h</td>\n",
       "      <td>1465000.0</td>\n",
       "      <td>SP</td>\n",
       "      <td>Biggin</td>\n",
       "      <td>4/03/2017</td>\n",
       "      <td>2.5</td>\n",
       "      <td>3067.0</td>\n",
       "      <td>...</td>\n",
       "      <td>2.0</td>\n",
       "      <td>0.0</td>\n",
       "      <td>134.0</td>\n",
       "      <td>150.0</td>\n",
       "      <td>1900.0</td>\n",
       "      <td>Yarra City Council</td>\n",
       "      <td>-37.8093</td>\n",
       "      <td>144.9944</td>\n",
       "      <td>Northern Metropolitan</td>\n",
       "      <td>4019.0</td>\n",
       "    </tr>\n",
       "  </tbody>\n",
       "</table>\n",
       "<p>5 rows × 21 columns</p>\n",
       "</div>"
      ],
      "text/plain": [
       "       Suburb             Address  Rooms Type      Price Method SellerG  \\\n",
       "0  Abbotsford       68 Studley St      2    h        NaN     SS  Jellis   \n",
       "1  Abbotsford        85 Turner St      2    h  1480000.0      S  Biggin   \n",
       "2  Abbotsford     25 Bloomburg St      2    h  1035000.0      S  Biggin   \n",
       "3  Abbotsford  18/659 Victoria St      3    u        NaN     VB  Rounds   \n",
       "4  Abbotsford        5 Charles St      3    h  1465000.0     SP  Biggin   \n",
       "\n",
       "        Date  Distance  Postcode  ...  Bathroom  Car  Landsize  BuildingArea  \\\n",
       "0  3/09/2016       2.5    3067.0  ...       1.0  1.0     126.0           NaN   \n",
       "1  3/12/2016       2.5    3067.0  ...       1.0  1.0     202.0           NaN   \n",
       "2  4/02/2016       2.5    3067.0  ...       1.0  0.0     156.0          79.0   \n",
       "3  4/02/2016       2.5    3067.0  ...       2.0  1.0       0.0           NaN   \n",
       "4  4/03/2017       2.5    3067.0  ...       2.0  0.0     134.0         150.0   \n",
       "\n",
       "   YearBuilt         CouncilArea Lattitude  Longtitude             Regionname  \\\n",
       "0        NaN  Yarra City Council  -37.8014    144.9958  Northern Metropolitan   \n",
       "1        NaN  Yarra City Council  -37.7996    144.9984  Northern Metropolitan   \n",
       "2     1900.0  Yarra City Council  -37.8079    144.9934  Northern Metropolitan   \n",
       "3        NaN  Yarra City Council  -37.8114    145.0116  Northern Metropolitan   \n",
       "4     1900.0  Yarra City Council  -37.8093    144.9944  Northern Metropolitan   \n",
       "\n",
       "  Propertycount  \n",
       "0        4019.0  \n",
       "1        4019.0  \n",
       "2        4019.0  \n",
       "3        4019.0  \n",
       "4        4019.0  \n",
       "\n",
       "[5 rows x 21 columns]"
      ]
     },
     "execution_count": 3,
     "metadata": {},
     "output_type": "execute_result"
    }
   ],
   "source": [
    "df.head()"
   ]
  },
  {
   "cell_type": "code",
   "execution_count": 4,
   "metadata": {},
   "outputs": [
    {
     "data": {
      "text/plain": [
       "(34857, 21)"
      ]
     },
     "execution_count": 4,
     "metadata": {},
     "output_type": "execute_result"
    }
   ],
   "source": [
    "df.shape"
   ]
  },
  {
   "cell_type": "code",
   "execution_count": 5,
   "metadata": {
    "scrolled": true
   },
   "outputs": [
    {
     "data": {
      "text/html": [
       "<div>\n",
       "<style scoped>\n",
       "    .dataframe tbody tr th:only-of-type {\n",
       "        vertical-align: middle;\n",
       "    }\n",
       "\n",
       "    .dataframe tbody tr th {\n",
       "        vertical-align: top;\n",
       "    }\n",
       "\n",
       "    .dataframe thead th {\n",
       "        text-align: right;\n",
       "    }\n",
       "</style>\n",
       "<table border=\"1\" class=\"dataframe\">\n",
       "  <thead>\n",
       "    <tr style=\"text-align: right;\">\n",
       "      <th></th>\n",
       "      <th>Suburb</th>\n",
       "      <th>Address</th>\n",
       "      <th>Rooms</th>\n",
       "      <th>Type</th>\n",
       "      <th>Price</th>\n",
       "      <th>Method</th>\n",
       "      <th>SellerG</th>\n",
       "      <th>Date</th>\n",
       "      <th>Distance</th>\n",
       "      <th>Postcode</th>\n",
       "      <th>...</th>\n",
       "      <th>Bathroom</th>\n",
       "      <th>Car</th>\n",
       "      <th>Landsize</th>\n",
       "      <th>BuildingArea</th>\n",
       "      <th>YearBuilt</th>\n",
       "      <th>CouncilArea</th>\n",
       "      <th>Lattitude</th>\n",
       "      <th>Longtitude</th>\n",
       "      <th>Regionname</th>\n",
       "      <th>Propertycount</th>\n",
       "    </tr>\n",
       "  </thead>\n",
       "  <tbody>\n",
       "    <tr>\n",
       "      <th>count</th>\n",
       "      <td>34857</td>\n",
       "      <td>34857</td>\n",
       "      <td>34857.000000</td>\n",
       "      <td>34857</td>\n",
       "      <td>2.724700e+04</td>\n",
       "      <td>34857</td>\n",
       "      <td>34857</td>\n",
       "      <td>34857</td>\n",
       "      <td>34856.000000</td>\n",
       "      <td>34856.000000</td>\n",
       "      <td>...</td>\n",
       "      <td>26631.000000</td>\n",
       "      <td>26129.000000</td>\n",
       "      <td>23047.000000</td>\n",
       "      <td>13742.00000</td>\n",
       "      <td>15551.000000</td>\n",
       "      <td>34854</td>\n",
       "      <td>26881.000000</td>\n",
       "      <td>26881.000000</td>\n",
       "      <td>34854</td>\n",
       "      <td>34854.000000</td>\n",
       "    </tr>\n",
       "    <tr>\n",
       "      <th>unique</th>\n",
       "      <td>351</td>\n",
       "      <td>34009</td>\n",
       "      <td>NaN</td>\n",
       "      <td>3</td>\n",
       "      <td>NaN</td>\n",
       "      <td>9</td>\n",
       "      <td>388</td>\n",
       "      <td>78</td>\n",
       "      <td>NaN</td>\n",
       "      <td>NaN</td>\n",
       "      <td>...</td>\n",
       "      <td>NaN</td>\n",
       "      <td>NaN</td>\n",
       "      <td>NaN</td>\n",
       "      <td>NaN</td>\n",
       "      <td>NaN</td>\n",
       "      <td>33</td>\n",
       "      <td>NaN</td>\n",
       "      <td>NaN</td>\n",
       "      <td>8</td>\n",
       "      <td>NaN</td>\n",
       "    </tr>\n",
       "    <tr>\n",
       "      <th>top</th>\n",
       "      <td>Reservoir</td>\n",
       "      <td>5 Charles St</td>\n",
       "      <td>NaN</td>\n",
       "      <td>h</td>\n",
       "      <td>NaN</td>\n",
       "      <td>S</td>\n",
       "      <td>Jellis</td>\n",
       "      <td>28/10/2017</td>\n",
       "      <td>NaN</td>\n",
       "      <td>NaN</td>\n",
       "      <td>...</td>\n",
       "      <td>NaN</td>\n",
       "      <td>NaN</td>\n",
       "      <td>NaN</td>\n",
       "      <td>NaN</td>\n",
       "      <td>NaN</td>\n",
       "      <td>Boroondara City Council</td>\n",
       "      <td>NaN</td>\n",
       "      <td>NaN</td>\n",
       "      <td>Southern Metropolitan</td>\n",
       "      <td>NaN</td>\n",
       "    </tr>\n",
       "    <tr>\n",
       "      <th>freq</th>\n",
       "      <td>844</td>\n",
       "      <td>6</td>\n",
       "      <td>NaN</td>\n",
       "      <td>23980</td>\n",
       "      <td>NaN</td>\n",
       "      <td>19744</td>\n",
       "      <td>3359</td>\n",
       "      <td>1119</td>\n",
       "      <td>NaN</td>\n",
       "      <td>NaN</td>\n",
       "      <td>...</td>\n",
       "      <td>NaN</td>\n",
       "      <td>NaN</td>\n",
       "      <td>NaN</td>\n",
       "      <td>NaN</td>\n",
       "      <td>NaN</td>\n",
       "      <td>3675</td>\n",
       "      <td>NaN</td>\n",
       "      <td>NaN</td>\n",
       "      <td>11836</td>\n",
       "      <td>NaN</td>\n",
       "    </tr>\n",
       "    <tr>\n",
       "      <th>mean</th>\n",
       "      <td>NaN</td>\n",
       "      <td>NaN</td>\n",
       "      <td>3.031012</td>\n",
       "      <td>NaN</td>\n",
       "      <td>1.050173e+06</td>\n",
       "      <td>NaN</td>\n",
       "      <td>NaN</td>\n",
       "      <td>NaN</td>\n",
       "      <td>11.184929</td>\n",
       "      <td>3116.062859</td>\n",
       "      <td>...</td>\n",
       "      <td>1.624798</td>\n",
       "      <td>1.728845</td>\n",
       "      <td>593.598993</td>\n",
       "      <td>160.25640</td>\n",
       "      <td>1965.289885</td>\n",
       "      <td>NaN</td>\n",
       "      <td>-37.810634</td>\n",
       "      <td>145.001851</td>\n",
       "      <td>NaN</td>\n",
       "      <td>7572.888306</td>\n",
       "    </tr>\n",
       "    <tr>\n",
       "      <th>std</th>\n",
       "      <td>NaN</td>\n",
       "      <td>NaN</td>\n",
       "      <td>0.969933</td>\n",
       "      <td>NaN</td>\n",
       "      <td>6.414671e+05</td>\n",
       "      <td>NaN</td>\n",
       "      <td>NaN</td>\n",
       "      <td>NaN</td>\n",
       "      <td>6.788892</td>\n",
       "      <td>109.023903</td>\n",
       "      <td>...</td>\n",
       "      <td>0.724212</td>\n",
       "      <td>1.010771</td>\n",
       "      <td>3398.841946</td>\n",
       "      <td>401.26706</td>\n",
       "      <td>37.328178</td>\n",
       "      <td>NaN</td>\n",
       "      <td>0.090279</td>\n",
       "      <td>0.120169</td>\n",
       "      <td>NaN</td>\n",
       "      <td>4428.090313</td>\n",
       "    </tr>\n",
       "    <tr>\n",
       "      <th>min</th>\n",
       "      <td>NaN</td>\n",
       "      <td>NaN</td>\n",
       "      <td>1.000000</td>\n",
       "      <td>NaN</td>\n",
       "      <td>8.500000e+04</td>\n",
       "      <td>NaN</td>\n",
       "      <td>NaN</td>\n",
       "      <td>NaN</td>\n",
       "      <td>0.000000</td>\n",
       "      <td>3000.000000</td>\n",
       "      <td>...</td>\n",
       "      <td>0.000000</td>\n",
       "      <td>0.000000</td>\n",
       "      <td>0.000000</td>\n",
       "      <td>0.00000</td>\n",
       "      <td>1196.000000</td>\n",
       "      <td>NaN</td>\n",
       "      <td>-38.190430</td>\n",
       "      <td>144.423790</td>\n",
       "      <td>NaN</td>\n",
       "      <td>83.000000</td>\n",
       "    </tr>\n",
       "    <tr>\n",
       "      <th>25%</th>\n",
       "      <td>NaN</td>\n",
       "      <td>NaN</td>\n",
       "      <td>2.000000</td>\n",
       "      <td>NaN</td>\n",
       "      <td>6.350000e+05</td>\n",
       "      <td>NaN</td>\n",
       "      <td>NaN</td>\n",
       "      <td>NaN</td>\n",
       "      <td>6.400000</td>\n",
       "      <td>3051.000000</td>\n",
       "      <td>...</td>\n",
       "      <td>1.000000</td>\n",
       "      <td>1.000000</td>\n",
       "      <td>224.000000</td>\n",
       "      <td>102.00000</td>\n",
       "      <td>1940.000000</td>\n",
       "      <td>NaN</td>\n",
       "      <td>-37.862950</td>\n",
       "      <td>144.933500</td>\n",
       "      <td>NaN</td>\n",
       "      <td>4385.000000</td>\n",
       "    </tr>\n",
       "    <tr>\n",
       "      <th>50%</th>\n",
       "      <td>NaN</td>\n",
       "      <td>NaN</td>\n",
       "      <td>3.000000</td>\n",
       "      <td>NaN</td>\n",
       "      <td>8.700000e+05</td>\n",
       "      <td>NaN</td>\n",
       "      <td>NaN</td>\n",
       "      <td>NaN</td>\n",
       "      <td>10.300000</td>\n",
       "      <td>3103.000000</td>\n",
       "      <td>...</td>\n",
       "      <td>2.000000</td>\n",
       "      <td>2.000000</td>\n",
       "      <td>521.000000</td>\n",
       "      <td>136.00000</td>\n",
       "      <td>1970.000000</td>\n",
       "      <td>NaN</td>\n",
       "      <td>-37.807600</td>\n",
       "      <td>145.007800</td>\n",
       "      <td>NaN</td>\n",
       "      <td>6763.000000</td>\n",
       "    </tr>\n",
       "    <tr>\n",
       "      <th>75%</th>\n",
       "      <td>NaN</td>\n",
       "      <td>NaN</td>\n",
       "      <td>4.000000</td>\n",
       "      <td>NaN</td>\n",
       "      <td>1.295000e+06</td>\n",
       "      <td>NaN</td>\n",
       "      <td>NaN</td>\n",
       "      <td>NaN</td>\n",
       "      <td>14.000000</td>\n",
       "      <td>3156.000000</td>\n",
       "      <td>...</td>\n",
       "      <td>2.000000</td>\n",
       "      <td>2.000000</td>\n",
       "      <td>670.000000</td>\n",
       "      <td>188.00000</td>\n",
       "      <td>2000.000000</td>\n",
       "      <td>NaN</td>\n",
       "      <td>-37.754100</td>\n",
       "      <td>145.071900</td>\n",
       "      <td>NaN</td>\n",
       "      <td>10412.000000</td>\n",
       "    </tr>\n",
       "    <tr>\n",
       "      <th>max</th>\n",
       "      <td>NaN</td>\n",
       "      <td>NaN</td>\n",
       "      <td>16.000000</td>\n",
       "      <td>NaN</td>\n",
       "      <td>1.120000e+07</td>\n",
       "      <td>NaN</td>\n",
       "      <td>NaN</td>\n",
       "      <td>NaN</td>\n",
       "      <td>48.100000</td>\n",
       "      <td>3978.000000</td>\n",
       "      <td>...</td>\n",
       "      <td>12.000000</td>\n",
       "      <td>26.000000</td>\n",
       "      <td>433014.000000</td>\n",
       "      <td>44515.00000</td>\n",
       "      <td>2106.000000</td>\n",
       "      <td>NaN</td>\n",
       "      <td>-37.390200</td>\n",
       "      <td>145.526350</td>\n",
       "      <td>NaN</td>\n",
       "      <td>21650.000000</td>\n",
       "    </tr>\n",
       "  </tbody>\n",
       "</table>\n",
       "<p>11 rows × 21 columns</p>\n",
       "</div>"
      ],
      "text/plain": [
       "           Suburb       Address         Rooms   Type         Price Method  \\\n",
       "count       34857         34857  34857.000000  34857  2.724700e+04  34857   \n",
       "unique        351         34009           NaN      3           NaN      9   \n",
       "top     Reservoir  5 Charles St           NaN      h           NaN      S   \n",
       "freq          844             6           NaN  23980           NaN  19744   \n",
       "mean          NaN           NaN      3.031012    NaN  1.050173e+06    NaN   \n",
       "std           NaN           NaN      0.969933    NaN  6.414671e+05    NaN   \n",
       "min           NaN           NaN      1.000000    NaN  8.500000e+04    NaN   \n",
       "25%           NaN           NaN      2.000000    NaN  6.350000e+05    NaN   \n",
       "50%           NaN           NaN      3.000000    NaN  8.700000e+05    NaN   \n",
       "75%           NaN           NaN      4.000000    NaN  1.295000e+06    NaN   \n",
       "max           NaN           NaN     16.000000    NaN  1.120000e+07    NaN   \n",
       "\n",
       "       SellerG        Date      Distance      Postcode  ...      Bathroom  \\\n",
       "count    34857       34857  34856.000000  34856.000000  ...  26631.000000   \n",
       "unique     388          78           NaN           NaN  ...           NaN   \n",
       "top     Jellis  28/10/2017           NaN           NaN  ...           NaN   \n",
       "freq      3359        1119           NaN           NaN  ...           NaN   \n",
       "mean       NaN         NaN     11.184929   3116.062859  ...      1.624798   \n",
       "std        NaN         NaN      6.788892    109.023903  ...      0.724212   \n",
       "min        NaN         NaN      0.000000   3000.000000  ...      0.000000   \n",
       "25%        NaN         NaN      6.400000   3051.000000  ...      1.000000   \n",
       "50%        NaN         NaN     10.300000   3103.000000  ...      2.000000   \n",
       "75%        NaN         NaN     14.000000   3156.000000  ...      2.000000   \n",
       "max        NaN         NaN     48.100000   3978.000000  ...     12.000000   \n",
       "\n",
       "                 Car       Landsize  BuildingArea     YearBuilt  \\\n",
       "count   26129.000000   23047.000000   13742.00000  15551.000000   \n",
       "unique           NaN            NaN           NaN           NaN   \n",
       "top              NaN            NaN           NaN           NaN   \n",
       "freq             NaN            NaN           NaN           NaN   \n",
       "mean        1.728845     593.598993     160.25640   1965.289885   \n",
       "std         1.010771    3398.841946     401.26706     37.328178   \n",
       "min         0.000000       0.000000       0.00000   1196.000000   \n",
       "25%         1.000000     224.000000     102.00000   1940.000000   \n",
       "50%         2.000000     521.000000     136.00000   1970.000000   \n",
       "75%         2.000000     670.000000     188.00000   2000.000000   \n",
       "max        26.000000  433014.000000   44515.00000   2106.000000   \n",
       "\n",
       "                    CouncilArea     Lattitude    Longtitude  \\\n",
       "count                     34854  26881.000000  26881.000000   \n",
       "unique                       33           NaN           NaN   \n",
       "top     Boroondara City Council           NaN           NaN   \n",
       "freq                       3675           NaN           NaN   \n",
       "mean                        NaN    -37.810634    145.001851   \n",
       "std                         NaN      0.090279      0.120169   \n",
       "min                         NaN    -38.190430    144.423790   \n",
       "25%                         NaN    -37.862950    144.933500   \n",
       "50%                         NaN    -37.807600    145.007800   \n",
       "75%                         NaN    -37.754100    145.071900   \n",
       "max                         NaN    -37.390200    145.526350   \n",
       "\n",
       "                   Regionname Propertycount  \n",
       "count                   34854  34854.000000  \n",
       "unique                      8           NaN  \n",
       "top     Southern Metropolitan           NaN  \n",
       "freq                    11836           NaN  \n",
       "mean                      NaN   7572.888306  \n",
       "std                       NaN   4428.090313  \n",
       "min                       NaN     83.000000  \n",
       "25%                       NaN   4385.000000  \n",
       "50%                       NaN   6763.000000  \n",
       "75%                       NaN  10412.000000  \n",
       "max                       NaN  21650.000000  \n",
       "\n",
       "[11 rows x 21 columns]"
      ]
     },
     "execution_count": 5,
     "metadata": {},
     "output_type": "execute_result"
    }
   ],
   "source": [
    "df.describe(include='all')"
   ]
  },
  {
   "cell_type": "code",
   "execution_count": 6,
   "metadata": {
    "scrolled": true
   },
   "outputs": [
    {
     "name": "stdout",
     "output_type": "stream",
     "text": [
      "<class 'pandas.core.frame.DataFrame'>\n",
      "RangeIndex: 34857 entries, 0 to 34856\n",
      "Data columns (total 21 columns):\n",
      " #   Column         Non-Null Count  Dtype  \n",
      "---  ------         --------------  -----  \n",
      " 0   Suburb         34857 non-null  object \n",
      " 1   Address        34857 non-null  object \n",
      " 2   Rooms          34857 non-null  int64  \n",
      " 3   Type           34857 non-null  object \n",
      " 4   Price          27247 non-null  float64\n",
      " 5   Method         34857 non-null  object \n",
      " 6   SellerG        34857 non-null  object \n",
      " 7   Date           34857 non-null  object \n",
      " 8   Distance       34856 non-null  float64\n",
      " 9   Postcode       34856 non-null  float64\n",
      " 10  Bedroom2       26640 non-null  float64\n",
      " 11  Bathroom       26631 non-null  float64\n",
      " 12  Car            26129 non-null  float64\n",
      " 13  Landsize       23047 non-null  float64\n",
      " 14  BuildingArea   13742 non-null  float64\n",
      " 15  YearBuilt      15551 non-null  float64\n",
      " 16  CouncilArea    34854 non-null  object \n",
      " 17  Lattitude      26881 non-null  float64\n",
      " 18  Longtitude     26881 non-null  float64\n",
      " 19  Regionname     34854 non-null  object \n",
      " 20  Propertycount  34854 non-null  float64\n",
      "dtypes: float64(12), int64(1), object(8)\n",
      "memory usage: 5.6+ MB\n"
     ]
    }
   ],
   "source": [
    "df.info()"
   ]
  },
  {
   "cell_type": "code",
   "execution_count": 7,
   "metadata": {},
   "outputs": [
    {
     "data": {
      "text/plain": [
       "Index(['Suburb', 'Address', 'Rooms', 'Type', 'Price', 'Method', 'SellerG',\n",
       "       'Date', 'Distance', 'Postcode', 'Bedroom2', 'Bathroom', 'Car',\n",
       "       'Landsize', 'BuildingArea', 'YearBuilt', 'CouncilArea', 'Lattitude',\n",
       "       'Longtitude', 'Regionname', 'Propertycount'],\n",
       "      dtype='object')"
      ]
     },
     "execution_count": 7,
     "metadata": {},
     "output_type": "execute_result"
    }
   ],
   "source": [
    "df.columns"
   ]
  },
  {
   "cell_type": "code",
   "execution_count": 8,
   "metadata": {},
   "outputs": [
    {
     "data": {
      "text/plain": [
       "0    3/09/2016\n",
       "1    3/12/2016\n",
       "2    4/02/2016\n",
       "3    4/02/2016\n",
       "4    4/03/2017\n",
       "5    4/03/2017\n",
       "6    4/06/2016\n",
       "7    6/08/2016\n",
       "8    6/08/2016\n",
       "9    6/08/2016\n",
       "Name: Date, dtype: object"
      ]
     },
     "execution_count": 8,
     "metadata": {},
     "output_type": "execute_result"
    }
   ],
   "source": [
    "df.Date[:10]"
   ]
  },
  {
   "cell_type": "code",
   "execution_count": 9,
   "metadata": {},
   "outputs": [],
   "source": [
    "df=pd.read_csv('Melbourne_housing_FULL.csv',parse_dates=['Date'])"
   ]
  },
  {
   "cell_type": "code",
   "execution_count": 10,
   "metadata": {},
   "outputs": [
    {
     "data": {
      "text/plain": [
       "0   2016-03-09\n",
       "1   2016-03-12\n",
       "2   2016-04-02\n",
       "3   2016-04-02\n",
       "4   2017-04-03\n",
       "5   2017-04-03\n",
       "6   2016-04-06\n",
       "7   2016-06-08\n",
       "8   2016-06-08\n",
       "9   2016-06-08\n",
       "Name: Date, dtype: datetime64[ns]"
      ]
     },
     "execution_count": 10,
     "metadata": {},
     "output_type": "execute_result"
    }
   ],
   "source": [
    "df.Date[:10]"
   ]
  },
  {
   "cell_type": "code",
   "execution_count": 11,
   "metadata": {},
   "outputs": [],
   "source": [
    "df['Date']=df.Date.dt.year"
   ]
  },
  {
   "cell_type": "code",
   "execution_count": 12,
   "metadata": {},
   "outputs": [
    {
     "data": {
      "text/plain": [
       "0        2016\n",
       "1        2016\n",
       "2        2016\n",
       "3        2016\n",
       "4        2017\n",
       "         ... \n",
       "34852    2018\n",
       "34853    2018\n",
       "34854    2018\n",
       "34855    2018\n",
       "34856    2018\n",
       "Name: Date, Length: 34857, dtype: int64"
      ]
     },
     "execution_count": 12,
     "metadata": {},
     "output_type": "execute_result"
    }
   ],
   "source": [
    "df['Date']"
   ]
  },
  {
   "cell_type": "markdown",
   "metadata": {},
   "source": [
    "# 3) Remove Variables"
   ]
  },
  {
   "cell_type": "code",
   "execution_count": 13,
   "metadata": {},
   "outputs": [],
   "source": [
    "del df['Address']\n",
    "del df['Method']\n",
    "del df['SellerG']\n",
    "del df['Postcode']\n",
    "del df['Lattitude']\n",
    "del df['Longtitude']\n",
    "del df['Propertycount']"
   ]
  },
  {
   "cell_type": "markdown",
   "metadata": {},
   "source": [
    "# 4) Remove missing Values"
   ]
  },
  {
   "cell_type": "code",
   "execution_count": 14,
   "metadata": {},
   "outputs": [
    {
     "data": {
      "text/plain": [
       "Suburb              0\n",
       "Rooms               0\n",
       "Type                0\n",
       "Price            7610\n",
       "Date                0\n",
       "Distance            1\n",
       "Bedroom2         8217\n",
       "Bathroom         8226\n",
       "Car              8728\n",
       "Landsize        11810\n",
       "BuildingArea    21115\n",
       "YearBuilt       19306\n",
       "CouncilArea         3\n",
       "Regionname          3\n",
       "dtype: int64"
      ]
     },
     "execution_count": 14,
     "metadata": {},
     "output_type": "execute_result"
    }
   ],
   "source": [
    "df.isnull().sum()"
   ]
  },
  {
   "cell_type": "code",
   "execution_count": 15,
   "metadata": {},
   "outputs": [],
   "source": [
    "df_heat=df.corr()"
   ]
  },
  {
   "cell_type": "code",
   "execution_count": 16,
   "metadata": {},
   "outputs": [
    {
     "data": {
      "image/png": "[encoded data removed]",
      "text/plain": [
       "<Figure size 720x432 with 2 Axes>"
      ]
     },
     "metadata": {
      "needs_background": "light"
     },
     "output_type": "display_data"
    }
   ],
   "source": [
    "fig,ax=plt.subplots(figsize=(10,6))\n",
    "sns.heatmap(df_heat,annot=True,cmap='coolwarm');"
   ]
  },
  {
   "cell_type": "code",
   "execution_count": 17,
   "metadata": {},
   "outputs": [
    {
     "data": {
      "text/plain": [
       "Rooms           0.465238\n",
       "Price           1.000000\n",
       "Date           -0.020268\n",
       "Distance       -0.211384\n",
       "Bedroom2        0.430275\n",
       "Bathroom        0.429878\n",
       "Car             0.201803\n",
       "Landsize        0.032748\n",
       "BuildingArea    0.100754\n",
       "YearBuilt      -0.333306\n",
       "dtype: float64"
      ]
     },
     "execution_count": 17,
     "metadata": {},
     "output_type": "execute_result"
    }
   ],
   "source": [
    "df.corrwith(df['Price'])"
   ]
  },
  {
   "cell_type": "code",
   "execution_count": 18,
   "metadata": {},
   "outputs": [
    {
     "data": {
      "text/plain": [
       "Suburb              0\n",
       "Rooms               0\n",
       "Type                0\n",
       "Price            7610\n",
       "Date                0\n",
       "Distance            1\n",
       "Bedroom2         8217\n",
       "Bathroom         8226\n",
       "Car              8728\n",
       "Landsize        11810\n",
       "BuildingArea    21115\n",
       "YearBuilt       19306\n",
       "CouncilArea         3\n",
       "Regionname          3\n",
       "dtype: int64"
      ]
     },
     "execution_count": 18,
     "metadata": {},
     "output_type": "execute_result"
    }
   ],
   "source": [
    "df.isna().sum()"
   ]
  },
  {
   "cell_type": "code",
   "execution_count": 19,
   "metadata": {},
   "outputs": [
    {
     "data": {
      "text/plain": [
       "(34857, 14)"
      ]
     },
     "execution_count": 19,
     "metadata": {},
     "output_type": "execute_result"
    }
   ],
   "source": [
    "df.shape"
   ]
  },
  {
   "cell_type": "code",
   "execution_count": 20,
   "metadata": {},
   "outputs": [
    {
     "data": {
      "text/html": [
       "<div>\n",
       "<style scoped>\n",
       "    .dataframe tbody tr th:only-of-type {\n",
       "        vertical-align: middle;\n",
       "    }\n",
       "\n",
       "    .dataframe tbody tr th {\n",
       "        vertical-align: top;\n",
       "    }\n",
       "\n",
       "    .dataframe thead th {\n",
       "        text-align: right;\n",
       "    }\n",
       "</style>\n",
       "<table border=\"1\" class=\"dataframe\">\n",
       "  <thead>\n",
       "    <tr style=\"text-align: right;\">\n",
       "      <th></th>\n",
       "      <th>num_of_missing_rows</th>\n",
       "      <th>corr_with_Price</th>\n",
       "    </tr>\n",
       "  </thead>\n",
       "  <tbody>\n",
       "    <tr>\n",
       "      <th>Bathroom</th>\n",
       "      <td>8226</td>\n",
       "      <td>0.429878</td>\n",
       "    </tr>\n",
       "    <tr>\n",
       "      <th>Bedroom2</th>\n",
       "      <td>8217</td>\n",
       "      <td>0.430275</td>\n",
       "    </tr>\n",
       "    <tr>\n",
       "      <th>BuildingArea</th>\n",
       "      <td>21115</td>\n",
       "      <td>0.100754</td>\n",
       "    </tr>\n",
       "    <tr>\n",
       "      <th>Car</th>\n",
       "      <td>8728</td>\n",
       "      <td>0.201803</td>\n",
       "    </tr>\n",
       "    <tr>\n",
       "      <th>CouncilArea</th>\n",
       "      <td>3</td>\n",
       "      <td>NaN</td>\n",
       "    </tr>\n",
       "    <tr>\n",
       "      <th>Date</th>\n",
       "      <td>0</td>\n",
       "      <td>-0.020268</td>\n",
       "    </tr>\n",
       "    <tr>\n",
       "      <th>Distance</th>\n",
       "      <td>1</td>\n",
       "      <td>-0.211384</td>\n",
       "    </tr>\n",
       "    <tr>\n",
       "      <th>Landsize</th>\n",
       "      <td>11810</td>\n",
       "      <td>0.032748</td>\n",
       "    </tr>\n",
       "    <tr>\n",
       "      <th>Price</th>\n",
       "      <td>7610</td>\n",
       "      <td>1.000000</td>\n",
       "    </tr>\n",
       "    <tr>\n",
       "      <th>Regionname</th>\n",
       "      <td>3</td>\n",
       "      <td>NaN</td>\n",
       "    </tr>\n",
       "    <tr>\n",
       "      <th>Rooms</th>\n",
       "      <td>0</td>\n",
       "      <td>0.465238</td>\n",
       "    </tr>\n",
       "    <tr>\n",
       "      <th>Suburb</th>\n",
       "      <td>0</td>\n",
       "      <td>NaN</td>\n",
       "    </tr>\n",
       "    <tr>\n",
       "      <th>Type</th>\n",
       "      <td>0</td>\n",
       "      <td>NaN</td>\n",
       "    </tr>\n",
       "    <tr>\n",
       "      <th>YearBuilt</th>\n",
       "      <td>19306</td>\n",
       "      <td>-0.333306</td>\n",
       "    </tr>\n",
       "  </tbody>\n",
       "</table>\n",
       "</div>"
      ],
      "text/plain": [
       "              num_of_missing_rows  corr_with_Price\n",
       "Bathroom                     8226         0.429878\n",
       "Bedroom2                     8217         0.430275\n",
       "BuildingArea                21115         0.100754\n",
       "Car                          8728         0.201803\n",
       "CouncilArea                     3              NaN\n",
       "Date                            0        -0.020268\n",
       "Distance                        1        -0.211384\n",
       "Landsize                    11810         0.032748\n",
       "Price                        7610         1.000000\n",
       "Regionname                      3              NaN\n",
       "Rooms                           0         0.465238\n",
       "Suburb                          0              NaN\n",
       "Type                            0              NaN\n",
       "YearBuilt                   19306        -0.333306"
      ]
     },
     "execution_count": 20,
     "metadata": {},
     "output_type": "execute_result"
    }
   ],
   "source": [
    "pd.DataFrame({'num_of_missing_rows':df.isna().sum(),'corr_with_Price':df.corrwith(df[\"Price\"])})"
   ]
  },
  {
   "cell_type": "markdown",
   "metadata": {},
   "source": [
    "###  Removing rows for variables with small number of missing values(Distance)\n",
    "###  Avoid filling values for variables with high correlation with price(Bedroom2 and Bathroom)\n"
   ]
  },
  {
   "cell_type": "code",
   "execution_count": 21,
   "metadata": {},
   "outputs": [],
   "source": [
    "df.dropna(axis=0,how='any',thresh=None,subset=['Distance','Bedroom2','Bathroom','Price'],inplace=True)"
   ]
  },
  {
   "cell_type": "code",
   "execution_count": 22,
   "metadata": {},
   "outputs": [
    {
     "data": {
      "text/plain": [
       "Suburb              0\n",
       "Rooms               0\n",
       "Type                0\n",
       "Price               0\n",
       "Date                0\n",
       "Distance            0\n",
       "Bedroom2            0\n",
       "Bathroom            0\n",
       "Car               377\n",
       "Landsize         2827\n",
       "BuildingArea    10144\n",
       "YearBuilt        8717\n",
       "CouncilArea         0\n",
       "Regionname          0\n",
       "dtype: int64"
      ]
     },
     "execution_count": 22,
     "metadata": {},
     "output_type": "execute_result"
    }
   ],
   "source": [
    "df.isna().sum()"
   ]
  },
  {
   "cell_type": "markdown",
   "metadata": {},
   "source": [
    "# Filling missing values with mean/median whose correlation with price is less"
   ]
  },
  {
   "cell_type": "code",
   "execution_count": 23,
   "metadata": {},
   "outputs": [],
   "source": [
    "\n",
    "df['Car'].fillna(df['Car'].median(),inplace=True)\n",
    "df['Landsize'].fillna(df['Landsize'].median(),inplace=True)\n",
    "df['YearBuilt'].fillna(df['YearBuilt'].median(),inplace=True)  \n",
    "df['BuildingArea'].fillna(df['BuildingArea'].median(),inplace=True)"
   ]
  },
  {
   "cell_type": "code",
   "execution_count": 24,
   "metadata": {},
   "outputs": [
    {
     "data": {
      "text/plain": [
       "Suburb          0\n",
       "Rooms           0\n",
       "Type            0\n",
       "Price           0\n",
       "Date            0\n",
       "Distance        0\n",
       "Bedroom2        0\n",
       "Bathroom        0\n",
       "Car             0\n",
       "Landsize        0\n",
       "BuildingArea    0\n",
       "YearBuilt       0\n",
       "CouncilArea     0\n",
       "Regionname      0\n",
       "dtype: int64"
      ]
     },
     "execution_count": 24,
     "metadata": {},
     "output_type": "execute_result"
    }
   ],
   "source": [
    "df.isna().sum()"
   ]
  },
  {
   "cell_type": "markdown",
   "metadata": {},
   "source": [
    "### converting categorical values to numeric"
   ]
  },
  {
   "cell_type": "code",
   "execution_count": 25,
   "metadata": {},
   "outputs": [
    {
     "name": "stdout",
     "output_type": "stream",
     "text": [
      "['h' 'u' 't']\n",
      "3\n"
     ]
    }
   ],
   "source": [
    "print(df['Type'].unique())\n",
    "print(df['Type'].nunique())"
   ]
  },
  {
   "cell_type": "code",
   "execution_count": 26,
   "metadata": {},
   "outputs": [
    {
     "data": {
      "text/plain": [
       "h    15728\n",
       "u     3493\n",
       "t     1579\n",
       "Name: Type, dtype: int64"
      ]
     },
     "execution_count": 26,
     "metadata": {},
     "output_type": "execute_result"
    }
   ],
   "source": [
    "df['Type'].value_counts()"
   ]
  },
  {
   "cell_type": "code",
   "execution_count": 27,
   "metadata": {
    "scrolled": true
   },
   "outputs": [
    {
     "data": {
      "image/png": "[encoded data removed]",
      "text/plain": [
       "<Figure size 432x288 with 1 Axes>"
      ]
     },
     "metadata": {
      "needs_background": "light"
     },
     "output_type": "display_data"
    }
   ],
   "source": [
    "sns.countplot(x='Type',data=df);"
   ]
  },
  {
   "cell_type": "code",
   "execution_count": 28,
   "metadata": {},
   "outputs": [],
   "source": [
    "#h- house,cottage,villa, semi,terrace\n",
    "#u- unit, duplex\n",
    "#t- townhouse\n",
    "df['Type']=df['Type'].map({'h':0,'u':1,'t':2})"
   ]
  },
  {
   "cell_type": "code",
   "execution_count": 29,
   "metadata": {},
   "outputs": [
    {
     "data": {
      "text/plain": [
       "array([0, 1, 2], dtype=int64)"
      ]
     },
     "execution_count": 29,
     "metadata": {},
     "output_type": "execute_result"
    }
   ],
   "source": [
    "df['Type'].unique()"
   ]
  },
  {
   "cell_type": "code",
   "execution_count": 30,
   "metadata": {},
   "outputs": [
    {
     "name": "stdout",
     "output_type": "stream",
     "text": [
      "['Yarra City Council' 'Moonee Valley City Council'\n",
      " 'Port Phillip City Council' 'Darebin City Council'\n",
      " 'Hobsons Bay City Council' 'Stonnington City Council'\n",
      " 'Boroondara City Council' 'Monash City Council' 'Glen Eira City Council'\n",
      " 'Whitehorse City Council' 'Maribyrnong City Council'\n",
      " 'Bayside City Council' 'Moreland City Council' 'Manningham City Council'\n",
      " 'Melbourne City Council' 'Banyule City Council' 'Brimbank City Council'\n",
      " 'Kingston City Council' 'Hume City Council' 'Knox City Council'\n",
      " 'Maroondah City Council' 'Casey City Council' 'Melton City Council'\n",
      " 'Greater Dandenong City Council' 'Nillumbik Shire Council'\n",
      " 'Whittlesea City Council' 'Frankston City Council'\n",
      " 'Macedon Ranges Shire Council' 'Yarra Ranges Shire Council'\n",
      " 'Wyndham City Council' 'Cardinia Shire Council' 'Moorabool Shire Council'\n",
      " 'Mitchell Shire Council']\n",
      "33\n"
     ]
    }
   ],
   "source": [
    "#similarly for Council Area\n",
    "print(df['CouncilArea'].unique())\n",
    "print(df['CouncilArea'].nunique())"
   ]
  },
  {
   "cell_type": "code",
   "execution_count": 31,
   "metadata": {},
   "outputs": [
    {
     "data": {
      "text/plain": [
       "Boroondara City Council           1889\n",
       "Darebin City Council              1766\n",
       "Moreland City Council             1338\n",
       "Moonee Valley City Council        1228\n",
       "Glen Eira City Council            1198\n",
       "Banyule City Council              1101\n",
       "Melbourne City Council            1086\n",
       "Brimbank City Council             1073\n",
       "Maribyrnong City Council           986\n",
       "Bayside City Council               968\n",
       "Hume City Council                  853\n",
       "Monash City Council                751\n",
       "Port Phillip City Council          716\n",
       "Yarra City Council                 697\n",
       "Stonnington City Council           659\n",
       "Hobsons Bay City Council           631\n",
       "Manningham City Council            622\n",
       "Whittlesea City Council            584\n",
       "Kingston City Council              522\n",
       "Wyndham City Council               399\n",
       "Whitehorse City Council            353\n",
       "Maroondah City Council             284\n",
       "Knox City Council                  237\n",
       "Melton City Council                199\n",
       "Frankston City Council             192\n",
       "Greater Dandenong City Council     162\n",
       "Casey City Council                 121\n",
       "Nillumbik Shire Council             60\n",
       "Yarra Ranges Shire Council          59\n",
       "Macedon Ranges Shire Council        30\n",
       "Cardinia Shire Council              22\n",
       "Mitchell Shire Council              10\n",
       "Moorabool Shire Council              4\n",
       "Name: CouncilArea, dtype: int64"
      ]
     },
     "execution_count": 31,
     "metadata": {},
     "output_type": "execute_result"
    }
   ],
   "source": [
    "df['CouncilArea'].value_counts()"
   ]
  },
  {
   "cell_type": "code",
   "execution_count": 32,
   "metadata": {},
   "outputs": [],
   "source": [
    "df['CouncilArea']=df['CouncilArea'].map({'Yarra City Council':0,\n",
    "                                         'Moonee Valley City Council':1,\n",
    "                                         'Port Phillip City Council':2,\n",
    "                                         'Darebin City Council':3,\n",
    "                                         'Hobsons Bay City Council':4, \n",
    "                                         'Stonnington City Council':5,\n",
    "                                         'Boroondara City Council':6,\n",
    "                                         'Monash City Council':7,\n",
    "                                         'Glen Eira City Council':8, \n",
    "                                         'Whitehorse City Council':9,\n",
    "                                         'Maribyrnong City Council':10,\n",
    "                                         'Bayside City Council':11,\n",
    "                                         'Moreland City Council':12,\n",
    "                                         'Manningham City Council':13,\n",
    "                                         'Melbourne City Council':14,\n",
    "                                         'Banyule City Council':15,\n",
    "                                         'Brimbank City Council':16,\n",
    "                                         'Kingston City Council':17,\n",
    "                                         'Hume City Council':18,\n",
    "                                         'Knox City Council':19,\n",
    "                                         'Maroondah City Council':20,\n",
    "                                         'Casey City Council':21,\n",
    "                                         'Melton City Council':22,\n",
    "                                         'Greater Dandenong City Council':23,\n",
    "                                         'Nillumbik Shire Council':24,\n",
    "                                         'Cardinia Shire Council':25,\n",
    "                                         'Whittlesea City Council':26,\n",
    "                                         'Frankston City Council':27,\n",
    "                                         'Macedon Ranges Shire Council':28,\n",
    "                                         'Yarra Ranges Shire Council':29,\n",
    "                                         'Wyndham City Council':30,\n",
    "                                         'Moorabool Shire Council':31,\n",
    "                                         'Mitchell Shire Council':32})"
   ]
  },
  {
   "cell_type": "code",
   "execution_count": 33,
   "metadata": {},
   "outputs": [
    {
     "data": {
      "image/png": "[encoded data removed]",
      "text/plain": [
       "<Figure size 720x432 with 1 Axes>"
      ]
     },
     "metadata": {
      "needs_background": "light"
     },
     "output_type": "display_data"
    }
   ],
   "source": [
    "fig,ax=plt.subplots(figsize=(10,6))\n",
    "\n",
    "sns.countplot(x='CouncilArea',data=df);"
   ]
  },
  {
   "cell_type": "code",
   "execution_count": 34,
   "metadata": {},
   "outputs": [
    {
     "data": {
      "text/plain": [
       "array([ 0,  1,  2,  3,  4,  5,  6,  7,  8,  9, 10, 11, 12, 13, 14, 15, 16,\n",
       "       17, 18, 19, 20, 21, 22, 23, 24, 26, 27, 28, 29, 30, 25, 31, 32],\n",
       "      dtype=int64)"
      ]
     },
     "execution_count": 34,
     "metadata": {},
     "output_type": "execute_result"
    }
   ],
   "source": [
    "df['CouncilArea'].unique()"
   ]
  },
  {
   "cell_type": "code",
   "execution_count": 35,
   "metadata": {},
   "outputs": [
    {
     "name": "stdout",
     "output_type": "stream",
     "text": [
      "['Northern Metropolitan' 'Western Metropolitan' 'Southern Metropolitan'\n",
      " 'Eastern Metropolitan' 'South-Eastern Metropolitan' 'Eastern Victoria'\n",
      " 'Northern Victoria' 'Western Victoria']\n",
      "8\n"
     ]
    }
   ],
   "source": [
    "#similarly for Regionname\n",
    "print(df['Regionname'].unique())\n",
    "print(df['Regionname'].nunique())"
   ]
  },
  {
   "cell_type": "code",
   "execution_count": 36,
   "metadata": {},
   "outputs": [
    {
     "data": {
      "text/plain": [
       "Southern Metropolitan         6319\n",
       "Northern Metropolitan         5949\n",
       "Western Metropolitan          4599\n",
       "Eastern Metropolitan          2543\n",
       "South-Eastern Metropolitan    1023\n",
       "Eastern Victoria               140\n",
       "Northern Victoria              140\n",
       "Western Victoria                87\n",
       "Name: Regionname, dtype: int64"
      ]
     },
     "execution_count": 36,
     "metadata": {},
     "output_type": "execute_result"
    }
   ],
   "source": [
    "df['Regionname'].value_counts()"
   ]
  },
  {
   "cell_type": "code",
   "execution_count": 37,
   "metadata": {
    "scrolled": false
   },
   "outputs": [
    {
     "data": {
      "image/png": "[encoded data removed]",
      "text/plain": [
       "<Figure size 1440x432 with 1 Axes>"
      ]
     },
     "metadata": {
      "needs_background": "light"
     },
     "output_type": "display_data"
    }
   ],
   "source": [
    "fig,ax=plt.subplots(figsize=(20,6))\n",
    "\n",
    "sns.countplot(x='Regionname',data=df);"
   ]
  },
  {
   "cell_type": "code",
   "execution_count": 38,
   "metadata": {},
   "outputs": [],
   "source": [
    "df['Regionname']=df['Regionname'].map({'Northern Metropolitan':0,\n",
    "                                       'Western Metropolitan':1,\n",
    "                                       'Southern Metropolitan':2,\n",
    "                                       'Eastern Metropolitan':3,\n",
    "                                       'South-Eastern Metropolitan':4,\n",
    "                                       'Northern Victoria':5,\n",
    "                                       'Eastern Victoria':6,\n",
    "                                       'Western Victoria':7})"
   ]
  },
  {
   "cell_type": "code",
   "execution_count": 39,
   "metadata": {},
   "outputs": [
    {
     "name": "stdout",
     "output_type": "stream",
     "text": [
      "[0 1 2 3 4 6 5 7]\n",
      "8\n"
     ]
    }
   ],
   "source": [
    "print(df['Regionname'].unique())\n",
    "print(df['Regionname'].nunique())"
   ]
  },
  {
   "cell_type": "code",
   "execution_count": 40,
   "metadata": {},
   "outputs": [
    {
     "name": "stdout",
     "output_type": "stream",
     "text": [
      "['Abbotsford' 'Airport West' 'Albert Park' 'Alphington' 'Altona'\n",
      " 'Altona North' 'Armadale' 'Ascot Vale' 'Ashburton' 'Ashwood'\n",
      " 'Avondale Heights' 'Balaclava' 'Balwyn' 'Balwyn North' 'Bentleigh'\n",
      " 'Bentleigh East' 'Box Hill' 'Braybrook' 'Brighton' 'Brighton East'\n",
      " 'Brunswick' 'Brunswick West' 'Bulleen' 'Burwood' 'Camberwell'\n",
      " 'Canterbury' 'Carlton North' 'Carnegie' 'Caulfield' 'Caulfield North'\n",
      " 'Caulfield South' 'Chadstone' 'Clifton Hill' 'Coburg' 'Coburg North'\n",
      " 'Collingwood' 'Doncaster' 'Eaglemont' 'Elsternwick' 'Elwood' 'Essendon'\n",
      " 'Essendon North' 'Fairfield' 'Fitzroy' 'Fitzroy North' 'Flemington'\n",
      " 'Footscray' 'Glen Iris' 'Glenroy' 'Gowanbrae' 'Hadfield' 'Hampton'\n",
      " 'Hampton East' 'Hawthorn' 'Heidelberg Heights' 'Heidelberg West'\n",
      " 'Hughesdale' 'Ivanhoe' 'Kealba' 'Keilor East' 'Kensington' 'Kew'\n",
      " 'Kew East' 'Kooyong' 'Maidstone' 'Malvern' 'Malvern East' 'Maribyrnong'\n",
      " 'Melbourne' 'Middle Park' 'Mont Albert' 'Moonee Ponds' 'Moorabbin'\n",
      " 'Newport' 'Niddrie' 'North Melbourne' 'Northcote' 'Oak Park'\n",
      " 'Oakleigh South' 'Parkville' 'Pascoe Vale' 'Port Melbourne' 'Prahran'\n",
      " 'Preston' 'Reservoir' 'Richmond' 'Rosanna' 'Seddon' 'South Melbourne'\n",
      " 'South Yarra' 'Southbank' 'Spotswood' 'St Kilda' 'Strathmore' 'Sunshine'\n",
      " 'Sunshine North' 'Sunshine West' 'Surrey Hills' 'Templestowe Lower'\n",
      " 'Thornbury' 'Toorak' 'Viewbank' 'Watsonia' 'West Melbourne'\n",
      " 'Williamstown' 'Williamstown North' 'Windsor' 'Yallambie' 'Yarraville'\n",
      " 'Aberfeldie' 'Bellfield' 'Brunswick East' 'Burnley' 'Campbellfield'\n",
      " 'Carlton' 'East Melbourne' 'Essendon West' 'Fawkner' 'Hawthorn East'\n",
      " 'Heidelberg' 'Ivanhoe East' 'Jacana' 'Kingsbury' 'Kingsville'\n",
      " 'Murrumbeena' 'Ormond' 'West Footscray' 'Albion' 'Brooklyn' 'Glen Huntly'\n",
      " 'Oakleigh' 'Ripponlea' 'Cremorne' 'Docklands' 'South Kingsville'\n",
      " 'Strathmore Heights' 'Travancore' 'Caulfield East' 'Seaholme'\n",
      " 'Keilor Park' 'Gardenvale' 'Princes Hill' 'Bayswater' 'Bayswater North'\n",
      " 'Beaumaris' 'Berwick' 'Boronia' 'Briar Hill' 'Broadmeadows' 'Bundoora'\n",
      " 'Burnside Heights' 'Burwood East' 'Cairnlea' 'Caroline Springs'\n",
      " 'Cheltenham' 'Craigieburn' 'Cranbourne' 'Croydon' 'Dandenong'\n",
      " 'Dandenong North' 'Diamond Creek' 'Dingley Village' 'Doncaster East'\n",
      " 'Donvale' 'Doreen' 'Eltham' 'Epping' 'Forest Hill' 'Frankston'\n",
      " 'Frankston North' 'Frankston South' 'Gisborne' 'Gladstone Park'\n",
      " 'Greensborough' 'Hallam' 'Healesville' 'Highett' 'Hillside' 'Huntingdale'\n",
      " 'Keilor Downs' 'Keilor Lodge' 'Keysborough' 'Kings Park' 'Lalor'\n",
      " 'Lower Plenty' 'Melton' 'Mernda' 'Mill Park' 'Mitcham' 'Montmorency'\n",
      " 'Mordialloc' 'Mount Waverley' 'Narre Warren' 'Nunawading' 'Oakleigh East'\n",
      " 'Parkdale' 'Point Cook' 'Ringwood East' 'Rockbank' 'Rowville'\n",
      " 'Sandringham' 'Seaford' 'Skye' 'South Morang' 'Springvale' 'St Albans'\n",
      " 'Sunbury' 'Tarneit' 'Taylors Hill' 'Taylors Lakes' 'The Basin'\n",
      " 'Thomastown' 'Truganina' 'Tullamarine' 'Vermont' 'Wantirna'\n",
      " 'Wantirna South' 'Werribee' 'Westmeadows' 'Williams Landing' 'Wollert'\n",
      " 'Wyndham Vale' 'Altona Meadows' 'Black Rock' 'Blackburn'\n",
      " 'Blackburn North' 'Bonbeach' 'Carrum' 'Chelsea' 'Clayton' 'Doveton'\n",
      " 'Ferntree Gully' 'Glen Waverley' 'Greenvale' 'Heathmont'\n",
      " 'Hoppers Crossing' 'McKinnon' 'Melton South' 'Melton West' 'Mentone'\n",
      " 'Mooroolbark' 'Mulgrave' 'Ringwood' 'Roxburgh Park' 'Seabrook'\n",
      " 'Templestowe' 'Vermont South' 'Warrandyte' 'Watsonia North'\n",
      " 'Wheelers Hill' 'Blackburn South' 'Carrum Downs' 'Clayton South'\n",
      " 'Croydon North' 'Langwarrin' 'Noble Park' 'Notting Hill' 'Ringwood North'\n",
      " 'Sydenham' 'Albanvale' 'Beaconsfield Upper' 'Chelsea Heights' 'Dallas'\n",
      " 'Deer Park' 'Eltham North' 'Keilor' 'Meadow Heights' 'Mount Evelyn'\n",
      " 'North Warrandyte' 'Pakenham' 'Riddells Creek' 'Sandhurst' 'Scoresby'\n",
      " 'Silvan' 'Aspendale' 'Chirnside Park' 'Croydon Hills' 'Croydon South'\n",
      " 'Derrimut' 'Diggers Rest' 'Edithvale' 'Hampton Park' 'Knoxfield'\n",
      " 'St Helena' 'Upwey' 'Bacchus Marsh' 'Coolaroo' 'Cranbourne North'\n",
      " 'Kilsyth' 'Montrose' 'Aspendale Gardens' 'Bullengarook' 'Clarinda'\n",
      " 'Deepdene' 'Delahey' 'Hurstbridge' 'Kurunjang' 'Wonga Park'\n",
      " 'Endeavour Hills' 'Mickleham' 'Officer' 'Waterways' 'Ardeer'\n",
      " 'Beaconsfield' 'Springvale South' 'Yarra Glen' 'Brookfield' 'Emerald'\n",
      " 'Whittlesea' 'Burnside' 'New Gisborne' 'Attwood' 'Patterson Lakes'\n",
      " 'Wallan' 'Laverton' 'Lilydale' 'Plumpton' 'Monbulk' 'Warranwood'\n",
      " 'Wildwood' 'Plenty' 'Eumemmerring' 'Gisborne South' 'Heatherton'\n",
      " 'Lynbrook' 'Research' 'Botanic Ridge' 'Bulla' 'Coldstream' 'Eynesbury'\n",
      " 'Cranbourne West' 'Wattle Glen' 'Ferny Creek' 'Clyde North'\n",
      " 'Wandin North' 'Lysterfield' 'Kalkallo' 'Werribee South']\n",
      "338\n"
     ]
    }
   ],
   "source": [
    "print(df['Suburb'].unique())\n",
    "print(len(df['Suburb'].unique()))\n",
    "dic={}\n",
    "j=0\n",
    "for i in df['Suburb'].unique():\n",
    "    dic[str(i)]=j\n",
    "    j+=1"
   ]
  },
  {
   "cell_type": "code",
   "execution_count": 41,
   "metadata": {},
   "outputs": [
    {
     "data": {
      "text/plain": [
       "{'Abbotsford': 0,\n",
       " 'Airport West': 1,\n",
       " 'Albert Park': 2,\n",
       " 'Alphington': 3,\n",
       " 'Altona': 4,\n",
       " 'Altona North': 5,\n",
       " 'Armadale': 6,\n",
       " 'Ascot Vale': 7,\n",
       " 'Ashburton': 8,\n",
       " 'Ashwood': 9,\n",
       " 'Avondale Heights': 10,\n",
       " 'Balaclava': 11,\n",
       " 'Balwyn': 12,\n",
       " 'Balwyn North': 13,\n",
       " 'Bentleigh': 14,\n",
       " 'Bentleigh East': 15,\n",
       " 'Box Hill': 16,\n",
       " 'Braybrook': 17,\n",
       " 'Brighton': 18,\n",
       " 'Brighton East': 19,\n",
       " 'Brunswick': 20,\n",
       " 'Brunswick West': 21,\n",
       " 'Bulleen': 22,\n",
       " 'Burwood': 23,\n",
       " 'Camberwell': 24,\n",
       " 'Canterbury': 25,\n",
       " 'Carlton North': 26,\n",
       " 'Carnegie': 27,\n",
       " 'Caulfield': 28,\n",
       " 'Caulfield North': 29,\n",
       " 'Caulfield South': 30,\n",
       " 'Chadstone': 31,\n",
       " 'Clifton Hill': 32,\n",
       " 'Coburg': 33,\n",
       " 'Coburg North': 34,\n",
       " 'Collingwood': 35,\n",
       " 'Doncaster': 36,\n",
       " 'Eaglemont': 37,\n",
       " 'Elsternwick': 38,\n",
       " 'Elwood': 39,\n",
       " 'Essendon': 40,\n",
       " 'Essendon North': 41,\n",
       " 'Fairfield': 42,\n",
       " 'Fitzroy': 43,\n",
       " 'Fitzroy North': 44,\n",
       " 'Flemington': 45,\n",
       " 'Footscray': 46,\n",
       " 'Glen Iris': 47,\n",
       " 'Glenroy': 48,\n",
       " 'Gowanbrae': 49,\n",
       " 'Hadfield': 50,\n",
       " 'Hampton': 51,\n",
       " 'Hampton East': 52,\n",
       " 'Hawthorn': 53,\n",
       " 'Heidelberg Heights': 54,\n",
       " 'Heidelberg West': 55,\n",
       " 'Hughesdale': 56,\n",
       " 'Ivanhoe': 57,\n",
       " 'Kealba': 58,\n",
       " 'Keilor East': 59,\n",
       " 'Kensington': 60,\n",
       " 'Kew': 61,\n",
       " 'Kew East': 62,\n",
       " 'Kooyong': 63,\n",
       " 'Maidstone': 64,\n",
       " 'Malvern': 65,\n",
       " 'Malvern East': 66,\n",
       " 'Maribyrnong': 67,\n",
       " 'Melbourne': 68,\n",
       " 'Middle Park': 69,\n",
       " 'Mont Albert': 70,\n",
       " 'Moonee Ponds': 71,\n",
       " 'Moorabbin': 72,\n",
       " 'Newport': 73,\n",
       " 'Niddrie': 74,\n",
       " 'North Melbourne': 75,\n",
       " 'Northcote': 76,\n",
       " 'Oak Park': 77,\n",
       " 'Oakleigh South': 78,\n",
       " 'Parkville': 79,\n",
       " 'Pascoe Vale': 80,\n",
       " 'Port Melbourne': 81,\n",
       " 'Prahran': 82,\n",
       " 'Preston': 83,\n",
       " 'Reservoir': 84,\n",
       " 'Richmond': 85,\n",
       " 'Rosanna': 86,\n",
       " 'Seddon': 87,\n",
       " 'South Melbourne': 88,\n",
       " 'South Yarra': 89,\n",
       " 'Southbank': 90,\n",
       " 'Spotswood': 91,\n",
       " 'St Kilda': 92,\n",
       " 'Strathmore': 93,\n",
       " 'Sunshine': 94,\n",
       " 'Sunshine North': 95,\n",
       " 'Sunshine West': 96,\n",
       " 'Surrey Hills': 97,\n",
       " 'Templestowe Lower': 98,\n",
       " 'Thornbury': 99,\n",
       " 'Toorak': 100,\n",
       " 'Viewbank': 101,\n",
       " 'Watsonia': 102,\n",
       " 'West Melbourne': 103,\n",
       " 'Williamstown': 104,\n",
       " 'Williamstown North': 105,\n",
       " 'Windsor': 106,\n",
       " 'Yallambie': 107,\n",
       " 'Yarraville': 108,\n",
       " 'Aberfeldie': 109,\n",
       " 'Bellfield': 110,\n",
       " 'Brunswick East': 111,\n",
       " 'Burnley': 112,\n",
       " 'Campbellfield': 113,\n",
       " 'Carlton': 114,\n",
       " 'East Melbourne': 115,\n",
       " 'Essendon West': 116,\n",
       " 'Fawkner': 117,\n",
       " 'Hawthorn East': 118,\n",
       " 'Heidelberg': 119,\n",
       " 'Ivanhoe East': 120,\n",
       " 'Jacana': 121,\n",
       " 'Kingsbury': 122,\n",
       " 'Kingsville': 123,\n",
       " 'Murrumbeena': 124,\n",
       " 'Ormond': 125,\n",
       " 'West Footscray': 126,\n",
       " 'Albion': 127,\n",
       " 'Brooklyn': 128,\n",
       " 'Glen Huntly': 129,\n",
       " 'Oakleigh': 130,\n",
       " 'Ripponlea': 131,\n",
       " 'Cremorne': 132,\n",
       " 'Docklands': 133,\n",
       " 'South Kingsville': 134,\n",
       " 'Strathmore Heights': 135,\n",
       " 'Travancore': 136,\n",
       " 'Caulfield East': 137,\n",
       " 'Seaholme': 138,\n",
       " 'Keilor Park': 139,\n",
       " 'Gardenvale': 140,\n",
       " 'Princes Hill': 141,\n",
       " 'Bayswater': 142,\n",
       " 'Bayswater North': 143,\n",
       " 'Beaumaris': 144,\n",
       " 'Berwick': 145,\n",
       " 'Boronia': 146,\n",
       " 'Briar Hill': 147,\n",
       " 'Broadmeadows': 148,\n",
       " 'Bundoora': 149,\n",
       " 'Burnside Heights': 150,\n",
       " 'Burwood East': 151,\n",
       " 'Cairnlea': 152,\n",
       " 'Caroline Springs': 153,\n",
       " 'Cheltenham': 154,\n",
       " 'Craigieburn': 155,\n",
       " 'Cranbourne': 156,\n",
       " 'Croydon': 157,\n",
       " 'Dandenong': 158,\n",
       " 'Dandenong North': 159,\n",
       " 'Diamond Creek': 160,\n",
       " 'Dingley Village': 161,\n",
       " 'Doncaster East': 162,\n",
       " 'Donvale': 163,\n",
       " 'Doreen': 164,\n",
       " 'Eltham': 165,\n",
       " 'Epping': 166,\n",
       " 'Forest Hill': 167,\n",
       " 'Frankston': 168,\n",
       " 'Frankston North': 169,\n",
       " 'Frankston South': 170,\n",
       " 'Gisborne': 171,\n",
       " 'Gladstone Park': 172,\n",
       " 'Greensborough': 173,\n",
       " 'Hallam': 174,\n",
       " 'Healesville': 175,\n",
       " 'Highett': 176,\n",
       " 'Hillside': 177,\n",
       " 'Huntingdale': 178,\n",
       " 'Keilor Downs': 179,\n",
       " 'Keilor Lodge': 180,\n",
       " 'Keysborough': 181,\n",
       " 'Kings Park': 182,\n",
       " 'Lalor': 183,\n",
       " 'Lower Plenty': 184,\n",
       " 'Melton': 185,\n",
       " 'Mernda': 186,\n",
       " 'Mill Park': 187,\n",
       " 'Mitcham': 188,\n",
       " 'Montmorency': 189,\n",
       " 'Mordialloc': 190,\n",
       " 'Mount Waverley': 191,\n",
       " 'Narre Warren': 192,\n",
       " 'Nunawading': 193,\n",
       " 'Oakleigh East': 194,\n",
       " 'Parkdale': 195,\n",
       " 'Point Cook': 196,\n",
       " 'Ringwood East': 197,\n",
       " 'Rockbank': 198,\n",
       " 'Rowville': 199,\n",
       " 'Sandringham': 200,\n",
       " 'Seaford': 201,\n",
       " 'Skye': 202,\n",
       " 'South Morang': 203,\n",
       " 'Springvale': 204,\n",
       " 'St Albans': 205,\n",
       " 'Sunbury': 206,\n",
       " 'Tarneit': 207,\n",
       " 'Taylors Hill': 208,\n",
       " 'Taylors Lakes': 209,\n",
       " 'The Basin': 210,\n",
       " 'Thomastown': 211,\n",
       " 'Truganina': 212,\n",
       " 'Tullamarine': 213,\n",
       " 'Vermont': 214,\n",
       " 'Wantirna': 215,\n",
       " 'Wantirna South': 216,\n",
       " 'Werribee': 217,\n",
       " 'Westmeadows': 218,\n",
       " 'Williams Landing': 219,\n",
       " 'Wollert': 220,\n",
       " 'Wyndham Vale': 221,\n",
       " 'Altona Meadows': 222,\n",
       " 'Black Rock': 223,\n",
       " 'Blackburn': 224,\n",
       " 'Blackburn North': 225,\n",
       " 'Bonbeach': 226,\n",
       " 'Carrum': 227,\n",
       " 'Chelsea': 228,\n",
       " 'Clayton': 229,\n",
       " 'Doveton': 230,\n",
       " 'Ferntree Gully': 231,\n",
       " 'Glen Waverley': 232,\n",
       " 'Greenvale': 233,\n",
       " 'Heathmont': 234,\n",
       " 'Hoppers Crossing': 235,\n",
       " 'McKinnon': 236,\n",
       " 'Melton South': 237,\n",
       " 'Melton West': 238,\n",
       " 'Mentone': 239,\n",
       " 'Mooroolbark': 240,\n",
       " 'Mulgrave': 241,\n",
       " 'Ringwood': 242,\n",
       " 'Roxburgh Park': 243,\n",
       " 'Seabrook': 244,\n",
       " 'Templestowe': 245,\n",
       " 'Vermont South': 246,\n",
       " 'Warrandyte': 247,\n",
       " 'Watsonia North': 248,\n",
       " 'Wheelers Hill': 249,\n",
       " 'Blackburn South': 250,\n",
       " 'Carrum Downs': 251,\n",
       " 'Clayton South': 252,\n",
       " 'Croydon North': 253,\n",
       " 'Langwarrin': 254,\n",
       " 'Noble Park': 255,\n",
       " 'Notting Hill': 256,\n",
       " 'Ringwood North': 257,\n",
       " 'Sydenham': 258,\n",
       " 'Albanvale': 259,\n",
       " 'Beaconsfield Upper': 260,\n",
       " 'Chelsea Heights': 261,\n",
       " 'Dallas': 262,\n",
       " 'Deer Park': 263,\n",
       " 'Eltham North': 264,\n",
       " 'Keilor': 265,\n",
       " 'Meadow Heights': 266,\n",
       " 'Mount Evelyn': 267,\n",
       " 'North Warrandyte': 268,\n",
       " 'Pakenham': 269,\n",
       " 'Riddells Creek': 270,\n",
       " 'Sandhurst': 271,\n",
       " 'Scoresby': 272,\n",
       " 'Silvan': 273,\n",
       " 'Aspendale': 274,\n",
       " 'Chirnside Park': 275,\n",
       " 'Croydon Hills': 276,\n",
       " 'Croydon South': 277,\n",
       " 'Derrimut': 278,\n",
       " 'Diggers Rest': 279,\n",
       " 'Edithvale': 280,\n",
       " 'Hampton Park': 281,\n",
       " 'Knoxfield': 282,\n",
       " 'St Helena': 283,\n",
       " 'Upwey': 284,\n",
       " 'Bacchus Marsh': 285,\n",
       " 'Coolaroo': 286,\n",
       " 'Cranbourne North': 287,\n",
       " 'Kilsyth': 288,\n",
       " 'Montrose': 289,\n",
       " 'Aspendale Gardens': 290,\n",
       " 'Bullengarook': 291,\n",
       " 'Clarinda': 292,\n",
       " 'Deepdene': 293,\n",
       " 'Delahey': 294,\n",
       " 'Hurstbridge': 295,\n",
       " 'Kurunjang': 296,\n",
       " 'Wonga Park': 297,\n",
       " 'Endeavour Hills': 298,\n",
       " 'Mickleham': 299,\n",
       " 'Officer': 300,\n",
       " 'Waterways': 301,\n",
       " 'Ardeer': 302,\n",
       " 'Beaconsfield': 303,\n",
       " 'Springvale South': 304,\n",
       " 'Yarra Glen': 305,\n",
       " 'Brookfield': 306,\n",
       " 'Emerald': 307,\n",
       " 'Whittlesea': 308,\n",
       " 'Burnside': 309,\n",
       " 'New Gisborne': 310,\n",
       " 'Attwood': 311,\n",
       " 'Patterson Lakes': 312,\n",
       " 'Wallan': 313,\n",
       " 'Laverton': 314,\n",
       " 'Lilydale': 315,\n",
       " 'Plumpton': 316,\n",
       " 'Monbulk': 317,\n",
       " 'Warranwood': 318,\n",
       " 'Wildwood': 319,\n",
       " 'Plenty': 320,\n",
       " 'Eumemmerring': 321,\n",
       " 'Gisborne South': 322,\n",
       " 'Heatherton': 323,\n",
       " 'Lynbrook': 324,\n",
       " 'Research': 325,\n",
       " 'Botanic Ridge': 326,\n",
       " 'Bulla': 327,\n",
       " 'Coldstream': 328,\n",
       " 'Eynesbury': 329,\n",
       " 'Cranbourne West': 330,\n",
       " 'Wattle Glen': 331,\n",
       " 'Ferny Creek': 332,\n",
       " 'Clyde North': 333,\n",
       " 'Wandin North': 334,\n",
       " 'Lysterfield': 335,\n",
       " 'Kalkallo': 336,\n",
       " 'Werribee South': 337}"
      ]
     },
     "execution_count": 41,
     "metadata": {},
     "output_type": "execute_result"
    }
   ],
   "source": [
    "dic"
   ]
  },
  {
   "cell_type": "code",
   "execution_count": 42,
   "metadata": {},
   "outputs": [],
   "source": [
    "df['Suburb']=df['Suburb'].map(dic)"
   ]
  },
  {
   "cell_type": "code",
   "execution_count": 43,
   "metadata": {
    "scrolled": true
   },
   "outputs": [
    {
     "data": {
      "text/html": [
       "<style  type=\"text/css\" >\n",
       "#T_cd43b2c5_d0e5_11eb_9ce1_80e82cc004bdrow0_col0,#T_cd43b2c5_d0e5_11eb_9ce1_80e82cc004bdrow1_col1,#T_cd43b2c5_d0e5_11eb_9ce1_80e82cc004bdrow2_col2,#T_cd43b2c5_d0e5_11eb_9ce1_80e82cc004bdrow3_col3,#T_cd43b2c5_d0e5_11eb_9ce1_80e82cc004bdrow4_col4,#T_cd43b2c5_d0e5_11eb_9ce1_80e82cc004bdrow5_col5,#T_cd43b2c5_d0e5_11eb_9ce1_80e82cc004bdrow6_col6,#T_cd43b2c5_d0e5_11eb_9ce1_80e82cc004bdrow7_col7,#T_cd43b2c5_d0e5_11eb_9ce1_80e82cc004bdrow8_col8,#T_cd43b2c5_d0e5_11eb_9ce1_80e82cc004bdrow9_col9,#T_cd43b2c5_d0e5_11eb_9ce1_80e82cc004bdrow10_col10,#T_cd43b2c5_d0e5_11eb_9ce1_80e82cc004bdrow11_col11,#T_cd43b2c5_d0e5_11eb_9ce1_80e82cc004bdrow12_col12,#T_cd43b2c5_d0e5_11eb_9ce1_80e82cc004bdrow13_col13{\n",
       "            background-color:  #000000;\n",
       "            color:  #f1f1f1;\n",
       "        }#T_cd43b2c5_d0e5_11eb_9ce1_80e82cc004bdrow0_col1,#T_cd43b2c5_d0e5_11eb_9ce1_80e82cc004bdrow0_col6,#T_cd43b2c5_d0e5_11eb_9ce1_80e82cc004bdrow5_col11{\n",
       "            background-color:  #8eac56;\n",
       "            color:  #000000;\n",
       "        }#T_cd43b2c5_d0e5_11eb_9ce1_80e82cc004bdrow0_col2,#T_cd43b2c5_d0e5_11eb_9ce1_80e82cc004bdrow3_col4{\n",
       "            background-color:  #d3af8f;\n",
       "            color:  #000000;\n",
       "        }#T_cd43b2c5_d0e5_11eb_9ce1_80e82cc004bdrow0_col3{\n",
       "            background-color:  #f6eae9;\n",
       "            color:  #000000;\n",
       "        }#T_cd43b2c5_d0e5_11eb_9ce1_80e82cc004bdrow0_col4,#T_cd43b2c5_d0e5_11eb_9ce1_80e82cc004bdrow2_col11,#T_cd43b2c5_d0e5_11eb_9ce1_80e82cc004bdrow4_col12,#T_cd43b2c5_d0e5_11eb_9ce1_80e82cc004bdrow13_col0{\n",
       "            background-color:  #84a954;\n",
       "            color:  #000000;\n",
       "        }#T_cd43b2c5_d0e5_11eb_9ce1_80e82cc004bdrow0_col5{\n",
       "            background-color:  #308080;\n",
       "            color:  #000000;\n",
       "        }#T_cd43b2c5_d0e5_11eb_9ce1_80e82cc004bdrow0_col7,#T_cd43b2c5_d0e5_11eb_9ce1_80e82cc004bdrow9_col4{\n",
       "            background-color:  #d4b091;\n",
       "            color:  #000000;\n",
       "        }#T_cd43b2c5_d0e5_11eb_9ce1_80e82cc004bdrow0_col8,#T_cd43b2c5_d0e5_11eb_9ce1_80e82cc004bdrow10_col3,#T_cd43b2c5_d0e5_11eb_9ce1_80e82cc004bdrow12_col8{\n",
       "            background-color:  #b9b260;\n",
       "            color:  #000000;\n",
       "        }#T_cd43b2c5_d0e5_11eb_9ce1_80e82cc004bdrow0_col9,#T_cd43b2c5_d0e5_11eb_9ce1_80e82cc004bdrow1_col9,#T_cd43b2c5_d0e5_11eb_9ce1_80e82cc004bdrow3_col9,#T_cd43b2c5_d0e5_11eb_9ce1_80e82cc004bdrow6_col9,#T_cd43b2c5_d0e5_11eb_9ce1_80e82cc004bdrow13_col9{\n",
       "            background-color:  #edd5d1;\n",
       "            color:  #000000;\n",
       "        }#T_cd43b2c5_d0e5_11eb_9ce1_80e82cc004bdrow0_col10,#T_cd43b2c5_d0e5_11eb_9ce1_80e82cc004bdrow7_col9,#T_cd43b2c5_d0e5_11eb_9ce1_80e82cc004bdrow9_col13,#T_cd43b2c5_d0e5_11eb_9ce1_80e82cc004bdrow12_col10{\n",
       "            background-color:  #ecd3ce;\n",
       "            color:  #000000;\n",
       "        }#T_cd43b2c5_d0e5_11eb_9ce1_80e82cc004bdrow0_col11,#T_cd43b2c5_d0e5_11eb_9ce1_80e82cc004bdrow12_col4{\n",
       "            background-color:  #a0b15a;\n",
       "            color:  #000000;\n",
       "        }#T_cd43b2c5_d0e5_11eb_9ce1_80e82cc004bdrow0_col12{\n",
       "            background-color:  #348576;\n",
       "            color:  #000000;\n",
       "        }#T_cd43b2c5_d0e5_11eb_9ce1_80e82cc004bdrow0_col13{\n",
       "            background-color:  #b7b75e;\n",
       "            color:  #000000;\n",
       "        }#T_cd43b2c5_d0e5_11eb_9ce1_80e82cc004bdrow1_col0,#T_cd43b2c5_d0e5_11eb_9ce1_80e82cc004bdrow10_col1{\n",
       "            background-color:  #a7b25b;\n",
       "            color:  #000000;\n",
       "        }#T_cd43b2c5_d0e5_11eb_9ce1_80e82cc004bdrow1_col2,#T_cd43b2c5_d0e5_11eb_9ce1_80e82cc004bdrow2_col1,#T_cd43b2c5_d0e5_11eb_9ce1_80e82cc004bdrow2_col4,#T_cd43b2c5_d0e5_11eb_9ce1_80e82cc004bdrow2_col6,#T_cd43b2c5_d0e5_11eb_9ce1_80e82cc004bdrow2_col7,#T_cd43b2c5_d0e5_11eb_9ce1_80e82cc004bdrow2_col8,#T_cd43b2c5_d0e5_11eb_9ce1_80e82cc004bdrow2_col9,#T_cd43b2c5_d0e5_11eb_9ce1_80e82cc004bdrow2_col10,#T_cd43b2c5_d0e5_11eb_9ce1_80e82cc004bdrow2_col13,#T_cd43b2c5_d0e5_11eb_9ce1_80e82cc004bdrow3_col0,#T_cd43b2c5_d0e5_11eb_9ce1_80e82cc004bdrow3_col5,#T_cd43b2c5_d0e5_11eb_9ce1_80e82cc004bdrow3_col11,#T_cd43b2c5_d0e5_11eb_9ce1_80e82cc004bdrow3_col12,#T_cd43b2c5_d0e5_11eb_9ce1_80e82cc004bdrow12_col3{\n",
       "            background-color:  #fdfbfb;\n",
       "            color:  #000000;\n",
       "        }#T_cd43b2c5_d0e5_11eb_9ce1_80e82cc004bdrow1_col3{\n",
       "            background-color:  #429651;\n",
       "            color:  #000000;\n",
       "        }#T_cd43b2c5_d0e5_11eb_9ce1_80e82cc004bdrow1_col4,#T_cd43b2c5_d0e5_11eb_9ce1_80e82cc004bdrow4_col8{\n",
       "            background-color:  #b9b360;\n",
       "            color:  #000000;\n",
       "        }#T_cd43b2c5_d0e5_11eb_9ce1_80e82cc004bdrow1_col5,#T_cd43b2c5_d0e5_11eb_9ce1_80e82cc004bdrow7_col8{\n",
       "            background-color:  #87aa55;\n",
       "            color:  #000000;\n",
       "        }#T_cd43b2c5_d0e5_11eb_9ce1_80e82cc004bdrow1_col6,#T_cd43b2c5_d0e5_11eb_9ce1_80e82cc004bdrow6_col1{\n",
       "            background-color:  #05006e;\n",
       "            color:  #f1f1f1;\n",
       "        }#T_cd43b2c5_d0e5_11eb_9ce1_80e82cc004bdrow1_col7{\n",
       "            background-color:  #3a8c66;\n",
       "            color:  #000000;\n",
       "        }#T_cd43b2c5_d0e5_11eb_9ce1_80e82cc004bdrow1_col8,#T_cd43b2c5_d0e5_11eb_9ce1_80e82cc004bdrow6_col8{\n",
       "            background-color:  #62a14c;\n",
       "            color:  #000000;\n",
       "        }#T_cd43b2c5_d0e5_11eb_9ce1_80e82cc004bdrow1_col10,#T_cd43b2c5_d0e5_11eb_9ce1_80e82cc004bdrow5_col2,#T_cd43b2c5_d0e5_11eb_9ce1_80e82cc004bdrow8_col13{\n",
       "            background-color:  #d7b298;\n",
       "            color:  #000000;\n",
       "        }#T_cd43b2c5_d0e5_11eb_9ce1_80e82cc004bdrow1_col11{\n",
       "            background-color:  #c3a46c;\n",
       "            color:  #000000;\n",
       "        }#T_cd43b2c5_d0e5_11eb_9ce1_80e82cc004bdrow1_col12,#T_cd43b2c5_d0e5_11eb_9ce1_80e82cc004bdrow6_col0,#T_cd43b2c5_d0e5_11eb_9ce1_80e82cc004bdrow11_col0{\n",
       "            background-color:  #a3b25a;\n",
       "            color:  #000000;\n",
       "        }#T_cd43b2c5_d0e5_11eb_9ce1_80e82cc004bdrow1_col13,#T_cd43b2c5_d0e5_11eb_9ce1_80e82cc004bdrow6_col13,#T_cd43b2c5_d0e5_11eb_9ce1_80e82cc004bdrow7_col13{\n",
       "            background-color:  #caa87b;\n",
       "            color:  #000000;\n",
       "        }#T_cd43b2c5_d0e5_11eb_9ce1_80e82cc004bdrow2_col0,#T_cd43b2c5_d0e5_11eb_9ce1_80e82cc004bdrow10_col13{\n",
       "            background-color:  #eacfc8;\n",
       "            color:  #000000;\n",
       "        }#T_cd43b2c5_d0e5_11eb_9ce1_80e82cc004bdrow2_col3,#T_cd43b2c5_d0e5_11eb_9ce1_80e82cc004bdrow11_col3{\n",
       "            background-color:  #f9efef;\n",
       "            color:  #000000;\n",
       "        }#T_cd43b2c5_d0e5_11eb_9ce1_80e82cc004bdrow2_col5,#T_cd43b2c5_d0e5_11eb_9ce1_80e82cc004bdrow11_col10{\n",
       "            background-color:  #f1dcda;\n",
       "            color:  #000000;\n",
       "        }#T_cd43b2c5_d0e5_11eb_9ce1_80e82cc004bdrow2_col12,#T_cd43b2c5_d0e5_11eb_9ce1_80e82cc004bdrow3_col10{\n",
       "            background-color:  #dfbcaa;\n",
       "            color:  #000000;\n",
       "        }#T_cd43b2c5_d0e5_11eb_9ce1_80e82cc004bdrow3_col1{\n",
       "            background-color:  #3f9258;\n",
       "            color:  #000000;\n",
       "        }#T_cd43b2c5_d0e5_11eb_9ce1_80e82cc004bdrow3_col2{\n",
       "            background-color:  #e7c9bf;\n",
       "            color:  #000000;\n",
       "        }#T_cd43b2c5_d0e5_11eb_9ce1_80e82cc004bdrow3_col6{\n",
       "            background-color:  #409455;\n",
       "            color:  #000000;\n",
       "        }#T_cd43b2c5_d0e5_11eb_9ce1_80e82cc004bdrow3_col7{\n",
       "            background-color:  #6fa450;\n",
       "            color:  #000000;\n",
       "        }#T_cd43b2c5_d0e5_11eb_9ce1_80e82cc004bdrow3_col8,#T_cd43b2c5_d0e5_11eb_9ce1_80e82cc004bdrow8_col12{\n",
       "            background-color:  #abb45c;\n",
       "            color:  #000000;\n",
       "        }#T_cd43b2c5_d0e5_11eb_9ce1_80e82cc004bdrow3_col13,#T_cd43b2c5_d0e5_11eb_9ce1_80e82cc004bdrow4_col2,#T_cd43b2c5_d0e5_11eb_9ce1_80e82cc004bdrow10_col7{\n",
       "            background-color:  #d0ad8a;\n",
       "            color:  #000000;\n",
       "        }#T_cd43b2c5_d0e5_11eb_9ce1_80e82cc004bdrow4_col0,#T_cd43b2c5_d0e5_11eb_9ce1_80e82cc004bdrow5_col6,#T_cd43b2c5_d0e5_11eb_9ce1_80e82cc004bdrow11_col2{\n",
       "            background-color:  #6da44f;\n",
       "            color:  #000000;\n",
       "        }#T_cd43b2c5_d0e5_11eb_9ce1_80e82cc004bdrow4_col1{\n",
       "            background-color:  #8fac56;\n",
       "            color:  #000000;\n",
       "        }#T_cd43b2c5_d0e5_11eb_9ce1_80e82cc004bdrow4_col3,#T_cd43b2c5_d0e5_11eb_9ce1_80e82cc004bdrow9_col12,#T_cd43b2c5_d0e5_11eb_9ce1_80e82cc004bdrow10_col2,#T_cd43b2c5_d0e5_11eb_9ce1_80e82cc004bdrow10_col12{\n",
       "            background-color:  #bea963;\n",
       "            color:  #000000;\n",
       "        }#T_cd43b2c5_d0e5_11eb_9ce1_80e82cc004bdrow4_col5{\n",
       "            background-color:  #89ab55;\n",
       "            color:  #000000;\n",
       "        }#T_cd43b2c5_d0e5_11eb_9ce1_80e82cc004bdrow4_col6{\n",
       "            background-color:  #8cab56;\n",
       "            color:  #000000;\n",
       "        }#T_cd43b2c5_d0e5_11eb_9ce1_80e82cc004bdrow4_col7{\n",
       "            background-color:  #d1ae8c;\n",
       "            color:  #000000;\n",
       "        }#T_cd43b2c5_d0e5_11eb_9ce1_80e82cc004bdrow4_col9,#T_cd43b2c5_d0e5_11eb_9ce1_80e82cc004bdrow4_col10,#T_cd43b2c5_d0e5_11eb_9ce1_80e82cc004bdrow12_col9{\n",
       "            background-color:  #f0dad7;\n",
       "            color:  #000000;\n",
       "        }#T_cd43b2c5_d0e5_11eb_9ce1_80e82cc004bdrow4_col11,#T_cd43b2c5_d0e5_11eb_9ce1_80e82cc004bdrow7_col12{\n",
       "            background-color:  #bab061;\n",
       "            color:  #000000;\n",
       "        }#T_cd43b2c5_d0e5_11eb_9ce1_80e82cc004bdrow4_col13,#T_cd43b2c5_d0e5_11eb_9ce1_80e82cc004bdrow8_col2,#T_cd43b2c5_d0e5_11eb_9ce1_80e82cc004bdrow12_col7{\n",
       "            background-color:  #d9b59d;\n",
       "            color:  #000000;\n",
       "        }#T_cd43b2c5_d0e5_11eb_9ce1_80e82cc004bdrow5_col0{\n",
       "            background-color:  #2f7e7f;\n",
       "            color:  #000000;\n",
       "        }#T_cd43b2c5_d0e5_11eb_9ce1_80e82cc004bdrow5_col1{\n",
       "            background-color:  #6ba44f;\n",
       "            color:  #000000;\n",
       "        }#T_cd43b2c5_d0e5_11eb_9ce1_80e82cc004bdrow5_col3{\n",
       "            background-color:  #f3e1e0;\n",
       "            color:  #000000;\n",
       "        }#T_cd43b2c5_d0e5_11eb_9ce1_80e82cc004bdrow5_col4{\n",
       "            background-color:  #9baf59;\n",
       "            color:  #000000;\n",
       "        }#T_cd43b2c5_d0e5_11eb_9ce1_80e82cc004bdrow5_col7{\n",
       "            background-color:  #c5a571;\n",
       "            color:  #000000;\n",
       "        }#T_cd43b2c5_d0e5_11eb_9ce1_80e82cc004bdrow5_col8{\n",
       "            background-color:  #9eb059;\n",
       "            color:  #000000;\n",
       "        }#T_cd43b2c5_d0e5_11eb_9ce1_80e82cc004bdrow5_col9,#T_cd43b2c5_d0e5_11eb_9ce1_80e82cc004bdrow13_col10{\n",
       "            background-color:  #e9cdc5;\n",
       "            color:  #000000;\n",
       "        }#T_cd43b2c5_d0e5_11eb_9ce1_80e82cc004bdrow5_col10{\n",
       "            background-color:  #e3c3b6;\n",
       "            color:  #000000;\n",
       "        }#T_cd43b2c5_d0e5_11eb_9ce1_80e82cc004bdrow5_col12{\n",
       "            background-color:  #2d787f;\n",
       "            color:  #000000;\n",
       "        }#T_cd43b2c5_d0e5_11eb_9ce1_80e82cc004bdrow5_col13{\n",
       "            background-color:  #599f4a;\n",
       "            color:  #000000;\n",
       "        }#T_cd43b2c5_d0e5_11eb_9ce1_80e82cc004bdrow6_col2{\n",
       "            background-color:  #fcf8f8;\n",
       "            color:  #000000;\n",
       "        }#T_cd43b2c5_d0e5_11eb_9ce1_80e82cc004bdrow6_col3,#T_cd43b2c5_d0e5_11eb_9ce1_80e82cc004bdrow7_col3{\n",
       "            background-color:  #43984d;\n",
       "            color:  #000000;\n",
       "        }#T_cd43b2c5_d0e5_11eb_9ce1_80e82cc004bdrow6_col4{\n",
       "            background-color:  #b8b55f;\n",
       "            color:  #000000;\n",
       "        }#T_cd43b2c5_d0e5_11eb_9ce1_80e82cc004bdrow6_col5{\n",
       "            background-color:  #86aa55;\n",
       "            color:  #000000;\n",
       "        }#T_cd43b2c5_d0e5_11eb_9ce1_80e82cc004bdrow6_col7{\n",
       "            background-color:  #3a8d65;\n",
       "            color:  #000000;\n",
       "        }#T_cd43b2c5_d0e5_11eb_9ce1_80e82cc004bdrow6_col10,#T_cd43b2c5_d0e5_11eb_9ce1_80e82cc004bdrow7_col10{\n",
       "            background-color:  #d8b49b;\n",
       "            color:  #000000;\n",
       "        }#T_cd43b2c5_d0e5_11eb_9ce1_80e82cc004bdrow6_col11,#T_cd43b2c5_d0e5_11eb_9ce1_80e82cc004bdrow13_col7{\n",
       "            background-color:  #c2a46a;\n",
       "            color:  #000000;\n",
       "        }#T_cd43b2c5_d0e5_11eb_9ce1_80e82cc004bdrow6_col12{\n",
       "            background-color:  #a2b15a;\n",
       "            color:  #000000;\n",
       "        }#T_cd43b2c5_d0e5_11eb_9ce1_80e82cc004bdrow7_col0,#T_cd43b2c5_d0e5_11eb_9ce1_80e82cc004bdrow11_col1,#T_cd43b2c5_d0e5_11eb_9ce1_80e82cc004bdrow11_col6{\n",
       "            background-color:  #bbaf61;\n",
       "            color:  #000000;\n",
       "        }#T_cd43b2c5_d0e5_11eb_9ce1_80e82cc004bdrow7_col1{\n",
       "            background-color:  #30817e;\n",
       "            color:  #000000;\n",
       "        }#T_cd43b2c5_d0e5_11eb_9ce1_80e82cc004bdrow7_col2,#T_cd43b2c5_d0e5_11eb_9ce1_80e82cc004bdrow10_col8,#T_cd43b2c5_d0e5_11eb_9ce1_80e82cc004bdrow10_col11{\n",
       "            background-color:  #c0a465;\n",
       "            color:  #000000;\n",
       "        }#T_cd43b2c5_d0e5_11eb_9ce1_80e82cc004bdrow7_col4,#T_cd43b2c5_d0e5_11eb_9ce1_80e82cc004bdrow9_col11,#T_cd43b2c5_d0e5_11eb_9ce1_80e82cc004bdrow13_col4{\n",
       "            background-color:  #c1a367;\n",
       "            color:  #000000;\n",
       "        }#T_cd43b2c5_d0e5_11eb_9ce1_80e82cc004bdrow7_col5{\n",
       "            background-color:  #b5b65e;\n",
       "            color:  #000000;\n",
       "        }#T_cd43b2c5_d0e5_11eb_9ce1_80e82cc004bdrow7_col6{\n",
       "            background-color:  #31817d;\n",
       "            color:  #000000;\n",
       "        }#T_cd43b2c5_d0e5_11eb_9ce1_80e82cc004bdrow7_col11,#T_cd43b2c5_d0e5_11eb_9ce1_80e82cc004bdrow8_col0{\n",
       "            background-color:  #b2b65d;\n",
       "            color:  #000000;\n",
       "        }#T_cd43b2c5_d0e5_11eb_9ce1_80e82cc004bdrow8_col1,#T_cd43b2c5_d0e5_11eb_9ce1_80e82cc004bdrow8_col6{\n",
       "            background-color:  #44984c;\n",
       "            color:  #000000;\n",
       "        }#T_cd43b2c5_d0e5_11eb_9ce1_80e82cc004bdrow8_col3,#T_cd43b2c5_d0e5_11eb_9ce1_80e82cc004bdrow12_col11,#T_cd43b2c5_d0e5_11eb_9ce1_80e82cc004bdrow13_col6{\n",
       "            background-color:  #98af58;\n",
       "            color:  #000000;\n",
       "        }#T_cd43b2c5_d0e5_11eb_9ce1_80e82cc004bdrow8_col4,#T_cd43b2c5_d0e5_11eb_9ce1_80e82cc004bdrow13_col8{\n",
       "            background-color:  #bcac62;\n",
       "            color:  #000000;\n",
       "        }#T_cd43b2c5_d0e5_11eb_9ce1_80e82cc004bdrow8_col5,#T_cd43b2c5_d0e5_11eb_9ce1_80e82cc004bdrow11_col12{\n",
       "            background-color:  #94ae57;\n",
       "            color:  #000000;\n",
       "        }#T_cd43b2c5_d0e5_11eb_9ce1_80e82cc004bdrow8_col7{\n",
       "            background-color:  #a5b25b;\n",
       "            color:  #000000;\n",
       "        }#T_cd43b2c5_d0e5_11eb_9ce1_80e82cc004bdrow8_col9{\n",
       "            background-color:  #eed8d4;\n",
       "            color:  #000000;\n",
       "        }#T_cd43b2c5_d0e5_11eb_9ce1_80e82cc004bdrow8_col10,#T_cd43b2c5_d0e5_11eb_9ce1_80e82cc004bdrow9_col7{\n",
       "            background-color:  #e1bfb0;\n",
       "            color:  #000000;\n",
       "        }#T_cd43b2c5_d0e5_11eb_9ce1_80e82cc004bdrow8_col11{\n",
       "            background-color:  #bab160;\n",
       "            color:  #000000;\n",
       "        }#T_cd43b2c5_d0e5_11eb_9ce1_80e82cc004bdrow9_col0{\n",
       "            background-color:  #bfa664;\n",
       "            color:  #000000;\n",
       "        }#T_cd43b2c5_d0e5_11eb_9ce1_80e82cc004bdrow9_col1{\n",
       "            background-color:  #b8b45f;\n",
       "            color:  #000000;\n",
       "        }#T_cd43b2c5_d0e5_11eb_9ce1_80e82cc004bdrow9_col2,#T_cd43b2c5_d0e5_11eb_9ce1_80e82cc004bdrow13_col11{\n",
       "            background-color:  #bdab62;\n",
       "            color:  #000000;\n",
       "        }#T_cd43b2c5_d0e5_11eb_9ce1_80e82cc004bdrow9_col3,#T_cd43b2c5_d0e5_11eb_9ce1_80e82cc004bdrow13_col2{\n",
       "            background-color:  #bdaa63;\n",
       "            color:  #000000;\n",
       "        }#T_cd43b2c5_d0e5_11eb_9ce1_80e82cc004bdrow9_col5{\n",
       "            background-color:  #bfa764;\n",
       "            color:  #000000;\n",
       "        }#T_cd43b2c5_d0e5_11eb_9ce1_80e82cc004bdrow9_col6{\n",
       "            background-color:  #b9b35f;\n",
       "            color:  #000000;\n",
       "        }#T_cd43b2c5_d0e5_11eb_9ce1_80e82cc004bdrow9_col8{\n",
       "            background-color:  #c8a779;\n",
       "            color:  #000000;\n",
       "        }#T_cd43b2c5_d0e5_11eb_9ce1_80e82cc004bdrow9_col10{\n",
       "            background-color:  #dbb8a2;\n",
       "            color:  #000000;\n",
       "        }#T_cd43b2c5_d0e5_11eb_9ce1_80e82cc004bdrow10_col0{\n",
       "            background-color:  #c0a565;\n",
       "            color:  #000000;\n",
       "        }#T_cd43b2c5_d0e5_11eb_9ce1_80e82cc004bdrow10_col4{\n",
       "            background-color:  #d6b196;\n",
       "            color:  #000000;\n",
       "        }#T_cd43b2c5_d0e5_11eb_9ce1_80e82cc004bdrow10_col5,#T_cd43b2c5_d0e5_11eb_9ce1_80e82cc004bdrow11_col8{\n",
       "            background-color:  #bea863;\n",
       "            color:  #000000;\n",
       "        }#T_cd43b2c5_d0e5_11eb_9ce1_80e82cc004bdrow10_col6{\n",
       "            background-color:  #a8b35b;\n",
       "            color:  #000000;\n",
       "        }#T_cd43b2c5_d0e5_11eb_9ce1_80e82cc004bdrow10_col9{\n",
       "            background-color:  #debba7;\n",
       "            color:  #000000;\n",
       "        }#T_cd43b2c5_d0e5_11eb_9ce1_80e82cc004bdrow11_col4{\n",
       "            background-color:  #c4a46f;\n",
       "            color:  #000000;\n",
       "        }#T_cd43b2c5_d0e5_11eb_9ce1_80e82cc004bdrow11_col5,#T_cd43b2c5_d0e5_11eb_9ce1_80e82cc004bdrow12_col6{\n",
       "            background-color:  #93ad57;\n",
       "            color:  #000000;\n",
       "        }#T_cd43b2c5_d0e5_11eb_9ce1_80e82cc004bdrow11_col7{\n",
       "            background-color:  #c6a574;\n",
       "            color:  #000000;\n",
       "        }#T_cd43b2c5_d0e5_11eb_9ce1_80e82cc004bdrow11_col9{\n",
       "            background-color:  #f4e4e3;\n",
       "            color:  #000000;\n",
       "        }#T_cd43b2c5_d0e5_11eb_9ce1_80e82cc004bdrow11_col13{\n",
       "            background-color:  #e6c7bc;\n",
       "            color:  #000000;\n",
       "        }#T_cd43b2c5_d0e5_11eb_9ce1_80e82cc004bdrow12_col0{\n",
       "            background-color:  #358673;\n",
       "            color:  #000000;\n",
       "        }#T_cd43b2c5_d0e5_11eb_9ce1_80e82cc004bdrow12_col1{\n",
       "            background-color:  #91ad57;\n",
       "            color:  #000000;\n",
       "        }#T_cd43b2c5_d0e5_11eb_9ce1_80e82cc004bdrow12_col2{\n",
       "            background-color:  #cfac87;\n",
       "            color:  #000000;\n",
       "        }#T_cd43b2c5_d0e5_11eb_9ce1_80e82cc004bdrow12_col5{\n",
       "            background-color:  #2f7d7f;\n",
       "            color:  #000000;\n",
       "        }#T_cd43b2c5_d0e5_11eb_9ce1_80e82cc004bdrow12_col13{\n",
       "            background-color:  #bbae61;\n",
       "            color:  #000000;\n",
       "        }#T_cd43b2c5_d0e5_11eb_9ce1_80e82cc004bdrow13_col1{\n",
       "            background-color:  #96ae58;\n",
       "            color:  #000000;\n",
       "        }#T_cd43b2c5_d0e5_11eb_9ce1_80e82cc004bdrow13_col3{\n",
       "            background-color:  #afb55c;\n",
       "            color:  #000000;\n",
       "        }#T_cd43b2c5_d0e5_11eb_9ce1_80e82cc004bdrow13_col5{\n",
       "            background-color:  #409357;\n",
       "            color:  #000000;\n",
       "        }#T_cd43b2c5_d0e5_11eb_9ce1_80e82cc004bdrow13_col12{\n",
       "            background-color:  #8aab56;\n",
       "            color:  #000000;\n",
       "        }</style><table id=\"T_cd43b2c5_d0e5_11eb_9ce1_80e82cc004bd\" ><thead>    <tr>        <th class=\"blank level0\" ></th>        <th class=\"col_heading level0 col0\" >Suburb</th>        <th class=\"col_heading level0 col1\" >Rooms</th>        <th class=\"col_heading level0 col2\" >Type</th>        <th class=\"col_heading level0 col3\" >Price</th>        <th class=\"col_heading level0 col4\" >Date</th>        <th class=\"col_heading level0 col5\" >Distance</th>        <th class=\"col_heading level0 col6\" >Bedroom2</th>        <th class=\"col_heading level0 col7\" >Bathroom</th>        <th class=\"col_heading level0 col8\" >Car</th>        <th class=\"col_heading level0 col9\" >Landsize</th>        <th class=\"col_heading level0 col10\" >BuildingArea</th>        <th class=\"col_heading level0 col11\" >YearBuilt</th>        <th class=\"col_heading level0 col12\" >CouncilArea</th>        <th class=\"col_heading level0 col13\" >Regionname</th>    </tr></thead><tbody>\n",
       "                <tr>\n",
       "                        <th id=\"T_cd43b2c5_d0e5_11eb_9ce1_80e82cc004bdlevel0_row0\" class=\"row_heading level0 row0\" >Suburb</th>\n",
       "                        <td id=\"T_cd43b2c5_d0e5_11eb_9ce1_80e82cc004bdrow0_col0\" class=\"data row0 col0\" >1.000000</td>\n",
       "                        <td id=\"T_cd43b2c5_d0e5_11eb_9ce1_80e82cc004bdrow0_col1\" class=\"data row0 col1\" >0.178839</td>\n",
       "                        <td id=\"T_cd43b2c5_d0e5_11eb_9ce1_80e82cc004bdrow0_col2\" class=\"data row0 col2\" >-0.163646</td>\n",
       "                        <td id=\"T_cd43b2c5_d0e5_11eb_9ce1_80e82cc004bdrow0_col3\" class=\"data row0 col3\" >-0.249326</td>\n",
       "                        <td id=\"T_cd43b2c5_d0e5_11eb_9ce1_80e82cc004bdrow0_col4\" class=\"data row0 col4\" >0.340302</td>\n",
       "                        <td id=\"T_cd43b2c5_d0e5_11eb_9ce1_80e82cc004bdrow0_col5\" class=\"data row0 col5\" >0.649325</td>\n",
       "                        <td id=\"T_cd43b2c5_d0e5_11eb_9ce1_80e82cc004bdrow0_col6\" class=\"data row0 col6\" >0.186843</td>\n",
       "                        <td id=\"T_cd43b2c5_d0e5_11eb_9ce1_80e82cc004bdrow0_col7\" class=\"data row0 col7\" >0.085540</td>\n",
       "                        <td id=\"T_cd43b2c5_d0e5_11eb_9ce1_80e82cc004bdrow0_col8\" class=\"data row0 col8\" >0.141326</td>\n",
       "                        <td id=\"T_cd43b2c5_d0e5_11eb_9ce1_80e82cc004bdrow0_col9\" class=\"data row0 col9\" >0.032106</td>\n",
       "                        <td id=\"T_cd43b2c5_d0e5_11eb_9ce1_80e82cc004bdrow0_col10\" class=\"data row0 col10\" >0.026834</td>\n",
       "                        <td id=\"T_cd43b2c5_d0e5_11eb_9ce1_80e82cc004bdrow0_col11\" class=\"data row0 col11\" >0.188615</td>\n",
       "                        <td id=\"T_cd43b2c5_d0e5_11eb_9ce1_80e82cc004bdrow0_col12\" class=\"data row0 col12\" >0.597936</td>\n",
       "                        <td id=\"T_cd43b2c5_d0e5_11eb_9ce1_80e82cc004bdrow0_col13\" class=\"data row0 col13\" >0.280586</td>\n",
       "            </tr>\n",
       "            <tr>\n",
       "                        <th id=\"T_cd43b2c5_d0e5_11eb_9ce1_80e82cc004bdlevel0_row1\" class=\"row_heading level0 row1\" >Rooms</th>\n",
       "                        <td id=\"T_cd43b2c5_d0e5_11eb_9ce1_80e82cc004bdrow1_col0\" class=\"data row1 col0\" >0.178839</td>\n",
       "                        <td id=\"T_cd43b2c5_d0e5_11eb_9ce1_80e82cc004bdrow1_col1\" class=\"data row1 col1\" >1.000000</td>\n",
       "                        <td id=\"T_cd43b2c5_d0e5_11eb_9ce1_80e82cc004bdrow1_col2\" class=\"data row1 col2\" >-0.366545</td>\n",
       "                        <td id=\"T_cd43b2c5_d0e5_11eb_9ce1_80e82cc004bdrow1_col3\" class=\"data row1 col3\" >0.444840</td>\n",
       "                        <td id=\"T_cd43b2c5_d0e5_11eb_9ce1_80e82cc004bdrow1_col4\" class=\"data row1 col4\" >0.175422</td>\n",
       "                        <td id=\"T_cd43b2c5_d0e5_11eb_9ce1_80e82cc004bdrow1_col5\" class=\"data row1 col5\" >0.280091</td>\n",
       "                        <td id=\"T_cd43b2c5_d0e5_11eb_9ce1_80e82cc004bdrow1_col6\" class=\"data row1 col6\" >0.958720</td>\n",
       "                        <td id=\"T_cd43b2c5_d0e5_11eb_9ce1_80e82cc004bdrow1_col7\" class=\"data row1 col7\" >0.607968</td>\n",
       "                        <td id=\"T_cd43b2c5_d0e5_11eb_9ce1_80e82cc004bdrow1_col8\" class=\"data row1 col8\" >0.390277</td>\n",
       "                        <td id=\"T_cd43b2c5_d0e5_11eb_9ce1_80e82cc004bdrow1_col9\" class=\"data row1 col9\" >0.031541</td>\n",
       "                        <td id=\"T_cd43b2c5_d0e5_11eb_9ce1_80e82cc004bdrow1_col10\" class=\"data row1 col10\" >0.102583</td>\n",
       "                        <td id=\"T_cd43b2c5_d0e5_11eb_9ce1_80e82cc004bdrow1_col11\" class=\"data row1 col11\" >-0.001414</td>\n",
       "                        <td id=\"T_cd43b2c5_d0e5_11eb_9ce1_80e82cc004bdrow1_col12\" class=\"data row1 col12\" >0.167501</td>\n",
       "                        <td id=\"T_cd43b2c5_d0e5_11eb_9ce1_80e82cc004bdrow1_col13\" class=\"data row1 col13\" >0.152716</td>\n",
       "            </tr>\n",
       "            <tr>\n",
       "                        <th id=\"T_cd43b2c5_d0e5_11eb_9ce1_80e82cc004bdlevel0_row2\" class=\"row_heading level0 row2\" >Type</th>\n",
       "                        <td id=\"T_cd43b2c5_d0e5_11eb_9ce1_80e82cc004bdrow2_col0\" class=\"data row2 col0\" >-0.163646</td>\n",
       "                        <td id=\"T_cd43b2c5_d0e5_11eb_9ce1_80e82cc004bdrow2_col1\" class=\"data row2 col1\" >-0.366545</td>\n",
       "                        <td id=\"T_cd43b2c5_d0e5_11eb_9ce1_80e82cc004bdrow2_col2\" class=\"data row2 col2\" >1.000000</td>\n",
       "                        <td id=\"T_cd43b2c5_d0e5_11eb_9ce1_80e82cc004bdrow2_col3\" class=\"data row2 col3\" >-0.257397</td>\n",
       "                        <td id=\"T_cd43b2c5_d0e5_11eb_9ce1_80e82cc004bdrow2_col4\" class=\"data row2 col4\" >-0.147925</td>\n",
       "                        <td id=\"T_cd43b2c5_d0e5_11eb_9ce1_80e82cc004bdrow2_col5\" class=\"data row2 col5\" >-0.180438</td>\n",
       "                        <td id=\"T_cd43b2c5_d0e5_11eb_9ce1_80e82cc004bdrow2_col6\" class=\"data row2 col6\" >-0.357771</td>\n",
       "                        <td id=\"T_cd43b2c5_d0e5_11eb_9ce1_80e82cc004bdrow2_col7\" class=\"data row2 col7\" >-0.070239</td>\n",
       "                        <td id=\"T_cd43b2c5_d0e5_11eb_9ce1_80e82cc004bdrow2_col8\" class=\"data row2 col8\" >-0.193483</td>\n",
       "                        <td id=\"T_cd43b2c5_d0e5_11eb_9ce1_80e82cc004bdrow2_col9\" class=\"data row2 col9\" >-0.026228</td>\n",
       "                        <td id=\"T_cd43b2c5_d0e5_11eb_9ce1_80e82cc004bdrow2_col10\" class=\"data row2 col10\" >-0.035898</td>\n",
       "                        <td id=\"T_cd43b2c5_d0e5_11eb_9ce1_80e82cc004bdrow2_col11\" class=\"data row2 col11\" >0.276686</td>\n",
       "                        <td id=\"T_cd43b2c5_d0e5_11eb_9ce1_80e82cc004bdrow2_col12\" class=\"data row2 col12\" >-0.143791</td>\n",
       "                        <td id=\"T_cd43b2c5_d0e5_11eb_9ce1_80e82cc004bdrow2_col13\" class=\"data row2 col13\" >-0.033210</td>\n",
       "            </tr>\n",
       "            <tr>\n",
       "                        <th id=\"T_cd43b2c5_d0e5_11eb_9ce1_80e82cc004bdlevel0_row3\" class=\"row_heading level0 row3\" >Price</th>\n",
       "                        <td id=\"T_cd43b2c5_d0e5_11eb_9ce1_80e82cc004bdrow3_col0\" class=\"data row3 col0\" >-0.249326</td>\n",
       "                        <td id=\"T_cd43b2c5_d0e5_11eb_9ce1_80e82cc004bdrow3_col1\" class=\"data row3 col1\" >0.444840</td>\n",
       "                        <td id=\"T_cd43b2c5_d0e5_11eb_9ce1_80e82cc004bdrow3_col2\" class=\"data row3 col2\" >-0.257397</td>\n",
       "                        <td id=\"T_cd43b2c5_d0e5_11eb_9ce1_80e82cc004bdrow3_col3\" class=\"data row3 col3\" >1.000000</td>\n",
       "                        <td id=\"T_cd43b2c5_d0e5_11eb_9ce1_80e82cc004bdrow3_col4\" class=\"data row3 col4\" >0.025371</td>\n",
       "                        <td id=\"T_cd43b2c5_d0e5_11eb_9ce1_80e82cc004bdrow3_col5\" class=\"data row3 col5\" >-0.236455</td>\n",
       "                        <td id=\"T_cd43b2c5_d0e5_11eb_9ce1_80e82cc004bdrow3_col6\" class=\"data row3 col6\" >0.430296</td>\n",
       "                        <td id=\"T_cd43b2c5_d0e5_11eb_9ce1_80e82cc004bdrow3_col7\" class=\"data row3 col7\" >0.429878</td>\n",
       "                        <td id=\"T_cd43b2c5_d0e5_11eb_9ce1_80e82cc004bdrow3_col8\" class=\"data row3 col8\" >0.201382</td>\n",
       "                        <td id=\"T_cd43b2c5_d0e5_11eb_9ce1_80e82cc004bdrow3_col9\" class=\"data row3 col9\" >0.030632</td>\n",
       "                        <td id=\"T_cd43b2c5_d0e5_11eb_9ce1_80e82cc004bdrow3_col10\" class=\"data row3 col10\" >0.074606</td>\n",
       "                        <td id=\"T_cd43b2c5_d0e5_11eb_9ce1_80e82cc004bdrow3_col11\" class=\"data row3 col11\" >-0.259458</td>\n",
       "                        <td id=\"T_cd43b2c5_d0e5_11eb_9ce1_80e82cc004bdrow3_col12\" class=\"data row3 col12\" >-0.282228</td>\n",
       "                        <td id=\"T_cd43b2c5_d0e5_11eb_9ce1_80e82cc004bdrow3_col13\" class=\"data row3 col13\" >0.129839</td>\n",
       "            </tr>\n",
       "            <tr>\n",
       "                        <th id=\"T_cd43b2c5_d0e5_11eb_9ce1_80e82cc004bdlevel0_row4\" class=\"row_heading level0 row4\" >Date</th>\n",
       "                        <td id=\"T_cd43b2c5_d0e5_11eb_9ce1_80e82cc004bdrow4_col0\" class=\"data row4 col0\" >0.340302</td>\n",
       "                        <td id=\"T_cd43b2c5_d0e5_11eb_9ce1_80e82cc004bdrow4_col1\" class=\"data row4 col1\" >0.175422</td>\n",
       "                        <td id=\"T_cd43b2c5_d0e5_11eb_9ce1_80e82cc004bdrow4_col2\" class=\"data row4 col2\" >-0.147925</td>\n",
       "                        <td id=\"T_cd43b2c5_d0e5_11eb_9ce1_80e82cc004bdrow4_col3\" class=\"data row4 col3\" >0.025371</td>\n",
       "                        <td id=\"T_cd43b2c5_d0e5_11eb_9ce1_80e82cc004bdrow4_col4\" class=\"data row4 col4\" >1.000000</td>\n",
       "                        <td id=\"T_cd43b2c5_d0e5_11eb_9ce1_80e82cc004bdrow4_col5\" class=\"data row4 col5\" >0.274664</td>\n",
       "                        <td id=\"T_cd43b2c5_d0e5_11eb_9ce1_80e82cc004bdrow4_col6\" class=\"data row4 col6\" >0.192551</td>\n",
       "                        <td id=\"T_cd43b2c5_d0e5_11eb_9ce1_80e82cc004bdrow4_col7\" class=\"data row4 col7\" >0.096418</td>\n",
       "                        <td id=\"T_cd43b2c5_d0e5_11eb_9ce1_80e82cc004bdrow4_col8\" class=\"data row4 col8\" >0.145579</td>\n",
       "                        <td id=\"T_cd43b2c5_d0e5_11eb_9ce1_80e82cc004bdrow4_col9\" class=\"data row4 col9\" >0.022141</td>\n",
       "                        <td id=\"T_cd43b2c5_d0e5_11eb_9ce1_80e82cc004bdrow4_col10\" class=\"data row4 col10\" >0.013145</td>\n",
       "                        <td id=\"T_cd43b2c5_d0e5_11eb_9ce1_80e82cc004bdrow4_col11\" class=\"data row4 col11\" >0.082372</td>\n",
       "                        <td id=\"T_cd43b2c5_d0e5_11eb_9ce1_80e82cc004bdrow4_col12\" class=\"data row4 col12\" >0.260990</td>\n",
       "                        <td id=\"T_cd43b2c5_d0e5_11eb_9ce1_80e82cc004bdrow4_col13\" class=\"data row4 col13\" >0.096391</td>\n",
       "            </tr>\n",
       "            <tr>\n",
       "                        <th id=\"T_cd43b2c5_d0e5_11eb_9ce1_80e82cc004bdlevel0_row5\" class=\"row_heading level0 row5\" >Distance</th>\n",
       "                        <td id=\"T_cd43b2c5_d0e5_11eb_9ce1_80e82cc004bdrow5_col0\" class=\"data row5 col0\" >0.649325</td>\n",
       "                        <td id=\"T_cd43b2c5_d0e5_11eb_9ce1_80e82cc004bdrow5_col1\" class=\"data row5 col1\" >0.280091</td>\n",
       "                        <td id=\"T_cd43b2c5_d0e5_11eb_9ce1_80e82cc004bdrow5_col2\" class=\"data row5 col2\" >-0.180438</td>\n",
       "                        <td id=\"T_cd43b2c5_d0e5_11eb_9ce1_80e82cc004bdrow5_col3\" class=\"data row5 col3\" >-0.236455</td>\n",
       "                        <td id=\"T_cd43b2c5_d0e5_11eb_9ce1_80e82cc004bdrow5_col4\" class=\"data row5 col4\" >0.274664</td>\n",
       "                        <td id=\"T_cd43b2c5_d0e5_11eb_9ce1_80e82cc004bdrow5_col5\" class=\"data row5 col5\" >1.000000</td>\n",
       "                        <td id=\"T_cd43b2c5_d0e5_11eb_9ce1_80e82cc004bdrow5_col6\" class=\"data row5 col6\" >0.282914</td>\n",
       "                        <td id=\"T_cd43b2c5_d0e5_11eb_9ce1_80e82cc004bdrow5_col7\" class=\"data row5 col7\" >0.140767</td>\n",
       "                        <td id=\"T_cd43b2c5_d0e5_11eb_9ce1_80e82cc004bdrow5_col8\" class=\"data row5 col8\" >0.238241</td>\n",
       "                        <td id=\"T_cd43b2c5_d0e5_11eb_9ce1_80e82cc004bdrow5_col9\" class=\"data row5 col9\" >0.048959</td>\n",
       "                        <td id=\"T_cd43b2c5_d0e5_11eb_9ce1_80e82cc004bdrow5_col10\" class=\"data row5 col10\" >0.057446</td>\n",
       "                        <td id=\"T_cd43b2c5_d0e5_11eb_9ce1_80e82cc004bdrow5_col11\" class=\"data row5 col11\" >0.243218</td>\n",
       "                        <td id=\"T_cd43b2c5_d0e5_11eb_9ce1_80e82cc004bdrow5_col12\" class=\"data row5 col12\" >0.660355</td>\n",
       "                        <td id=\"T_cd43b2c5_d0e5_11eb_9ce1_80e82cc004bdrow5_col13\" class=\"data row5 col13\" >0.489308</td>\n",
       "            </tr>\n",
       "            <tr>\n",
       "                        <th id=\"T_cd43b2c5_d0e5_11eb_9ce1_80e82cc004bdlevel0_row6\" class=\"row_heading level0 row6\" >Bedroom2</th>\n",
       "                        <td id=\"T_cd43b2c5_d0e5_11eb_9ce1_80e82cc004bdrow6_col0\" class=\"data row6 col0\" >0.186843</td>\n",
       "                        <td id=\"T_cd43b2c5_d0e5_11eb_9ce1_80e82cc004bdrow6_col1\" class=\"data row6 col1\" >0.958720</td>\n",
       "                        <td id=\"T_cd43b2c5_d0e5_11eb_9ce1_80e82cc004bdrow6_col2\" class=\"data row6 col2\" >-0.357771</td>\n",
       "                        <td id=\"T_cd43b2c5_d0e5_11eb_9ce1_80e82cc004bdrow6_col3\" class=\"data row6 col3\" >0.430296</td>\n",
       "                        <td id=\"T_cd43b2c5_d0e5_11eb_9ce1_80e82cc004bdrow6_col4\" class=\"data row6 col4\" >0.192551</td>\n",
       "                        <td id=\"T_cd43b2c5_d0e5_11eb_9ce1_80e82cc004bdrow6_col5\" class=\"data row6 col5\" >0.282914</td>\n",
       "                        <td id=\"T_cd43b2c5_d0e5_11eb_9ce1_80e82cc004bdrow6_col6\" class=\"data row6 col6\" >1.000000</td>\n",
       "                        <td id=\"T_cd43b2c5_d0e5_11eb_9ce1_80e82cc004bdrow6_col7\" class=\"data row6 col7\" >0.605309</td>\n",
       "                        <td id=\"T_cd43b2c5_d0e5_11eb_9ce1_80e82cc004bdrow6_col8\" class=\"data row6 col8\" >0.392087</td>\n",
       "                        <td id=\"T_cd43b2c5_d0e5_11eb_9ce1_80e82cc004bdrow6_col9\" class=\"data row6 col9\" >0.031485</td>\n",
       "                        <td id=\"T_cd43b2c5_d0e5_11eb_9ce1_80e82cc004bdrow6_col10\" class=\"data row6 col10\" >0.100433</td>\n",
       "                        <td id=\"T_cd43b2c5_d0e5_11eb_9ce1_80e82cc004bdrow6_col11\" class=\"data row6 col11\" >0.006067</td>\n",
       "                        <td id=\"T_cd43b2c5_d0e5_11eb_9ce1_80e82cc004bdrow6_col12\" class=\"data row6 col12\" >0.172027</td>\n",
       "                        <td id=\"T_cd43b2c5_d0e5_11eb_9ce1_80e82cc004bdrow6_col13\" class=\"data row6 col13\" >0.155424</td>\n",
       "            </tr>\n",
       "            <tr>\n",
       "                        <th id=\"T_cd43b2c5_d0e5_11eb_9ce1_80e82cc004bdlevel0_row7\" class=\"row_heading level0 row7\" >Bathroom</th>\n",
       "                        <td id=\"T_cd43b2c5_d0e5_11eb_9ce1_80e82cc004bdrow7_col0\" class=\"data row7 col0\" >0.085540</td>\n",
       "                        <td id=\"T_cd43b2c5_d0e5_11eb_9ce1_80e82cc004bdrow7_col1\" class=\"data row7 col1\" >0.607968</td>\n",
       "                        <td id=\"T_cd43b2c5_d0e5_11eb_9ce1_80e82cc004bdrow7_col2\" class=\"data row7 col2\" >-0.070239</td>\n",
       "                        <td id=\"T_cd43b2c5_d0e5_11eb_9ce1_80e82cc004bdrow7_col3\" class=\"data row7 col3\" >0.429878</td>\n",
       "                        <td id=\"T_cd43b2c5_d0e5_11eb_9ce1_80e82cc004bdrow7_col4\" class=\"data row7 col4\" >0.096418</td>\n",
       "                        <td id=\"T_cd43b2c5_d0e5_11eb_9ce1_80e82cc004bdrow7_col5\" class=\"data row7 col5\" >0.140767</td>\n",
       "                        <td id=\"T_cd43b2c5_d0e5_11eb_9ce1_80e82cc004bdrow7_col6\" class=\"data row7 col6\" >0.605309</td>\n",
       "                        <td id=\"T_cd43b2c5_d0e5_11eb_9ce1_80e82cc004bdrow7_col7\" class=\"data row7 col7\" >1.000000</td>\n",
       "                        <td id=\"T_cd43b2c5_d0e5_11eb_9ce1_80e82cc004bdrow7_col8\" class=\"data row7 col8\" >0.301381</td>\n",
       "                        <td id=\"T_cd43b2c5_d0e5_11eb_9ce1_80e82cc004bdrow7_col9\" class=\"data row7 col9\" >0.034720</td>\n",
       "                        <td id=\"T_cd43b2c5_d0e5_11eb_9ce1_80e82cc004bdrow7_col10\" class=\"data row7 col10\" >0.098449</td>\n",
       "                        <td id=\"T_cd43b2c5_d0e5_11eb_9ce1_80e82cc004bdrow7_col11\" class=\"data row7 col11\" >0.138419</td>\n",
       "                        <td id=\"T_cd43b2c5_d0e5_11eb_9ce1_80e82cc004bdrow7_col12\" class=\"data row7 col12\" >0.066118</td>\n",
       "                        <td id=\"T_cd43b2c5_d0e5_11eb_9ce1_80e82cc004bdrow7_col13\" class=\"data row7 col13\" >0.153383</td>\n",
       "            </tr>\n",
       "            <tr>\n",
       "                        <th id=\"T_cd43b2c5_d0e5_11eb_9ce1_80e82cc004bdlevel0_row8\" class=\"row_heading level0 row8\" >Car</th>\n",
       "                        <td id=\"T_cd43b2c5_d0e5_11eb_9ce1_80e82cc004bdrow8_col0\" class=\"data row8 col0\" >0.141326</td>\n",
       "                        <td id=\"T_cd43b2c5_d0e5_11eb_9ce1_80e82cc004bdrow8_col1\" class=\"data row8 col1\" >0.390277</td>\n",
       "                        <td id=\"T_cd43b2c5_d0e5_11eb_9ce1_80e82cc004bdrow8_col2\" class=\"data row8 col2\" >-0.193483</td>\n",
       "                        <td id=\"T_cd43b2c5_d0e5_11eb_9ce1_80e82cc004bdrow8_col3\" class=\"data row8 col3\" >0.201382</td>\n",
       "                        <td id=\"T_cd43b2c5_d0e5_11eb_9ce1_80e82cc004bdrow8_col4\" class=\"data row8 col4\" >0.145579</td>\n",
       "                        <td id=\"T_cd43b2c5_d0e5_11eb_9ce1_80e82cc004bdrow8_col5\" class=\"data row8 col5\" >0.238241</td>\n",
       "                        <td id=\"T_cd43b2c5_d0e5_11eb_9ce1_80e82cc004bdrow8_col6\" class=\"data row8 col6\" >0.392087</td>\n",
       "                        <td id=\"T_cd43b2c5_d0e5_11eb_9ce1_80e82cc004bdrow8_col7\" class=\"data row8 col7\" >0.301381</td>\n",
       "                        <td id=\"T_cd43b2c5_d0e5_11eb_9ce1_80e82cc004bdrow8_col8\" class=\"data row8 col8\" >1.000000</td>\n",
       "                        <td id=\"T_cd43b2c5_d0e5_11eb_9ce1_80e82cc004bdrow8_col9\" class=\"data row8 col9\" >0.028798</td>\n",
       "                        <td id=\"T_cd43b2c5_d0e5_11eb_9ce1_80e82cc004bdrow8_col10\" class=\"data row8 col10\" >0.065295</td>\n",
       "                        <td id=\"T_cd43b2c5_d0e5_11eb_9ce1_80e82cc004bdrow8_col11\" class=\"data row8 col11\" >0.088148</td>\n",
       "                        <td id=\"T_cd43b2c5_d0e5_11eb_9ce1_80e82cc004bdrow8_col12\" class=\"data row8 col12\" >0.138608</td>\n",
       "                        <td id=\"T_cd43b2c5_d0e5_11eb_9ce1_80e82cc004bdrow8_col13\" class=\"data row8 col13\" >0.107620</td>\n",
       "            </tr>\n",
       "            <tr>\n",
       "                        <th id=\"T_cd43b2c5_d0e5_11eb_9ce1_80e82cc004bdlevel0_row9\" class=\"row_heading level0 row9\" >Landsize</th>\n",
       "                        <td id=\"T_cd43b2c5_d0e5_11eb_9ce1_80e82cc004bdrow9_col0\" class=\"data row9 col0\" >0.032106</td>\n",
       "                        <td id=\"T_cd43b2c5_d0e5_11eb_9ce1_80e82cc004bdrow9_col1\" class=\"data row9 col1\" >0.031541</td>\n",
       "                        <td id=\"T_cd43b2c5_d0e5_11eb_9ce1_80e82cc004bdrow9_col2\" class=\"data row9 col2\" >-0.026228</td>\n",
       "                        <td id=\"T_cd43b2c5_d0e5_11eb_9ce1_80e82cc004bdrow9_col3\" class=\"data row9 col3\" >0.030632</td>\n",
       "                        <td id=\"T_cd43b2c5_d0e5_11eb_9ce1_80e82cc004bdrow9_col4\" class=\"data row9 col4\" >0.022141</td>\n",
       "                        <td id=\"T_cd43b2c5_d0e5_11eb_9ce1_80e82cc004bdrow9_col5\" class=\"data row9 col5\" >0.048959</td>\n",
       "                        <td id=\"T_cd43b2c5_d0e5_11eb_9ce1_80e82cc004bdrow9_col6\" class=\"data row9 col6\" >0.031485</td>\n",
       "                        <td id=\"T_cd43b2c5_d0e5_11eb_9ce1_80e82cc004bdrow9_col7\" class=\"data row9 col7\" >0.034720</td>\n",
       "                        <td id=\"T_cd43b2c5_d0e5_11eb_9ce1_80e82cc004bdrow9_col8\" class=\"data row9 col8\" >0.028798</td>\n",
       "                        <td id=\"T_cd43b2c5_d0e5_11eb_9ce1_80e82cc004bdrow9_col9\" class=\"data row9 col9\" >1.000000</td>\n",
       "                        <td id=\"T_cd43b2c5_d0e5_11eb_9ce1_80e82cc004bdrow9_col10\" class=\"data row9 col10\" >0.086493</td>\n",
       "                        <td id=\"T_cd43b2c5_d0e5_11eb_9ce1_80e82cc004bdrow9_col11\" class=\"data row9 col11\" >0.009662</td>\n",
       "                        <td id=\"T_cd43b2c5_d0e5_11eb_9ce1_80e82cc004bdrow9_col12\" class=\"data row9 col12\" >0.024667</td>\n",
       "                        <td id=\"T_cd43b2c5_d0e5_11eb_9ce1_80e82cc004bdrow9_col13\" class=\"data row9 col13\" >0.030723</td>\n",
       "            </tr>\n",
       "            <tr>\n",
       "                        <th id=\"T_cd43b2c5_d0e5_11eb_9ce1_80e82cc004bdlevel0_row10\" class=\"row_heading level0 row10\" >BuildingArea</th>\n",
       "                        <td id=\"T_cd43b2c5_d0e5_11eb_9ce1_80e82cc004bdrow10_col0\" class=\"data row10 col0\" >0.026834</td>\n",
       "                        <td id=\"T_cd43b2c5_d0e5_11eb_9ce1_80e82cc004bdrow10_col1\" class=\"data row10 col1\" >0.102583</td>\n",
       "                        <td id=\"T_cd43b2c5_d0e5_11eb_9ce1_80e82cc004bdrow10_col2\" class=\"data row10 col2\" >-0.035898</td>\n",
       "                        <td id=\"T_cd43b2c5_d0e5_11eb_9ce1_80e82cc004bdrow10_col3\" class=\"data row10 col3\" >0.074606</td>\n",
       "                        <td id=\"T_cd43b2c5_d0e5_11eb_9ce1_80e82cc004bdrow10_col4\" class=\"data row10 col4\" >0.013145</td>\n",
       "                        <td id=\"T_cd43b2c5_d0e5_11eb_9ce1_80e82cc004bdrow10_col5\" class=\"data row10 col5\" >0.057446</td>\n",
       "                        <td id=\"T_cd43b2c5_d0e5_11eb_9ce1_80e82cc004bdrow10_col6\" class=\"data row10 col6\" >0.100433</td>\n",
       "                        <td id=\"T_cd43b2c5_d0e5_11eb_9ce1_80e82cc004bdrow10_col7\" class=\"data row10 col7\" >0.098449</td>\n",
       "                        <td id=\"T_cd43b2c5_d0e5_11eb_9ce1_80e82cc004bdrow10_col8\" class=\"data row10 col8\" >0.065295</td>\n",
       "                        <td id=\"T_cd43b2c5_d0e5_11eb_9ce1_80e82cc004bdrow10_col9\" class=\"data row10 col9\" >0.086493</td>\n",
       "                        <td id=\"T_cd43b2c5_d0e5_11eb_9ce1_80e82cc004bdrow10_col10\" class=\"data row10 col10\" >1.000000</td>\n",
       "                        <td id=\"T_cd43b2c5_d0e5_11eb_9ce1_80e82cc004bdrow10_col11\" class=\"data row10 col11\" >0.012301</td>\n",
       "                        <td id=\"T_cd43b2c5_d0e5_11eb_9ce1_80e82cc004bdrow10_col12\" class=\"data row10 col12\" >0.027602</td>\n",
       "                        <td id=\"T_cd43b2c5_d0e5_11eb_9ce1_80e82cc004bdrow10_col13\" class=\"data row10 col13\" >0.038538</td>\n",
       "            </tr>\n",
       "            <tr>\n",
       "                        <th id=\"T_cd43b2c5_d0e5_11eb_9ce1_80e82cc004bdlevel0_row11\" class=\"row_heading level0 row11\" >YearBuilt</th>\n",
       "                        <td id=\"T_cd43b2c5_d0e5_11eb_9ce1_80e82cc004bdrow11_col0\" class=\"data row11 col0\" >0.188615</td>\n",
       "                        <td id=\"T_cd43b2c5_d0e5_11eb_9ce1_80e82cc004bdrow11_col1\" class=\"data row11 col1\" >-0.001414</td>\n",
       "                        <td id=\"T_cd43b2c5_d0e5_11eb_9ce1_80e82cc004bdrow11_col2\" class=\"data row11 col2\" >0.276686</td>\n",
       "                        <td id=\"T_cd43b2c5_d0e5_11eb_9ce1_80e82cc004bdrow11_col3\" class=\"data row11 col3\" >-0.259458</td>\n",
       "                        <td id=\"T_cd43b2c5_d0e5_11eb_9ce1_80e82cc004bdrow11_col4\" class=\"data row11 col4\" >0.082372</td>\n",
       "                        <td id=\"T_cd43b2c5_d0e5_11eb_9ce1_80e82cc004bdrow11_col5\" class=\"data row11 col5\" >0.243218</td>\n",
       "                        <td id=\"T_cd43b2c5_d0e5_11eb_9ce1_80e82cc004bdrow11_col6\" class=\"data row11 col6\" >0.006067</td>\n",
       "                        <td id=\"T_cd43b2c5_d0e5_11eb_9ce1_80e82cc004bdrow11_col7\" class=\"data row11 col7\" >0.138419</td>\n",
       "                        <td id=\"T_cd43b2c5_d0e5_11eb_9ce1_80e82cc004bdrow11_col8\" class=\"data row11 col8\" >0.088148</td>\n",
       "                        <td id=\"T_cd43b2c5_d0e5_11eb_9ce1_80e82cc004bdrow11_col9\" class=\"data row11 col9\" >0.009662</td>\n",
       "                        <td id=\"T_cd43b2c5_d0e5_11eb_9ce1_80e82cc004bdrow11_col10\" class=\"data row11 col10\" >0.012301</td>\n",
       "                        <td id=\"T_cd43b2c5_d0e5_11eb_9ce1_80e82cc004bdrow11_col11\" class=\"data row11 col11\" >1.000000</td>\n",
       "                        <td id=\"T_cd43b2c5_d0e5_11eb_9ce1_80e82cc004bdrow11_col12\" class=\"data row11 col12\" >0.213452</td>\n",
       "                        <td id=\"T_cd43b2c5_d0e5_11eb_9ce1_80e82cc004bdrow11_col13\" class=\"data row11 col13\" >0.052003</td>\n",
       "            </tr>\n",
       "            <tr>\n",
       "                        <th id=\"T_cd43b2c5_d0e5_11eb_9ce1_80e82cc004bdlevel0_row12\" class=\"row_heading level0 row12\" >CouncilArea</th>\n",
       "                        <td id=\"T_cd43b2c5_d0e5_11eb_9ce1_80e82cc004bdrow12_col0\" class=\"data row12 col0\" >0.597936</td>\n",
       "                        <td id=\"T_cd43b2c5_d0e5_11eb_9ce1_80e82cc004bdrow12_col1\" class=\"data row12 col1\" >0.167501</td>\n",
       "                        <td id=\"T_cd43b2c5_d0e5_11eb_9ce1_80e82cc004bdrow12_col2\" class=\"data row12 col2\" >-0.143791</td>\n",
       "                        <td id=\"T_cd43b2c5_d0e5_11eb_9ce1_80e82cc004bdrow12_col3\" class=\"data row12 col3\" >-0.282228</td>\n",
       "                        <td id=\"T_cd43b2c5_d0e5_11eb_9ce1_80e82cc004bdrow12_col4\" class=\"data row12 col4\" >0.260990</td>\n",
       "                        <td id=\"T_cd43b2c5_d0e5_11eb_9ce1_80e82cc004bdrow12_col5\" class=\"data row12 col5\" >0.660355</td>\n",
       "                        <td id=\"T_cd43b2c5_d0e5_11eb_9ce1_80e82cc004bdrow12_col6\" class=\"data row12 col6\" >0.172027</td>\n",
       "                        <td id=\"T_cd43b2c5_d0e5_11eb_9ce1_80e82cc004bdrow12_col7\" class=\"data row12 col7\" >0.066118</td>\n",
       "                        <td id=\"T_cd43b2c5_d0e5_11eb_9ce1_80e82cc004bdrow12_col8\" class=\"data row12 col8\" >0.138608</td>\n",
       "                        <td id=\"T_cd43b2c5_d0e5_11eb_9ce1_80e82cc004bdrow12_col9\" class=\"data row12 col9\" >0.024667</td>\n",
       "                        <td id=\"T_cd43b2c5_d0e5_11eb_9ce1_80e82cc004bdrow12_col10\" class=\"data row12 col10\" >0.027602</td>\n",
       "                        <td id=\"T_cd43b2c5_d0e5_11eb_9ce1_80e82cc004bdrow12_col11\" class=\"data row12 col11\" >0.213452</td>\n",
       "                        <td id=\"T_cd43b2c5_d0e5_11eb_9ce1_80e82cc004bdrow12_col12\" class=\"data row12 col12\" >1.000000</td>\n",
       "                        <td id=\"T_cd43b2c5_d0e5_11eb_9ce1_80e82cc004bdrow12_col13\" class=\"data row12 col13\" >0.238761</td>\n",
       "            </tr>\n",
       "            <tr>\n",
       "                        <th id=\"T_cd43b2c5_d0e5_11eb_9ce1_80e82cc004bdlevel0_row13\" class=\"row_heading level0 row13\" >Regionname</th>\n",
       "                        <td id=\"T_cd43b2c5_d0e5_11eb_9ce1_80e82cc004bdrow13_col0\" class=\"data row13 col0\" >0.280586</td>\n",
       "                        <td id=\"T_cd43b2c5_d0e5_11eb_9ce1_80e82cc004bdrow13_col1\" class=\"data row13 col1\" >0.152716</td>\n",
       "                        <td id=\"T_cd43b2c5_d0e5_11eb_9ce1_80e82cc004bdrow13_col2\" class=\"data row13 col2\" >-0.033210</td>\n",
       "                        <td id=\"T_cd43b2c5_d0e5_11eb_9ce1_80e82cc004bdrow13_col3\" class=\"data row13 col3\" >0.129839</td>\n",
       "                        <td id=\"T_cd43b2c5_d0e5_11eb_9ce1_80e82cc004bdrow13_col4\" class=\"data row13 col4\" >0.096391</td>\n",
       "                        <td id=\"T_cd43b2c5_d0e5_11eb_9ce1_80e82cc004bdrow13_col5\" class=\"data row13 col5\" >0.489308</td>\n",
       "                        <td id=\"T_cd43b2c5_d0e5_11eb_9ce1_80e82cc004bdrow13_col6\" class=\"data row13 col6\" >0.155424</td>\n",
       "                        <td id=\"T_cd43b2c5_d0e5_11eb_9ce1_80e82cc004bdrow13_col7\" class=\"data row13 col7\" >0.153383</td>\n",
       "                        <td id=\"T_cd43b2c5_d0e5_11eb_9ce1_80e82cc004bdrow13_col8\" class=\"data row13 col8\" >0.107620</td>\n",
       "                        <td id=\"T_cd43b2c5_d0e5_11eb_9ce1_80e82cc004bdrow13_col9\" class=\"data row13 col9\" >0.030723</td>\n",
       "                        <td id=\"T_cd43b2c5_d0e5_11eb_9ce1_80e82cc004bdrow13_col10\" class=\"data row13 col10\" >0.038538</td>\n",
       "                        <td id=\"T_cd43b2c5_d0e5_11eb_9ce1_80e82cc004bdrow13_col11\" class=\"data row13 col11\" >0.052003</td>\n",
       "                        <td id=\"T_cd43b2c5_d0e5_11eb_9ce1_80e82cc004bdrow13_col12\" class=\"data row13 col12\" >0.238761</td>\n",
       "                        <td id=\"T_cd43b2c5_d0e5_11eb_9ce1_80e82cc004bdrow13_col13\" class=\"data row13 col13\" >1.000000</td>\n",
       "            </tr>\n",
       "    </tbody></table>"
      ],
      "text/plain": [
       "<pandas.io.formats.style.Styler at 0x2744fe76550>"
      ]
     },
     "execution_count": 43,
     "metadata": {},
     "output_type": "execute_result"
    }
   ],
   "source": [
    "corr=df.corr()\n",
    "corr.style.background_gradient(cmap='gist_earth_r')"
   ]
  },
  {
   "cell_type": "code",
   "execution_count": 44,
   "metadata": {},
   "outputs": [
    {
     "data": {
      "text/plain": [
       "Suburb         -0.249326\n",
       "Rooms           0.444840\n",
       "Type           -0.257397\n",
       "Price           1.000000\n",
       "Date            0.025371\n",
       "Distance       -0.236455\n",
       "Bedroom2        0.430296\n",
       "Bathroom        0.429878\n",
       "Car             0.201382\n",
       "Landsize        0.030632\n",
       "BuildingArea    0.074606\n",
       "YearBuilt      -0.259458\n",
       "CouncilArea    -0.282228\n",
       "Regionname      0.129839\n",
       "dtype: float64"
      ]
     },
     "execution_count": 44,
     "metadata": {},
     "output_type": "execute_result"
    }
   ],
   "source": [
    "df.corrwith(df['Price'])"
   ]
  },
  {
   "cell_type": "code",
   "execution_count": 45,
   "metadata": {},
   "outputs": [
    {
     "name": "stdout",
     "output_type": "stream",
     "text": [
      "<class 'pandas.core.frame.DataFrame'>\n",
      "Int64Index: 20800 entries, 1 to 34856\n",
      "Data columns (total 14 columns):\n",
      " #   Column        Non-Null Count  Dtype  \n",
      "---  ------        --------------  -----  \n",
      " 0   Suburb        20800 non-null  int64  \n",
      " 1   Rooms         20800 non-null  int64  \n",
      " 2   Type          20800 non-null  int64  \n",
      " 3   Price         20800 non-null  float64\n",
      " 4   Date          20800 non-null  int64  \n",
      " 5   Distance      20800 non-null  float64\n",
      " 6   Bedroom2      20800 non-null  float64\n",
      " 7   Bathroom      20800 non-null  float64\n",
      " 8   Car           20800 non-null  float64\n",
      " 9   Landsize      20800 non-null  float64\n",
      " 10  BuildingArea  20800 non-null  float64\n",
      " 11  YearBuilt     20800 non-null  float64\n",
      " 12  CouncilArea   20800 non-null  int64  \n",
      " 13  Regionname    20800 non-null  int64  \n",
      "dtypes: float64(8), int64(6)\n",
      "memory usage: 3.0 MB\n"
     ]
    }
   ],
   "source": [
    "df.info()"
   ]
  },
  {
   "cell_type": "code",
   "execution_count": 46,
   "metadata": {},
   "outputs": [
    {
     "data": {
      "text/plain": [
       "Suburb          0\n",
       "Rooms           0\n",
       "Type            0\n",
       "Price           0\n",
       "Date            0\n",
       "Distance        0\n",
       "Bedroom2        0\n",
       "Bathroom        0\n",
       "Car             0\n",
       "Landsize        0\n",
       "BuildingArea    0\n",
       "YearBuilt       0\n",
       "CouncilArea     0\n",
       "Regionname      0\n",
       "dtype: int64"
      ]
     },
     "execution_count": 46,
     "metadata": {},
     "output_type": "execute_result"
    }
   ],
   "source": [
    "df.isnull().sum()"
   ]
  },
  {
   "cell_type": "markdown",
   "metadata": {},
   "source": [
    "## Removing Outliers by interpreting scatterplot and boxplots"
   ]
  },
  {
   "cell_type": "code",
   "execution_count": 47,
   "metadata": {
    "scrolled": true
   },
   "outputs": [
    {
     "data": {
      "image/png": "[encoded data removed]",
      "text/plain": [
       "<Figure size 1440x2160 with 10 Axes>"
      ]
     },
     "metadata": {
      "needs_background": "light"
     },
     "output_type": "display_data"
    }
   ],
   "source": [
    "%matplotlib inline\n",
    "import matplotlib.pyplot as plt\n",
    "fig,((ax00,ax01),(ax10,ax11),(ax20,ax21),(ax30,ax31),(ax40,ax41))=plt.subplots(nrows=5,ncols=2,figsize=(20,30))\n",
    "ax00.scatter(df['Rooms'],df['Price']);\n",
    "ax00.set(xlabel='Rooms',ylabel='Price')\n",
    "\n",
    "ax01.scatter(df['Type'],df['Price'])\n",
    "ax01.set(xlabel='Type',ylabel='Price')\n",
    "\n",
    "ax10.scatter(df['Distance'],df['Price'])\n",
    "ax10.set(xlabel='Distance',ylabel='Price')\n",
    "\n",
    "ax11.scatter(df['Bedroom2'],df['Price'])\n",
    "ax11.set(xlabel='Bedrooms',ylabel='Price')\n",
    "\n",
    "ax20.scatter(df['Bathroom'],df['Price'])\n",
    "ax20.set(xlabel='Bathrooms',ylabel='Price')\n",
    "\n",
    "ax21.scatter(df['Car'],df['Price'])\n",
    "ax21.set(xlabel='CarSpots',ylabel='Price')\n",
    "\n",
    "ax30.scatter(df['Landsize'],df['Price'])\n",
    "ax30.set(xlabel='Landsize',ylabel='Price')\n",
    "\n",
    "ax31.scatter(df['YearBuilt'],df['Price'])\n",
    "ax31.set(xlabel='YearBuilt',ylabel='Prcie')\n",
    "\n",
    "ax40.scatter(df['CouncilArea'],df['Price'])\n",
    "ax40.set(xlabel='CouncilArea',ylabel='Price')\n",
    "\n",
    "ax41.scatter(df['Regionname'],df['Price'])\n",
    "ax41.set(xlabel='Regionname',ylabel='Price');\n"
   ]
  },
  {
   "cell_type": "code",
   "execution_count": 745,
   "metadata": {},
   "outputs": [
    {
     "name": "stdout",
     "output_type": "stream",
     "text": [
      "<class 'pandas.core.frame.DataFrame'>\n",
      "Int64Index: 20800 entries, 1 to 34856\n",
      "Data columns (total 13 columns):\n",
      " #   Column        Non-Null Count  Dtype  \n",
      "---  ------        --------------  -----  \n",
      " 0   Suburb        20800 non-null  int64  \n",
      " 1   Rooms         20800 non-null  int64  \n",
      " 2   Type          20800 non-null  int64  \n",
      " 3   Price         20800 non-null  float64\n",
      " 4   Distance      20800 non-null  float64\n",
      " 5   Bedroom2      20800 non-null  float64\n",
      " 6   Bathroom      20800 non-null  float64\n",
      " 7   Car           20800 non-null  float64\n",
      " 8   Landsize      20800 non-null  float64\n",
      " 9   BuildingArea  20800 non-null  float64\n",
      " 10  YearBuilt     20800 non-null  float64\n",
      " 11  CouncilArea   20800 non-null  int64  \n",
      " 12  Regionname    20800 non-null  int64  \n",
      "dtypes: float64(8), int64(5)\n",
      "memory usage: 2.8 MB\n"
     ]
    }
   ],
   "source": [
    "df.info()"
   ]
  },
  {
   "cell_type": "code",
   "execution_count": 48,
   "metadata": {},
   "outputs": [
    {
     "data": {
      "image/png": "[encoded data removed]",
      "text/plain": [
       "<Figure size 432x288 with 1 Axes>"
      ]
     },
     "metadata": {
      "needs_background": "light"
     },
     "output_type": "display_data"
    }
   ],
   "source": [
    "sns.boxplot(x=df[\"Rooms\"]); "
   ]
  },
  {
   "cell_type": "code",
   "execution_count": 49,
   "metadata": {},
   "outputs": [],
   "source": [
    "#to identify outlier\n",
    "def lower_upper(col):\n",
    "    q1,q3=np.percentile(col,[25,75])\n",
    "    iqr=q3-q1\n",
    "    return (q1-1.5*iqr,q3+1.5*iqr)"
   ]
  },
  {
   "cell_type": "code",
   "execution_count": 50,
   "metadata": {},
   "outputs": [
    {
     "name": "stdout",
     "output_type": "stream",
     "text": [
      "-1.0 7.0\n"
     ]
    }
   ],
   "source": [
    "l,u=lower_upper(df[\"Rooms\"])\n",
    "print(l,u)"
   ]
  },
  {
   "cell_type": "code",
   "execution_count": 51,
   "metadata": {},
   "outputs": [],
   "source": [
    "df=df[df['Rooms']<=u]"
   ]
  },
  {
   "cell_type": "code",
   "execution_count": 52,
   "metadata": {},
   "outputs": [
    {
     "data": {
      "image/png": "[encoded data removed]",
      "text/plain": [
       "<Figure size 432x288 with 1 Axes>"
      ]
     },
     "metadata": {
      "needs_background": "light"
     },
     "output_type": "display_data"
    }
   ],
   "source": [
    "sns.boxplot(x=df['Distance']);"
   ]
  },
  {
   "cell_type": "code",
   "execution_count": 53,
   "metadata": {},
   "outputs": [
    {
     "data": {
      "text/plain": [
       "(-5.299999999999999, 25.9)"
      ]
     },
     "execution_count": 53,
     "metadata": {},
     "output_type": "execute_result"
    }
   ],
   "source": [
    "l,u=lower_upper(df['Distance'])\n",
    "l,u"
   ]
  },
  {
   "cell_type": "code",
   "execution_count": 54,
   "metadata": {},
   "outputs": [],
   "source": [
    "df=df[df['Distance']<=u]"
   ]
  },
  {
   "cell_type": "code",
   "execution_count": 55,
   "metadata": {},
   "outputs": [
    {
     "data": {
      "image/png": "[encoded data removed]",
      "text/plain": [
       "<Figure size 432x288 with 1 Axes>"
      ]
     },
     "metadata": {
      "needs_background": "light"
     },
     "output_type": "display_data"
    }
   ],
   "source": [
    "sns.boxplot(x=df['Bathroom']);"
   ]
  },
  {
   "cell_type": "code",
   "execution_count": 56,
   "metadata": {},
   "outputs": [],
   "source": [
    "l,u=lower_upper(df['Bathroom'])\n",
    "l,u\n",
    "df=df[df['Bathroom']<=u]"
   ]
  },
  {
   "cell_type": "code",
   "execution_count": 57,
   "metadata": {},
   "outputs": [
    {
     "data": {
      "image/png": "[encoded data removed]",
      "text/plain": [
       "<Figure size 432x288 with 1 Axes>"
      ]
     },
     "metadata": {
      "needs_background": "light"
     },
     "output_type": "display_data"
    }
   ],
   "source": [
    "sns.boxplot(x=df['Bedroom2']);"
   ]
  },
  {
   "cell_type": "code",
   "execution_count": 58,
   "metadata": {},
   "outputs": [
    {
     "name": "stdout",
     "output_type": "stream",
     "text": [
      "-1.0 7.0\n"
     ]
    }
   ],
   "source": [
    "l,u=lower_upper(df['Bedroom2'])\n",
    "print(l,u)"
   ]
  },
  {
   "cell_type": "code",
   "execution_count": 59,
   "metadata": {},
   "outputs": [],
   "source": [
    "df=df[df['Bedroom2']<=u]"
   ]
  },
  {
   "cell_type": "code",
   "execution_count": 60,
   "metadata": {},
   "outputs": [
    {
     "data": {
      "image/png": "[encoded data removed]",
      "text/plain": [
       "<Figure size 432x288 with 1 Axes>"
      ]
     },
     "metadata": {
      "needs_background": "light"
     },
     "output_type": "display_data"
    }
   ],
   "source": [
    "sns.boxplot(x=df['Car']);"
   ]
  },
  {
   "cell_type": "code",
   "execution_count": 61,
   "metadata": {},
   "outputs": [],
   "source": [
    "df=df[df['Car']<=3]"
   ]
  },
  {
   "cell_type": "code",
   "execution_count": 62,
   "metadata": {},
   "outputs": [
    {
     "data": {
      "image/png": "[encoded data removed]",
      "text/plain": [
       "<Figure size 432x288 with 1 Axes>"
      ]
     },
     "metadata": {
      "needs_background": "light"
     },
     "output_type": "display_data"
    }
   ],
   "source": [
    "sns.boxplot(x=df['Landsize']);"
   ]
  },
  {
   "cell_type": "code",
   "execution_count": 63,
   "metadata": {},
   "outputs": [
    {
     "name": "stdout",
     "output_type": "stream",
     "text": [
      "1217.5\n"
     ]
    }
   ],
   "source": [
    "l,u=lower_upper(df['Landsize'])\n",
    "df=df[df['Landsize']<=u]\n",
    "print(u)"
   ]
  },
  {
   "cell_type": "code",
   "execution_count": 64,
   "metadata": {},
   "outputs": [
    {
     "data": {
      "text/plain": [
       "(18288, 14)"
      ]
     },
     "execution_count": 64,
     "metadata": {},
     "output_type": "execute_result"
    }
   ],
   "source": [
    "df.shape"
   ]
  },
  {
   "cell_type": "markdown",
   "metadata": {},
   "source": [
    "# 5) Set X and y variables"
   ]
  },
  {
   "cell_type": "code",
   "execution_count": 65,
   "metadata": {},
   "outputs": [],
   "source": [
    "X=df.drop(columns=['Price'],axis=1)"
   ]
  },
  {
   "cell_type": "code",
   "execution_count": 66,
   "metadata": {},
   "outputs": [],
   "source": [
    "y=df['Price']"
   ]
  },
  {
   "cell_type": "code",
   "execution_count": 67,
   "metadata": {},
   "outputs": [],
   "source": [
    "X_train,X_test,y_train,y_test=train_test_split(X,y,test_size=0.3,random_state=10,shuffle=True)"
   ]
  },
  {
   "cell_type": "markdown",
   "metadata": {},
   "source": [
    "# 6) Set Algorithm"
   ]
  },
  {
   "cell_type": "code",
   "execution_count": 68,
   "metadata": {},
   "outputs": [],
   "source": [
    "import numpy as np\n",
    "np.random.seed(3)\n",
    "model= LinearRegression() "
   ]
  },
  {
   "cell_type": "code",
   "execution_count": 69,
   "metadata": {},
   "outputs": [
    {
     "data": {
      "text/plain": [
       "LinearRegression()"
      ]
     },
     "execution_count": 69,
     "metadata": {},
     "output_type": "execute_result"
    }
   ],
   "source": [
    "model.fit(X_train,y_train)"
   ]
  },
  {
   "cell_type": "markdown",
   "metadata": {},
   "source": [
    "# 7) Find y - intercept and X coefficients"
   ]
  },
  {
   "cell_type": "code",
   "execution_count": 70,
   "metadata": {},
   "outputs": [
    {
     "data": {
      "text/plain": [
       "-115351853.97348438"
      ]
     },
     "execution_count": 70,
     "metadata": {},
     "output_type": "execute_result"
    }
   ],
   "source": [
    "model.intercept_"
   ]
  },
  {
   "cell_type": "code",
   "execution_count": 71,
   "metadata": {},
   "outputs": [
    {
     "data": {
      "text/plain": [
       "array([   -792.48741485,  133053.44135559, -127068.23636334,\n",
       "         60313.93918432,  -43884.09755921,   40688.96033746,\n",
       "        207654.27589369,   36351.71744996,     379.80310033,\n",
       "           544.05936081,   -2979.19445223,   -9559.79688325,\n",
       "        132956.53180926])"
      ]
     },
     "execution_count": 71,
     "metadata": {},
     "output_type": "execute_result"
    }
   ],
   "source": [
    "#x coefficients\n",
    "model.coef_"
   ]
  },
  {
   "cell_type": "code",
   "execution_count": 72,
   "metadata": {},
   "outputs": [
    {
     "data": {
      "text/plain": [
       "Index(['Suburb', 'Rooms', 'Type', 'Price', 'Date', 'Distance', 'Bedroom2',\n",
       "       'Bathroom', 'Car', 'Landsize', 'BuildingArea', 'YearBuilt',\n",
       "       'CouncilArea', 'Regionname'],\n",
       "      dtype='object')"
      ]
     },
     "execution_count": 72,
     "metadata": {},
     "output_type": "execute_result"
    }
   ],
   "source": [
    "df.columns"
   ]
  },
  {
   "cell_type": "code",
   "execution_count": 73,
   "metadata": {},
   "outputs": [
    {
     "data": {
      "text/html": [
       "<div>\n",
       "<style scoped>\n",
       "    .dataframe tbody tr th:only-of-type {\n",
       "        vertical-align: middle;\n",
       "    }\n",
       "\n",
       "    .dataframe tbody tr th {\n",
       "        vertical-align: top;\n",
       "    }\n",
       "\n",
       "    .dataframe thead th {\n",
       "        text-align: right;\n",
       "    }\n",
       "</style>\n",
       "<table border=\"1\" class=\"dataframe\">\n",
       "  <thead>\n",
       "    <tr style=\"text-align: right;\">\n",
       "      <th></th>\n",
       "      <th>Coefficients</th>\n",
       "    </tr>\n",
       "  </thead>\n",
       "  <tbody>\n",
       "    <tr>\n",
       "      <th>Suburb</th>\n",
       "      <td>-792.487415</td>\n",
       "    </tr>\n",
       "    <tr>\n",
       "      <th>Rooms</th>\n",
       "      <td>133053.441356</td>\n",
       "    </tr>\n",
       "    <tr>\n",
       "      <th>Type</th>\n",
       "      <td>-127068.236363</td>\n",
       "    </tr>\n",
       "    <tr>\n",
       "      <th>Date</th>\n",
       "      <td>60313.939184</td>\n",
       "    </tr>\n",
       "    <tr>\n",
       "      <th>Distance</th>\n",
       "      <td>-43884.097559</td>\n",
       "    </tr>\n",
       "    <tr>\n",
       "      <th>Bedroom2</th>\n",
       "      <td>40688.960337</td>\n",
       "    </tr>\n",
       "    <tr>\n",
       "      <th>Bathroom</th>\n",
       "      <td>207654.275894</td>\n",
       "    </tr>\n",
       "    <tr>\n",
       "      <th>Car</th>\n",
       "      <td>36351.717450</td>\n",
       "    </tr>\n",
       "    <tr>\n",
       "      <th>Landsize</th>\n",
       "      <td>379.803100</td>\n",
       "    </tr>\n",
       "    <tr>\n",
       "      <th>BuildingArea</th>\n",
       "      <td>544.059361</td>\n",
       "    </tr>\n",
       "    <tr>\n",
       "      <th>YearBuilt</th>\n",
       "      <td>-2979.194452</td>\n",
       "    </tr>\n",
       "    <tr>\n",
       "      <th>CouncilArea</th>\n",
       "      <td>-9559.796883</td>\n",
       "    </tr>\n",
       "    <tr>\n",
       "      <th>Regionname</th>\n",
       "      <td>132956.531809</td>\n",
       "    </tr>\n",
       "  </tbody>\n",
       "</table>\n",
       "</div>"
      ],
      "text/plain": [
       "               Coefficients\n",
       "Suburb          -792.487415\n",
       "Rooms         133053.441356\n",
       "Type         -127068.236363\n",
       "Date           60313.939184\n",
       "Distance      -43884.097559\n",
       "Bedroom2       40688.960337\n",
       "Bathroom      207654.275894\n",
       "Car            36351.717450\n",
       "Landsize         379.803100\n",
       "BuildingArea     544.059361\n",
       "YearBuilt      -2979.194452\n",
       "CouncilArea    -9559.796883\n",
       "Regionname    132956.531809"
      ]
     },
     "execution_count": 73,
     "metadata": {},
     "output_type": "execute_result"
    }
   ],
   "source": [
    "pd.DataFrame(model.coef_,X.columns,columns=['Coefficients'])"
   ]
  },
  {
   "cell_type": "markdown",
   "metadata": {},
   "source": [
    "# 8) Predict"
   ]
  },
  {
   "cell_type": "code",
   "execution_count": 89,
   "metadata": {},
   "outputs": [],
   "source": [
    "new_house=[\n",
    "    23,#suburb\n",
    "    2,#Rooms\n",
    "    1,#type\n",
    "    2025,#SaleYear\n",
    "    2.5,#Distance\n",
    "    2,#Bedroom2\n",
    "    1,#Bathroom\n",
    "    1,#Car Spots\n",
    "    202,#Landsize\n",
    "    150,#building area\n",
    "    2021,#year\n",
    "    2,#CouncilArea\n",
    "    2,#Regionname\n",
    "]"
   ]
  },
  {
   "cell_type": "code",
   "execution_count": 90,
   "metadata": {},
   "outputs": [
    {
     "data": {
      "text/plain": [
       "array([1551317.69799174])"
      ]
     },
     "execution_count": 90,
     "metadata": {},
     "output_type": "execute_result"
    }
   ],
   "source": [
    "new_house_prediction=model.predict([new_house])\n",
    "new_house_prediction"
   ]
  },
  {
   "cell_type": "code",
   "execution_count": 91,
   "metadata": {},
   "outputs": [
    {
     "data": {
      "text/plain": [
       "278381.6847386679"
      ]
     },
     "execution_count": 91,
     "metadata": {},
     "output_type": "execute_result"
    }
   ],
   "source": [
    "metrics.mean_absolute_error(y_train,model.predict(X_train))"
   ]
  },
  {
   "cell_type": "code",
   "execution_count": 92,
   "metadata": {},
   "outputs": [
    {
     "data": {
      "text/plain": [
       "274913.6790544245"
      ]
     },
     "execution_count": 92,
     "metadata": {},
     "output_type": "execute_result"
    }
   ],
   "source": [
    "prediction=model.predict(X_test)\n",
    "metrics.mean_absolute_error(y_test,prediction)"
   ]
  },
  {
   "cell_type": "code",
   "execution_count": 93,
   "metadata": {},
   "outputs": [
    {
     "data": {
      "text/plain": [
       "54.05072575084087"
      ]
     },
     "execution_count": 93,
     "metadata": {},
     "output_type": "execute_result"
    }
   ],
   "source": [
    "model.score(X_train,y_train)*100"
   ]
  },
  {
   "cell_type": "code",
   "execution_count": 94,
   "metadata": {},
   "outputs": [
    {
     "name": "stdout",
     "output_type": "stream",
     "text": [
      "54.8117630874922\n"
     ]
    }
   ],
   "source": [
    "l_test=model.score(X_test,y_test)*100\n",
    "print(l_test)"
   ]
  },
  {
   "cell_type": "code",
   "execution_count": 95,
   "metadata": {},
   "outputs": [],
   "source": [
    "import numpy as np\n",
    "def mean_absolute_percentage_error(y_true, y_pred): \n",
    "    y_true, y_pred = np.array(y_true), np.array(y_pred)\n",
    "    return np.mean(np.abs((y_true - y_pred) / y_true)) * 100"
   ]
  },
  {
   "cell_type": "code",
   "execution_count": 96,
   "metadata": {},
   "outputs": [
    {
     "data": {
      "text/plain": [
       "28.879741983526465"
      ]
     },
     "execution_count": 96,
     "metadata": {},
     "output_type": "execute_result"
    }
   ],
   "source": [
    "mean_absolute_percentage_error(y_test,model.predict(X_test))"
   ]
  },
  {
   "cell_type": "markdown",
   "metadata": {},
   "source": [
    "# Random Forest Regressor"
   ]
  },
  {
   "cell_type": "code",
   "execution_count": 97,
   "metadata": {},
   "outputs": [],
   "source": [
    "from sklearn.ensemble import RandomForestRegressor"
   ]
  },
  {
   "cell_type": "code",
   "execution_count": 98,
   "metadata": {},
   "outputs": [],
   "source": [
    "rfr=RandomForestRegressor(random_state=110)"
   ]
  },
  {
   "cell_type": "code",
   "execution_count": 99,
   "metadata": {},
   "outputs": [
    {
     "data": {
      "text/plain": [
       "RandomForestRegressor(random_state=110)"
      ]
     },
     "execution_count": 99,
     "metadata": {},
     "output_type": "execute_result"
    }
   ],
   "source": [
    "rfr.fit(X_train,y_train)"
   ]
  },
  {
   "cell_type": "code",
   "execution_count": 100,
   "metadata": {},
   "outputs": [
    {
     "name": "stdout",
     "output_type": "stream",
     "text": [
      "96.80821159618365\n"
     ]
    }
   ],
   "source": [
    "rf_train=rfr.score(X_train,y_train)*100\n",
    "print(rf_train)"
   ]
  },
  {
   "cell_type": "code",
   "execution_count": 101,
   "metadata": {},
   "outputs": [
    {
     "data": {
      "text/plain": [
       "15.384509970796644"
      ]
     },
     "execution_count": 101,
     "metadata": {},
     "output_type": "execute_result"
    }
   ],
   "source": [
    "mean_absolute_percentage_error(y_test,rfr.predict(X_test))"
   ]
  },
  {
   "cell_type": "code",
   "execution_count": 102,
   "metadata": {},
   "outputs": [
    {
     "name": "stdout",
     "output_type": "stream",
     "text": [
      "78.82735653667692\n"
     ]
    }
   ],
   "source": [
    "rf_test=rfr.score(X_test,y_test)*100\n",
    "print(rf_test)"
   ]
  },
  {
   "cell_type": "markdown",
   "metadata": {},
   "source": [
    "# Gradient Boosting Regressor"
   ]
  },
  {
   "cell_type": "code",
   "execution_count": 103,
   "metadata": {},
   "outputs": [],
   "source": [
    "from sklearn.ensemble import GradientBoostingRegressor"
   ]
  },
  {
   "cell_type": "code",
   "execution_count": 104,
   "metadata": {},
   "outputs": [],
   "source": [
    "gbr = GradientBoostingRegressor()"
   ]
  },
  {
   "cell_type": "code",
   "execution_count": 105,
   "metadata": {},
   "outputs": [
    {
     "data": {
      "text/plain": [
       "GradientBoostingRegressor()"
      ]
     },
     "execution_count": 105,
     "metadata": {},
     "output_type": "execute_result"
    }
   ],
   "source": [
    "gbr.fit(X_train,y_train)"
   ]
  },
  {
   "cell_type": "code",
   "execution_count": 106,
   "metadata": {},
   "outputs": [],
   "source": [
    "gbr_predict=gbr.predict(X_test)"
   ]
  },
  {
   "cell_type": "code",
   "execution_count": 107,
   "metadata": {},
   "outputs": [
    {
     "data": {
      "text/plain": [
       "184253.43881040768"
      ]
     },
     "execution_count": 107,
     "metadata": {},
     "output_type": "execute_result"
    }
   ],
   "source": [
    "metrics.mean_absolute_error(y_test,gbr.predict(X_test))"
   ]
  },
  {
   "cell_type": "code",
   "execution_count": 108,
   "metadata": {},
   "outputs": [
    {
     "data": {
      "text/plain": [
       "17.771375964604953"
      ]
     },
     "execution_count": 108,
     "metadata": {},
     "output_type": "execute_result"
    }
   ],
   "source": [
    "mean_absolute_percentage_error(y_test,gbr.predict(X_test))"
   ]
  },
  {
   "cell_type": "code",
   "execution_count": 109,
   "metadata": {},
   "outputs": [
    {
     "data": {
      "text/plain": [
       "77.77375856252725"
      ]
     },
     "execution_count": 109,
     "metadata": {},
     "output_type": "execute_result"
    }
   ],
   "source": [
    "gbr.score(X_train,y_train)*100"
   ]
  },
  {
   "cell_type": "code",
   "execution_count": 110,
   "metadata": {},
   "outputs": [
    {
     "data": {
      "text/plain": [
       "76.7568372886679"
      ]
     },
     "execution_count": 110,
     "metadata": {},
     "output_type": "execute_result"
    }
   ],
   "source": [
    "gbr.score(X_test,y_test)*100"
   ]
  },
  {
   "cell_type": "code",
   "execution_count": 111,
   "metadata": {},
   "outputs": [
    {
     "data": {
      "text/plain": [
       "Index(['Suburb', 'Rooms', 'Type', 'Price', 'Date', 'Distance', 'Bedroom2',\n",
       "       'Bathroom', 'Car', 'Landsize', 'BuildingArea', 'YearBuilt',\n",
       "       'CouncilArea', 'Regionname'],\n",
       "      dtype='object')"
      ]
     },
     "execution_count": 111,
     "metadata": {},
     "output_type": "execute_result"
    }
   ],
   "source": [
    "df.columns"
   ]
  },
  {
   "cell_type": "markdown",
   "metadata": {},
   "source": [
    "# Experimentation"
   ]
  },
  {
   "cell_type": "code",
   "execution_count": 112,
   "metadata": {},
   "outputs": [],
   "source": [
    "gbr = GradientBoostingRegressor(n_estimators=150,\n",
    "                                learning_rate =0.1, \n",
    "                                max_depth=5,\n",
    "                                min_samples_split=4,\n",
    "                                min_samples_leaf=6,\n",
    "                                loss='huber',\n",
    "                                max_features=0.6,\n",
    "                               random_state=150)"
   ]
  },
  {
   "cell_type": "code",
   "execution_count": 113,
   "metadata": {},
   "outputs": [
    {
     "data": {
      "text/plain": [
       "GradientBoostingRegressor(loss='huber', max_depth=5, max_features=0.6,\n",
       "                          min_samples_leaf=6, min_samples_split=4,\n",
       "                          n_estimators=150, random_state=150)"
      ]
     },
     "execution_count": 113,
     "metadata": {},
     "output_type": "execute_result"
    }
   ],
   "source": [
    "gbr.fit(X_train,y_train)"
   ]
  },
  {
   "cell_type": "code",
   "execution_count": 114,
   "metadata": {},
   "outputs": [],
   "source": [
    "new_house=[\n",
    "    25,#suburb\n",
    "    2,#Rooms\n",
    "    1,#type\n",
    "    2025,#saledate\n",
    "    2.5,#Distance\n",
    "    2,#Bedroom2\n",
    "    1,#Bathroom\n",
    "    1,#Car Spots\n",
    "    202,#Landsize\n",
    "    100,#Building Area\n",
    "    2020,#year\n",
    "    2,#CouncilArea\n",
    "    2,#Regionname\n",
    "     \n",
    "]"
   ]
  },
  {
   "cell_type": "code",
   "execution_count": 115,
   "metadata": {},
   "outputs": [
    {
     "data": {
      "text/plain": [
       "array([872360.73604425])"
      ]
     },
     "execution_count": 115,
     "metadata": {},
     "output_type": "execute_result"
    }
   ],
   "source": [
    "gbr.predict([new_house])"
   ]
  },
  {
   "cell_type": "code",
   "execution_count": 116,
   "metadata": {},
   "outputs": [
    {
     "data": {
      "text/plain": [
       "83.20680436811529"
      ]
     },
     "execution_count": 116,
     "metadata": {},
     "output_type": "execute_result"
    }
   ],
   "source": [
    "gbr.score(X_train,y_train)*100"
   ]
  },
  {
   "cell_type": "code",
   "execution_count": 117,
   "metadata": {},
   "outputs": [
    {
     "data": {
      "text/plain": [
       "80.40683974362862"
      ]
     },
     "execution_count": 117,
     "metadata": {},
     "output_type": "execute_result"
    }
   ],
   "source": [
    "gbr.score(X_test,y_test)*100"
   ]
  },
  {
   "cell_type": "code",
   "execution_count": 118,
   "metadata": {},
   "outputs": [
    {
     "data": {
      "text/plain": [
       "140341.80869314665"
      ]
     },
     "execution_count": 118,
     "metadata": {},
     "output_type": "execute_result"
    }
   ],
   "source": [
    "metrics.mean_absolute_error(y_train,gbr.predict(X_train))"
   ]
  },
  {
   "cell_type": "code",
   "execution_count": 119,
   "metadata": {},
   "outputs": [
    {
     "data": {
      "text/plain": [
       "159000.52011215236"
      ]
     },
     "execution_count": 119,
     "metadata": {},
     "output_type": "execute_result"
    }
   ],
   "source": [
    "metrics.mean_absolute_error(y_test,gbr.predict(X_test))"
   ]
  },
  {
   "cell_type": "code",
   "execution_count": 120,
   "metadata": {},
   "outputs": [
    {
     "data": {
      "text/plain": [
       "14.567840970509558"
      ]
     },
     "execution_count": 120,
     "metadata": {},
     "output_type": "execute_result"
    }
   ],
   "source": [
    "mean_absolute_percentage_error(y_test,gbr.predict(X_test))"
   ]
  },
  {
   "cell_type": "markdown",
   "metadata": {},
   "source": [
    "# Hyperparameter Tuning"
   ]
  },
  {
   "cell_type": "code",
   "execution_count": 804,
   "metadata": {},
   "outputs": [],
   "source": [
    "from sklearn.model_selection import GridSearchCV"
   ]
  },
  {
   "cell_type": "code",
   "execution_count": 805,
   "metadata": {},
   "outputs": [],
   "source": [
    "ggbr=GradientBoostingRegressor()"
   ]
  },
  {
   "cell_type": "code",
   "execution_count": 806,
   "metadata": {},
   "outputs": [],
   "source": [
    "hyperparameters={\n",
    "    'n_estimators':[150,250,300],\n",
    "    'learning_rate':[0.1,0.2,0.3],\n",
    "    'max_depth':[4,5,6],\n",
    "    'min_samples_split':[3,4],\n",
    "    'min_samples_leaf':[5,6], \n",
    "    'max_features':[0.6,0.8,0.9],\n",
    "    'loss':['ls','lad','huber']\n",
    "}"
   ]
  },
  {
   "cell_type": "code",
   "execution_count": 826,
   "metadata": {},
   "outputs": [],
   "source": [
    "grid=GridSearchCV(ggbr,hyperparameters,n_jobs=4)"
   ]
  },
  {
   "cell_type": "code",
   "execution_count": 827,
   "metadata": {},
   "outputs": [
    {
     "data": {
      "text/plain": [
       "GridSearchCV(estimator=GradientBoostingRegressor(), n_jobs=4,\n",
       "             param_grid={'learning_rate': [0.1, 0.2, 0.3],\n",
       "                         'loss': ['ls', 'lad', 'huber'], 'max_depth': [4, 5, 6],\n",
       "                         'max_features': [0.6, 0.8, 0.9],\n",
       "                         'min_samples_leaf': [5, 6],\n",
       "                         'min_samples_split': [3, 4],\n",
       "                         'n_estimators': [150, 250, 300]})"
      ]
     },
     "execution_count": 827,
     "metadata": {},
     "output_type": "execute_result"
    }
   ],
   "source": [
    "grid.fit(X_train,y_train)"
   ]
  },
  {
   "cell_type": "code",
   "execution_count": 828,
   "metadata": {},
   "outputs": [
    {
     "data": {
      "text/plain": [
       "{'learning_rate': 0.1,\n",
       " 'loss': 'huber',\n",
       " 'max_depth': 6,\n",
       " 'max_features': 0.8,\n",
       " 'min_samples_leaf': 5,\n",
       " 'min_samples_split': 3,\n",
       " 'n_estimators': 300}"
      ]
     },
     "execution_count": 828,
     "metadata": {},
     "output_type": "execute_result"
    }
   ],
   "source": [
    "grid.best_params_"
   ]
  },
  {
   "cell_type": "code",
   "execution_count": 132,
   "metadata": {},
   "outputs": [],
   "source": [
    "grid=GradientBoostingRegressor(learning_rate=0.1,\n",
    "                              loss='huber',\n",
    "                              max_depth=6,\n",
    "                              max_features='auto',\n",
    "                              min_samples_leaf=5,\n",
    "                              min_samples_split=3,\n",
    "                              n_estimators=250)\n"
   ]
  },
  {
   "cell_type": "code",
   "execution_count": 134,
   "metadata": {},
   "outputs": [
    {
     "data": {
      "text/plain": [
       "GradientBoostingRegressor(loss='huber', max_depth=6, max_features='auto',\n",
       "                          min_samples_leaf=5, min_samples_split=3,\n",
       "                          n_estimators=250)"
      ]
     },
     "execution_count": 134,
     "metadata": {},
     "output_type": "execute_result"
    }
   ],
   "source": [
    "grid.fit(X_train,y_train)"
   ]
  },
  {
   "cell_type": "code",
   "execution_count": 135,
   "metadata": {},
   "outputs": [
    {
     "data": {
      "text/plain": [
       "0.8798644574855932"
      ]
     },
     "execution_count": 135,
     "metadata": {},
     "output_type": "execute_result"
    }
   ],
   "source": [
    "grid.score(X_train,y_train)"
   ]
  },
  {
   "cell_type": "code",
   "execution_count": 136,
   "metadata": {},
   "outputs": [
    {
     "data": {
      "text/plain": [
       "0.8153015383520801"
      ]
     },
     "execution_count": 136,
     "metadata": {},
     "output_type": "execute_result"
    }
   ],
   "source": [
    "grid.score(X_test,y_test)"
   ]
  },
  {
   "cell_type": "code",
   "execution_count": 137,
   "metadata": {},
   "outputs": [],
   "source": [
    "egbr=GradientBoostingRegressor(learning_rate=0.1,\n",
    "                             loss='huber',\n",
    "                             max_depth=5,\n",
    "                             min_samples_leaf=6,\n",
    "                             min_samples_split=4,\n",
    "                             max_features=0.6,\n",
    "                             n_estimators=300,\n",
    "                             random_state=100)"
   ]
  },
  {
   "cell_type": "code",
   "execution_count": 138,
   "metadata": {},
   "outputs": [
    {
     "data": {
      "text/plain": [
       "GradientBoostingRegressor(loss='huber', max_depth=5, max_features=0.6,\n",
       "                          min_samples_leaf=6, min_samples_split=4,\n",
       "                          n_estimators=300, random_state=100)"
      ]
     },
     "execution_count": 138,
     "metadata": {},
     "output_type": "execute_result"
    }
   ],
   "source": [
    "egbr.fit(X_train,y_train)"
   ]
  },
  {
   "cell_type": "code",
   "execution_count": 139,
   "metadata": {},
   "outputs": [
    {
     "data": {
      "text/plain": [
       "0.8594706730315386"
      ]
     },
     "execution_count": 139,
     "metadata": {},
     "output_type": "execute_result"
    }
   ],
   "source": [
    "egbr.score(X_train,y_train)"
   ]
  },
  {
   "cell_type": "code",
   "execution_count": 140,
   "metadata": {},
   "outputs": [
    {
     "data": {
      "text/plain": [
       "0.8180864575490322"
      ]
     },
     "execution_count": 140,
     "metadata": {},
     "output_type": "execute_result"
    }
   ],
   "source": [
    "egbr.score(X_test,y_test)"
   ]
  },
  {
   "cell_type": "code",
   "execution_count": 825,
   "metadata": {},
   "outputs": [
    {
     "name": "stdout",
     "output_type": "stream",
     "text": [
      "n_estimators:200 max_depth:5 min_split:3 min_leaf:5 learning_rate:0.1 max_fe:0.6 train:0.8430194685507747 test:0.8091955212919276\n",
      "n_estimators:200 max_depth:5 min_split:3 min_leaf:5 learning_rate:0.1 max_fe:0.8 train:0.8447278303484951 test:0.810140797848196\n",
      "n_estimators:200 max_depth:5 min_split:3 min_leaf:5 learning_rate:0.1 max_fe:0.9 train:0.8450269892909777 test:0.8082079440286358\n",
      "n_estimators:200 max_depth:5 min_split:3 min_leaf:5 learning_rate:0.15 max_fe:0.6 train:0.8554285554985057 test:0.8136591260243985\n",
      "n_estimators:200 max_depth:5 min_split:3 min_leaf:5 learning_rate:0.15 max_fe:0.8 train:0.8598724901391963 test:0.8124979342990168\n",
      "n_estimators:200 max_depth:5 min_split:3 min_leaf:5 learning_rate:0.15 max_fe:0.9 train:0.8595418476671495 test:0.8111499574529649\n",
      "n_estimators:200 max_depth:5 min_split:3 min_leaf:5 learning_rate:0.2 max_fe:0.6 train:0.865963373141004 test:0.809939048578102\n",
      "n_estimators:200 max_depth:5 min_split:3 min_leaf:5 learning_rate:0.2 max_fe:0.8 train:0.8693601642271804 test:0.8110776286912136\n",
      "n_estimators:200 max_depth:5 min_split:3 min_leaf:5 learning_rate:0.2 max_fe:0.9 train:0.8705090282445986 test:0.8163112136055433\n",
      "n_estimators:200 max_depth:5 min_split:3 min_leaf:5 learning_rate:0.3 max_fe:0.6 train:0.8814771053688438 test:0.8093391559639329\n",
      "n_estimators:200 max_depth:5 min_split:3 min_leaf:5 learning_rate:0.3 max_fe:0.8 train:0.8854404189412761 test:0.8096085977644616\n",
      "n_estimators:200 max_depth:5 min_split:3 min_leaf:5 learning_rate:0.3 max_fe:0.9 train:0.8833291247726262 test:0.8084954110607592\n",
      "n_estimators:200 max_depth:5 min_split:3 min_leaf:5 learning_rate:0.5 max_fe:0.6 train:0.8967937270139617 test:0.7882623195041139\n",
      "n_estimators:200 max_depth:5 min_split:3 min_leaf:5 learning_rate:0.5 max_fe:0.8 train:0.9000003686802428 test:0.799502862976342\n",
      "n_estimators:200 max_depth:5 min_split:3 min_leaf:5 learning_rate:0.5 max_fe:0.9 train:0.8990197958428671 test:0.7953285864221319\n",
      "n_estimators:200 max_depth:5 min_split:3 min_leaf:6 learning_rate:0.1 max_fe:0.6 train:0.841076926433443 test:0.8072835528795405\n",
      "n_estimators:200 max_depth:5 min_split:3 min_leaf:6 learning_rate:0.1 max_fe:0.8 train:0.8432459823791889 test:0.8092821723406376\n",
      "n_estimators:200 max_depth:5 min_split:3 min_leaf:6 learning_rate:0.1 max_fe:0.9 train:0.8426773332653721 test:0.8103336871658041\n",
      "n_estimators:200 max_depth:5 min_split:3 min_leaf:6 learning_rate:0.15 max_fe:0.6 train:0.8565734817568289 test:0.8133736313633589\n",
      "n_estimators:200 max_depth:5 min_split:3 min_leaf:6 learning_rate:0.15 max_fe:0.8 train:0.8599431053190129 test:0.8121958329395399\n",
      "n_estimators:200 max_depth:5 min_split:3 min_leaf:6 learning_rate:0.15 max_fe:0.9 train:0.8573388226564147 test:0.8099966626734855\n",
      "n_estimators:200 max_depth:5 min_split:3 min_leaf:6 learning_rate:0.2 max_fe:0.6 train:0.8684703737370487 test:0.8134097183315422\n",
      "n_estimators:200 max_depth:5 min_split:3 min_leaf:6 learning_rate:0.2 max_fe:0.8 train:0.87055826829878 test:0.8131634805434561\n",
      "n_estimators:200 max_depth:5 min_split:3 min_leaf:6 learning_rate:0.2 max_fe:0.9 train:0.8670097290275964 test:0.8143674028308843\n",
      "n_estimators:200 max_depth:5 min_split:3 min_leaf:6 learning_rate:0.3 max_fe:0.6 train:0.8770894053989509 test:0.8059149721948613\n",
      "n_estimators:200 max_depth:5 min_split:3 min_leaf:6 learning_rate:0.3 max_fe:0.8 train:0.8808243275702268 test:0.8054355838711214\n",
      "n_estimators:200 max_depth:5 min_split:3 min_leaf:6 learning_rate:0.3 max_fe:0.9 train:0.8805366196519907 test:0.809467805680962\n",
      "n_estimators:200 max_depth:5 min_split:3 min_leaf:6 learning_rate:0.5 max_fe:0.6 train:0.8952991530757635 test:0.7925530135939421\n",
      "n_estimators:200 max_depth:5 min_split:3 min_leaf:6 learning_rate:0.5 max_fe:0.8 train:0.899342137083751 test:0.7935281984523919\n",
      "n_estimators:200 max_depth:5 min_split:3 min_leaf:6 learning_rate:0.5 max_fe:0.9 train:0.8998874850458596 test:0.7904420876845251\n",
      "n_estimators:200 max_depth:5 min_split:4 min_leaf:5 learning_rate:0.1 max_fe:0.6 train:0.8429554006961137 test:0.8070771120366941\n",
      "n_estimators:200 max_depth:5 min_split:4 min_leaf:5 learning_rate:0.1 max_fe:0.8 train:0.8458322852362936 test:0.8108411334082225\n",
      "n_estimators:200 max_depth:5 min_split:4 min_leaf:5 learning_rate:0.1 max_fe:0.9 train:0.8430483170072608 test:0.8086700317824459\n",
      "n_estimators:200 max_depth:5 min_split:4 min_leaf:5 learning_rate:0.15 max_fe:0.6 train:0.8563556919381718 test:0.8117108214189923\n",
      "n_estimators:200 max_depth:5 min_split:4 min_leaf:5 learning_rate:0.15 max_fe:0.8 train:0.8593238209689611 test:0.8111175685929828\n",
      "n_estimators:200 max_depth:5 min_split:4 min_leaf:5 learning_rate:0.15 max_fe:0.9 train:0.8605565890056222 test:0.8133456261889536\n",
      "n_estimators:200 max_depth:5 min_split:4 min_leaf:5 learning_rate:0.2 max_fe:0.6 train:0.8675591955328784 test:0.8130394198854967\n",
      "n_estimators:200 max_depth:5 min_split:4 min_leaf:5 learning_rate:0.2 max_fe:0.8 train:0.8660161116109841 test:0.8119951681700598\n",
      "n_estimators:200 max_depth:5 min_split:4 min_leaf:5 learning_rate:0.2 max_fe:0.9 train:0.868085690038665 test:0.8143491916266768\n",
      "n_estimators:200 max_depth:5 min_split:4 min_leaf:5 learning_rate:0.3 max_fe:0.6 train:0.8795517966844516 test:0.8056852979371109\n",
      "n_estimators:200 max_depth:5 min_split:4 min_leaf:5 learning_rate:0.3 max_fe:0.8 train:0.8859427607193651 test:0.8099684759011183\n",
      "n_estimators:200 max_depth:5 min_split:4 min_leaf:5 learning_rate:0.3 max_fe:0.9 train:0.8836249184041208 test:0.812094942283736\n",
      "n_estimators:200 max_depth:5 min_split:4 min_leaf:5 learning_rate:0.5 max_fe:0.6 train:0.8993196733353359 test:0.8008352803094325\n",
      "n_estimators:200 max_depth:5 min_split:4 min_leaf:5 learning_rate:0.5 max_fe:0.8 train:0.8995106615410887 test:0.7963014162288885\n",
      "n_estimators:200 max_depth:5 min_split:4 min_leaf:5 learning_rate:0.5 max_fe:0.9 train:0.8982186444489187 test:0.7932265504873071\n",
      "n_estimators:200 max_depth:5 min_split:4 min_leaf:6 learning_rate:0.1 max_fe:0.6 train:0.8416811538131111 test:0.8088260157723057\n",
      "n_estimators:200 max_depth:5 min_split:4 min_leaf:6 learning_rate:0.1 max_fe:0.8 train:0.8425583463251793 test:0.8088184750149505\n",
      "n_estimators:200 max_depth:5 min_split:4 min_leaf:6 learning_rate:0.1 max_fe:0.9 train:0.8422755781896227 test:0.8069196714095865\n",
      "n_estimators:200 max_depth:5 min_split:4 min_leaf:6 learning_rate:0.15 max_fe:0.6 train:0.8546101412739879 test:0.8114415785837489\n",
      "n_estimators:200 max_depth:5 min_split:4 min_leaf:6 learning_rate:0.15 max_fe:0.8 train:0.859746416863467 test:0.8156724183141065\n",
      "n_estimators:200 max_depth:5 min_split:4 min_leaf:6 learning_rate:0.15 max_fe:0.9 train:0.8601195793225808 test:0.8118043318656689\n",
      "n_estimators:200 max_depth:5 min_split:4 min_leaf:6 learning_rate:0.2 max_fe:0.6 train:0.8680570938557376 test:0.8133818121393609\n",
      "n_estimators:200 max_depth:5 min_split:4 min_leaf:6 learning_rate:0.2 max_fe:0.8 train:0.8703930261121606 test:0.8096371136541815\n",
      "n_estimators:200 max_depth:5 min_split:4 min_leaf:6 learning_rate:0.2 max_fe:0.9 train:0.8706880066355026 test:0.8135129206807001\n",
      "n_estimators:200 max_depth:5 min_split:4 min_leaf:6 learning_rate:0.3 max_fe:0.6 train:0.8811214952980113 test:0.8059383937753848\n",
      "n_estimators:200 max_depth:5 min_split:4 min_leaf:6 learning_rate:0.3 max_fe:0.8 train:0.8844936707603765 test:0.8078483342120193\n",
      "n_estimators:200 max_depth:5 min_split:4 min_leaf:6 learning_rate:0.3 max_fe:0.9 train:0.8840660871644103 test:0.8122212707407384\n",
      "n_estimators:200 max_depth:5 min_split:4 min_leaf:6 learning_rate:0.5 max_fe:0.6 train:0.8931639730253339 test:0.7935267016614596\n",
      "n_estimators:200 max_depth:5 min_split:4 min_leaf:6 learning_rate:0.5 max_fe:0.8 train:0.8998537329531505 test:0.7975737311465496\n",
      "n_estimators:200 max_depth:5 min_split:4 min_leaf:6 learning_rate:0.5 max_fe:0.9 train:0.8989821709544655 test:0.7969813300279914\n",
      "n_estimators:200 max_depth:5 min_split:10 min_leaf:5 learning_rate:0.1 max_fe:0.6 train:0.8403509996531769 test:0.8083724452597877\n",
      "n_estimators:200 max_depth:5 min_split:10 min_leaf:5 learning_rate:0.1 max_fe:0.8 train:0.8405986004913973 test:0.809098001958149\n",
      "n_estimators:200 max_depth:5 min_split:10 min_leaf:5 learning_rate:0.1 max_fe:0.9 train:0.8433518086805982 test:0.811015302204135\n",
      "n_estimators:200 max_depth:5 min_split:10 min_leaf:5 learning_rate:0.15 max_fe:0.6 train:0.8570604972741149 test:0.8134015049531882\n"
     ]
    },
    {
     "name": "stdout",
     "output_type": "stream",
     "text": [
      "n_estimators:200 max_depth:5 min_split:10 min_leaf:5 learning_rate:0.15 max_fe:0.8 train:0.8612926945218485 test:0.8128784136108663\n",
      "n_estimators:200 max_depth:5 min_split:10 min_leaf:5 learning_rate:0.15 max_fe:0.9 train:0.858829486926006 test:0.8120458024473354\n",
      "n_estimators:200 max_depth:5 min_split:10 min_leaf:5 learning_rate:0.2 max_fe:0.6 train:0.8678330590893051 test:0.8112061331084985\n",
      "n_estimators:200 max_depth:5 min_split:10 min_leaf:5 learning_rate:0.2 max_fe:0.8 train:0.8711716917339407 test:0.8149132519575067\n",
      "n_estimators:200 max_depth:5 min_split:10 min_leaf:5 learning_rate:0.2 max_fe:0.9 train:0.8688807407574136 test:0.8134304891982975\n",
      "n_estimators:200 max_depth:5 min_split:10 min_leaf:5 learning_rate:0.3 max_fe:0.6 train:0.8830052296113872 test:0.807283128911993\n",
      "n_estimators:200 max_depth:5 min_split:10 min_leaf:5 learning_rate:0.3 max_fe:0.8 train:0.8856266182727652 test:0.8056859272647897\n",
      "n_estimators:200 max_depth:5 min_split:10 min_leaf:5 learning_rate:0.3 max_fe:0.9 train:0.8823666106030003 test:0.8052978527691146\n",
      "n_estimators:200 max_depth:5 min_split:10 min_leaf:5 learning_rate:0.5 max_fe:0.6 train:0.8954211216382352 test:0.7940977867603535\n",
      "n_estimators:200 max_depth:5 min_split:10 min_leaf:5 learning_rate:0.5 max_fe:0.8 train:0.9022820814025334 test:0.7906556605396591\n",
      "n_estimators:200 max_depth:5 min_split:10 min_leaf:5 learning_rate:0.5 max_fe:0.9 train:0.89879916537246 test:0.7962410842746872\n",
      "n_estimators:200 max_depth:5 min_split:10 min_leaf:6 learning_rate:0.1 max_fe:0.6 train:0.8415106971686618 test:0.8100436489738314\n",
      "n_estimators:200 max_depth:5 min_split:10 min_leaf:6 learning_rate:0.1 max_fe:0.8 train:0.8447888095415015 test:0.8106834307916311\n",
      "n_estimators:200 max_depth:5 min_split:10 min_leaf:6 learning_rate:0.1 max_fe:0.9 train:0.8413798225250292 test:0.8102631482475802\n",
      "n_estimators:200 max_depth:5 min_split:10 min_leaf:6 learning_rate:0.15 max_fe:0.6 train:0.8578177052397685 test:0.8126927782587761\n",
      "n_estimators:200 max_depth:5 min_split:10 min_leaf:6 learning_rate:0.15 max_fe:0.8 train:0.8570812115103679 test:0.8119116243860779\n",
      "n_estimators:200 max_depth:5 min_split:10 min_leaf:6 learning_rate:0.15 max_fe:0.9 train:0.8609992180454422 test:0.8099968991698778\n",
      "n_estimators:200 max_depth:5 min_split:10 min_leaf:6 learning_rate:0.2 max_fe:0.6 train:0.8676080215880666 test:0.8145569202085418\n",
      "n_estimators:200 max_depth:5 min_split:10 min_leaf:6 learning_rate:0.2 max_fe:0.8 train:0.8697289304568336 test:0.8114199605532454\n",
      "n_estimators:200 max_depth:5 min_split:10 min_leaf:6 learning_rate:0.2 max_fe:0.9 train:0.8689136138262015 test:0.8117104881313039\n",
      "n_estimators:200 max_depth:5 min_split:10 min_leaf:6 learning_rate:0.3 max_fe:0.6 train:0.87956554919152 test:0.8077763979245894\n",
      "n_estimators:200 max_depth:5 min_split:10 min_leaf:6 learning_rate:0.3 max_fe:0.8 train:0.8814920512962837 test:0.8082595273167598\n",
      "n_estimators:200 max_depth:5 min_split:10 min_leaf:6 learning_rate:0.3 max_fe:0.9 train:0.8846039493604506 test:0.808695814116557\n",
      "n_estimators:200 max_depth:5 min_split:10 min_leaf:6 learning_rate:0.5 max_fe:0.6 train:0.8948401753887475 test:0.7903214177567939\n",
      "n_estimators:200 max_depth:5 min_split:10 min_leaf:6 learning_rate:0.5 max_fe:0.8 train:0.8952150344397721 test:0.7938929366274827\n",
      "n_estimators:200 max_depth:5 min_split:10 min_leaf:6 learning_rate:0.5 max_fe:0.9 train:0.8962551944967044 test:0.7956911959078259\n",
      "n_estimators:200 max_depth:4 min_split:3 min_leaf:5 learning_rate:0.1 max_fe:0.6 train:0.8093081448328051 test:0.7943194970780614\n",
      "n_estimators:200 max_depth:4 min_split:3 min_leaf:5 learning_rate:0.1 max_fe:0.8 train:0.8119135479866424 test:0.7962999677614584\n",
      "n_estimators:200 max_depth:4 min_split:3 min_leaf:5 learning_rate:0.1 max_fe:0.9 train:0.8151601579651939 test:0.7982819264695228\n",
      "n_estimators:200 max_depth:4 min_split:3 min_leaf:5 learning_rate:0.15 max_fe:0.6 train:0.8266521094994941 test:0.8023254853561418\n",
      "n_estimators:200 max_depth:4 min_split:3 min_leaf:5 learning_rate:0.15 max_fe:0.8 train:0.8304827317844579 test:0.804584544246313\n",
      "n_estimators:200 max_depth:4 min_split:3 min_leaf:5 learning_rate:0.15 max_fe:0.9 train:0.8287306351568051 test:0.8031242297222954\n",
      "n_estimators:200 max_depth:4 min_split:3 min_leaf:5 learning_rate:0.2 max_fe:0.6 train:0.8397025453507365 test:0.807817966721859\n",
      "n_estimators:200 max_depth:4 min_split:3 min_leaf:5 learning_rate:0.2 max_fe:0.8 train:0.8411529392015781 test:0.8054988280775641\n",
      "n_estimators:200 max_depth:4 min_split:3 min_leaf:5 learning_rate:0.2 max_fe:0.9 train:0.8419147752246565 test:0.8116103605365815\n",
      "n_estimators:200 max_depth:4 min_split:3 min_leaf:5 learning_rate:0.3 max_fe:0.6 train:0.8537851735509527 test:0.8071963568107731\n",
      "n_estimators:200 max_depth:4 min_split:3 min_leaf:5 learning_rate:0.3 max_fe:0.8 train:0.8586341338785923 test:0.8054079885700458\n",
      "n_estimators:200 max_depth:4 min_split:3 min_leaf:5 learning_rate:0.3 max_fe:0.9 train:0.8564382568709925 test:0.8094699989580716\n",
      "n_estimators:200 max_depth:4 min_split:3 min_leaf:5 learning_rate:0.5 max_fe:0.6 train:0.870268952763897 test:0.8038954663664635\n",
      "n_estimators:200 max_depth:4 min_split:3 min_leaf:5 learning_rate:0.5 max_fe:0.8 train:0.8720139189870746 test:0.7997919049353817\n",
      "n_estimators:200 max_depth:4 min_split:3 min_leaf:5 learning_rate:0.5 max_fe:0.9 train:0.8775870614181731 test:0.8006751103169312\n",
      "n_estimators:200 max_depth:4 min_split:3 min_leaf:6 learning_rate:0.1 max_fe:0.6 train:0.8116463698668357 test:0.7964200684607043\n",
      "n_estimators:200 max_depth:4 min_split:3 min_leaf:6 learning_rate:0.1 max_fe:0.8 train:0.8115590225580335 test:0.7942253786103354\n",
      "n_estimators:200 max_depth:4 min_split:3 min_leaf:6 learning_rate:0.1 max_fe:0.9 train:0.8153867793499306 test:0.7983296429037535\n",
      "n_estimators:200 max_depth:4 min_split:3 min_leaf:6 learning_rate:0.15 max_fe:0.6 train:0.8257777812463702 test:0.80289366262883\n",
      "n_estimators:200 max_depth:4 min_split:3 min_leaf:6 learning_rate:0.15 max_fe:0.8 train:0.8277694204792084 test:0.8029226116507011\n",
      "n_estimators:200 max_depth:4 min_split:3 min_leaf:6 learning_rate:0.15 max_fe:0.9 train:0.8344953692532442 test:0.8045805129919751\n",
      "n_estimators:200 max_depth:4 min_split:3 min_leaf:6 learning_rate:0.2 max_fe:0.6 train:0.8375803226916534 test:0.807266819097733\n",
      "n_estimators:200 max_depth:4 min_split:3 min_leaf:6 learning_rate:0.2 max_fe:0.8 train:0.8385167362858239 test:0.8085031890617366\n",
      "n_estimators:200 max_depth:4 min_split:3 min_leaf:6 learning_rate:0.2 max_fe:0.9 train:0.8425984839898092 test:0.8066111877397419\n",
      "n_estimators:200 max_depth:4 min_split:3 min_leaf:6 learning_rate:0.3 max_fe:0.6 train:0.8521000835146482 test:0.8070473214340728\n",
      "n_estimators:200 max_depth:4 min_split:3 min_leaf:6 learning_rate:0.3 max_fe:0.8 train:0.8556761081784019 test:0.8098266790501203\n",
      "n_estimators:200 max_depth:4 min_split:3 min_leaf:6 learning_rate:0.3 max_fe:0.9 train:0.8554035281004081 test:0.8113656159793168\n",
      "n_estimators:200 max_depth:4 min_split:3 min_leaf:6 learning_rate:0.5 max_fe:0.6 train:0.8671391849931007 test:0.8060693067153913\n",
      "n_estimators:200 max_depth:4 min_split:3 min_leaf:6 learning_rate:0.5 max_fe:0.8 train:0.8717781873971826 test:0.8024221091609414\n",
      "n_estimators:200 max_depth:4 min_split:3 min_leaf:6 learning_rate:0.5 max_fe:0.9 train:0.8716089644417226 test:0.8029540758204371\n",
      "n_estimators:200 max_depth:4 min_split:4 min_leaf:5 learning_rate:0.1 max_fe:0.6 train:0.8133480158109131 test:0.7981261690343505\n",
      "n_estimators:200 max_depth:4 min_split:4 min_leaf:5 learning_rate:0.1 max_fe:0.8 train:0.8143607525919735 test:0.7980093376388847\n",
      "n_estimators:200 max_depth:4 min_split:4 min_leaf:5 learning_rate:0.1 max_fe:0.9 train:0.8122646843291484 test:0.7963108948067451\n",
      "n_estimators:200 max_depth:4 min_split:4 min_leaf:5 learning_rate:0.15 max_fe:0.6 train:0.8273420640709308 test:0.8036225022502133\n",
      "n_estimators:200 max_depth:4 min_split:4 min_leaf:5 learning_rate:0.15 max_fe:0.8 train:0.8288341617280253 test:0.8049326793584154\n",
      "n_estimators:200 max_depth:4 min_split:4 min_leaf:5 learning_rate:0.15 max_fe:0.9 train:0.8322524833981608 test:0.8049877831175153\n",
      "n_estimators:200 max_depth:4 min_split:4 min_leaf:5 learning_rate:0.2 max_fe:0.6 train:0.8405837592720379 test:0.8074128670687925\n"
     ]
    },
    {
     "name": "stdout",
     "output_type": "stream",
     "text": [
      "n_estimators:200 max_depth:4 min_split:4 min_leaf:5 learning_rate:0.2 max_fe:0.8 train:0.8397854080814456 test:0.8091238337728546\n",
      "n_estimators:200 max_depth:4 min_split:4 min_leaf:5 learning_rate:0.2 max_fe:0.9 train:0.8421046657100826 test:0.808307012166937\n",
      "n_estimators:200 max_depth:4 min_split:4 min_leaf:5 learning_rate:0.3 max_fe:0.6 train:0.8570980250818487 test:0.8047564775957425\n",
      "n_estimators:200 max_depth:4 min_split:4 min_leaf:5 learning_rate:0.3 max_fe:0.8 train:0.8553388190369544 test:0.8048164375706772\n",
      "n_estimators:200 max_depth:4 min_split:4 min_leaf:5 learning_rate:0.3 max_fe:0.9 train:0.8591106722646896 test:0.8094778270959422\n",
      "n_estimators:200 max_depth:4 min_split:4 min_leaf:5 learning_rate:0.5 max_fe:0.6 train:0.872287245227467 test:0.799155647971597\n",
      "n_estimators:200 max_depth:4 min_split:4 min_leaf:5 learning_rate:0.5 max_fe:0.8 train:0.8720000491858834 test:0.797685975580328\n",
      "n_estimators:200 max_depth:4 min_split:4 min_leaf:5 learning_rate:0.5 max_fe:0.9 train:0.874974287755913 test:0.8002638107073233\n",
      "n_estimators:200 max_depth:4 min_split:4 min_leaf:6 learning_rate:0.1 max_fe:0.6 train:0.8119034892363675 test:0.7981463882780757\n",
      "n_estimators:200 max_depth:4 min_split:4 min_leaf:6 learning_rate:0.1 max_fe:0.8 train:0.8138784369856945 test:0.7963398208458139\n",
      "n_estimators:200 max_depth:4 min_split:4 min_leaf:6 learning_rate:0.1 max_fe:0.9 train:0.8125137693675719 test:0.7944703178435486\n",
      "n_estimators:200 max_depth:4 min_split:4 min_leaf:6 learning_rate:0.15 max_fe:0.6 train:0.828205654636436 test:0.8041089267904798\n",
      "n_estimators:200 max_depth:4 min_split:4 min_leaf:6 learning_rate:0.15 max_fe:0.8 train:0.8314083766435808 test:0.8023575023076179\n",
      "n_estimators:200 max_depth:4 min_split:4 min_leaf:6 learning_rate:0.15 max_fe:0.9 train:0.8308310964061694 test:0.8044552930490441\n",
      "n_estimators:200 max_depth:4 min_split:4 min_leaf:6 learning_rate:0.2 max_fe:0.6 train:0.8375630099203928 test:0.8073200655624844\n",
      "n_estimators:200 max_depth:4 min_split:4 min_leaf:6 learning_rate:0.2 max_fe:0.8 train:0.8377055145825356 test:0.8070178178240355\n",
      "n_estimators:200 max_depth:4 min_split:4 min_leaf:6 learning_rate:0.2 max_fe:0.9 train:0.8412654070719623 test:0.807525249241931\n",
      "n_estimators:200 max_depth:4 min_split:4 min_leaf:6 learning_rate:0.3 max_fe:0.6 train:0.8547730079882776 test:0.8082666148307276\n",
      "n_estimators:200 max_depth:4 min_split:4 min_leaf:6 learning_rate:0.3 max_fe:0.8 train:0.8561510969046422 test:0.8041908733980394\n",
      "n_estimators:200 max_depth:4 min_split:4 min_leaf:6 learning_rate:0.3 max_fe:0.9 train:0.8568106001371918 test:0.8076119039060545\n",
      "n_estimators:200 max_depth:4 min_split:4 min_leaf:6 learning_rate:0.5 max_fe:0.6 train:0.8688401885708068 test:0.8035931703946673\n",
      "n_estimators:200 max_depth:4 min_split:4 min_leaf:6 learning_rate:0.5 max_fe:0.8 train:0.8724214937205608 test:0.8035854712427085\n",
      "n_estimators:200 max_depth:4 min_split:4 min_leaf:6 learning_rate:0.5 max_fe:0.9 train:0.8706835908378876 test:0.8023611756891278\n",
      "n_estimators:200 max_depth:4 min_split:10 min_leaf:5 learning_rate:0.1 max_fe:0.6 train:0.811115438018086 test:0.794789113518244\n",
      "n_estimators:200 max_depth:4 min_split:10 min_leaf:5 learning_rate:0.1 max_fe:0.8 train:0.8123530805168224 test:0.7958463534647294\n",
      "n_estimators:200 max_depth:4 min_split:10 min_leaf:5 learning_rate:0.1 max_fe:0.9 train:0.8090226894757772 test:0.7953383185070872\n",
      "n_estimators:200 max_depth:4 min_split:10 min_leaf:5 learning_rate:0.15 max_fe:0.6 train:0.8294249004557188 test:0.8058876197350816\n",
      "n_estimators:200 max_depth:4 min_split:10 min_leaf:5 learning_rate:0.15 max_fe:0.8 train:0.8319573826884281 test:0.8029992823206409\n",
      "n_estimators:200 max_depth:4 min_split:10 min_leaf:5 learning_rate:0.15 max_fe:0.9 train:0.8320973699995087 test:0.8068194093801022\n",
      "n_estimators:200 max_depth:4 min_split:10 min_leaf:5 learning_rate:0.2 max_fe:0.6 train:0.8379295097173738 test:0.8043403679655001\n",
      "n_estimators:200 max_depth:4 min_split:10 min_leaf:5 learning_rate:0.2 max_fe:0.8 train:0.8411166251726779 test:0.8102174069469246\n",
      "n_estimators:200 max_depth:4 min_split:10 min_leaf:5 learning_rate:0.2 max_fe:0.9 train:0.8427234710015997 test:0.8085856974708105\n",
      "n_estimators:200 max_depth:4 min_split:10 min_leaf:5 learning_rate:0.3 max_fe:0.6 train:0.8556000326875541 test:0.808854830825531\n",
      "n_estimators:200 max_depth:4 min_split:10 min_leaf:5 learning_rate:0.3 max_fe:0.8 train:0.8576340266683659 test:0.8067958394001735\n",
      "n_estimators:200 max_depth:4 min_split:10 min_leaf:5 learning_rate:0.3 max_fe:0.9 train:0.8586212984951103 test:0.8077154467722105\n",
      "n_estimators:200 max_depth:4 min_split:10 min_leaf:5 learning_rate:0.5 max_fe:0.6 train:0.870362072579135 test:0.801644218217208\n",
      "n_estimators:200 max_depth:4 min_split:10 min_leaf:5 learning_rate:0.5 max_fe:0.8 train:0.8748784962407621 test:0.8002952132989967\n",
      "n_estimators:200 max_depth:4 min_split:10 min_leaf:5 learning_rate:0.5 max_fe:0.9 train:0.8724789801694002 test:0.80132686780813\n",
      "n_estimators:200 max_depth:4 min_split:10 min_leaf:6 learning_rate:0.1 max_fe:0.6 train:0.8087963351009023 test:0.7959400137942947\n",
      "n_estimators:200 max_depth:4 min_split:10 min_leaf:6 learning_rate:0.1 max_fe:0.8 train:0.8116862198886607 test:0.7967189923971535\n",
      "n_estimators:200 max_depth:4 min_split:10 min_leaf:6 learning_rate:0.1 max_fe:0.9 train:0.81214652250891 test:0.7970536025864966\n",
      "n_estimators:200 max_depth:4 min_split:10 min_leaf:6 learning_rate:0.15 max_fe:0.6 train:0.8263271245589106 test:0.8053644373056306\n",
      "n_estimators:200 max_depth:4 min_split:10 min_leaf:6 learning_rate:0.15 max_fe:0.8 train:0.8286443972114175 test:0.803127012677852\n",
      "n_estimators:200 max_depth:4 min_split:10 min_leaf:6 learning_rate:0.15 max_fe:0.9 train:0.8302674766474507 test:0.8063023867260268\n",
      "n_estimators:200 max_depth:4 min_split:10 min_leaf:6 learning_rate:0.2 max_fe:0.6 train:0.8382492065844602 test:0.8077074483578126\n",
      "n_estimators:200 max_depth:4 min_split:10 min_leaf:6 learning_rate:0.2 max_fe:0.8 train:0.8421203601317222 test:0.8077109299558332\n",
      "n_estimators:200 max_depth:4 min_split:10 min_leaf:6 learning_rate:0.2 max_fe:0.9 train:0.8414372497553148 test:0.8098715902999722\n",
      "n_estimators:200 max_depth:4 min_split:10 min_leaf:6 learning_rate:0.3 max_fe:0.6 train:0.8536750126855422 test:0.8065216776448245\n",
      "n_estimators:200 max_depth:4 min_split:10 min_leaf:6 learning_rate:0.3 max_fe:0.8 train:0.8563660203529696 test:0.8087583183891461\n",
      "n_estimators:200 max_depth:4 min_split:10 min_leaf:6 learning_rate:0.3 max_fe:0.9 train:0.8578040113772688 test:0.809176911185012\n",
      "n_estimators:200 max_depth:4 min_split:10 min_leaf:6 learning_rate:0.5 max_fe:0.6 train:0.8702298162009278 test:0.8005919680901366\n",
      "n_estimators:200 max_depth:4 min_split:10 min_leaf:6 learning_rate:0.5 max_fe:0.8 train:0.8701062715818921 test:0.7986448103835967\n",
      "n_estimators:200 max_depth:4 min_split:10 min_leaf:6 learning_rate:0.5 max_fe:0.9 train:0.8729216094245325 test:0.8013901153027894\n",
      "n_estimators:200 max_depth:6 min_split:3 min_leaf:5 learning_rate:0.1 max_fe:0.6 train:0.8674081918823131 test:0.8170208390517848\n",
      "n_estimators:200 max_depth:6 min_split:3 min_leaf:5 learning_rate:0.1 max_fe:0.8 train:0.8684394194730768 test:0.8151144193465505\n",
      "n_estimators:200 max_depth:6 min_split:3 min_leaf:5 learning_rate:0.1 max_fe:0.9 train:0.8686116146150716 test:0.813559263943505\n",
      "n_estimators:200 max_depth:6 min_split:3 min_leaf:5 learning_rate:0.15 max_fe:0.6 train:0.8817432619214808 test:0.8146310377873431\n",
      "n_estimators:200 max_depth:6 min_split:3 min_leaf:5 learning_rate:0.15 max_fe:0.8 train:0.880306459383913 test:0.8160014681821656\n",
      "n_estimators:200 max_depth:6 min_split:3 min_leaf:5 learning_rate:0.15 max_fe:0.9 train:0.8850787347189005 test:0.8165894654067101\n",
      "n_estimators:200 max_depth:6 min_split:3 min_leaf:5 learning_rate:0.2 max_fe:0.6 train:0.890180000320741 test:0.8153816120838684\n",
      "n_estimators:200 max_depth:6 min_split:3 min_leaf:5 learning_rate:0.2 max_fe:0.8 train:0.891600293301714 test:0.8144309763973117\n",
      "n_estimators:200 max_depth:6 min_split:3 min_leaf:5 learning_rate:0.2 max_fe:0.9 train:0.8954506441336066 test:0.8152230645670728\n",
      "n_estimators:200 max_depth:6 min_split:3 min_leaf:5 learning_rate:0.3 max_fe:0.6 train:0.904167769087879 test:0.8020989836619437\n"
     ]
    },
    {
     "name": "stdout",
     "output_type": "stream",
     "text": [
      "n_estimators:200 max_depth:6 min_split:3 min_leaf:5 learning_rate:0.3 max_fe:0.8 train:0.9072059633907521 test:0.8066392597556589\n",
      "n_estimators:200 max_depth:6 min_split:3 min_leaf:5 learning_rate:0.3 max_fe:0.9 train:0.9043305023893341 test:0.8098621168938757\n",
      "n_estimators:200 max_depth:6 min_split:3 min_leaf:5 learning_rate:0.5 max_fe:0.6 train:0.9193809518803177 test:0.7929658618524398\n",
      "n_estimators:200 max_depth:6 min_split:3 min_leaf:5 learning_rate:0.5 max_fe:0.8 train:0.9209375697729578 test:0.7975734027931788\n",
      "n_estimators:200 max_depth:6 min_split:3 min_leaf:5 learning_rate:0.5 max_fe:0.9 train:0.918767146261582 test:0.7933291398186252\n",
      "n_estimators:200 max_depth:6 min_split:3 min_leaf:6 learning_rate:0.1 max_fe:0.6 train:0.8656009417345915 test:0.8167719381784976\n",
      "n_estimators:200 max_depth:6 min_split:3 min_leaf:6 learning_rate:0.1 max_fe:0.8 train:0.8658782896420985 test:0.8173473124503305\n",
      "n_estimators:200 max_depth:6 min_split:3 min_leaf:6 learning_rate:0.1 max_fe:0.9 train:0.8679966605212927 test:0.8166565933589132\n",
      "n_estimators:200 max_depth:6 min_split:3 min_leaf:6 learning_rate:0.15 max_fe:0.6 train:0.8787631516294674 test:0.8164231744235848\n",
      "n_estimators:200 max_depth:6 min_split:3 min_leaf:6 learning_rate:0.15 max_fe:0.8 train:0.8798703057144622 test:0.818636716474814\n",
      "n_estimators:200 max_depth:6 min_split:3 min_leaf:6 learning_rate:0.15 max_fe:0.9 train:0.8782749700470049 test:0.8134577685268833\n",
      "n_estimators:200 max_depth:6 min_split:3 min_leaf:6 learning_rate:0.2 max_fe:0.6 train:0.8889021296499452 test:0.81037965627044\n",
      "n_estimators:200 max_depth:6 min_split:3 min_leaf:6 learning_rate:0.2 max_fe:0.8 train:0.8867177925467645 test:0.8129858910282091\n",
      "n_estimators:200 max_depth:6 min_split:3 min_leaf:6 learning_rate:0.2 max_fe:0.9 train:0.8931688691843569 test:0.8154920900208418\n",
      "n_estimators:200 max_depth:6 min_split:3 min_leaf:6 learning_rate:0.3 max_fe:0.6 train:0.9027915876719065 test:0.806707304372333\n",
      "n_estimators:200 max_depth:6 min_split:3 min_leaf:6 learning_rate:0.3 max_fe:0.8 train:0.9022788513806073 test:0.8112197691971904\n",
      "n_estimators:200 max_depth:6 min_split:3 min_leaf:6 learning_rate:0.3 max_fe:0.9 train:0.9014404261736892 test:0.8107908399860877\n",
      "n_estimators:200 max_depth:6 min_split:3 min_leaf:6 learning_rate:0.5 max_fe:0.6 train:0.9190704815181082 test:0.7896547597750518\n",
      "n_estimators:200 max_depth:6 min_split:3 min_leaf:6 learning_rate:0.5 max_fe:0.8 train:0.921066096176468 test:0.7867639141743322\n",
      "n_estimators:200 max_depth:6 min_split:3 min_leaf:6 learning_rate:0.5 max_fe:0.9 train:0.9220333870765678 test:0.7910206317642176\n",
      "n_estimators:200 max_depth:6 min_split:4 min_leaf:5 learning_rate:0.1 max_fe:0.6 train:0.8659122715967875 test:0.8141518221107843\n",
      "n_estimators:200 max_depth:6 min_split:4 min_leaf:5 learning_rate:0.1 max_fe:0.8 train:0.8666216919405626 test:0.8148310219798829\n",
      "n_estimators:200 max_depth:6 min_split:4 min_leaf:5 learning_rate:0.1 max_fe:0.9 train:0.8695521206915111 test:0.8158419321710398\n",
      "n_estimators:200 max_depth:6 min_split:4 min_leaf:5 learning_rate:0.15 max_fe:0.6 train:0.8819384871071936 test:0.8153956740686824\n",
      "n_estimators:200 max_depth:6 min_split:4 min_leaf:5 learning_rate:0.15 max_fe:0.8 train:0.8814924303836673 test:0.8184968568065664\n",
      "n_estimators:200 max_depth:6 min_split:4 min_leaf:5 learning_rate:0.15 max_fe:0.9 train:0.8828408629692243 test:0.8151158660010935\n",
      "n_estimators:200 max_depth:6 min_split:4 min_leaf:5 learning_rate:0.2 max_fe:0.6 train:0.891249107823616 test:0.8184392657936876\n",
      "n_estimators:200 max_depth:6 min_split:4 min_leaf:5 learning_rate:0.2 max_fe:0.8 train:0.8910492179986411 test:0.8108812099479994\n",
      "n_estimators:200 max_depth:6 min_split:4 min_leaf:5 learning_rate:0.2 max_fe:0.9 train:0.8946033122020852 test:0.8148162071692642\n",
      "n_estimators:200 max_depth:6 min_split:4 min_leaf:5 learning_rate:0.3 max_fe:0.6 train:0.903303099414619 test:0.8068006289041375\n",
      "n_estimators:200 max_depth:6 min_split:4 min_leaf:5 learning_rate:0.3 max_fe:0.8 train:0.9063580337164047 test:0.8000709666991344\n",
      "n_estimators:200 max_depth:6 min_split:4 min_leaf:5 learning_rate:0.3 max_fe:0.9 train:0.9041594654996826 test:0.8081794038302164\n",
      "n_estimators:200 max_depth:6 min_split:4 min_leaf:5 learning_rate:0.5 max_fe:0.6 train:0.9167774458892235 test:0.7900433631945796\n",
      "n_estimators:200 max_depth:6 min_split:4 min_leaf:5 learning_rate:0.5 max_fe:0.8 train:0.92074836850889 test:0.7942302917951205\n",
      "n_estimators:200 max_depth:6 min_split:4 min_leaf:5 learning_rate:0.5 max_fe:0.9 train:0.9212155645470108 test:0.7902230496909419\n",
      "n_estimators:200 max_depth:6 min_split:4 min_leaf:6 learning_rate:0.1 max_fe:0.6 train:0.865182481788008 test:0.8175356074813973\n",
      "n_estimators:200 max_depth:6 min_split:4 min_leaf:6 learning_rate:0.1 max_fe:0.8 train:0.8672154761199866 test:0.81527331805071\n",
      "n_estimators:200 max_depth:6 min_split:4 min_leaf:6 learning_rate:0.1 max_fe:0.9 train:0.867432104234245 test:0.8192584026361269\n",
      "n_estimators:200 max_depth:6 min_split:4 min_leaf:6 learning_rate:0.15 max_fe:0.6 train:0.8776414172212572 test:0.8172463818475624\n",
      "n_estimators:200 max_depth:6 min_split:4 min_leaf:6 learning_rate:0.15 max_fe:0.8 train:0.8815072721583777 test:0.8180581806224232\n",
      "n_estimators:200 max_depth:6 min_split:4 min_leaf:6 learning_rate:0.15 max_fe:0.9 train:0.8812654047836243 test:0.817807273828583\n",
      "n_estimators:200 max_depth:6 min_split:4 min_leaf:6 learning_rate:0.2 max_fe:0.6 train:0.888492485995158 test:0.8130413141279564\n",
      "n_estimators:200 max_depth:6 min_split:4 min_leaf:6 learning_rate:0.2 max_fe:0.8 train:0.8882285283898271 test:0.8158327241297222\n",
      "n_estimators:200 max_depth:6 min_split:4 min_leaf:6 learning_rate:0.2 max_fe:0.9 train:0.8889141933182465 test:0.8158893174521169\n",
      "n_estimators:200 max_depth:6 min_split:4 min_leaf:6 learning_rate:0.3 max_fe:0.6 train:0.9015586585513129 test:0.8111437554116304\n",
      "n_estimators:200 max_depth:6 min_split:4 min_leaf:6 learning_rate:0.3 max_fe:0.8 train:0.9013522209886935 test:0.8065267155493415\n",
      "n_estimators:200 max_depth:6 min_split:4 min_leaf:6 learning_rate:0.3 max_fe:0.9 train:0.903681930298622 test:0.8061298512499973\n",
      "n_estimators:200 max_depth:6 min_split:4 min_leaf:6 learning_rate:0.5 max_fe:0.6 train:0.915160414394568 test:0.7941400476397801\n",
      "n_estimators:200 max_depth:6 min_split:4 min_leaf:6 learning_rate:0.5 max_fe:0.8 train:0.9209787943621823 test:0.7866055240254095\n",
      "n_estimators:200 max_depth:6 min_split:4 min_leaf:6 learning_rate:0.5 max_fe:0.9 train:0.9195846961686766 test:0.7886145481293014\n",
      "n_estimators:200 max_depth:6 min_split:10 min_leaf:5 learning_rate:0.1 max_fe:0.6 train:0.8656336975584441 test:0.8166836317587742\n",
      "n_estimators:200 max_depth:6 min_split:10 min_leaf:5 learning_rate:0.1 max_fe:0.8 train:0.8689777541586607 test:0.8155754216544847\n",
      "n_estimators:200 max_depth:6 min_split:10 min_leaf:5 learning_rate:0.1 max_fe:0.9 train:0.8667960041094929 test:0.8146199016836444\n",
      "n_estimators:200 max_depth:6 min_split:10 min_leaf:5 learning_rate:0.15 max_fe:0.6 train:0.8798311762047788 test:0.8167045937552779\n",
      "n_estimators:200 max_depth:6 min_split:10 min_leaf:5 learning_rate:0.15 max_fe:0.8 train:0.881975614264599 test:0.815437694138369\n",
      "n_estimators:200 max_depth:6 min_split:10 min_leaf:5 learning_rate:0.15 max_fe:0.9 train:0.8819701217236005 test:0.8153879693295242\n",
      "n_estimators:200 max_depth:6 min_split:10 min_leaf:5 learning_rate:0.2 max_fe:0.6 train:0.8908173098930088 test:0.8138012650110418\n",
      "n_estimators:200 max_depth:6 min_split:10 min_leaf:5 learning_rate:0.2 max_fe:0.8 train:0.8924847122663253 test:0.8150379416996782\n",
      "n_estimators:200 max_depth:6 min_split:10 min_leaf:5 learning_rate:0.2 max_fe:0.9 train:0.8908608597065122 test:0.8121500834937451\n",
      "n_estimators:200 max_depth:6 min_split:10 min_leaf:5 learning_rate:0.3 max_fe:0.6 train:0.9028385598552124 test:0.8062739436530288\n",
      "n_estimators:200 max_depth:6 min_split:10 min_leaf:5 learning_rate:0.3 max_fe:0.8 train:0.9070885938973245 test:0.8082242899241007\n",
      "n_estimators:200 max_depth:6 min_split:10 min_leaf:5 learning_rate:0.3 max_fe:0.9 train:0.9049229025476075 test:0.8033873934118978\n",
      "n_estimators:200 max_depth:6 min_split:10 min_leaf:5 learning_rate:0.5 max_fe:0.6 train:0.9187255495463486 test:0.7878124967757248\n"
     ]
    },
    {
     "name": "stdout",
     "output_type": "stream",
     "text": [
      "n_estimators:200 max_depth:6 min_split:10 min_leaf:5 learning_rate:0.5 max_fe:0.8 train:0.9202091167939778 test:0.7961110054460587\n",
      "n_estimators:200 max_depth:6 min_split:10 min_leaf:5 learning_rate:0.5 max_fe:0.9 train:0.920041291251938 test:0.7969984204853506\n",
      "n_estimators:200 max_depth:6 min_split:10 min_leaf:6 learning_rate:0.1 max_fe:0.6 train:0.8656156606799401 test:0.816490690371805\n",
      "n_estimators:200 max_depth:6 min_split:10 min_leaf:6 learning_rate:0.1 max_fe:0.8 train:0.8659173768957458 test:0.8115553173142385\n",
      "n_estimators:200 max_depth:6 min_split:10 min_leaf:6 learning_rate:0.1 max_fe:0.9 train:0.8657680884777244 test:0.8170482657224003\n",
      "n_estimators:200 max_depth:6 min_split:10 min_leaf:6 learning_rate:0.15 max_fe:0.6 train:0.8783515758996197 test:0.8130087467520172\n",
      "n_estimators:200 max_depth:6 min_split:10 min_leaf:6 learning_rate:0.15 max_fe:0.8 train:0.8794683388391504 test:0.8148803443796049\n",
      "n_estimators:200 max_depth:6 min_split:10 min_leaf:6 learning_rate:0.15 max_fe:0.9 train:0.8827039125174684 test:0.8161217239149063\n",
      "n_estimators:200 max_depth:6 min_split:10 min_leaf:6 learning_rate:0.2 max_fe:0.6 train:0.888210818622223 test:0.8149746093651488\n",
      "n_estimators:200 max_depth:6 min_split:10 min_leaf:6 learning_rate:0.2 max_fe:0.8 train:0.89066322330249 test:0.8131372022326249\n",
      "n_estimators:200 max_depth:6 min_split:10 min_leaf:6 learning_rate:0.2 max_fe:0.9 train:0.8880047480419372 test:0.8118243779630918\n",
      "n_estimators:200 max_depth:6 min_split:10 min_leaf:6 learning_rate:0.3 max_fe:0.6 train:0.9012742210844095 test:0.8134019264063636\n",
      "n_estimators:200 max_depth:6 min_split:10 min_leaf:6 learning_rate:0.3 max_fe:0.8 train:0.9021882451076849 test:0.8073421776449097\n",
      "n_estimators:200 max_depth:6 min_split:10 min_leaf:6 learning_rate:0.3 max_fe:0.9 train:0.9032721515935357 test:0.8085053995781901\n",
      "n_estimators:200 max_depth:6 min_split:10 min_leaf:6 learning_rate:0.5 max_fe:0.6 train:0.9155914120669347 test:0.7881376619723706\n",
      "n_estimators:200 max_depth:6 min_split:10 min_leaf:6 learning_rate:0.5 max_fe:0.8 train:0.9170501235787487 test:0.7857179362530727\n",
      "n_estimators:200 max_depth:6 min_split:10 min_leaf:6 learning_rate:0.5 max_fe:0.9 train:0.9173897667814235 test:0.7887685719120598\n",
      "n_estimators:250 max_depth:5 min_split:3 min_leaf:5 learning_rate:0.1 max_fe:0.6 train:0.8494689362754942 test:0.8122490735313759\n",
      "n_estimators:250 max_depth:5 min_split:3 min_leaf:5 learning_rate:0.1 max_fe:0.8 train:0.8532094425187722 test:0.8147762561497611\n",
      "n_estimators:250 max_depth:5 min_split:3 min_leaf:5 learning_rate:0.1 max_fe:0.9 train:0.8539454434031153 test:0.8139141578012092\n",
      "n_estimators:250 max_depth:5 min_split:3 min_leaf:5 learning_rate:0.15 max_fe:0.6 train:0.867246922272517 test:0.815807091009086\n",
      "n_estimators:250 max_depth:5 min_split:3 min_leaf:5 learning_rate:0.15 max_fe:0.8 train:0.8670045769843302 test:0.8151790534904884\n",
      "n_estimators:250 max_depth:5 min_split:3 min_leaf:5 learning_rate:0.15 max_fe:0.9 train:0.8687011328979312 test:0.814972518732858\n",
      "n_estimators:250 max_depth:5 min_split:3 min_leaf:5 learning_rate:0.2 max_fe:0.6 train:0.8732493629655024 test:0.8149655378739646\n",
      "n_estimators:250 max_depth:5 min_split:3 min_leaf:5 learning_rate:0.2 max_fe:0.8 train:0.8769790751177376 test:0.8118478069923836\n",
      "n_estimators:250 max_depth:5 min_split:3 min_leaf:5 learning_rate:0.2 max_fe:0.9 train:0.8788744275102358 test:0.8132425634538365\n",
      "n_estimators:250 max_depth:5 min_split:3 min_leaf:5 learning_rate:0.3 max_fe:0.6 train:0.88895044595791 test:0.8091615715292504\n",
      "n_estimators:250 max_depth:5 min_split:3 min_leaf:5 learning_rate:0.3 max_fe:0.8 train:0.892119593864884 test:0.8099942077271463\n",
      "n_estimators:250 max_depth:5 min_split:3 min_leaf:5 learning_rate:0.3 max_fe:0.9 train:0.8897351229608295 test:0.8037436252099585\n",
      "n_estimators:250 max_depth:5 min_split:3 min_leaf:5 learning_rate:0.5 max_fe:0.6 train:0.9047841388347015 test:0.7982557536742299\n",
      "n_estimators:250 max_depth:5 min_split:3 min_leaf:5 learning_rate:0.5 max_fe:0.8 train:0.9059091166873683 test:0.7953982071208041\n",
      "n_estimators:250 max_depth:5 min_split:3 min_leaf:5 learning_rate:0.5 max_fe:0.9 train:0.9064603229698409 test:0.7919757350103804\n",
      "n_estimators:250 max_depth:5 min_split:3 min_leaf:6 learning_rate:0.1 max_fe:0.6 train:0.8481275047560852 test:0.8112181307787406\n",
      "n_estimators:250 max_depth:5 min_split:3 min_leaf:6 learning_rate:0.1 max_fe:0.8 train:0.8518055619171834 test:0.8129206498361952\n",
      "n_estimators:250 max_depth:5 min_split:3 min_leaf:6 learning_rate:0.1 max_fe:0.9 train:0.8511056286568807 test:0.8131591718096352\n",
      "n_estimators:250 max_depth:5 min_split:3 min_leaf:6 learning_rate:0.15 max_fe:0.6 train:0.8633118284609625 test:0.8114280964896846\n",
      "n_estimators:250 max_depth:5 min_split:3 min_leaf:6 learning_rate:0.15 max_fe:0.8 train:0.8657284851532319 test:0.8133034159743342\n",
      "n_estimators:250 max_depth:5 min_split:3 min_leaf:6 learning_rate:0.15 max_fe:0.9 train:0.8676980988052438 test:0.8133470421856132\n",
      "n_estimators:250 max_depth:5 min_split:3 min_leaf:6 learning_rate:0.2 max_fe:0.6 train:0.8755894652573275 test:0.8108693360989857\n",
      "n_estimators:250 max_depth:5 min_split:3 min_leaf:6 learning_rate:0.2 max_fe:0.8 train:0.8788913578737307 test:0.8118947849310612\n",
      "n_estimators:250 max_depth:5 min_split:3 min_leaf:6 learning_rate:0.2 max_fe:0.9 train:0.879114293015214 test:0.8117312102709306\n",
      "n_estimators:250 max_depth:5 min_split:3 min_leaf:6 learning_rate:0.3 max_fe:0.6 train:0.886106379464503 test:0.8103513376152135\n",
      "n_estimators:250 max_depth:5 min_split:3 min_leaf:6 learning_rate:0.3 max_fe:0.8 train:0.8918029461438755 test:0.8088600992967716\n",
      "n_estimators:250 max_depth:5 min_split:3 min_leaf:6 learning_rate:0.3 max_fe:0.9 train:0.8889076189535412 test:0.8110388967903674\n",
      "n_estimators:250 max_depth:5 min_split:3 min_leaf:6 learning_rate:0.5 max_fe:0.6 train:0.9046712006869393 test:0.79675282893754\n",
      "n_estimators:250 max_depth:5 min_split:3 min_leaf:6 learning_rate:0.5 max_fe:0.8 train:0.9038206045116002 test:0.7930371909079822\n",
      "n_estimators:250 max_depth:5 min_split:3 min_leaf:6 learning_rate:0.5 max_fe:0.9 train:0.9043488301308665 test:0.7965765238978835\n",
      "n_estimators:250 max_depth:5 min_split:4 min_leaf:5 learning_rate:0.1 max_fe:0.6 train:0.8492200348573213 test:0.8135473541076272\n",
      "n_estimators:250 max_depth:5 min_split:4 min_leaf:5 learning_rate:0.1 max_fe:0.8 train:0.8533969183157877 test:0.8092004729022337\n",
      "n_estimators:250 max_depth:5 min_split:4 min_leaf:5 learning_rate:0.1 max_fe:0.9 train:0.851991316899937 test:0.8139418202229423\n",
      "n_estimators:250 max_depth:5 min_split:4 min_leaf:5 learning_rate:0.15 max_fe:0.6 train:0.8649351833857019 test:0.8161500987521311\n",
      "n_estimators:250 max_depth:5 min_split:4 min_leaf:5 learning_rate:0.15 max_fe:0.8 train:0.86832843738283 test:0.8120243407403124\n",
      "n_estimators:250 max_depth:5 min_split:4 min_leaf:5 learning_rate:0.15 max_fe:0.9 train:0.8687729606734047 test:0.8156962221436563\n",
      "n_estimators:250 max_depth:5 min_split:4 min_leaf:5 learning_rate:0.2 max_fe:0.6 train:0.8757833755459365 test:0.8113394905578857\n",
      "n_estimators:250 max_depth:5 min_split:4 min_leaf:5 learning_rate:0.2 max_fe:0.8 train:0.8796244305852099 test:0.8144808760671562\n",
      "n_estimators:250 max_depth:5 min_split:4 min_leaf:5 learning_rate:0.2 max_fe:0.9 train:0.8729862093443895 test:0.8136564703928676\n",
      "n_estimators:250 max_depth:5 min_split:4 min_leaf:5 learning_rate:0.3 max_fe:0.6 train:0.8912500097610222 test:0.8112903301842884\n",
      "n_estimators:250 max_depth:5 min_split:4 min_leaf:5 learning_rate:0.3 max_fe:0.8 train:0.8932624861926455 test:0.810478310150338\n",
      "n_estimators:250 max_depth:5 min_split:4 min_leaf:5 learning_rate:0.3 max_fe:0.9 train:0.8958626442633745 test:0.8079071313318801\n",
      "n_estimators:250 max_depth:5 min_split:4 min_leaf:5 learning_rate:0.5 max_fe:0.6 train:0.9035871472307386 test:0.796325674712119\n",
      "n_estimators:250 max_depth:5 min_split:4 min_leaf:5 learning_rate:0.5 max_fe:0.8 train:0.9097474901378546 test:0.7856055945273792\n",
      "n_estimators:250 max_depth:5 min_split:4 min_leaf:5 learning_rate:0.5 max_fe:0.9 train:0.9084731359171996 test:0.7910959756077773\n",
      "n_estimators:250 max_depth:5 min_split:4 min_leaf:6 learning_rate:0.1 max_fe:0.6 train:0.850588670686917 test:0.8116457290305893\n"
     ]
    },
    {
     "name": "stdout",
     "output_type": "stream",
     "text": [
      "n_estimators:250 max_depth:5 min_split:4 min_leaf:6 learning_rate:0.1 max_fe:0.8 train:0.8514394054638075 test:0.8130358035435037\n",
      "n_estimators:250 max_depth:5 min_split:4 min_leaf:6 learning_rate:0.1 max_fe:0.9 train:0.8533020845882089 test:0.8132717454287445\n",
      "n_estimators:250 max_depth:5 min_split:4 min_leaf:6 learning_rate:0.15 max_fe:0.6 train:0.8653668801574266 test:0.8172864809979005\n",
      "n_estimators:250 max_depth:5 min_split:4 min_leaf:6 learning_rate:0.15 max_fe:0.8 train:0.864642817095745 test:0.8134934650955592\n",
      "n_estimators:250 max_depth:5 min_split:4 min_leaf:6 learning_rate:0.15 max_fe:0.9 train:0.8659920374852788 test:0.8149344036954058\n",
      "n_estimators:250 max_depth:5 min_split:4 min_leaf:6 learning_rate:0.2 max_fe:0.6 train:0.8749763963855526 test:0.8138535938498157\n",
      "n_estimators:250 max_depth:5 min_split:4 min_leaf:6 learning_rate:0.2 max_fe:0.8 train:0.875384918154134 test:0.8130223912973089\n",
      "n_estimators:250 max_depth:5 min_split:4 min_leaf:6 learning_rate:0.2 max_fe:0.9 train:0.8750330841334427 test:0.8132746937803386\n",
      "n_estimators:250 max_depth:5 min_split:4 min_leaf:6 learning_rate:0.3 max_fe:0.6 train:0.8884487627043319 test:0.8115408640968306\n",
      "n_estimators:250 max_depth:5 min_split:4 min_leaf:6 learning_rate:0.3 max_fe:0.8 train:0.8878731599830132 test:0.806842292736785\n",
      "n_estimators:250 max_depth:5 min_split:4 min_leaf:6 learning_rate:0.3 max_fe:0.9 train:0.8913229775496395 test:0.8033661668095038\n",
      "n_estimators:250 max_depth:5 min_split:4 min_leaf:6 learning_rate:0.5 max_fe:0.6 train:0.9032631538091175 test:0.7936064159932944\n",
      "n_estimators:250 max_depth:5 min_split:4 min_leaf:6 learning_rate:0.5 max_fe:0.8 train:0.9031656112742766 test:0.7970595080592598\n",
      "n_estimators:250 max_depth:5 min_split:4 min_leaf:6 learning_rate:0.5 max_fe:0.9 train:0.906621406709256 test:0.7941058895004394\n",
      "n_estimators:250 max_depth:5 min_split:10 min_leaf:5 learning_rate:0.1 max_fe:0.6 train:0.8498749300108281 test:0.8116457981093136\n",
      "n_estimators:250 max_depth:5 min_split:10 min_leaf:5 learning_rate:0.1 max_fe:0.8 train:0.8510511231101358 test:0.8129274069078263\n",
      "n_estimators:250 max_depth:5 min_split:10 min_leaf:5 learning_rate:0.1 max_fe:0.9 train:0.8525355190022215 test:0.8119410961561312\n",
      "n_estimators:250 max_depth:5 min_split:10 min_leaf:5 learning_rate:0.15 max_fe:0.6 train:0.8636906020916367 test:0.8113426418912022\n",
      "n_estimators:250 max_depth:5 min_split:10 min_leaf:5 learning_rate:0.15 max_fe:0.8 train:0.8659110907453889 test:0.8137763375271518\n",
      "n_estimators:250 max_depth:5 min_split:10 min_leaf:5 learning_rate:0.15 max_fe:0.9 train:0.8700653690113943 test:0.8140036565576617\n",
      "n_estimators:250 max_depth:5 min_split:10 min_leaf:5 learning_rate:0.2 max_fe:0.6 train:0.8776960983757167 test:0.8114588544375196\n",
      "n_estimators:250 max_depth:5 min_split:10 min_leaf:5 learning_rate:0.2 max_fe:0.8 train:0.8757870352902263 test:0.8141693736699422\n",
      "n_estimators:250 max_depth:5 min_split:10 min_leaf:5 learning_rate:0.2 max_fe:0.9 train:0.8757094697233572 test:0.8142874558225939\n",
      "n_estimators:250 max_depth:5 min_split:10 min_leaf:5 learning_rate:0.3 max_fe:0.6 train:0.8879531857710625 test:0.8070120560255373\n",
      "n_estimators:250 max_depth:5 min_split:10 min_leaf:5 learning_rate:0.3 max_fe:0.8 train:0.8906821991571293 test:0.8083767856610435\n",
      "n_estimators:250 max_depth:5 min_split:10 min_leaf:5 learning_rate:0.3 max_fe:0.9 train:0.8915768445455121 test:0.8065403607976738\n",
      "n_estimators:250 max_depth:5 min_split:10 min_leaf:5 learning_rate:0.5 max_fe:0.6 train:0.9068368273233791 test:0.8062403077875891\n",
      "n_estimators:250 max_depth:5 min_split:10 min_leaf:5 learning_rate:0.5 max_fe:0.8 train:0.9076751840802209 test:0.7924346210318602\n",
      "n_estimators:250 max_depth:5 min_split:10 min_leaf:5 learning_rate:0.5 max_fe:0.9 train:0.9064070983516946 test:0.7975787089715053\n",
      "n_estimators:250 max_depth:5 min_split:10 min_leaf:6 learning_rate:0.1 max_fe:0.6 train:0.8488633362565069 test:0.8094601396237022\n",
      "n_estimators:250 max_depth:5 min_split:10 min_leaf:6 learning_rate:0.1 max_fe:0.8 train:0.8525604814110632 test:0.8129768032124723\n",
      "n_estimators:250 max_depth:5 min_split:10 min_leaf:6 learning_rate:0.1 max_fe:0.9 train:0.8514807744516775 test:0.812805515795388\n",
      "n_estimators:250 max_depth:5 min_split:10 min_leaf:6 learning_rate:0.15 max_fe:0.6 train:0.8630847191641281 test:0.8108639151029948\n",
      "n_estimators:250 max_depth:5 min_split:10 min_leaf:6 learning_rate:0.15 max_fe:0.8 train:0.8658568260969617 test:0.8143103457970182\n",
      "n_estimators:250 max_depth:5 min_split:10 min_leaf:6 learning_rate:0.15 max_fe:0.9 train:0.868363911981691 test:0.8129818800312991\n",
      "n_estimators:250 max_depth:5 min_split:10 min_leaf:6 learning_rate:0.2 max_fe:0.6 train:0.8756469062532173 test:0.8142713655160913\n",
      "n_estimators:250 max_depth:5 min_split:10 min_leaf:6 learning_rate:0.2 max_fe:0.8 train:0.8798582729027339 test:0.8133458917352088\n",
      "n_estimators:250 max_depth:5 min_split:10 min_leaf:6 learning_rate:0.2 max_fe:0.9 train:0.8767602136270651 test:0.8133668472643023\n",
      "n_estimators:250 max_depth:5 min_split:10 min_leaf:6 learning_rate:0.3 max_fe:0.6 train:0.8887713243609876 test:0.8106105318381056\n",
      "n_estimators:250 max_depth:5 min_split:10 min_leaf:6 learning_rate:0.3 max_fe:0.8 train:0.8878573138476838 test:0.8076936256085909\n",
      "n_estimators:250 max_depth:5 min_split:10 min_leaf:6 learning_rate:0.3 max_fe:0.9 train:0.891006284328488 test:0.8081199726521675\n",
      "n_estimators:250 max_depth:5 min_split:10 min_leaf:6 learning_rate:0.5 max_fe:0.6 train:0.9035812794306115 test:0.8008065999001711\n",
      "n_estimators:250 max_depth:5 min_split:10 min_leaf:6 learning_rate:0.5 max_fe:0.8 train:0.9022740024655396 test:0.7883925028121967\n",
      "n_estimators:250 max_depth:5 min_split:10 min_leaf:6 learning_rate:0.5 max_fe:0.9 train:0.9062802926546869 test:0.7945758054909869\n",
      "n_estimators:250 max_depth:4 min_split:3 min_leaf:5 learning_rate:0.1 max_fe:0.6 train:0.8195651252747262 test:0.8002644795770917\n",
      "n_estimators:250 max_depth:4 min_split:3 min_leaf:5 learning_rate:0.1 max_fe:0.8 train:0.8259506180619539 test:0.8016272574389457\n",
      "n_estimators:250 max_depth:4 min_split:3 min_leaf:5 learning_rate:0.1 max_fe:0.9 train:0.8246421416581396 test:0.8028512794368869\n",
      "n_estimators:250 max_depth:4 min_split:3 min_leaf:5 learning_rate:0.15 max_fe:0.6 train:0.8363409018532704 test:0.8094398351795458\n",
      "n_estimators:250 max_depth:4 min_split:3 min_leaf:5 learning_rate:0.15 max_fe:0.8 train:0.8379926628709224 test:0.807863211388357\n",
      "n_estimators:250 max_depth:4 min_split:3 min_leaf:5 learning_rate:0.15 max_fe:0.9 train:0.8409668281832692 test:0.8103655971992019\n",
      "n_estimators:250 max_depth:4 min_split:3 min_leaf:5 learning_rate:0.2 max_fe:0.6 train:0.8504475523009565 test:0.8095715136838666\n",
      "n_estimators:250 max_depth:4 min_split:3 min_leaf:5 learning_rate:0.2 max_fe:0.8 train:0.84890986073501 test:0.809533209951832\n",
      "n_estimators:250 max_depth:4 min_split:3 min_leaf:5 learning_rate:0.2 max_fe:0.9 train:0.8499740255522161 test:0.8126070969301878\n",
      "n_estimators:250 max_depth:4 min_split:3 min_leaf:5 learning_rate:0.3 max_fe:0.6 train:0.862508797978863 test:0.808987003267126\n",
      "n_estimators:250 max_depth:4 min_split:3 min_leaf:5 learning_rate:0.3 max_fe:0.8 train:0.8673427809275822 test:0.8077072653977194\n",
      "n_estimators:250 max_depth:4 min_split:3 min_leaf:5 learning_rate:0.3 max_fe:0.9 train:0.8645844914016759 test:0.8087487272757272\n",
      "n_estimators:250 max_depth:4 min_split:3 min_leaf:5 learning_rate:0.5 max_fe:0.6 train:0.878845254891195 test:0.7980047272237271\n",
      "n_estimators:250 max_depth:4 min_split:3 min_leaf:5 learning_rate:0.5 max_fe:0.8 train:0.8804389923527504 test:0.7996985809639209\n",
      "n_estimators:250 max_depth:4 min_split:3 min_leaf:5 learning_rate:0.5 max_fe:0.9 train:0.8815487510946693 test:0.7988143030970276\n",
      "n_estimators:250 max_depth:4 min_split:3 min_leaf:6 learning_rate:0.1 max_fe:0.6 train:0.8203574989825448 test:0.800291195695676\n",
      "n_estimators:250 max_depth:4 min_split:3 min_leaf:6 learning_rate:0.1 max_fe:0.8 train:0.8216200850500932 test:0.801512965360818\n",
      "n_estimators:250 max_depth:4 min_split:3 min_leaf:6 learning_rate:0.1 max_fe:0.9 train:0.8207520901645077 test:0.7997340014681285\n",
      "n_estimators:250 max_depth:4 min_split:3 min_leaf:6 learning_rate:0.15 max_fe:0.6 train:0.8346358123869551 test:0.8065129381963809\n"
     ]
    },
    {
     "name": "stdout",
     "output_type": "stream",
     "text": [
      "n_estimators:250 max_depth:4 min_split:3 min_leaf:6 learning_rate:0.15 max_fe:0.8 train:0.8369296894866991 test:0.8078916549992765\n",
      "n_estimators:250 max_depth:4 min_split:3 min_leaf:6 learning_rate:0.15 max_fe:0.9 train:0.8401506725871786 test:0.809787741347979\n",
      "n_estimators:250 max_depth:4 min_split:3 min_leaf:6 learning_rate:0.2 max_fe:0.6 train:0.8477488861109814 test:0.8082969299672997\n",
      "n_estimators:250 max_depth:4 min_split:3 min_leaf:6 learning_rate:0.2 max_fe:0.8 train:0.8460166918706943 test:0.8090714665187\n",
      "n_estimators:250 max_depth:4 min_split:3 min_leaf:6 learning_rate:0.2 max_fe:0.9 train:0.8498456469738949 test:0.8119006255056864\n",
      "n_estimators:250 max_depth:4 min_split:3 min_leaf:6 learning_rate:0.3 max_fe:0.6 train:0.8618772806990286 test:0.8065940822279447\n",
      "n_estimators:250 max_depth:4 min_split:3 min_leaf:6 learning_rate:0.3 max_fe:0.8 train:0.8637443865800831 test:0.811448782570705\n",
      "n_estimators:250 max_depth:4 min_split:3 min_leaf:6 learning_rate:0.3 max_fe:0.9 train:0.8636226190636549 test:0.809094443894754\n",
      "n_estimators:250 max_depth:4 min_split:3 min_leaf:6 learning_rate:0.5 max_fe:0.6 train:0.8769464292928759 test:0.7978569408993808\n",
      "n_estimators:250 max_depth:4 min_split:3 min_leaf:6 learning_rate:0.5 max_fe:0.8 train:0.8812798515834519 test:0.7978229725922573\n",
      "n_estimators:250 max_depth:4 min_split:3 min_leaf:6 learning_rate:0.5 max_fe:0.9 train:0.8797552242317319 test:0.7989234360249149\n",
      "n_estimators:250 max_depth:4 min_split:4 min_leaf:5 learning_rate:0.1 max_fe:0.6 train:0.8205378880393247 test:0.8012525289864592\n",
      "n_estimators:250 max_depth:4 min_split:4 min_leaf:5 learning_rate:0.1 max_fe:0.8 train:0.8208622761558841 test:0.8010420034758343\n",
      "n_estimators:250 max_depth:4 min_split:4 min_leaf:5 learning_rate:0.1 max_fe:0.9 train:0.8240460686658352 test:0.8044218009802517\n",
      "n_estimators:250 max_depth:4 min_split:4 min_leaf:5 learning_rate:0.15 max_fe:0.6 train:0.8361449720406424 test:0.8068441517156462\n",
      "n_estimators:250 max_depth:4 min_split:4 min_leaf:5 learning_rate:0.15 max_fe:0.8 train:0.8376619043499403 test:0.8051682838119695\n",
      "n_estimators:250 max_depth:4 min_split:4 min_leaf:5 learning_rate:0.15 max_fe:0.9 train:0.839590394435495 test:0.8066194430733444\n",
      "n_estimators:250 max_depth:4 min_split:4 min_leaf:5 learning_rate:0.2 max_fe:0.6 train:0.8499988997674763 test:0.8112336574449368\n",
      "n_estimators:250 max_depth:4 min_split:4 min_leaf:5 learning_rate:0.2 max_fe:0.8 train:0.8502773127044131 test:0.8060648444161489\n",
      "n_estimators:250 max_depth:4 min_split:4 min_leaf:5 learning_rate:0.2 max_fe:0.9 train:0.8500966149745528 test:0.8083790779009721\n",
      "n_estimators:250 max_depth:4 min_split:4 min_leaf:5 learning_rate:0.3 max_fe:0.6 train:0.8624690182428449 test:0.8072756877403986\n",
      "n_estimators:250 max_depth:4 min_split:4 min_leaf:5 learning_rate:0.3 max_fe:0.8 train:0.8638413234669304 test:0.812196295726411\n",
      "n_estimators:250 max_depth:4 min_split:4 min_leaf:5 learning_rate:0.3 max_fe:0.9 train:0.8651083862240248 test:0.8064490758552891\n",
      "n_estimators:250 max_depth:4 min_split:4 min_leaf:5 learning_rate:0.5 max_fe:0.6 train:0.8763147530969929 test:0.799047182774875\n",
      "n_estimators:250 max_depth:4 min_split:4 min_leaf:5 learning_rate:0.5 max_fe:0.8 train:0.8824901977835012 test:0.8048032824392805\n",
      "n_estimators:250 max_depth:4 min_split:4 min_leaf:5 learning_rate:0.5 max_fe:0.9 train:0.8814782692051786 test:0.797249288123725\n",
      "n_estimators:250 max_depth:4 min_split:4 min_leaf:6 learning_rate:0.1 max_fe:0.6 train:0.8222513606880704 test:0.8032373414306165\n",
      "n_estimators:250 max_depth:4 min_split:4 min_leaf:6 learning_rate:0.1 max_fe:0.8 train:0.8216635764823627 test:0.8024175722865573\n",
      "n_estimators:250 max_depth:4 min_split:4 min_leaf:6 learning_rate:0.1 max_fe:0.9 train:0.822938575366969 test:0.8024989743252001\n",
      "n_estimators:250 max_depth:4 min_split:4 min_leaf:6 learning_rate:0.15 max_fe:0.6 train:0.8378786685685548 test:0.8090186543365467\n",
      "n_estimators:250 max_depth:4 min_split:4 min_leaf:6 learning_rate:0.15 max_fe:0.8 train:0.8406076867319414 test:0.8070068953962908\n",
      "n_estimators:250 max_depth:4 min_split:4 min_leaf:6 learning_rate:0.15 max_fe:0.9 train:0.8381741232841189 test:0.8064035867858266\n",
      "n_estimators:250 max_depth:4 min_split:4 min_leaf:6 learning_rate:0.2 max_fe:0.6 train:0.8479210757724699 test:0.808816216953453\n",
      "n_estimators:250 max_depth:4 min_split:4 min_leaf:6 learning_rate:0.2 max_fe:0.8 train:0.8465314949987524 test:0.8057559259814133\n",
      "n_estimators:250 max_depth:4 min_split:4 min_leaf:6 learning_rate:0.2 max_fe:0.9 train:0.8502806233877336 test:0.8121026621348941\n",
      "n_estimators:250 max_depth:4 min_split:4 min_leaf:6 learning_rate:0.3 max_fe:0.6 train:0.860615098719957 test:0.8100783653060225\n",
      "n_estimators:250 max_depth:4 min_split:4 min_leaf:6 learning_rate:0.3 max_fe:0.8 train:0.8644374513933836 test:0.8063359196821924\n",
      "n_estimators:250 max_depth:4 min_split:4 min_leaf:6 learning_rate:0.3 max_fe:0.9 train:0.8658958264364561 test:0.8109966504601\n",
      "n_estimators:250 max_depth:4 min_split:4 min_leaf:6 learning_rate:0.5 max_fe:0.6 train:0.8756776274583931 test:0.8028944322128034\n",
      "n_estimators:250 max_depth:4 min_split:4 min_leaf:6 learning_rate:0.5 max_fe:0.8 train:0.8803264306810472 test:0.8036831471001058\n",
      "n_estimators:250 max_depth:4 min_split:4 min_leaf:6 learning_rate:0.5 max_fe:0.9 train:0.8822630474776981 test:0.7914393698607318\n",
      "n_estimators:250 max_depth:4 min_split:10 min_leaf:5 learning_rate:0.1 max_fe:0.6 train:0.8217711061842015 test:0.8019734003470367\n",
      "n_estimators:250 max_depth:4 min_split:10 min_leaf:5 learning_rate:0.1 max_fe:0.8 train:0.8219403484286958 test:0.801618672786833\n",
      "n_estimators:250 max_depth:4 min_split:10 min_leaf:5 learning_rate:0.1 max_fe:0.9 train:0.8221755884644663 test:0.8005026579533252\n",
      "n_estimators:250 max_depth:4 min_split:10 min_leaf:5 learning_rate:0.15 max_fe:0.6 train:0.8370900621498432 test:0.8094993200887379\n",
      "n_estimators:250 max_depth:4 min_split:10 min_leaf:5 learning_rate:0.15 max_fe:0.8 train:0.8377803864970219 test:0.8079085150927524\n",
      "n_estimators:250 max_depth:4 min_split:10 min_leaf:5 learning_rate:0.15 max_fe:0.9 train:0.8391875027560006 test:0.8076158496949908\n",
      "n_estimators:250 max_depth:4 min_split:10 min_leaf:5 learning_rate:0.2 max_fe:0.6 train:0.8466106778254796 test:0.8081641260592863\n",
      "n_estimators:250 max_depth:4 min_split:10 min_leaf:5 learning_rate:0.2 max_fe:0.8 train:0.8500976253992858 test:0.8132388689844845\n",
      "n_estimators:250 max_depth:4 min_split:10 min_leaf:5 learning_rate:0.2 max_fe:0.9 train:0.8509380976402479 test:0.8137221703991161\n",
      "n_estimators:250 max_depth:4 min_split:10 min_leaf:5 learning_rate:0.3 max_fe:0.6 train:0.8610778135850468 test:0.8090661615799867\n",
      "n_estimators:250 max_depth:4 min_split:10 min_leaf:5 learning_rate:0.3 max_fe:0.8 train:0.8614693304012213 test:0.8050156244877043\n",
      "n_estimators:250 max_depth:4 min_split:10 min_leaf:5 learning_rate:0.3 max_fe:0.9 train:0.8652651627138765 test:0.8116258073331941\n",
      "n_estimators:250 max_depth:4 min_split:10 min_leaf:5 learning_rate:0.5 max_fe:0.6 train:0.8781031428520306 test:0.7977471880487996\n",
      "n_estimators:250 max_depth:4 min_split:10 min_leaf:5 learning_rate:0.5 max_fe:0.8 train:0.8798857012170184 test:0.8004330834634558\n",
      "n_estimators:250 max_depth:4 min_split:10 min_leaf:5 learning_rate:0.5 max_fe:0.9 train:0.8819600612343824 test:0.8025405942751485\n",
      "n_estimators:250 max_depth:4 min_split:10 min_leaf:6 learning_rate:0.1 max_fe:0.6 train:0.819722851764055 test:0.801524703343237\n",
      "n_estimators:250 max_depth:4 min_split:10 min_leaf:6 learning_rate:0.1 max_fe:0.8 train:0.8226691122560679 test:0.8016702339742348\n",
      "n_estimators:250 max_depth:4 min_split:10 min_leaf:6 learning_rate:0.1 max_fe:0.9 train:0.8188431344106878 test:0.7991854187422291\n",
      "n_estimators:250 max_depth:4 min_split:10 min_leaf:6 learning_rate:0.15 max_fe:0.6 train:0.8357238154570551 test:0.8050622442295254\n",
      "n_estimators:250 max_depth:4 min_split:10 min_leaf:6 learning_rate:0.15 max_fe:0.8 train:0.8390061854036487 test:0.8104349125407349\n",
      "n_estimators:250 max_depth:4 min_split:10 min_leaf:6 learning_rate:0.15 max_fe:0.9 train:0.8399282839651713 test:0.8088482641643656\n",
      "n_estimators:250 max_depth:4 min_split:10 min_leaf:6 learning_rate:0.2 max_fe:0.6 train:0.8484253994758651 test:0.8099376186779681\n"
     ]
    },
    {
     "name": "stdout",
     "output_type": "stream",
     "text": [
      "n_estimators:250 max_depth:4 min_split:10 min_leaf:6 learning_rate:0.2 max_fe:0.8 train:0.8509273222187854 test:0.8091126939880304\n",
      "n_estimators:250 max_depth:4 min_split:10 min_leaf:6 learning_rate:0.2 max_fe:0.9 train:0.8492447132026728 test:0.8103461570704823\n",
      "n_estimators:250 max_depth:4 min_split:10 min_leaf:6 learning_rate:0.3 max_fe:0.6 train:0.8607987452586112 test:0.8054676710910752\n",
      "n_estimators:250 max_depth:4 min_split:10 min_leaf:6 learning_rate:0.3 max_fe:0.8 train:0.8643293953258175 test:0.8093584184312852\n",
      "n_estimators:250 max_depth:4 min_split:10 min_leaf:6 learning_rate:0.3 max_fe:0.9 train:0.8631714670828673 test:0.807290178602605\n",
      "n_estimators:250 max_depth:4 min_split:10 min_leaf:6 learning_rate:0.5 max_fe:0.6 train:0.8766610125115277 test:0.8015885998799921\n",
      "n_estimators:250 max_depth:4 min_split:10 min_leaf:6 learning_rate:0.5 max_fe:0.8 train:0.8793306865764894 test:0.8019877512036786\n",
      "n_estimators:250 max_depth:4 min_split:10 min_leaf:6 learning_rate:0.5 max_fe:0.9 train:0.8817243112886607 test:0.8051829349715992\n",
      "n_estimators:250 max_depth:6 min_split:3 min_leaf:5 learning_rate:0.1 max_fe:0.6 train:0.8733573247738562 test:0.8182135245693534\n",
      "n_estimators:250 max_depth:6 min_split:3 min_leaf:5 learning_rate:0.1 max_fe:0.8 train:0.875916383096728 test:0.8175562734678735\n",
      "n_estimators:250 max_depth:6 min_split:3 min_leaf:5 learning_rate:0.1 max_fe:0.9 train:0.8755388761059189 test:0.8178947138928098\n",
      "n_estimators:250 max_depth:6 min_split:3 min_leaf:5 learning_rate:0.15 max_fe:0.6 train:0.8915408678101097 test:0.8182091204011577\n",
      "n_estimators:250 max_depth:6 min_split:3 min_leaf:5 learning_rate:0.15 max_fe:0.8 train:0.8899864858435155 test:0.8176081331763181\n",
      "n_estimators:250 max_depth:6 min_split:3 min_leaf:5 learning_rate:0.15 max_fe:0.9 train:0.8894064372810077 test:0.8160145425412795\n",
      "n_estimators:250 max_depth:6 min_split:3 min_leaf:5 learning_rate:0.2 max_fe:0.6 train:0.8985640009922836 test:0.8106318404257395\n",
      "n_estimators:250 max_depth:6 min_split:3 min_leaf:5 learning_rate:0.2 max_fe:0.8 train:0.8991488735838167 test:0.8134819558031134\n",
      "n_estimators:250 max_depth:6 min_split:3 min_leaf:5 learning_rate:0.2 max_fe:0.9 train:0.8993590119346818 test:0.812795795861797\n",
      "n_estimators:250 max_depth:6 min_split:3 min_leaf:5 learning_rate:0.3 max_fe:0.6 train:0.9087904547309971 test:0.8055870128187322\n",
      "n_estimators:250 max_depth:6 min_split:3 min_leaf:5 learning_rate:0.3 max_fe:0.8 train:0.9114631851279449 test:0.8044744408814241\n",
      "n_estimators:250 max_depth:6 min_split:3 min_leaf:5 learning_rate:0.3 max_fe:0.9 train:0.9136908423827718 test:0.8081431054133715\n",
      "n_estimators:250 max_depth:6 min_split:3 min_leaf:5 learning_rate:0.5 max_fe:0.6 train:0.9257536582775806 test:0.7837364023538064\n",
      "n_estimators:250 max_depth:6 min_split:3 min_leaf:5 learning_rate:0.5 max_fe:0.8 train:0.9279151112462236 test:0.789129331584429\n",
      "n_estimators:250 max_depth:6 min_split:3 min_leaf:5 learning_rate:0.5 max_fe:0.9 train:0.9262077021998047 test:0.7795465929352818\n",
      "n_estimators:250 max_depth:6 min_split:3 min_leaf:6 learning_rate:0.1 max_fe:0.6 train:0.8733162495341367 test:0.8160852244937753\n",
      "n_estimators:250 max_depth:6 min_split:3 min_leaf:6 learning_rate:0.1 max_fe:0.8 train:0.8737865475446932 test:0.8147099090226291\n",
      "n_estimators:250 max_depth:6 min_split:3 min_leaf:6 learning_rate:0.1 max_fe:0.9 train:0.8751483567261156 test:0.8160464068488248\n",
      "n_estimators:250 max_depth:6 min_split:3 min_leaf:6 learning_rate:0.15 max_fe:0.6 train:0.8863095674444791 test:0.8115431398385992\n",
      "n_estimators:250 max_depth:6 min_split:3 min_leaf:6 learning_rate:0.15 max_fe:0.8 train:0.8872195263090631 test:0.8167626237426285\n",
      "n_estimators:250 max_depth:6 min_split:3 min_leaf:6 learning_rate:0.15 max_fe:0.9 train:0.8884733551198983 test:0.8156045183922876\n",
      "n_estimators:250 max_depth:6 min_split:3 min_leaf:6 learning_rate:0.2 max_fe:0.6 train:0.8957155011193919 test:0.8097447339004746\n",
      "n_estimators:250 max_depth:6 min_split:3 min_leaf:6 learning_rate:0.2 max_fe:0.8 train:0.8971983799929364 test:0.8167770442675049\n",
      "n_estimators:250 max_depth:6 min_split:3 min_leaf:6 learning_rate:0.2 max_fe:0.9 train:0.8984380428742414 test:0.8113329895268069\n",
      "n_estimators:250 max_depth:6 min_split:3 min_leaf:6 learning_rate:0.3 max_fe:0.6 train:0.909012271822576 test:0.8064635319314761\n",
      "n_estimators:250 max_depth:6 min_split:3 min_leaf:6 learning_rate:0.3 max_fe:0.8 train:0.9088985976743579 test:0.8093450897363745\n",
      "n_estimators:250 max_depth:6 min_split:3 min_leaf:6 learning_rate:0.3 max_fe:0.9 train:0.9095688029541038 test:0.8082818987521807\n",
      "n_estimators:250 max_depth:6 min_split:3 min_leaf:6 learning_rate:0.5 max_fe:0.6 train:0.9241311551071059 test:0.7872956705270459\n",
      "n_estimators:250 max_depth:6 min_split:3 min_leaf:6 learning_rate:0.5 max_fe:0.8 train:0.9239960747264138 test:0.7795873359929371\n",
      "n_estimators:250 max_depth:6 min_split:3 min_leaf:6 learning_rate:0.5 max_fe:0.9 train:0.927842729853421 test:0.7866837053677127\n",
      "n_estimators:250 max_depth:6 min_split:4 min_leaf:5 learning_rate:0.1 max_fe:0.6 train:0.8749920072896601 test:0.8190848753857016\n",
      "n_estimators:250 max_depth:6 min_split:4 min_leaf:5 learning_rate:0.1 max_fe:0.8 train:0.8756560054979866 test:0.8174753472719026\n",
      "n_estimators:250 max_depth:6 min_split:4 min_leaf:5 learning_rate:0.1 max_fe:0.9 train:0.8760797564533249 test:0.8148736757905848\n",
      "n_estimators:250 max_depth:6 min_split:4 min_leaf:5 learning_rate:0.15 max_fe:0.6 train:0.886642076853322 test:0.8123924555587567\n",
      "n_estimators:250 max_depth:6 min_split:4 min_leaf:5 learning_rate:0.15 max_fe:0.8 train:0.8906534602365762 test:0.8174821259938019\n",
      "n_estimators:250 max_depth:6 min_split:4 min_leaf:5 learning_rate:0.15 max_fe:0.9 train:0.889310258764592 test:0.8164704102310597\n",
      "n_estimators:250 max_depth:6 min_split:4 min_leaf:5 learning_rate:0.2 max_fe:0.6 train:0.8988337271733929 test:0.8108783278321356\n",
      "n_estimators:250 max_depth:6 min_split:4 min_leaf:5 learning_rate:0.2 max_fe:0.8 train:0.9005236207161377 test:0.8104324595853035\n",
      "n_estimators:250 max_depth:6 min_split:4 min_leaf:5 learning_rate:0.2 max_fe:0.9 train:0.8985927231498202 test:0.8112830437934082\n",
      "n_estimators:250 max_depth:6 min_split:4 min_leaf:5 learning_rate:0.3 max_fe:0.6 train:0.9108042529768702 test:0.8036291220612436\n",
      "n_estimators:250 max_depth:6 min_split:4 min_leaf:5 learning_rate:0.3 max_fe:0.8 train:0.9120130742241775 test:0.8038567023653359\n",
      "n_estimators:250 max_depth:6 min_split:4 min_leaf:5 learning_rate:0.3 max_fe:0.9 train:0.9141990967682865 test:0.810889416925803\n",
      "n_estimators:250 max_depth:6 min_split:4 min_leaf:5 learning_rate:0.5 max_fe:0.6 train:0.9273328552869173 test:0.7849085409539154\n",
      "n_estimators:250 max_depth:6 min_split:4 min_leaf:5 learning_rate:0.5 max_fe:0.8 train:0.9292497362131712 test:0.784672857887306\n",
      "n_estimators:250 max_depth:6 min_split:4 min_leaf:5 learning_rate:0.5 max_fe:0.9 train:0.9279432293320811 test:0.786004079620106\n",
      "n_estimators:250 max_depth:6 min_split:4 min_leaf:6 learning_rate:0.1 max_fe:0.6 train:0.8747555817190518 test:0.8149747152016166\n",
      "n_estimators:250 max_depth:6 min_split:4 min_leaf:6 learning_rate:0.1 max_fe:0.8 train:0.8760497829835602 test:0.8161327083556855\n",
      "n_estimators:250 max_depth:6 min_split:4 min_leaf:6 learning_rate:0.1 max_fe:0.9 train:0.8750867423629581 test:0.8161586654819455\n",
      "n_estimators:250 max_depth:6 min_split:4 min_leaf:6 learning_rate:0.15 max_fe:0.6 train:0.8860842064633307 test:0.8169824050404362\n",
      "n_estimators:250 max_depth:6 min_split:4 min_leaf:6 learning_rate:0.15 max_fe:0.8 train:0.888725504320545 test:0.8177370370400536\n",
      "n_estimators:250 max_depth:6 min_split:4 min_leaf:6 learning_rate:0.15 max_fe:0.9 train:0.8884452236022669 test:0.8141531793055108\n",
      "n_estimators:250 max_depth:6 min_split:4 min_leaf:6 learning_rate:0.2 max_fe:0.6 train:0.8972821944228604 test:0.8157198956278816\n",
      "n_estimators:250 max_depth:6 min_split:4 min_leaf:6 learning_rate:0.2 max_fe:0.8 train:0.8968450307680932 test:0.8108143829773993\n",
      "n_estimators:250 max_depth:6 min_split:4 min_leaf:6 learning_rate:0.2 max_fe:0.9 train:0.8982402212310446 test:0.8118005149926748\n",
      "n_estimators:250 max_depth:6 min_split:4 min_leaf:6 learning_rate:0.3 max_fe:0.6 train:0.908815040478417 test:0.808543657574625\n"
     ]
    },
    {
     "name": "stdout",
     "output_type": "stream",
     "text": [
      "n_estimators:250 max_depth:6 min_split:4 min_leaf:6 learning_rate:0.3 max_fe:0.8 train:0.9112014007495246 test:0.8119593112635191\n",
      "n_estimators:250 max_depth:6 min_split:4 min_leaf:6 learning_rate:0.3 max_fe:0.9 train:0.9094473240009988 test:0.8070686758991981\n",
      "n_estimators:250 max_depth:6 min_split:4 min_leaf:6 learning_rate:0.5 max_fe:0.6 train:0.9241972301922191 test:0.7860315306134869\n",
      "n_estimators:250 max_depth:6 min_split:4 min_leaf:6 learning_rate:0.5 max_fe:0.8 train:0.9248257184498163 test:0.7858859076515945\n",
      "n_estimators:250 max_depth:6 min_split:4 min_leaf:6 learning_rate:0.5 max_fe:0.9 train:0.9238304645061656 test:0.7879940658078239\n",
      "n_estimators:250 max_depth:6 min_split:10 min_leaf:5 learning_rate:0.1 max_fe:0.6 train:0.8755911964269639 test:0.8165496046136611\n",
      "n_estimators:250 max_depth:6 min_split:10 min_leaf:5 learning_rate:0.1 max_fe:0.8 train:0.8739456165566112 test:0.815753581472539\n",
      "n_estimators:250 max_depth:6 min_split:10 min_leaf:5 learning_rate:0.1 max_fe:0.9 train:0.8761826552962206 test:0.8163224189046538\n",
      "n_estimators:250 max_depth:6 min_split:10 min_leaf:5 learning_rate:0.15 max_fe:0.6 train:0.8891401672047197 test:0.8165552970067876\n",
      "n_estimators:250 max_depth:6 min_split:10 min_leaf:5 learning_rate:0.15 max_fe:0.8 train:0.8920953121104486 test:0.8141124355574219\n",
      "n_estimators:250 max_depth:6 min_split:10 min_leaf:5 learning_rate:0.15 max_fe:0.9 train:0.889372658775438 test:0.8165564805077891\n",
      "n_estimators:250 max_depth:6 min_split:10 min_leaf:5 learning_rate:0.2 max_fe:0.6 train:0.8982993957005144 test:0.810460379608756\n",
      "n_estimators:250 max_depth:6 min_split:10 min_leaf:5 learning_rate:0.2 max_fe:0.8 train:0.8997563308296641 test:0.816481084547068\n",
      "n_estimators:250 max_depth:6 min_split:10 min_leaf:5 learning_rate:0.2 max_fe:0.9 train:0.8965947803079677 test:0.811910895303682\n",
      "n_estimators:250 max_depth:6 min_split:10 min_leaf:5 learning_rate:0.3 max_fe:0.6 train:0.9081671275479601 test:0.805569415862834\n",
      "n_estimators:250 max_depth:6 min_split:10 min_leaf:5 learning_rate:0.3 max_fe:0.8 train:0.9135852603268231 test:0.8085930072826437\n",
      "n_estimators:250 max_depth:6 min_split:10 min_leaf:5 learning_rate:0.3 max_fe:0.9 train:0.9103574623135664 test:0.8099497172422587\n",
      "n_estimators:250 max_depth:6 min_split:10 min_leaf:5 learning_rate:0.5 max_fe:0.6 train:0.9248953118346677 test:0.787820161832387\n",
      "n_estimators:250 max_depth:6 min_split:10 min_leaf:5 learning_rate:0.5 max_fe:0.8 train:0.926369476838144 test:0.7924466451894979\n",
      "n_estimators:250 max_depth:6 min_split:10 min_leaf:5 learning_rate:0.5 max_fe:0.9 train:0.9311770860451676 test:0.785440521808882\n",
      "n_estimators:250 max_depth:6 min_split:10 min_leaf:6 learning_rate:0.1 max_fe:0.6 train:0.8721062787283423 test:0.8150450701932326\n",
      "n_estimators:250 max_depth:6 min_split:10 min_leaf:6 learning_rate:0.1 max_fe:0.8 train:0.8739083433811369 test:0.816496052479285\n",
      "n_estimators:250 max_depth:6 min_split:10 min_leaf:6 learning_rate:0.1 max_fe:0.9 train:0.8744289741315614 test:0.8170788419834727\n",
      "n_estimators:250 max_depth:6 min_split:10 min_leaf:6 learning_rate:0.15 max_fe:0.6 train:0.8843518292195232 test:0.8143911017413019\n",
      "n_estimators:250 max_depth:6 min_split:10 min_leaf:6 learning_rate:0.15 max_fe:0.8 train:0.8888425503446649 test:0.8140616734887576\n",
      "n_estimators:250 max_depth:6 min_split:10 min_leaf:6 learning_rate:0.15 max_fe:0.9 train:0.8874354661650661 test:0.8145230013312226\n",
      "n_estimators:250 max_depth:6 min_split:10 min_leaf:6 learning_rate:0.2 max_fe:0.6 train:0.8956822082313012 test:0.8135074703020787\n",
      "n_estimators:250 max_depth:6 min_split:10 min_leaf:6 learning_rate:0.2 max_fe:0.8 train:0.8979045550282585 test:0.8118543544929142\n",
      "n_estimators:250 max_depth:6 min_split:10 min_leaf:6 learning_rate:0.2 max_fe:0.9 train:0.8991753774735729 test:0.8138522094755247\n",
      "n_estimators:250 max_depth:6 min_split:10 min_leaf:6 learning_rate:0.3 max_fe:0.6 train:0.9071273632952429 test:0.8092806807087258\n",
      "n_estimators:250 max_depth:6 min_split:10 min_leaf:6 learning_rate:0.3 max_fe:0.8 train:0.9099618828073057 test:0.8067022640671674\n",
      "n_estimators:250 max_depth:6 min_split:10 min_leaf:6 learning_rate:0.3 max_fe:0.9 train:0.9100239301440094 test:0.8055581586457273\n",
      "n_estimators:250 max_depth:6 min_split:10 min_leaf:6 learning_rate:0.5 max_fe:0.6 train:0.9241728530790234 test:0.7885957502910913\n",
      "n_estimators:250 max_depth:6 min_split:10 min_leaf:6 learning_rate:0.5 max_fe:0.8 train:0.9242807377410106 test:0.7853326898150993\n",
      "n_estimators:250 max_depth:6 min_split:10 min_leaf:6 learning_rate:0.5 max_fe:0.9 train:0.9274408958687813 test:0.7959970184890168\n",
      "n_estimators:300 max_depth:5 min_split:3 min_leaf:5 learning_rate:0.1 max_fe:0.6 train:0.8581380795647976 test:0.8124863046078356\n",
      "n_estimators:300 max_depth:5 min_split:3 min_leaf:5 learning_rate:0.1 max_fe:0.8 train:0.8600928037084752 test:0.8152471150035876\n",
      "n_estimators:300 max_depth:5 min_split:3 min_leaf:5 learning_rate:0.1 max_fe:0.9 train:0.8589479363183133 test:0.8136471250814743\n",
      "n_estimators:300 max_depth:5 min_split:3 min_leaf:5 learning_rate:0.15 max_fe:0.6 train:0.8715336112220563 test:0.8151716868756752\n",
      "n_estimators:300 max_depth:5 min_split:3 min_leaf:5 learning_rate:0.15 max_fe:0.8 train:0.8733930053548211 test:0.816630151321349\n",
      "n_estimators:300 max_depth:5 min_split:3 min_leaf:5 learning_rate:0.15 max_fe:0.9 train:0.8753316010535734 test:0.8129072924087316\n",
      "n_estimators:300 max_depth:5 min_split:3 min_leaf:5 learning_rate:0.2 max_fe:0.6 train:0.8831452675873719 test:0.8126088150376707\n",
      "n_estimators:300 max_depth:5 min_split:3 min_leaf:5 learning_rate:0.2 max_fe:0.8 train:0.8829323433504459 test:0.8112436744262276\n",
      "n_estimators:300 max_depth:5 min_split:3 min_leaf:5 learning_rate:0.2 max_fe:0.9 train:0.884534483723577 test:0.8138837606821969\n",
      "n_estimators:300 max_depth:5 min_split:3 min_leaf:5 learning_rate:0.3 max_fe:0.6 train:0.8937963927967609 test:0.8103995044547868\n",
      "n_estimators:300 max_depth:5 min_split:3 min_leaf:5 learning_rate:0.3 max_fe:0.8 train:0.8976653839098254 test:0.8131006632883778\n",
      "n_estimators:300 max_depth:5 min_split:3 min_leaf:5 learning_rate:0.3 max_fe:0.9 train:0.8987306806218964 test:0.8110367747655244\n",
      "n_estimators:300 max_depth:5 min_split:3 min_leaf:5 learning_rate:0.5 max_fe:0.6 train:0.9141089956802988 test:0.7841426398826156\n",
      "n_estimators:300 max_depth:5 min_split:3 min_leaf:5 learning_rate:0.5 max_fe:0.8 train:0.9130064796428942 test:0.78943685284938\n",
      "n_estimators:300 max_depth:5 min_split:3 min_leaf:5 learning_rate:0.5 max_fe:0.9 train:0.9139812932294507 test:0.796777792989769\n",
      "n_estimators:300 max_depth:5 min_split:3 min_leaf:6 learning_rate:0.1 max_fe:0.6 train:0.8555455617600141 test:0.8114688315934155\n",
      "n_estimators:300 max_depth:5 min_split:3 min_leaf:6 learning_rate:0.1 max_fe:0.8 train:0.858669400014289 test:0.8145986372372197\n",
      "n_estimators:300 max_depth:5 min_split:3 min_leaf:6 learning_rate:0.1 max_fe:0.9 train:0.8561099869500683 test:0.8139214625084764\n",
      "n_estimators:300 max_depth:5 min_split:3 min_leaf:6 learning_rate:0.15 max_fe:0.6 train:0.8719372140535278 test:0.8132182209391926\n",
      "n_estimators:300 max_depth:5 min_split:3 min_leaf:6 learning_rate:0.15 max_fe:0.8 train:0.871300922114296 test:0.8162054046456868\n",
      "n_estimators:300 max_depth:5 min_split:3 min_leaf:6 learning_rate:0.15 max_fe:0.9 train:0.8752733151238686 test:0.8124768301273118\n",
      "n_estimators:300 max_depth:5 min_split:3 min_leaf:6 learning_rate:0.2 max_fe:0.6 train:0.8807400511060298 test:0.8129194025710429\n",
      "n_estimators:300 max_depth:5 min_split:3 min_leaf:6 learning_rate:0.2 max_fe:0.8 train:0.8824184255849534 test:0.8121697757899322\n",
      "n_estimators:300 max_depth:5 min_split:3 min_leaf:6 learning_rate:0.2 max_fe:0.9 train:0.8823230128635751 test:0.8129805034925411\n",
      "n_estimators:300 max_depth:5 min_split:3 min_leaf:6 learning_rate:0.3 max_fe:0.6 train:0.8953808744351875 test:0.8118232124016576\n",
      "n_estimators:300 max_depth:5 min_split:3 min_leaf:6 learning_rate:0.3 max_fe:0.8 train:0.8952833613982332 test:0.804261439201628\n",
      "n_estimators:300 max_depth:5 min_split:3 min_leaf:6 learning_rate:0.3 max_fe:0.9 train:0.8953201665966329 test:0.8063433022013272\n",
      "n_estimators:300 max_depth:5 min_split:3 min_leaf:6 learning_rate:0.5 max_fe:0.6 train:0.9090425309731298 test:0.7957565826215941\n"
     ]
    },
    {
     "name": "stdout",
     "output_type": "stream",
     "text": [
      "n_estimators:300 max_depth:5 min_split:3 min_leaf:6 learning_rate:0.5 max_fe:0.8 train:0.9115522993819952 test:0.7949475534201326\n",
      "n_estimators:300 max_depth:5 min_split:3 min_leaf:6 learning_rate:0.5 max_fe:0.9 train:0.9112422955412633 test:0.7961765659462978\n",
      "n_estimators:300 max_depth:5 min_split:4 min_leaf:5 learning_rate:0.1 max_fe:0.6 train:0.8575975998015342 test:0.8145913960009239\n",
      "n_estimators:300 max_depth:5 min_split:4 min_leaf:5 learning_rate:0.1 max_fe:0.8 train:0.8603196499571686 test:0.8142526116625477\n",
      "n_estimators:300 max_depth:5 min_split:4 min_leaf:5 learning_rate:0.1 max_fe:0.9 train:0.8591994447024852 test:0.8139062677399882\n",
      "n_estimators:300 max_depth:5 min_split:4 min_leaf:5 learning_rate:0.15 max_fe:0.6 train:0.8740561056545729 test:0.8136482522044682\n",
      "n_estimators:300 max_depth:5 min_split:4 min_leaf:5 learning_rate:0.15 max_fe:0.8 train:0.8759928825247898 test:0.8149263317909714\n",
      "n_estimators:300 max_depth:5 min_split:4 min_leaf:5 learning_rate:0.15 max_fe:0.9 train:0.8743936086152697 test:0.8157913696439625\n",
      "n_estimators:300 max_depth:5 min_split:4 min_leaf:5 learning_rate:0.2 max_fe:0.6 train:0.882917321703607 test:0.813511950202394\n",
      "n_estimators:300 max_depth:5 min_split:4 min_leaf:5 learning_rate:0.2 max_fe:0.8 train:0.8845301594153152 test:0.8124193158454218\n",
      "n_estimators:300 max_depth:5 min_split:4 min_leaf:5 learning_rate:0.2 max_fe:0.9 train:0.8856276319856753 test:0.8170474432209227\n",
      "n_estimators:300 max_depth:5 min_split:4 min_leaf:5 learning_rate:0.3 max_fe:0.6 train:0.8982687955399231 test:0.8086534034068389\n",
      "n_estimators:300 max_depth:5 min_split:4 min_leaf:5 learning_rate:0.3 max_fe:0.8 train:0.898706011460784 test:0.8070274301931345\n",
      "n_estimators:300 max_depth:5 min_split:4 min_leaf:5 learning_rate:0.3 max_fe:0.9 train:0.8981452217145486 test:0.8104703508658955\n",
      "n_estimators:300 max_depth:5 min_split:4 min_leaf:5 learning_rate:0.5 max_fe:0.6 train:0.9122069519919205 test:0.7957669540440511\n",
      "n_estimators:300 max_depth:5 min_split:4 min_leaf:5 learning_rate:0.5 max_fe:0.8 train:0.9115278334548647 test:0.7945854319118677\n",
      "n_estimators:300 max_depth:5 min_split:4 min_leaf:5 learning_rate:0.5 max_fe:0.9 train:0.9123292046125896 test:0.7977862992044527\n",
      "n_estimators:300 max_depth:5 min_split:4 min_leaf:6 learning_rate:0.1 max_fe:0.6 train:0.855866339184034 test:0.8123696061700032\n",
      "n_estimators:300 max_depth:5 min_split:4 min_leaf:6 learning_rate:0.1 max_fe:0.8 train:0.8599604200803626 test:0.8149204086964843\n",
      "n_estimators:300 max_depth:5 min_split:4 min_leaf:6 learning_rate:0.1 max_fe:0.9 train:0.8582583701904575 test:0.81371718119397\n",
      "n_estimators:300 max_depth:5 min_split:4 min_leaf:6 learning_rate:0.15 max_fe:0.6 train:0.8713886218237721 test:0.8150124104403837\n",
      "n_estimators:300 max_depth:5 min_split:4 min_leaf:6 learning_rate:0.15 max_fe:0.8 train:0.8735299309150906 test:0.8164647930984651\n",
      "n_estimators:300 max_depth:5 min_split:4 min_leaf:6 learning_rate:0.15 max_fe:0.9 train:0.8721976438109709 test:0.8122290240162189\n",
      "n_estimators:300 max_depth:5 min_split:4 min_leaf:6 learning_rate:0.2 max_fe:0.6 train:0.8812476600728273 test:0.8150448218637233\n",
      "n_estimators:300 max_depth:5 min_split:4 min_leaf:6 learning_rate:0.2 max_fe:0.8 train:0.8837035770416312 test:0.8116160856200924\n",
      "n_estimators:300 max_depth:5 min_split:4 min_leaf:6 learning_rate:0.2 max_fe:0.9 train:0.883839763851331 test:0.8105910074691298\n",
      "n_estimators:300 max_depth:5 min_split:4 min_leaf:6 learning_rate:0.3 max_fe:0.6 train:0.8936028109535188 test:0.8071185838035921\n",
      "n_estimators:300 max_depth:5 min_split:4 min_leaf:6 learning_rate:0.3 max_fe:0.8 train:0.8988463288262636 test:0.810808543271218\n",
      "n_estimators:300 max_depth:5 min_split:4 min_leaf:6 learning_rate:0.3 max_fe:0.9 train:0.8983662187098144 test:0.8095087595993464\n",
      "n_estimators:300 max_depth:5 min_split:4 min_leaf:6 learning_rate:0.5 max_fe:0.6 train:0.9081496712961327 test:0.7934672828378285\n",
      "n_estimators:300 max_depth:5 min_split:4 min_leaf:6 learning_rate:0.5 max_fe:0.8 train:0.9105037481593007 test:0.7947213722418174\n",
      "n_estimators:300 max_depth:5 min_split:4 min_leaf:6 learning_rate:0.5 max_fe:0.9 train:0.9128750614141293 test:0.7904695943675131\n",
      "n_estimators:300 max_depth:5 min_split:10 min_leaf:5 learning_rate:0.1 max_fe:0.6 train:0.85688797310185 test:0.8146233153343339\n",
      "n_estimators:300 max_depth:5 min_split:10 min_leaf:5 learning_rate:0.1 max_fe:0.8 train:0.8604083692114262 test:0.8160270659500747\n",
      "n_estimators:300 max_depth:5 min_split:10 min_leaf:5 learning_rate:0.1 max_fe:0.9 train:0.8586959951264432 test:0.8123640732903941\n",
      "n_estimators:300 max_depth:5 min_split:10 min_leaf:5 learning_rate:0.15 max_fe:0.6 train:0.8722474879571466 test:0.8155624792690058\n",
      "n_estimators:300 max_depth:5 min_split:10 min_leaf:5 learning_rate:0.15 max_fe:0.8 train:0.8744712735479714 test:0.814489343317309\n",
      "n_estimators:300 max_depth:5 min_split:10 min_leaf:5 learning_rate:0.15 max_fe:0.9 train:0.8725348765031202 test:0.8118737997416382\n",
      "n_estimators:300 max_depth:5 min_split:10 min_leaf:5 learning_rate:0.2 max_fe:0.6 train:0.8818310289890116 test:0.8089820238716934\n",
      "n_estimators:300 max_depth:5 min_split:10 min_leaf:5 learning_rate:0.2 max_fe:0.8 train:0.8839252935307755 test:0.8124231267182414\n",
      "n_estimators:300 max_depth:5 min_split:10 min_leaf:5 learning_rate:0.2 max_fe:0.9 train:0.8856141607656689 test:0.810899367265863\n",
      "n_estimators:300 max_depth:5 min_split:10 min_leaf:5 learning_rate:0.3 max_fe:0.6 train:0.8966665957073132 test:0.814592716583933\n",
      "n_estimators:300 max_depth:5 min_split:10 min_leaf:5 learning_rate:0.3 max_fe:0.8 train:0.9009791599885932 test:0.810695997823458\n",
      "n_estimators:300 max_depth:5 min_split:10 min_leaf:5 learning_rate:0.3 max_fe:0.9 train:0.8982112877497278 test:0.8091621620124128\n",
      "n_estimators:300 max_depth:5 min_split:10 min_leaf:5 learning_rate:0.5 max_fe:0.6 train:0.9098396160061851 test:0.7955641684442353\n",
      "n_estimators:300 max_depth:5 min_split:10 min_leaf:5 learning_rate:0.5 max_fe:0.8 train:0.9117774316506873 test:0.7892404590162082\n",
      "n_estimators:300 max_depth:5 min_split:10 min_leaf:5 learning_rate:0.5 max_fe:0.9 train:0.9166104462580322 test:0.787914691835241\n",
      "n_estimators:300 max_depth:5 min_split:10 min_leaf:6 learning_rate:0.1 max_fe:0.6 train:0.8563542686576889 test:0.8152522699874989\n",
      "n_estimators:300 max_depth:5 min_split:10 min_leaf:6 learning_rate:0.1 max_fe:0.8 train:0.8588170577232368 test:0.8126429467675995\n",
      "n_estimators:300 max_depth:5 min_split:10 min_leaf:6 learning_rate:0.1 max_fe:0.9 train:0.8557498591756489 test:0.8133909075736286\n",
      "n_estimators:300 max_depth:5 min_split:10 min_leaf:6 learning_rate:0.15 max_fe:0.6 train:0.8719873871012128 test:0.8160007599121138\n",
      "n_estimators:300 max_depth:5 min_split:10 min_leaf:6 learning_rate:0.15 max_fe:0.8 train:0.8722498592004184 test:0.8132260239514157\n",
      "n_estimators:300 max_depth:5 min_split:10 min_leaf:6 learning_rate:0.15 max_fe:0.9 train:0.8733032493122379 test:0.8156210370732998\n",
      "n_estimators:300 max_depth:5 min_split:10 min_leaf:6 learning_rate:0.2 max_fe:0.6 train:0.8828779115433223 test:0.8153878627877277\n",
      "n_estimators:300 max_depth:5 min_split:10 min_leaf:6 learning_rate:0.2 max_fe:0.8 train:0.8805922191674858 test:0.8119548865545999\n",
      "n_estimators:300 max_depth:5 min_split:10 min_leaf:6 learning_rate:0.2 max_fe:0.9 train:0.8846637294879676 test:0.8155447165750171\n",
      "n_estimators:300 max_depth:5 min_split:10 min_leaf:6 learning_rate:0.3 max_fe:0.6 train:0.8928739217499493 test:0.804414796683405\n",
      "n_estimators:300 max_depth:5 min_split:10 min_leaf:6 learning_rate:0.3 max_fe:0.8 train:0.8948993570070518 test:0.8071514281512401\n",
      "n_estimators:300 max_depth:5 min_split:10 min_leaf:6 learning_rate:0.3 max_fe:0.9 train:0.8982910104585239 test:0.8146457134156506\n",
      "n_estimators:300 max_depth:5 min_split:10 min_leaf:6 learning_rate:0.5 max_fe:0.6 train:0.908963148387242 test:0.7953782205854044\n",
      "n_estimators:300 max_depth:5 min_split:10 min_leaf:6 learning_rate:0.5 max_fe:0.8 train:0.9112261728755002 test:0.7926755384921413\n",
      "n_estimators:300 max_depth:5 min_split:10 min_leaf:6 learning_rate:0.5 max_fe:0.9 train:0.9129610199465016 test:0.7945437189333404\n",
      "n_estimators:300 max_depth:4 min_split:3 min_leaf:5 learning_rate:0.1 max_fe:0.6 train:0.8258052190681009 test:0.8045307007621176\n"
     ]
    },
    {
     "name": "stdout",
     "output_type": "stream",
     "text": [
      "n_estimators:300 max_depth:4 min_split:3 min_leaf:5 learning_rate:0.1 max_fe:0.8 train:0.8323597997196484 test:0.807804821895647\n",
      "n_estimators:300 max_depth:4 min_split:3 min_leaf:5 learning_rate:0.1 max_fe:0.9 train:0.8315417772646307 test:0.8045178025374355\n",
      "n_estimators:300 max_depth:4 min_split:3 min_leaf:5 learning_rate:0.15 max_fe:0.6 train:0.8440254649325457 test:0.8095653383363123\n",
      "n_estimators:300 max_depth:4 min_split:3 min_leaf:5 learning_rate:0.15 max_fe:0.8 train:0.8466748504649213 test:0.8090565214635501\n",
      "n_estimators:300 max_depth:4 min_split:3 min_leaf:5 learning_rate:0.15 max_fe:0.9 train:0.8455720616945529 test:0.8079322069287117\n",
      "n_estimators:300 max_depth:4 min_split:3 min_leaf:5 learning_rate:0.2 max_fe:0.6 train:0.857005832955619 test:0.8131759974425509\n",
      "n_estimators:300 max_depth:4 min_split:3 min_leaf:5 learning_rate:0.2 max_fe:0.8 train:0.8584909031680086 test:0.8133714520141407\n",
      "n_estimators:300 max_depth:4 min_split:3 min_leaf:5 learning_rate:0.2 max_fe:0.9 train:0.8558633950970503 test:0.8110840004959398\n",
      "n_estimators:300 max_depth:4 min_split:3 min_leaf:5 learning_rate:0.3 max_fe:0.6 train:0.8706456297652626 test:0.8108285532063906\n",
      "n_estimators:300 max_depth:4 min_split:3 min_leaf:5 learning_rate:0.3 max_fe:0.8 train:0.8710494646426333 test:0.8097223929740819\n",
      "n_estimators:300 max_depth:4 min_split:3 min_leaf:5 learning_rate:0.3 max_fe:0.9 train:0.8736588288480902 test:0.8094062751616078\n",
      "n_estimators:300 max_depth:4 min_split:3 min_leaf:5 learning_rate:0.5 max_fe:0.6 train:0.8859034080441155 test:0.8040520944629643\n",
      "n_estimators:300 max_depth:4 min_split:3 min_leaf:5 learning_rate:0.5 max_fe:0.8 train:0.8885370557348133 test:0.7982690808543326\n",
      "n_estimators:300 max_depth:4 min_split:3 min_leaf:5 learning_rate:0.5 max_fe:0.9 train:0.8883192846104685 test:0.798490142445866\n",
      "n_estimators:300 max_depth:4 min_split:3 min_leaf:6 learning_rate:0.1 max_fe:0.6 train:0.8288997430176048 test:0.8058292569443081\n",
      "n_estimators:300 max_depth:4 min_split:3 min_leaf:6 learning_rate:0.1 max_fe:0.8 train:0.8291549153244825 test:0.8068024975886204\n",
      "n_estimators:300 max_depth:4 min_split:3 min_leaf:6 learning_rate:0.1 max_fe:0.9 train:0.8303071097671323 test:0.8051848575654253\n",
      "n_estimators:300 max_depth:4 min_split:3 min_leaf:6 learning_rate:0.15 max_fe:0.6 train:0.8441996118775836 test:0.8102799366550999\n",
      "n_estimators:300 max_depth:4 min_split:3 min_leaf:6 learning_rate:0.15 max_fe:0.8 train:0.8463935875332551 test:0.8113293538442717\n",
      "n_estimators:300 max_depth:4 min_split:3 min_leaf:6 learning_rate:0.15 max_fe:0.9 train:0.8460743091002474 test:0.8112397274943829\n",
      "n_estimators:300 max_depth:4 min_split:3 min_leaf:6 learning_rate:0.2 max_fe:0.6 train:0.8523044797732389 test:0.8121461869528248\n",
      "n_estimators:300 max_depth:4 min_split:3 min_leaf:6 learning_rate:0.2 max_fe:0.8 train:0.8570776100449903 test:0.8118039403498737\n",
      "n_estimators:300 max_depth:4 min_split:3 min_leaf:6 learning_rate:0.2 max_fe:0.9 train:0.8576697804220945 test:0.8115003644775076\n",
      "n_estimators:300 max_depth:4 min_split:3 min_leaf:6 learning_rate:0.3 max_fe:0.6 train:0.8684194068655027 test:0.8080421818103194\n",
      "n_estimators:300 max_depth:4 min_split:3 min_leaf:6 learning_rate:0.3 max_fe:0.8 train:0.8703161235482746 test:0.8086679298638131\n",
      "n_estimators:300 max_depth:4 min_split:3 min_leaf:6 learning_rate:0.3 max_fe:0.9 train:0.8724630225489884 test:0.8083257713826061\n",
      "n_estimators:300 max_depth:4 min_split:3 min_leaf:6 learning_rate:0.5 max_fe:0.6 train:0.8813095236174987 test:0.7990245270367715\n",
      "n_estimators:300 max_depth:4 min_split:3 min_leaf:6 learning_rate:0.5 max_fe:0.8 train:0.8874769793557461 test:0.8009998370296679\n",
      "n_estimators:300 max_depth:4 min_split:3 min_leaf:6 learning_rate:0.5 max_fe:0.9 train:0.885869683483814 test:0.7990246978492347\n",
      "n_estimators:300 max_depth:4 min_split:4 min_leaf:5 learning_rate:0.1 max_fe:0.6 train:0.8307227104801641 test:0.805507694250181\n",
      "n_estimators:300 max_depth:4 min_split:4 min_leaf:5 learning_rate:0.1 max_fe:0.8 train:0.828629806058071 test:0.8053829961614775\n",
      "n_estimators:300 max_depth:4 min_split:4 min_leaf:5 learning_rate:0.1 max_fe:0.9 train:0.8278241486717725 test:0.8044888774432678\n",
      "n_estimators:300 max_depth:4 min_split:4 min_leaf:5 learning_rate:0.15 max_fe:0.6 train:0.8438247818990174 test:0.8086474607076646\n",
      "n_estimators:300 max_depth:4 min_split:4 min_leaf:5 learning_rate:0.15 max_fe:0.8 train:0.8458127567834786 test:0.8122507042318676\n",
      "n_estimators:300 max_depth:4 min_split:4 min_leaf:5 learning_rate:0.15 max_fe:0.9 train:0.8467333946346466 test:0.8111168438061697\n",
      "n_estimators:300 max_depth:4 min_split:4 min_leaf:5 learning_rate:0.2 max_fe:0.6 train:0.8534248449725649 test:0.8120034605710185\n",
      "n_estimators:300 max_depth:4 min_split:4 min_leaf:5 learning_rate:0.2 max_fe:0.8 train:0.8566749577406154 test:0.811215456325417\n",
      "n_estimators:300 max_depth:4 min_split:4 min_leaf:5 learning_rate:0.2 max_fe:0.9 train:0.8598931651669635 test:0.8108997768856284\n",
      "n_estimators:300 max_depth:4 min_split:4 min_leaf:5 learning_rate:0.3 max_fe:0.6 train:0.8696077116781912 test:0.8090872294669688\n",
      "n_estimators:300 max_depth:4 min_split:4 min_leaf:5 learning_rate:0.3 max_fe:0.8 train:0.8704427138641851 test:0.8079007395979683\n",
      "n_estimators:300 max_depth:4 min_split:4 min_leaf:5 learning_rate:0.3 max_fe:0.9 train:0.8712118866841406 test:0.8072415840500098\n",
      "n_estimators:300 max_depth:4 min_split:4 min_leaf:5 learning_rate:0.5 max_fe:0.6 train:0.8840053617004539 test:0.8024150162771366\n",
      "n_estimators:300 max_depth:4 min_split:4 min_leaf:5 learning_rate:0.5 max_fe:0.8 train:0.8842538707581515 test:0.7926995827420459\n",
      "n_estimators:300 max_depth:4 min_split:4 min_leaf:5 learning_rate:0.5 max_fe:0.9 train:0.8862535079206362 test:0.800940845644708\n",
      "n_estimators:300 max_depth:4 min_split:4 min_leaf:6 learning_rate:0.1 max_fe:0.6 train:0.8275595312409976 test:0.8064412365147826\n",
      "n_estimators:300 max_depth:4 min_split:4 min_leaf:6 learning_rate:0.1 max_fe:0.8 train:0.8281029586447235 test:0.8052462454176483\n",
      "n_estimators:300 max_depth:4 min_split:4 min_leaf:6 learning_rate:0.1 max_fe:0.9 train:0.8289273500782725 test:0.804063418202112\n",
      "n_estimators:300 max_depth:4 min_split:4 min_leaf:6 learning_rate:0.15 max_fe:0.6 train:0.8438436316107112 test:0.8101756893193359\n",
      "n_estimators:300 max_depth:4 min_split:4 min_leaf:6 learning_rate:0.15 max_fe:0.8 train:0.8456373404850743 test:0.8078274175187361\n",
      "n_estimators:300 max_depth:4 min_split:4 min_leaf:6 learning_rate:0.15 max_fe:0.9 train:0.8472562077440002 test:0.8122612841715281\n",
      "n_estimators:300 max_depth:4 min_split:4 min_leaf:6 learning_rate:0.2 max_fe:0.6 train:0.8551107772029239 test:0.8114090002983498\n",
      "n_estimators:300 max_depth:4 min_split:4 min_leaf:6 learning_rate:0.2 max_fe:0.8 train:0.8550275581234363 test:0.8125788889245241\n",
      "n_estimators:300 max_depth:4 min_split:4 min_leaf:6 learning_rate:0.2 max_fe:0.9 train:0.8568075289278183 test:0.809244329074368\n",
      "n_estimators:300 max_depth:4 min_split:4 min_leaf:6 learning_rate:0.3 max_fe:0.6 train:0.8689178240262838 test:0.811552386248146\n",
      "n_estimators:300 max_depth:4 min_split:4 min_leaf:6 learning_rate:0.3 max_fe:0.8 train:0.8717646078145591 test:0.8061410597943819\n",
      "n_estimators:300 max_depth:4 min_split:4 min_leaf:6 learning_rate:0.3 max_fe:0.9 train:0.8702057124445699 test:0.8096327400908689\n",
      "n_estimators:300 max_depth:4 min_split:4 min_leaf:6 learning_rate:0.5 max_fe:0.6 train:0.8826763446731095 test:0.8043994744714187\n",
      "n_estimators:300 max_depth:4 min_split:4 min_leaf:6 learning_rate:0.5 max_fe:0.8 train:0.8845710189985274 test:0.7965701519502454\n",
      "n_estimators:300 max_depth:4 min_split:4 min_leaf:6 learning_rate:0.5 max_fe:0.9 train:0.8883784857292581 test:0.7995287375114639\n",
      "n_estimators:300 max_depth:4 min_split:10 min_leaf:5 learning_rate:0.1 max_fe:0.6 train:0.8305997301991546 test:0.8054467675874015\n",
      "n_estimators:300 max_depth:4 min_split:10 min_leaf:5 learning_rate:0.1 max_fe:0.8 train:0.8311461364403887 test:0.8063650048407437\n",
      "n_estimators:300 max_depth:4 min_split:10 min_leaf:5 learning_rate:0.1 max_fe:0.9 train:0.8308216370564361 test:0.8074285334523004\n",
      "n_estimators:300 max_depth:4 min_split:10 min_leaf:5 learning_rate:0.15 max_fe:0.6 train:0.8445545361781379 test:0.8092293846151322\n"
     ]
    },
    {
     "name": "stdout",
     "output_type": "stream",
     "text": [
      "n_estimators:300 max_depth:4 min_split:10 min_leaf:5 learning_rate:0.15 max_fe:0.8 train:0.8444983052578601 test:0.8083569485532048\n",
      "n_estimators:300 max_depth:4 min_split:10 min_leaf:5 learning_rate:0.15 max_fe:0.9 train:0.8482568912467497 test:0.8104740588392141\n",
      "n_estimators:300 max_depth:4 min_split:10 min_leaf:5 learning_rate:0.2 max_fe:0.6 train:0.8578356445398221 test:0.8104884147962409\n",
      "n_estimators:300 max_depth:4 min_split:10 min_leaf:5 learning_rate:0.2 max_fe:0.8 train:0.855201252254498 test:0.8111639427317698\n",
      "n_estimators:300 max_depth:4 min_split:10 min_leaf:5 learning_rate:0.2 max_fe:0.9 train:0.8580370355023433 test:0.8124621750405971\n",
      "n_estimators:300 max_depth:4 min_split:10 min_leaf:5 learning_rate:0.3 max_fe:0.6 train:0.8682120075337927 test:0.8124141999523844\n",
      "n_estimators:300 max_depth:4 min_split:10 min_leaf:5 learning_rate:0.3 max_fe:0.8 train:0.8707146582927021 test:0.8064869450843277\n",
      "n_estimators:300 max_depth:4 min_split:10 min_leaf:5 learning_rate:0.3 max_fe:0.9 train:0.8694943324129554 test:0.8094612426409841\n",
      "n_estimators:300 max_depth:4 min_split:10 min_leaf:5 learning_rate:0.5 max_fe:0.6 train:0.885792210161578 test:0.8028947267101858\n",
      "n_estimators:300 max_depth:4 min_split:10 min_leaf:5 learning_rate:0.5 max_fe:0.8 train:0.889120246221274 test:0.8000053315062327\n",
      "n_estimators:300 max_depth:4 min_split:10 min_leaf:5 learning_rate:0.5 max_fe:0.9 train:0.8878974719066162 test:0.793630354170794\n",
      "n_estimators:300 max_depth:4 min_split:10 min_leaf:6 learning_rate:0.1 max_fe:0.6 train:0.8293659758685461 test:0.8075843486391814\n",
      "n_estimators:300 max_depth:4 min_split:10 min_leaf:6 learning_rate:0.1 max_fe:0.8 train:0.8289635277145869 test:0.8052193976260088\n",
      "n_estimators:300 max_depth:4 min_split:10 min_leaf:6 learning_rate:0.1 max_fe:0.9 train:0.8294462511679692 test:0.804680705391136\n",
      "n_estimators:300 max_depth:4 min_split:10 min_leaf:6 learning_rate:0.15 max_fe:0.6 train:0.8436341069200354 test:0.8100274537837697\n",
      "n_estimators:300 max_depth:4 min_split:10 min_leaf:6 learning_rate:0.15 max_fe:0.8 train:0.8476973291859623 test:0.8108257889541737\n",
      "n_estimators:300 max_depth:4 min_split:10 min_leaf:6 learning_rate:0.15 max_fe:0.9 train:0.8459618081068778 test:0.8108275137893182\n",
      "n_estimators:300 max_depth:4 min_split:10 min_leaf:6 learning_rate:0.2 max_fe:0.6 train:0.8530236616356776 test:0.8094231449000898\n",
      "n_estimators:300 max_depth:4 min_split:10 min_leaf:6 learning_rate:0.2 max_fe:0.8 train:0.8580644996223281 test:0.8117308487176287\n",
      "n_estimators:300 max_depth:4 min_split:10 min_leaf:6 learning_rate:0.2 max_fe:0.9 train:0.8564262956348985 test:0.8088516194715194\n",
      "n_estimators:300 max_depth:4 min_split:10 min_leaf:6 learning_rate:0.3 max_fe:0.6 train:0.8652163671396401 test:0.8091316824387422\n",
      "n_estimators:300 max_depth:4 min_split:10 min_leaf:6 learning_rate:0.3 max_fe:0.8 train:0.8689554270817611 test:0.8075187238364978\n",
      "n_estimators:300 max_depth:4 min_split:10 min_leaf:6 learning_rate:0.3 max_fe:0.9 train:0.8710917358791799 test:0.810132536119173\n",
      "n_estimators:300 max_depth:4 min_split:10 min_leaf:6 learning_rate:0.5 max_fe:0.6 train:0.8834706500498107 test:0.794164858035795\n",
      "n_estimators:300 max_depth:4 min_split:10 min_leaf:6 learning_rate:0.5 max_fe:0.8 train:0.8856175281951872 test:0.7974158105938962\n",
      "n_estimators:300 max_depth:4 min_split:10 min_leaf:6 learning_rate:0.5 max_fe:0.9 train:0.8887817960671771 test:0.7993381752472489\n",
      "n_estimators:300 max_depth:6 min_split:3 min_leaf:5 learning_rate:0.1 max_fe:0.6 train:0.8831223877840805 test:0.8182007781617311\n",
      "n_estimators:300 max_depth:6 min_split:3 min_leaf:5 learning_rate:0.1 max_fe:0.8 train:0.8838381686874662 test:0.8181406308736255\n",
      "n_estimators:300 max_depth:6 min_split:3 min_leaf:5 learning_rate:0.1 max_fe:0.9 train:0.8840323662553818 test:0.8160355831029419\n",
      "n_estimators:300 max_depth:6 min_split:3 min_leaf:5 learning_rate:0.15 max_fe:0.6 train:0.8960715330747246 test:0.8141906408248374\n",
      "n_estimators:300 max_depth:6 min_split:3 min_leaf:5 learning_rate:0.15 max_fe:0.8 train:0.8980261697043195 test:0.8123710162039341\n",
      "n_estimators:300 max_depth:6 min_split:3 min_leaf:5 learning_rate:0.15 max_fe:0.9 train:0.8986705628606821 test:0.8174545203788826\n",
      "n_estimators:300 max_depth:6 min_split:3 min_leaf:5 learning_rate:0.2 max_fe:0.6 train:0.9022456602430113 test:0.8148376362326765\n",
      "n_estimators:300 max_depth:6 min_split:3 min_leaf:5 learning_rate:0.2 max_fe:0.8 train:0.902499278388524 test:0.8086588796932095\n",
      "n_estimators:300 max_depth:6 min_split:3 min_leaf:5 learning_rate:0.2 max_fe:0.9 train:0.9071179723045463 test:0.8119954041345494\n",
      "n_estimators:300 max_depth:6 min_split:3 min_leaf:5 learning_rate:0.3 max_fe:0.6 train:0.915668543776488 test:0.8076032128363229\n",
      "n_estimators:300 max_depth:6 min_split:3 min_leaf:5 learning_rate:0.3 max_fe:0.8 train:0.9190033330818732 test:0.8081079918416371\n",
      "n_estimators:300 max_depth:6 min_split:3 min_leaf:5 learning_rate:0.3 max_fe:0.9 train:0.9181037454857642 test:0.8081707034836132\n",
      "n_estimators:300 max_depth:6 min_split:3 min_leaf:5 learning_rate:0.5 max_fe:0.6 train:0.9334504089990223 test:0.7911639129505157\n",
      "n_estimators:300 max_depth:6 min_split:3 min_leaf:5 learning_rate:0.5 max_fe:0.8 train:0.9328103626909986 test:0.7855374429782463\n",
      "n_estimators:300 max_depth:6 min_split:3 min_leaf:5 learning_rate:0.5 max_fe:0.9 train:0.9315615449261455 test:0.7815305360864195\n",
      "n_estimators:300 max_depth:6 min_split:3 min_leaf:6 learning_rate:0.1 max_fe:0.6 train:0.8822421872145326 test:0.8160360731662385\n",
      "n_estimators:300 max_depth:6 min_split:3 min_leaf:6 learning_rate:0.1 max_fe:0.8 train:0.8808483925444809 test:0.8162554155313784\n",
      "n_estimators:300 max_depth:6 min_split:3 min_leaf:6 learning_rate:0.1 max_fe:0.9 train:0.8811553883104324 test:0.8191024782980094\n",
      "n_estimators:300 max_depth:6 min_split:3 min_leaf:6 learning_rate:0.15 max_fe:0.6 train:0.8931449388108643 test:0.8142820237861947\n",
      "n_estimators:300 max_depth:6 min_split:3 min_leaf:6 learning_rate:0.15 max_fe:0.8 train:0.8948332229046081 test:0.8146662828353116\n",
      "n_estimators:300 max_depth:6 min_split:3 min_leaf:6 learning_rate:0.15 max_fe:0.9 train:0.8940472898663471 test:0.8155724003532647\n",
      "n_estimators:300 max_depth:6 min_split:3 min_leaf:6 learning_rate:0.2 max_fe:0.6 train:0.9032911992390729 test:0.8120098796880667\n",
      "n_estimators:300 max_depth:6 min_split:3 min_leaf:6 learning_rate:0.2 max_fe:0.8 train:0.9026766222289494 test:0.8109903491966161\n",
      "n_estimators:300 max_depth:6 min_split:3 min_leaf:6 learning_rate:0.2 max_fe:0.9 train:0.9029050424936684 test:0.811751297944442\n",
      "n_estimators:300 max_depth:6 min_split:3 min_leaf:6 learning_rate:0.3 max_fe:0.6 train:0.9162843211642898 test:0.8051685942184621\n",
      "n_estimators:300 max_depth:6 min_split:3 min_leaf:6 learning_rate:0.3 max_fe:0.8 train:0.9146682841245714 test:0.8025408612732231\n",
      "n_estimators:300 max_depth:6 min_split:3 min_leaf:6 learning_rate:0.3 max_fe:0.9 train:0.9151520492204772 test:0.8103816729496878\n",
      "n_estimators:300 max_depth:6 min_split:3 min_leaf:6 learning_rate:0.5 max_fe:0.6 train:0.929893788294226 test:0.7909837349834407\n",
      "n_estimators:300 max_depth:6 min_split:3 min_leaf:6 learning_rate:0.5 max_fe:0.8 train:0.9318920807517366 test:0.7929101743861598\n",
      "n_estimators:300 max_depth:6 min_split:3 min_leaf:6 learning_rate:0.5 max_fe:0.9 train:0.9306929956363118 test:0.7856647683401122\n",
      "n_estimators:300 max_depth:6 min_split:4 min_leaf:5 learning_rate:0.1 max_fe:0.6 train:0.880589071450541 test:0.8147756242003947\n",
      "n_estimators:300 max_depth:6 min_split:4 min_leaf:5 learning_rate:0.1 max_fe:0.8 train:0.883845992645269 test:0.8172313951887396\n",
      "n_estimators:300 max_depth:6 min_split:4 min_leaf:5 learning_rate:0.1 max_fe:0.9 train:0.8830163805293793 test:0.8165875989680232\n",
      "n_estimators:300 max_depth:6 min_split:4 min_leaf:5 learning_rate:0.15 max_fe:0.6 train:0.894908325418009 test:0.8138585255056789\n",
      "n_estimators:300 max_depth:6 min_split:4 min_leaf:5 learning_rate:0.15 max_fe:0.8 train:0.8978553955434082 test:0.814650034378789\n",
      "n_estimators:300 max_depth:6 min_split:4 min_leaf:5 learning_rate:0.15 max_fe:0.9 train:0.8983987379637264 test:0.8154045162864794\n",
      "n_estimators:300 max_depth:6 min_split:4 min_leaf:5 learning_rate:0.2 max_fe:0.6 train:0.9030154780996521 test:0.813237695423723\n"
     ]
    },
    {
     "name": "stdout",
     "output_type": "stream",
     "text": [
      "n_estimators:300 max_depth:6 min_split:4 min_leaf:5 learning_rate:0.2 max_fe:0.8 train:0.904700460608187 test:0.8167493831167575\n",
      "n_estimators:300 max_depth:6 min_split:4 min_leaf:5 learning_rate:0.2 max_fe:0.9 train:0.9059669087296537 test:0.812122220295623\n",
      "n_estimators:300 max_depth:6 min_split:4 min_leaf:5 learning_rate:0.3 max_fe:0.6 train:0.9176714521843721 test:0.8007161930614283\n",
      "n_estimators:300 max_depth:6 min_split:4 min_leaf:5 learning_rate:0.3 max_fe:0.8 train:0.917196950209076 test:0.8087343694227768\n",
      "n_estimators:300 max_depth:6 min_split:4 min_leaf:5 learning_rate:0.3 max_fe:0.9 train:0.9189303831142233 test:0.8054834646763808\n",
      "n_estimators:300 max_depth:6 min_split:4 min_leaf:5 learning_rate:0.5 max_fe:0.6 train:0.9308000175313812 test:0.7885239589418669\n",
      "n_estimators:300 max_depth:6 min_split:4 min_leaf:5 learning_rate:0.5 max_fe:0.8 train:0.9328935247659215 test:0.785070504904266\n",
      "n_estimators:300 max_depth:6 min_split:4 min_leaf:5 learning_rate:0.5 max_fe:0.9 train:0.934113626021801 test:0.7831448418787627\n",
      "n_estimators:300 max_depth:6 min_split:4 min_leaf:6 learning_rate:0.1 max_fe:0.6 train:0.8809651178682006 test:0.8205680875663196\n",
      "n_estimators:300 max_depth:6 min_split:4 min_leaf:6 learning_rate:0.1 max_fe:0.8 train:0.8794176490818173 test:0.814909365640729\n",
      "n_estimators:300 max_depth:6 min_split:4 min_leaf:6 learning_rate:0.1 max_fe:0.9 train:0.8810590602506008 test:0.8185625825064242\n",
      "n_estimators:300 max_depth:6 min_split:4 min_leaf:6 learning_rate:0.15 max_fe:0.6 train:0.8923106703743202 test:0.8152700877644203\n",
      "n_estimators:300 max_depth:6 min_split:4 min_leaf:6 learning_rate:0.15 max_fe:0.8 train:0.8933633844393998 test:0.8180309109495334\n",
      "n_estimators:300 max_depth:6 min_split:4 min_leaf:6 learning_rate:0.15 max_fe:0.9 train:0.8934923315462131 test:0.8158355201984214\n",
      "n_estimators:300 max_depth:6 min_split:4 min_leaf:6 learning_rate:0.2 max_fe:0.6 train:0.902645396198547 test:0.8144736763505409\n",
      "n_estimators:300 max_depth:6 min_split:4 min_leaf:6 learning_rate:0.2 max_fe:0.8 train:0.90272094495361 test:0.8135812464099307\n",
      "n_estimators:300 max_depth:6 min_split:4 min_leaf:6 learning_rate:0.2 max_fe:0.9 train:0.9033284983319785 test:0.8124571994768996\n",
      "n_estimators:300 max_depth:6 min_split:4 min_leaf:6 learning_rate:0.3 max_fe:0.6 train:0.913671960511865 test:0.8041785272418434\n",
      "n_estimators:300 max_depth:6 min_split:4 min_leaf:6 learning_rate:0.3 max_fe:0.8 train:0.9166800909632998 test:0.8089397081678147\n",
      "n_estimators:300 max_depth:6 min_split:4 min_leaf:6 learning_rate:0.3 max_fe:0.9 train:0.9143838219510511 test:0.8066583524482973\n",
      "n_estimators:300 max_depth:6 min_split:4 min_leaf:6 learning_rate:0.5 max_fe:0.6 train:0.9307489255374878 test:0.789907128681519\n",
      "n_estimators:300 max_depth:6 min_split:4 min_leaf:6 learning_rate:0.5 max_fe:0.8 train:0.9332904963070396 test:0.7906718297953048\n",
      "n_estimators:300 max_depth:6 min_split:4 min_leaf:6 learning_rate:0.5 max_fe:0.9 train:0.9317389856956424 test:0.7892023271408839\n",
      "n_estimators:300 max_depth:6 min_split:10 min_leaf:5 learning_rate:0.1 max_fe:0.6 train:0.881561937255298 test:0.8148724022704447\n",
      "n_estimators:300 max_depth:6 min_split:10 min_leaf:5 learning_rate:0.1 max_fe:0.8 train:0.8813605839896492 test:0.8199321202238785\n",
      "n_estimators:300 max_depth:6 min_split:10 min_leaf:5 learning_rate:0.1 max_fe:0.9 train:0.8836190535496364 test:0.8178451783934604\n",
      "n_estimators:300 max_depth:6 min_split:10 min_leaf:5 learning_rate:0.15 max_fe:0.6 train:0.8958883884483688 test:0.8140232184025331\n",
      "n_estimators:300 max_depth:6 min_split:10 min_leaf:5 learning_rate:0.15 max_fe:0.8 train:0.8930037305579992 test:0.8171728328732083\n",
      "n_estimators:300 max_depth:6 min_split:10 min_leaf:5 learning_rate:0.15 max_fe:0.9 train:0.8989504536304838 test:0.8175550939814604\n",
      "n_estimators:300 max_depth:6 min_split:10 min_leaf:5 learning_rate:0.2 max_fe:0.6 train:0.9044746068592937 test:0.8136429074170226\n",
      "n_estimators:300 max_depth:6 min_split:10 min_leaf:5 learning_rate:0.2 max_fe:0.8 train:0.9054142574937296 test:0.8134385726002036\n",
      "n_estimators:300 max_depth:6 min_split:10 min_leaf:5 learning_rate:0.2 max_fe:0.9 train:0.9053223104400635 test:0.8130408984772046\n",
      "n_estimators:300 max_depth:6 min_split:10 min_leaf:5 learning_rate:0.3 max_fe:0.6 train:0.9167457768000404 test:0.802098246139088\n",
      "n_estimators:300 max_depth:6 min_split:10 min_leaf:5 learning_rate:0.3 max_fe:0.8 train:0.9164428139972824 test:0.8095542365894234\n",
      "n_estimators:300 max_depth:6 min_split:10 min_leaf:5 learning_rate:0.3 max_fe:0.9 train:0.9202784475955461 test:0.8046785351985339\n",
      "n_estimators:300 max_depth:6 min_split:10 min_leaf:5 learning_rate:0.5 max_fe:0.6 train:0.9319462718024597 test:0.7925493743087224\n",
      "n_estimators:300 max_depth:6 min_split:10 min_leaf:5 learning_rate:0.5 max_fe:0.8 train:0.9319799206009336 test:0.788257257267991\n",
      "n_estimators:300 max_depth:6 min_split:10 min_leaf:5 learning_rate:0.5 max_fe:0.9 train:0.9371327458772745 test:0.7838698112773583\n",
      "n_estimators:300 max_depth:6 min_split:10 min_leaf:6 learning_rate:0.1 max_fe:0.6 train:0.8794685261915933 test:0.8168587490914497\n",
      "n_estimators:300 max_depth:6 min_split:10 min_leaf:6 learning_rate:0.1 max_fe:0.8 train:0.8821719780247937 test:0.8166741328274816\n",
      "n_estimators:300 max_depth:6 min_split:10 min_leaf:6 learning_rate:0.1 max_fe:0.9 train:0.880538064864486 test:0.8168933333171275\n",
      "n_estimators:300 max_depth:6 min_split:10 min_leaf:6 learning_rate:0.15 max_fe:0.6 train:0.8925470900515483 test:0.8177040037222417\n",
      "n_estimators:300 max_depth:6 min_split:10 min_leaf:6 learning_rate:0.15 max_fe:0.8 train:0.8915421334197883 test:0.8137128159860247\n",
      "n_estimators:300 max_depth:6 min_split:10 min_leaf:6 learning_rate:0.15 max_fe:0.9 train:0.895379093685332 test:0.8156966331203898\n",
      "n_estimators:300 max_depth:6 min_split:10 min_leaf:6 learning_rate:0.2 max_fe:0.6 train:0.9003860680332872 test:0.8124039151045083\n",
      "n_estimators:300 max_depth:6 min_split:10 min_leaf:6 learning_rate:0.2 max_fe:0.8 train:0.9047144420823596 test:0.8119281581513882\n",
      "n_estimators:300 max_depth:6 min_split:10 min_leaf:6 learning_rate:0.2 max_fe:0.9 train:0.9025128598978763 test:0.8090312667743013\n",
      "n_estimators:300 max_depth:6 min_split:10 min_leaf:6 learning_rate:0.3 max_fe:0.6 train:0.9133976997909365 test:0.8066241613938898\n",
      "n_estimators:300 max_depth:6 min_split:10 min_leaf:6 learning_rate:0.3 max_fe:0.8 train:0.9150716397143583 test:0.8053897711505825\n",
      "n_estimators:300 max_depth:6 min_split:10 min_leaf:6 learning_rate:0.3 max_fe:0.9 train:0.9171039752133286 test:0.8126831807478229\n",
      "n_estimators:300 max_depth:6 min_split:10 min_leaf:6 learning_rate:0.5 max_fe:0.6 train:0.9304103204138748 test:0.7900342847004612\n",
      "n_estimators:300 max_depth:6 min_split:10 min_leaf:6 learning_rate:0.5 max_fe:0.8 train:0.9311527936749869 test:0.7864391585654196\n",
      "n_estimators:300 max_depth:6 min_split:10 min_leaf:6 learning_rate:0.5 max_fe:0.9 train:0.9313164604946403 test:0.7857084389472674\n"
     ]
    }
   ],
   "source": [
    "#testing\n",
    "for i in [200,250,300]:\n",
    "    for j in [5,4,6]:\n",
    "        for k in [3,4,10]:\n",
    "            for l in [5,6]:\n",
    "                for m in [0.1,0.15,0.2,0.3,0.5]:\n",
    "                    for n in [0.6,0.8,0.9]:\n",
    "                        exp=GradientBoostingRegressor(n_estimators=i,max_depth=j,min_samples_split=k,\n",
    "                                                     min_samples_leaf=l,learning_rate=m,max_features=n,loss='huber')\n",
    "                        exp.fit(X_train,y_train)\n",
    "                        train_score=exp.score(X_train,y_train)\n",
    "                        test_score=exp.score(X_test,y_test)\n",
    "                        print(f'n_estimators:{i} max_depth:{j} min_split:{k} min_leaf:{l} learning_rate:{m} max_fe:{n} train:{train_score} test:{test_score}')"
   ]
  },
  {
   "cell_type": "code",
   "execution_count": 141,
   "metadata": {},
   "outputs": [
    {
     "data": {
      "text/plain": [
       "GradientBoostingRegressor(loss='huber', max_depth=5, max_features=0.6,\n",
       "                          min_samples_leaf=6, min_samples_split=3,\n",
       "                          n_estimators=250, random_state=350)"
      ]
     },
     "execution_count": 141,
     "metadata": {},
     "output_type": "execute_result"
    }
   ],
   "source": [
    "final_model=GradientBoostingRegressor(n_estimators=250,max_depth=5,min_samples_split=3,min_samples_leaf=6,learning_rate=0.1,\n",
    "                                     max_features=0.6,loss='huber',random_state=350)\n",
    "final_model.fit(X_train,y_train)"
   ]
  },
  {
   "cell_type": "code",
   "execution_count": 142,
   "metadata": {},
   "outputs": [
    {
     "name": "stdout",
     "output_type": "stream",
     "text": [
      "85.07113008764047\n"
     ]
    }
   ],
   "source": [
    "f_train=final_model.score(X_train,y_train)*100\n",
    "print(f_train)"
   ]
  },
  {
   "cell_type": "code",
   "execution_count": 143,
   "metadata": {},
   "outputs": [
    {
     "name": "stdout",
     "output_type": "stream",
     "text": [
      "81.30581388665988\n"
     ]
    }
   ],
   "source": [
    "f_test=final_model.score(X_test,y_test)*100\n",
    "print(f_test)"
   ]
  },
  {
   "cell_type": "code",
   "execution_count": 144,
   "metadata": {},
   "outputs": [
    {
     "data": {
      "text/plain": [
       "['model1.pkl']"
      ]
     },
     "execution_count": 144,
     "metadata": {},
     "output_type": "execute_result"
    }
   ],
   "source": [
    "import joblib \n",
    "joblib.dump(final_model,\"model1.pkl\")"
   ]
  },
  {
   "cell_type": "code",
   "execution_count": 156,
   "metadata": {},
   "outputs": [
    {
     "data": {
      "image/png": "[encoded data removed]",
      "text/plain": [
       "<Figure size 720x576 with 1 Axes>"
      ]
     },
     "metadata": {
      "needs_background": "light"
     },
     "output_type": "display_data"
    }
   ],
   "source": [
    "compare_models=pd.DataFrame(\n",
    "            {\n",
    "             \"train\":{'random_forest_regressor':rf_train,'gradient_boosting_regressor':f_train},\n",
    "             \"test\":{'random_forest_regressor':rf_test,'gradient_boosting_regressor':f_test}})\n",
    "\n",
    "\n",
    "\n",
    "compare_models.plot.bar(figsize=(10,8));"
   ]
  },
  {
   "cell_type": "code",
   "execution_count": null,
   "metadata": {},
   "outputs": [],
   "source": []
  }
 ],
 "metadata": {
  "kernelspec": {
   "display_name": "Python 3",
   "language": "python",
   "name": "python3"
  },
  "language_info": {
   "codemirror_mode": {
    "name": "ipython",
    "version": 3
   },
   "file_extension": ".py",
   "mimetype": "text/x-python",
   "name": "python",
   "nbconvert_exporter": "python",
   "pygments_lexer": "ipython3",
   "version": "3.8.5"
  }
 },
 "nbformat": 4,
 "nbformat_minor": 4
}
